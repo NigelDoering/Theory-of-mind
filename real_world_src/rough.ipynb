{
 "cells": [
  {
   "cell_type": "code",
   "execution_count": 149,
   "id": "69b66b9f",
   "metadata": {},
   "outputs": [
    {
     "name": "stdout",
     "output_type": "stream",
     "text": [
      "[[0.08438999 0.18533707 0.00647825 0.02124508 0.10168307 0.02310494\n",
      "  0.25406844 0.32369317]\n",
      " [0.03795381 0.10829466 0.03428776 0.11955606 0.18921087 0.15315346\n",
      "  0.00565926 0.35188412]]\n",
      "1.0000000000000002\n"
     ]
    },
    {
     "data": {
      "text/plain": [
       "(0.0, 1.0)"
      ]
     },
     "execution_count": 149,
     "metadata": {},
     "output_type": "execute_result"
    },
    {
     "data": {
      "image/png": "[encoded data removed]",
      "text/plain": [
       "<Figure size 640x480 with 1 Axes>"
      ]
     },
     "metadata": {},
     "output_type": "display_data"
    }
   ],
   "source": [
    "import numpy as np\n",
    "import matplotlib.pyplot as plt\n",
    "\n",
    "# plot the dirichlet distribution\n",
    "\n",
    "# ag_alpha = np.random.choice(np.random.uniform(0.1, 1, size=1), np.random.normal(0.8 0.1), size=1, replace=True)\n",
    "num_goals = 8\n",
    "ag_alpha = np.random.normal(1, 0.2, size=num_goals)\n",
    "goals = np.random.dirichlet(np.ones(num_goals)*ag_alpha, size=2)\n",
    "# goals = np.random.dirichlet(alpha=[1.0] * (num_goals/10))\n",
    "rewards = np.ones(num_goals)*1000*goals[0]\n",
    "xval = np.arange(num_goals)\n",
    "sum = np.sum(goals[0])\n",
    "\n",
    "agent_info = {\"agent_id\": 0, \"agent_alpha\": ag_alpha[0], \"agent_goals\" : xval, \"agent_goals_probs\": goals[0]}\n",
    "\n",
    "print(goals)\n",
    "\n",
    "print(sum)\n",
    "# print(xval)\n",
    "\n",
    "plt.bar(xval, goals[0], color='blue', alpha=0.5, edgecolor='black')\n",
    "plt.bar(xval, goals[1], color='red', alpha=0.5, edgecolor='black')\n",
    "\n",
    "plt.ylim(0, 1)\n",
    "# plt.xlabel('x')"
   ]
  },
  {
   "cell_type": "code",
   "execution_count": 4,
   "id": "fc07d14e",
   "metadata": {},
   "outputs": [
    {
     "name": "stdout",
     "output_type": "stream",
     "text": [
      "RV : \n",
      " <scipy.stats._distn_infrastructure.rv_continuous_frozen object at 0x72ccac714f80>\n",
      "Random Variates : \n",
      " 3.4121406872006883\n",
      "\n",
      "Probability Distribution : \n",
      " [7.38229165e-05 1.13031801e-04 1.71343310e-04 2.57152477e-04\n",
      " 3.82094976e-04 5.62094062e-04 8.18660285e-04 1.18047149e-03\n",
      " 1.68525001e-03 2.38193677e-03]\n"
     ]
    }
   ],
   "source": [
    "from scipy.stats import skewnorm  \n",
    "import numpy as np  \n",
    "\n",
    "quantile = np.arange (0.01, 1, 0.1)  \n",
    "numargs = skewnorm .numargs  \n",
    "a, b = 4.32, 3.18\n",
    "rv = skewnorm (a, b)  \n",
    "    \n",
    "print (\"RV : \\n\", rv)  \n",
    "  \n",
    "# Random Variates  \n",
    "R = skewnorm.rvs(a, b)  \n",
    "print (\"Random Variates : \\n\", R)  \n",
    "  \n",
    "# PDF  \n",
    "R = skewnorm.pdf(a, b, quantile)  \n",
    "print (\"\\nProbability Distribution : \\n\", R)  "
   ]
  },
  {
   "cell_type": "code",
   "execution_count": 160,
   "id": "6348b38b",
   "metadata": {},
   "outputs": [
    {
     "name": "stdout",
     "output_type": "stream",
     "text": [
      "Generated map:\n",
      "['SFFFFFHF', 'FFFFFFFF', 'HFFFFFFF', 'FFFFHFHF', 'FFFFFFFF', 'FFFFFFFF', 'FFFFFFFF', 'FFFFFFFG']\n",
      "[['S' 'F' 'F' 'F' 'F' 'F' 'H' 'F']\n",
      " ['F' 'F' 'F' 'F' 'F' 'F' 'F' 'F']\n",
      " ['H' 'F' 'F' 'F' 'F' 'F' 'F' 'F']\n",
      " ['F' 'F' 'F' 'F' 'H' 'F' 'H' 'F']\n",
      " ['F' 'F' 'F' 'F' 'F' 'F' 'F' 'F']\n",
      " ['F' 'F' 'F' 'F' 'F' 'F' 'F' 'F']\n",
      " ['F' 'F' 'F' 'F' 'F' 'F' 'F' 'F']\n",
      " ['F' 'F' 'F' 'F' 'F' 'F' 'F' 'G']]\n",
      "(array([], dtype=int64), array([], dtype=int64))\n",
      "new_map_array: [['S' 'F' 'F' 'F' 'F' 'F' 'H' 'F']\n",
      " ['F' 'F' 'F' 'F' 'F' 'F' 'F' 'F']\n",
      " ['H' 'F' 'F' 'F' 'F' 'F' 'F' 'F']\n",
      " ['F' 'F' 'F' 'F' 'H' 'F' 'H' 'F']\n",
      " ['F' 'F' 'F' 'F' 'F' 'F' 'F' 'F']\n",
      " ['F' 'F' 'F' 'F' 'F' 'F' 'F' 'F']\n",
      " ['F' 'F' 'F' 'F' 'F' 'F' 'F' 'F']\n",
      " ['F' 'F' 'F' 'F' 'F' 'F' 'F' 'G']]\n"
     ]
    }
   ],
   "source": [
    "from gymnasium.envs.toy_text.frozen_lake import generate_random_map\n",
    "raw_map = generate_random_map(size=8, p=0.9, seed=123)\n",
    "        \n",
    "print(\"Generated map:\")\n",
    "print(raw_map)\n",
    "# print([row.decode('utf-8') for row in raw_map])\n",
    "\n",
    "# Convert all 'G' to 'F' to remove default goals\n",
    "map_array = np.array([list(row) for row in raw_map], dtype='object')\n",
    "map_array[map_array == b'G'] = b'F'\n",
    "map_size = 8\n",
    "\n",
    "print(map_array)\n",
    "print(np.where(map_array == b'F'))\n",
    "\n",
    "\n",
    "for i in range(map_size):\n",
    "        for j in range(map_size):\n",
    "            if map_array[i, j] == b'S':\n",
    "                start_i, start_j = i, j\n",
    "                map_array[i, j] = b'F'\n",
    "            elif map_array[i, j] == b'G':\n",
    "                goal_i, goal_j = i, j\n",
    "                map_array[i, j] = b'F'\n",
    "\n",
    "print(f\"new_map_array: {map_array}\")"
   ]
  }
 ],
 "metadata": {
  "kernelspec": {
   "display_name": "tom",
   "language": "python",
   "name": "python3"
  },
  "language_info": {
   "codemirror_mode": {
    "name": "ipython",
    "version": 3
   },
   "file_extension": ".py",
   "mimetype": "text/x-python",
   "name": "python",
   "nbconvert_exporter": "python",
   "pygments_lexer": "ipython3",
   "version": "3.12.0"
  }
 },
 "nbformat": 4,
 "nbformat_minor": 5
}
