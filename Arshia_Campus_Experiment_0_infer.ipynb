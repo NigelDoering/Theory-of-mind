{
 "cells": [
  {
   "cell_type": "markdown",
   "id": "0af56c5f-2901-400b-a682-8c4cfab6b611",
   "metadata": {},
   "source": [
    "# Experiment  0: ToM Overall Model Performance\n"
   ]
  },
  {
   "cell_type": "code",
   "execution_count": 1,
   "id": "93f64b8c",
   "metadata": {},
   "outputs": [],
   "source": [
    "%load_ext autoreload\n",
    "%autoreload 2"
   ]
  },
  {
   "cell_type": "code",
   "execution_count": 2,
   "id": "7c5b1840-cde8-455b-828d-b405646d3247",
   "metadata": {},
   "outputs": [],
   "source": [
    "import numpy as np\n",
    "import pymc\n",
    "import networkx as nx\n",
    "import matplotlib.pyplot as plt\n",
    "import random\n",
    "import torch"
   ]
  },
  {
   "cell_type": "code",
   "execution_count": 3,
   "id": "10e47055-0cb8-491b-bc16-2a8d8dcce4a7",
   "metadata": {},
   "outputs": [],
   "source": [
    "import sys\n",
    "import os\n",
    "import osmnx as ox\n",
    "\n",
    "# Adjust this path as needed to point to your project root\n",
    "sys.path.append(os.path.abspath(\"..\"))"
   ]
  },
  {
   "cell_type": "code",
   "execution_count": 4,
   "id": "0c402353-27ab-46bf-b576-52d2d4d2c865",
   "metadata": {},
   "outputs": [],
   "source": [
    "def plot_goal_distribution(goal_distribution):\n",
    "    \"\"\"\n",
    "    Plot the goal distribution as a bar plot.\n",
    "\n",
    "    Parameters\n",
    "    ----------\n",
    "    goal_distribution : dict\n",
    "        Dictionary mapping candidate goal IDs to probability values.\n",
    "    \"\"\"\n",
    "    # Extract goal IDs and probabilities, converting to floats if needed.\n",
    "    goals = list(goal_distribution.keys())\n",
    "    probs = [float(goal_distribution[g]) for g in goals]\n",
    "    \n",
    "    # Create the bar plot.\n",
    "    plt.figure(figsize=(10, 6))\n",
    "    plt.bar(range(len(goals)), probs, tick_label=[str(g) for g in goals])\n",
    "    plt.xlabel(\"Candidate Goal IDs\")\n",
    "    plt.ylabel(\"Probability\")\n",
    "    plt.title(\"Posterior Distribution over Candidate Goals\")\n",
    "    plt.xticks(rotation=45, ha=\"right\")\n",
    "    plt.tight_layout()\n",
    "    plt.show()"
   ]
  },
  {
   "cell_type": "code",
   "execution_count": 5,
   "id": "ae66225e-25c8-4648-809e-6fd2f98fe8b6",
   "metadata": {},
   "outputs": [],
   "source": [
    "def visualize_map(campus,\n",
    "                  path=None,\n",
    "                  goal_nodes=None,\n",
    "                  ax=None):\n",
    "    \"\"\"\n",
    "    Visualize the campus map, plus optional trajectory, start, waypoint, and goal nodes.\n",
    "    \n",
    "    Arguments:\n",
    "      campus         an object with:\n",
    "                        - campus.G           : a networkx graph\n",
    "                        - campus.node_coords : dict[node] -> (x, y) coordinates\n",
    "                        - campus.buildings   : a GeoDataFrame of building footprints (or None)\n",
    "      path           list of node‐IDs, the agent’s trajectory to draw (in order)\n",
    "      start_nodes    list of node‐IDs to mark as start(s)\n",
    "      waypoint       single node‐ID to mark as an intermediate waypoint\n",
    "      goal_nodes     list of node‐IDs to mark as goal(s)\n",
    "      ax             optional matplotlib Axes onto which to draw\n",
    "      \n",
    "    Returns:\n",
    "      fig, ax        the figure & axis\n",
    "    \"\"\"\n",
    "    # 1) draw the base map\n",
    "    if ax is None:\n",
    "        fig, ax = ox.plot_graph(campus.G,\n",
    "                                figsize=(15,15),\n",
    "                                node_size=5,\n",
    "                                edge_color=\"#999999\",\n",
    "                                show=False,\n",
    "                                close=False)\n",
    "    else:\n",
    "        fig = ax.figure\n",
    "        ox.plot_graph(campus.G,\n",
    "                      ax=ax,\n",
    "                      node_size=5,\n",
    "                      edge_color=\"#999999\",\n",
    "                      show=False)\n",
    "    \n",
    "    # 2) overlay buildings if you have them\n",
    "    if getattr(campus, \"buildings\", None) is not None:\n",
    "        campus.buildings.plot(ax=ax,\n",
    "                              color=\"#bbbbbb\",\n",
    "                              alpha=0.7,\n",
    "                              edgecolor=\"#444444\")\n",
    "    \n",
    "    # 3) draw the agent’s path\n",
    "    if path is not None and len(path) > 1:\n",
    "        coords = [campus.node_coords[n] for n in path]\n",
    "        xs, ys = zip(*coords)\n",
    "        ax.plot(xs, ys,\n",
    "                linestyle='-',\n",
    "                linewidth=3.0,\n",
    "                color='lightblue',\n",
    "                alpha=0.8,\n",
    "                zorder=3,\n",
    "                label=\"Trajectory\")\n",
    "        # and mark the actual visited nodes\n",
    "        ax.scatter(xs, ys,\n",
    "                   c='C0',\n",
    "                   s=30,\n",
    "                   zorder=4)\n",
    "    \n",
    "    # 6) mark goal nodes\n",
    "    if goal_nodes:\n",
    "        goal_coords = [campus.node_coords[n] for n in goal_nodes]\n",
    "        xs, ys = zip(*goal_coords)\n",
    "        ax.scatter(xs, ys,\n",
    "                   c=\"yellow\",\n",
    "                   s=160,\n",
    "                   marker=\"*\",\n",
    "                   zorder=5,\n",
    "                   label=\"Goal\")\n",
    "    \n",
    "    # 7) finalize\n",
    "    ax.legend(loc=\"upper right\")\n",
    "    ax.set_title(\"UCSD Campus Environment\")\n",
    "    ax.set_axis_off()\n",
    "    fig.tight_layout()\n",
    "    return fig, ax"
   ]
  },
  {
   "cell_type": "code",
   "execution_count": 6,
   "id": "eaafe0ee-e10e-4ca6-a9db-d6125df1e119",
   "metadata": {},
   "outputs": [],
   "source": [
    "from real_world_src.environment.campus_env import CampusEnvironment\n",
    "from real_world_src.agents.agent_factory import AgentFactory\n",
    "from real_world_src.simulation.simulator import Simulator\n",
    "#from real_world_src.simulation.experiment_1 import Simulator\n",
    "\n",
    "from real_world_src.utils.run_manager import RunManager\n",
    "from real_world_src.utils.config import VISUAL_CONFIG\n",
    "from real_world_src.utils.config import get_agent_color\n"
   ]
  },
  {
   "cell_type": "markdown",
   "id": "5c7670da-fc0e-4cbf-ae62-64c288c8243c",
   "metadata": {},
   "source": [
    "## Steps  \n",
    "1. Create the UCSD campus world\n",
    "2. Create n agents each with a specific distribution over the goals\n",
    "3. Run m epsiodes where each agent chooses a goal and performs a single path to that goal\n",
    "4. Use this data as training set"
   ]
  },
  {
   "cell_type": "markdown",
   "id": "9d3521d0-745e-48a4-bc1c-ef76b62a628c",
   "metadata": {},
   "source": [
    "## Step 1: Create the Map"
   ]
  },
  {
   "cell_type": "code",
   "execution_count": 7,
   "id": "e78418df-240d-4e7c-93d8-c6c452bdacd4",
   "metadata": {},
   "outputs": [
    {
     "name": "stdout",
     "output_type": "stream",
     "text": [
      "Loading graph from ucsd_campus.graphml...\n",
      "Environment loaded with 3151 nodes and 8746 edges\n"
     ]
    }
   ],
   "source": [
    "# Create a run manager\n",
    "# run_manager = RunManager('visuals')\n",
    "# run_dir = run_manager.start_new_run()\n",
    "\n",
    "# Initialize campus environment\n",
    "campus = CampusEnvironment()"
   ]
  },
  {
   "cell_type": "markdown",
   "id": "f742f179-ff68-4b38-aff4-ddaf202362b9",
   "metadata": {},
   "source": [
    "## Step 2: Create N Agents"
   ]
  },
  {
   "cell_type": "code",
   "execution_count": 8,
   "id": "ec6bdf25-4915-4b89-8dba-c78b873f0179",
   "metadata": {},
   "outputs": [],
   "source": [
    "# Need to establish the set of common goals (just choose the landmark nodes)\n",
    "goals = [469084068, 49150691, 768264666, 1926666015, 1926673385, 49309735,\n",
    "         273627682, 445989107, 445992528, 446128310, 1772230346, 1926673336, \n",
    "         2872424923, 3139419286, 4037576308]"
   ]
  },
  {
   "cell_type": "code",
   "execution_count": 9,
   "id": "4c33922c-bfa7-46ea-9974-bcb2da19b9bc",
   "metadata": {},
   "outputs": [
    {
     "data": {
      "text/plain": [
       "' Already created agents and saved as pkl\\n# Create n agents\\nagents = []\\nn = 100\\nfor i in range(n):\\n    agents.append(AgentFactory.create_agent(\"shortest\"))\\n    agents[i].id = i\\n\\nn_goals = len(goals)\\nag_alpha = np.random.normal(1, 0.2, size=n_goals)\\n\\nfor agent in agents: # Set each agent\\'s goal distribution\\n    agent.goal_distribution = np.random.dirichlet(alpha=np.ones(n_goals)*(ag_alpha), size=1)[0]\\n    agent.environment = campus\\n\\n# Save the agents \\nimport pickle\\n\\n# suppose `agents` is your list of Agent instances\\nwith open(\\'agents.pkl\\', \\'wb\\') as f:\\n    pickle.dump(agents, f)\\n\\n'"
      ]
     },
     "execution_count": 9,
     "metadata": {},
     "output_type": "execute_result"
    }
   ],
   "source": [
    "\"\"\" Already created agents and saved as pkl\n",
    "# Create n agents\n",
    "agents = []\n",
    "n = 100\n",
    "for i in range(n):\n",
    "    agents.append(AgentFactory.create_agent(\"shortest\"))\n",
    "    agents[i].id = i\n",
    "\n",
    "n_goals = len(goals)\n",
    "ag_alpha = np.random.normal(1, 0.2, size=n_goals)\n",
    "\n",
    "for agent in agents: # Set each agent's goal distribution\n",
    "    agent.goal_distribution = np.random.dirichlet(alpha=np.ones(n_goals)*(ag_alpha), size=1)[0]\n",
    "    agent.environment = campus\n",
    "\n",
    "# Save the agents \n",
    "import pickle\n",
    "\n",
    "# suppose `agents` is your list of Agent instances\n",
    "with open('agents.pkl', 'wb') as f:\n",
    "    pickle.dump(agents, f)\n",
    "\n",
    "\"\"\""
   ]
  },
  {
   "cell_type": "code",
   "execution_count": 10,
   "id": "552271a1-b2fd-40ed-b2cc-f42f3fbfee57",
   "metadata": {},
   "outputs": [],
   "source": [
    "def new_episode(agents):\n",
    "\n",
    "    # Set the goal and start nodes\n",
    "    for agent in agents:\n",
    "        agent.path = [] # Clear the old path\n",
    "        agent.goal_node = int(np.random.choice(goals, size=1, p=agent.goal_distribution)[0])\n",
    "\n",
    "        while True:\n",
    "            start_node = campus.get_random_node()\n",
    "            try:\n",
    "                path = nx.shortest_path(campus.G_undirected, \n",
    "                                       source=start_node, \n",
    "                                       target=agent.goal_node, \n",
    "                                       weight='length')\n",
    "                if len(path) >15:  # Make sure path is non-trivial\n",
    "                    break\n",
    "            except:\n",
    "                continue\n",
    "        agent.start_node = start_node\n",
    "        agent.current_node = start_node\n",
    "\n",
    "    return "
   ]
  },
  {
   "cell_type": "markdown",
   "id": "85dac1c3-4dc8-4561-a09b-7c7bf4689e90",
   "metadata": {},
   "source": [
    "## Step 3: Perform Episodes and Data Collection"
   ]
  },
  {
   "cell_type": "code",
   "execution_count": 11,
   "id": "f7d02913-3faf-40f7-8196-aa41436a469d",
   "metadata": {},
   "outputs": [],
   "source": [
    "import json"
   ]
  },
  {
   "cell_type": "code",
   "execution_count": 12,
   "id": "34b540e4-d51d-4a85-aad1-1ba4c7cd9bda",
   "metadata": {},
   "outputs": [
    {
     "data": {
      "text/plain": [
       "'Already ran once. Data is saved in /data\\n\\npath_data = {}\\ngoal_data = {}\\nm = 100\\nfor episode in range(m):\\n    new_episode(agents)\\n    episode_path_data = {}\\n    episode_goal_data = {}\\n    for agent in agents:\\n        agent.plan_path()\\n        episode_path_data[agent.id] = agent.path\\n        episode_goal_data[agent.id] = agent.goal_node\\n    # Save the data from each episode\\n    path_data[episode] = episode_path_data\\n    goal_data[episode] = episode_goal_data\\n\\nwith open(\"./data/path_data.json\", \"w\") as file:\\n    json.dump(path_data, file, indent=4)\\n\\nwith open(\"./data/goal_data.json\", \"w\") as file:\\n    json.dump(goal_data, file, indent=4)\\n    '"
      ]
     },
     "execution_count": 12,
     "metadata": {},
     "output_type": "execute_result"
    }
   ],
   "source": [
    "\"\"\"Already ran once. Data is saved in /data\n",
    "\n",
    "path_data = {}\n",
    "goal_data = {}\n",
    "m = 100\n",
    "for episode in range(m):\n",
    "    new_episode(agents)\n",
    "    episode_path_data = {}\n",
    "    episode_goal_data = {}\n",
    "    for agent in agents:\n",
    "        agent.plan_path()\n",
    "        episode_path_data[agent.id] = agent.path\n",
    "        episode_goal_data[agent.id] = agent.goal_node\n",
    "    # Save the data from each episode\n",
    "    path_data[episode] = episode_path_data\n",
    "    goal_data[episode] = episode_goal_data\n",
    "\n",
    "with open(\"./data/path_data.json\", \"w\") as file:\n",
    "    json.dump(path_data, file, indent=4)\n",
    "\n",
    "with open(\"./data/goal_data.json\", \"w\") as file:\n",
    "    json.dump(goal_data, file, indent=4)\n",
    "    \"\"\"\n"
   ]
  },
  {
   "cell_type": "markdown",
   "id": "da41552e-8521-4de9-8c57-fa022ed0211a",
   "metadata": {},
   "source": [
    "### Load existing data"
   ]
  },
  {
   "cell_type": "code",
   "execution_count": 13,
   "id": "c416d7b0-9f2d-49f6-bae2-58ff3b3a6c0e",
   "metadata": {},
   "outputs": [
    {
     "name": "stderr",
     "output_type": "stream",
     "text": [
      "/tmp/ipykernel_2671586/1732508900.py:10: DeprecationWarning: numpy.core.numeric is deprecated and has been renamed to numpy._core.numeric. The numpy._core namespace contains private NumPy internals and its use is discouraged, as NumPy internals can change without warning in any release. In practice, most real-world usage of numpy.core is to access functionality in the public NumPy API. If that is the case, use the public NumPy API. If not, you are using NumPy internals. If you would still like to access an internal attribute, use numpy._core.numeric._frombuffer.\n",
      "  agents = pickle.load(f)\n"
     ]
    }
   ],
   "source": [
    "import json, pickle\n",
    "\n",
    "with open(\"./../data/1k/path_data.json\", 'r') as file:\n",
    "    path_data = json.load(file)\n",
    "\n",
    "with open(\"./../data/1k/goal_data.json\", 'r') as file:\n",
    "    goal_data = json.load(file)\n",
    "\n",
    "with open('./../data/1k/agents.pkl', 'rb') as f:\n",
    "    agents = pickle.load(f)"
   ]
  },
  {
   "cell_type": "code",
   "execution_count": 14,
   "id": "80616ce4-0671-4838-ac61-7559103e252d",
   "metadata": {},
   "outputs": [],
   "source": [
    "def convert_keys_to_int(data):\n",
    "    if isinstance(data, dict):\n",
    "        return {int(k) if isinstance(k, str) and k.isdigit() else k: convert_keys_to_int(v) for k, v in data.items()}\n",
    "    elif isinstance(data, list):\n",
    "        return [convert_keys_to_int(item) for item in data]\n",
    "    else:\n",
    "        return data"
   ]
  },
  {
   "cell_type": "code",
   "execution_count": 15,
   "id": "7d112963-0bb5-4da9-9c7f-79b74d0cd810",
   "metadata": {},
   "outputs": [],
   "source": [
    "goal_data = convert_keys_to_int(goal_data)\n",
    "path_data = convert_keys_to_int(path_data)"
   ]
  },
  {
   "cell_type": "markdown",
   "id": "dedbcf19-d824-4887-abe8-48793d60334c",
   "metadata": {},
   "source": [
    "## Step 4: Fit the Models\n",
    "There should again be a dict of dict for posteriors. The first key will be for the episode, the second key will be the agent, and the value of this will be a list of dicts for the posteriors. "
   ]
  },
  {
   "cell_type": "markdown",
   "id": "d0759375",
   "metadata": {},
   "source": [
    "## Load all the posteriors from Arshia!"
   ]
  },
  {
   "cell_type": "code",
   "execution_count": 16,
   "id": "4c692414",
   "metadata": {},
   "outputs": [
    {
     "name": "stdout",
     "output_type": "stream",
     "text": [
      "BToM episodes: [0, 1, 2]\n",
      "GRU episodes: [0, 1, 2]\n",
      "ToMNet episodes: [0, 1, 2]\n",
      "LSTM episodes: [0, 1, 2]\n",
      "Ext BTOM episodes: [0, 1, 2]\n"
     ]
    }
   ],
   "source": [
    "# --- Load Precomputed Posteriors for Analysis/Plotting ---\n",
    "### Pickle files   \n",
    "\n",
    "import pickle, json\n",
    "\n",
    "# BToM posteriors\n",
    "with open('./../data/Arshia_experiment_0/btom_posteriors.pkl', 'rb') as f:\n",
    "    posteriors_data = pickle.load(f)\n",
    "\n",
    "# Extended BToM posteriors\n",
    "with open('./../data/Arshia_experiment_0/ebtom_posteriors.pkl', 'rb') as f:\n",
    "    ext_posteriors_data = pickle.load(f)\n",
    "\n",
    "# GRU posteriors\n",
    "with open('./../data/Arshia_experiment_0/gru_posteriors.pkl', 'rb') as f:\n",
    "    gru_posteriors = pickle.load(f)\n",
    "\n",
    "# LSTM posteriors\n",
    "with open('./../data/Arshia_experiment_0/lstm_posteriors.pkl', 'rb') as f:\n",
    "    lstm_posteriors = pickle.load(f)\n",
    "\n",
    "# ToMNet posteriors\n",
    "with open('./../data/Arshia_experiment_0/tomnet_posteriors.pkl', 'rb') as f:\n",
    "    tomnet_posteriors = pickle.load(f)\n",
    "\n",
    "\n",
    "# Now you can use these loaded posteriors in your analysis/plotting code as before.\n",
    "# For example, to compute Brier scores or accuracy, just use the loaded posteriors_data, gru_posteriors, tomnet_posteriors, etc.\n",
    "\n",
    "# Example: print keys to verify loading\n",
    "print('BToM episodes:', list(posteriors_data.keys())[:3])\n",
    "print('GRU episodes:', list(gru_posteriors.keys())[:3])\n",
    "print('ToMNet episodes:', list(tomnet_posteriors.keys())[:3])\n",
    "print('LSTM episodes:', list(lstm_posteriors.keys())[:3])\n",
    "print('Ext BTOM episodes:', list(ext_posteriors_data.keys())[:3])"
   ]
  },
  {
   "cell_type": "markdown",
   "id": "f3b9878e",
   "metadata": {},
   "source": [
    "### SOTA: Our Model"
   ]
  },
  {
   "cell_type": "code",
   "execution_count": 17,
   "id": "24bebe5c",
   "metadata": {},
   "outputs": [],
   "source": [
    "n_test = int(0.2 * len(agents))\n",
    "test_agent_ids = [agent.id for agent in agents[-n_test:]]"
   ]
  },
  {
   "cell_type": "code",
   "execution_count": 18,
   "id": "459bfbdb",
   "metadata": {},
   "outputs": [],
   "source": [
    "# Import our novel SOTA model components\n",
    "from real_world_src.models.tomnet_causal_ablation_trainer import TomNetCausal, train_pipeline\n",
    "from real_world_src.models.tomnet_causal_dataloader import CampusDataLoader\n",
    "import torch\n",
    "import torch.nn.functional as F\n",
    "from tqdm import tqdm"
   ]
  },
  {
   "cell_type": "code",
   "execution_count": 19,
   "id": "ae7758b4",
   "metadata": {},
   "outputs": [
    {
     "name": "stdout",
     "output_type": "stream",
     "text": [
      "Using device: cuda:0\n"
     ]
    }
   ],
   "source": [
    "if torch.backends.mps.is_available():\n",
    "    device = torch.device(\"mps\")\n",
    "elif torch.cuda.is_available():\n",
    "    device = torch.device(\"cuda:0\")\n",
    "else:\n",
    "    device = torch.device(\"cpu\")\n",
    "print(f\"Using device: {device}\")"
   ]
  },
  {
   "cell_type": "code",
   "execution_count": 20,
   "id": "66fb539e",
   "metadata": {},
   "outputs": [
    {
     "name": "stdout",
     "output_type": "stream",
     "text": [
      "Initializing CampusDataLoader for TomNetCausal evaluation...\n",
      "Loading campus environment...\n",
      "Loading graph from ucsd_campus.graphml...\n",
      "Environment loaded with 3151 nodes and 8746 edges\n",
      "Loading agents...\n",
      "Loaded 100 agents\n",
      "Loading path data...\n",
      "Path data keys: 1000\n",
      "Loading goal data...\n",
      "Goal data keys: 1000\n",
      "Loading node_id_mapping from ./../data/1k/node_mapping_3185.pkl\n",
      "Loaded node_id_mapping with 3185 nodes.\n",
      "[EVAL] Using fixed node_id_mapping with 3185 nodes.\n",
      "Node ID range: 48865150 to 13015886764\n",
      "Sequential range: 0 to 3184\n"
     ]
    }
   ],
   "source": [
    "# Check if node mapping exists, if not create it first\n",
    "node_mapping_path = \"./../data/1k/node_mapping_3185.pkl\"\n",
    "if not os.path.exists(node_mapping_path):\n",
    "    print(\"Node mapping not found. Creating it first...\")\n",
    "    # Initialize data loader in train mode to create the mapping\n",
    "    data_loader_train = CampusDataLoader(\n",
    "        data_dir=\"./../data/1k/\",\n",
    "        node_mapping_path=None,\n",
    "        save_node_mapping_path=node_mapping_path,\n",
    "        mode='train'\n",
    "    )\n",
    "    print(\"Node mapping created successfully!\")\n",
    "\n",
    "# Now initialize data loader for evaluation\n",
    "print(\"Initializing CampusDataLoader for TomNetCausal evaluation...\")\n",
    "data_loader = CampusDataLoader(\n",
    "    data_dir=\"./../data/1k/\",\n",
    "    node_mapping_path=node_mapping_path,\n",
    "    save_node_mapping_path=node_mapping_path,\n",
    "    mode='eval'\n",
    ")"
   ]
  },
  {
   "cell_type": "code",
   "execution_count": 21,
   "id": "f6c63002",
   "metadata": {},
   "outputs": [
    {
     "name": "stdout",
     "output_type": "stream",
     "text": [
      "Number of nodes: 3185\n",
      "Preparing graph data...\n"
     ]
    }
   ],
   "source": [
    "# Get data dimensions\n",
    "path_data_causal = data_loader.path_data\n",
    "goal_data_causal = data_loader.goal_data\n",
    "node_id_mapping = data_loader.node_id_mapping\n",
    "num_nodes = len(node_id_mapping)\n",
    "print(f\"Number of nodes: {num_nodes}\")\n",
    "\n",
    "# Prepare graph data\n",
    "print(\"Preparing graph data...\")\n",
    "graph_data = data_loader.prepare_graph_data(\n",
    "    save_cuda_path='./../data/1k/graph_data_cuda.pt',\n",
    "    device=device\n",
    ")"
   ]
  },
  {
   "cell_type": "code",
   "execution_count": 22,
   "id": "ff0d3744",
   "metadata": {},
   "outputs": [
    {
     "name": "stdout",
     "output_type": "stream",
     "text": [
      "Initializing TomNetCausal model...\n",
      "num_nodes for model: 3185\n"
     ]
    }
   ],
   "source": [
    "# filepath: /root/Theory-of-mind/notebooks/Campus_Experiment_0.ipynb\n",
    "print(\"Initializing TomNetCausal model...\")\n",
    "num_nodes = len(node_id_mapping)  # Should be 3185 for your checkpoint!\n",
    "print(f\"num_nodes for model: {num_nodes}\")\n",
    "model = TomNetCausal(\n",
    "    node_feat_dim=4,\n",
    "    num_nodes=num_nodes,\n",
    "    time_emb_dim=16,\n",
    "    hidden_dim=128,\n",
    "    latent_dim=32,\n",
    "    n_layers=2,\n",
    "    n_heads=4,\n",
    "    dropout=0.1,\n",
    "    use_gat=True\n",
    ").to(device)"
   ]
  },
  {
   "cell_type": "code",
   "execution_count": 23,
   "id": "667b1e2d",
   "metadata": {},
   "outputs": [
    {
     "name": "stdout",
     "output_type": "stream",
     "text": [
      "Loading pre-trained model from ./../trained_models/totall_loss_node_mapped_tomnet_causal_model_1k_3185_30ep_best.pth\n"
     ]
    }
   ],
   "source": [
    "model_path = \"./../trained_models/totall_loss_node_mapped_tomnet_causal_model_1k_3185_30ep_best.pth\"\n",
    "if os.path.exists(model_path):\n",
    "    print(f\"Loading pre-trained model from {model_path}\")\n",
    "else:\n",
    "    print(\"sorry\")"
   ]
  },
  {
   "cell_type": "code",
   "execution_count": 24,
   "id": "43b2144b",
   "metadata": {},
   "outputs": [
    {
     "name": "stdout",
     "output_type": "stream",
     "text": [
      "Current device: cuda:0\n",
      "CUDA available: True\n",
      "Loading pre-trained model from ./../trained_models/totall_loss_node_mapped_tomnet_causal_model_1k_3185_30ep_best.pth\n"
     ]
    }
   ],
   "source": [
    "# Test the fixed training pipeline\n",
    "print(f\"Current device: {device}\")\n",
    "print(f\"CUDA available: {torch.cuda.is_available()}\")\n",
    "\n",
    "# model_path = \"./../trained_models/totall_loss_node_mapped_tomnet_causal_model_1k_3185_30ep_best.pth\"\n",
    "model_path = \"./../trained_models/totall_loss_node_mapped_tomnet_causal_model_1k_3185_30ep_best.pth\"\n",
    "if os.path.exists(model_path):\n",
    "    print(f\"Loading pre-trained model from {model_path}\")\n",
    "    checkpoint = torch.load(model_path, map_location=device)\n",
    "    # Try loading with strict=False to skip mismatched layers\n",
    "    missing, unexpected = model.load_state_dict(checkpoint, strict=False)\n",
    "    if missing:\n",
    "        print(\"WARNING: Missing keys in state_dict:\", missing)\n",
    "    if unexpected:\n",
    "        print(\"WARNING: Unexpected keys in state_dict:\", unexpected)\n",
    "    model.eval()\n",
    "else:\n",
    "    print(\"No pre-trained model found. Training from scratch...\")\n",
    "    # Fixed: Proper device handling for both CUDA and CPU\n",
    "    gpu_device = 0 if torch.cuda.is_available() else -1\n",
    "    print(f\"Using GPU device: {gpu_device}\")\n",
    "    \n",
    "    # Train the model using the pipeline with fixed device logic\n",
    "    train_pipeline(\n",
    "        epochs=30,\n",
    "        batch_size=1024,\n",
    "        log_wandb=True,\n",
    "        max_seq_len=100,\n",
    "        top_k=5,\n",
    "        gpu=gpu_device,  # This will now properly handle -1 for CPU\n",
    "        data_dir=\"./../data/1k/\",\n",
    "        node_mapping_path=node_mapping_path,\n",
    "        save_node_mapping_path=node_mapping_path,\n",
    "        save_model=True,\n",
    "        model_save_name=\"1k/totall_loss_node_mapped_tomnet_causal_model_1k_3185_30ep\"\n",
    "    )"
   ]
  },
  {
   "cell_type": "code",
   "execution_count": null,
   "id": "d4f176e2",
   "metadata": {},
   "outputs": [],
   "source": [
    "n_test = int(0.2 * len(agents))\n",
    "test_agent_ids = [agent.id for agent in agents[-n_test:]]"
   ]
  },
  {
   "cell_type": "code",
   "execution_count": null,
   "id": "37c808bd",
   "metadata": {},
   "outputs": [],
   "source": [
    "# Import our novel SOTA model components\n",
    "from real_world_src.models.tomnet_causal_ablation_trainer import TomNetCausal, train_pipeline\n",
    "from real_world_src.models.tomnet_causal_dataloader import CampusDataLoader\n",
    "import torch\n",
    "import torch.nn.functional as F\n",
    "from tqdm import tqdm"
   ]
  },
  {
   "cell_type": "code",
   "execution_count": null,
   "id": "1a434b3f",
   "metadata": {},
   "outputs": [
    {
     "name": "stdout",
     "output_type": "stream",
     "text": [
      "Using device: cuda:0\n"
     ]
    }
   ],
   "source": [
    "if torch.backends.mps.is_available():\n",
    "    device = torch.device(\"mps\")\n",
    "elif torch.cuda.is_available():\n",
    "    device = torch.device(\"cuda:0\")\n",
    "else:\n",
    "    device = torch.device(\"cpu\")\n",
    "print(f\"Using device: {device}\")"
   ]
  },
  {
   "cell_type": "code",
   "execution_count": null,
   "id": "8f1b1c06",
   "metadata": {},
   "outputs": [
    {
     "name": "stdout",
     "output_type": "stream",
     "text": [
      "Initializing CampusDataLoader for TomNetCausal evaluation...\n",
      "Loading campus environment...\n",
      "Loading graph from ucsd_campus.graphml...\n",
      "Environment loaded with 3151 nodes and 8746 edges\n",
      "Loading agents...\n",
      "Loaded 100 agents\n",
      "Loading path data...\n",
      "Environment loaded with 3151 nodes and 8746 edges\n",
      "Loading agents...\n",
      "Loaded 100 agents\n",
      "Loading path data...\n",
      "Path data keys: 1000\n",
      "Loading goal data...\n",
      "Goal data keys: 1000\n",
      "Loading node_id_mapping from ./../data/1k/node_mapping_3185.pkl\n",
      "Loaded node_id_mapping with 3185 nodes.\n",
      "[EVAL] Using fixed node_id_mapping with 3185 nodes.\n",
      "Node ID range: 48865150 to 13015886764\n",
      "Sequential range: 0 to 3184\n",
      "Path data keys: 1000\n",
      "Loading goal data...\n",
      "Goal data keys: 1000\n",
      "Loading node_id_mapping from ./../data/1k/node_mapping_3185.pkl\n",
      "Loaded node_id_mapping with 3185 nodes.\n",
      "[EVAL] Using fixed node_id_mapping with 3185 nodes.\n",
      "Node ID range: 48865150 to 13015886764\n",
      "Sequential range: 0 to 3184\n"
     ]
    }
   ],
   "source": [
    "# Check if node mapping exists, if not create it first\n",
    "node_mapping_path = \"./../data/1k/node_mapping_3185.pkl\"\n",
    "if not os.path.exists(node_mapping_path):\n",
    "    print(\"Node mapping not found. Creating it first...\")\n",
    "    # Initialize data loader in train mode to create the mapping\n",
    "    data_loader_train = CampusDataLoader(\n",
    "        data_dir=\"./../data/1k/\",\n",
    "        node_mapping_path=None,\n",
    "        save_node_mapping_path=node_mapping_path,\n",
    "        mode='train'\n",
    "    )\n",
    "    print(\"Node mapping created successfully!\")\n",
    "\n",
    "# Now initialize data loader for evaluation\n",
    "print(\"Initializing CampusDataLoader for TomNetCausal evaluation...\")\n",
    "data_loader = CampusDataLoader(\n",
    "    data_dir=\"./../data/1k/\",\n",
    "    node_mapping_path=node_mapping_path,\n",
    "    save_node_mapping_path=node_mapping_path,\n",
    "    mode='eval'\n",
    ")"
   ]
  },
  {
   "cell_type": "code",
   "execution_count": null,
   "id": "a7b6d94f",
   "metadata": {},
   "outputs": [
    {
     "name": "stdout",
     "output_type": "stream",
     "text": [
      "Number of nodes: 3185\n",
      "Preparing graph data...\n"
     ]
    }
   ],
   "source": [
    "# Get data dimensions\n",
    "path_data_causal = data_loader.path_data\n",
    "goal_data_causal = data_loader.goal_data\n",
    "node_id_mapping = data_loader.node_id_mapping\n",
    "num_nodes = len(node_id_mapping)\n",
    "print(f\"Number of nodes: {num_nodes}\")\n",
    "\n",
    "# Prepare graph data\n",
    "print(\"Preparing graph data...\")\n",
    "graph_data = data_loader.prepare_graph_data(\n",
    "    save_cuda_path='./../data/1k/graph_data_cuda.pt',\n",
    "    device=device\n",
    ")"
   ]
  },
  {
   "cell_type": "code",
   "execution_count": null,
   "id": "309073df",
   "metadata": {},
   "outputs": [
    {
     "name": "stdout",
     "output_type": "stream",
     "text": [
      "Initializing TomNetCausal model...\n",
      "num_nodes for model: 3185\n"
     ]
    }
   ],
   "source": [
    "# filepath: /root/Theory-of-mind/notebooks/Campus_Experiment_0.ipynb\n",
    "print(\"Initializing TomNetCausal model...\")\n",
    "num_nodes = len(node_id_mapping)  # Should be 3185 for your checkpoint!\n",
    "print(f\"num_nodes for model: {num_nodes}\")\n",
    "model = TomNetCausal(\n",
    "    node_feat_dim=4,\n",
    "    num_nodes=num_nodes,\n",
    "    time_emb_dim=16,\n",
    "    hidden_dim=128,\n",
    "    latent_dim=32,\n",
    "    n_layers=2,\n",
    "    n_heads=4,\n",
    "    dropout=0.1,\n",
    "    use_gat=True\n",
    ").to(device)"
   ]
  },
  {
   "cell_type": "code",
   "execution_count": null,
   "id": "0cc22c18",
   "metadata": {},
   "outputs": [
    {
     "name": "stdout",
     "output_type": "stream",
     "text": [
      "Loading pre-trained model from ./../trained_models/totall_loss_node_mapped_tomnet_causal_model_1k_3185_30ep_best.pth\n"
     ]
    }
   ],
   "source": [
    "model_path = \"./../trained_models/totall_loss_node_mapped_tomnet_causal_model_1k_3185_30ep_best.pth\"\n",
    "if os.path.exists(model_path):\n",
    "    print(f\"Loading pre-trained model from {model_path}\")\n",
    "else:\n",
    "    print(\"sorry\")"
   ]
  },
  {
   "cell_type": "code",
   "execution_count": null,
   "id": "a1d9267b",
   "metadata": {},
   "outputs": [
    {
     "name": "stdout",
     "output_type": "stream",
     "text": [
      "Current device: cuda:0\n",
      "CUDA available: True\n",
      "Loading pre-trained model from ./../trained_models/totall_loss_node_mapped_tomnet_causal_model_1k_3185_30ep_best.pth\n"
     ]
    }
   ],
   "source": [
    "# Test the fixed training pipeline\n",
    "print(f\"Current device: {device}\")\n",
    "print(f\"CUDA available: {torch.cuda.is_available()}\")\n",
    "\n",
    "# model_path = \"./../trained_models/totall_loss_node_mapped_tomnet_causal_model_1k_3185_30ep_best.pth\"\n",
    "model_path = \"./../trained_models/totall_loss_node_mapped_tomnet_causal_model_1k_3185_30ep_best.pth\"\n",
    "if os.path.exists(model_path):\n",
    "    print(f\"Loading pre-trained model from {model_path}\")\n",
    "    checkpoint = torch.load(model_path, map_location=device)\n",
    "    # Try loading with strict=False to skip mismatched layers\n",
    "    missing, unexpected = model.load_state_dict(checkpoint, strict=False)\n",
    "    if missing:\n",
    "        print(\"WARNING: Missing keys in state_dict:\", missing)\n",
    "    if unexpected:\n",
    "        print(\"WARNING: Unexpected keys in state_dict:\", unexpected)\n",
    "    model.eval()\n",
    "else:\n",
    "    print(\"No pre-trained model found. Training from scratch...\")\n",
    "    # Fixed: Proper device handling for both CUDA and CPU\n",
    "    gpu_device = 0 if torch.cuda.is_available() else -1\n",
    "    print(f\"Using GPU device: {gpu_device}\")\n",
    "    \n",
    "    # Train the model using the pipeline with fixed device logic\n",
    "    train_pipeline(\n",
    "        epochs=30,\n",
    "        batch_size=1024,\n",
    "        log_wandb=True,\n",
    "        max_seq_len=100,\n",
    "        top_k=5,\n",
    "        gpu=gpu_device,  # This will now properly handle -1 for CPU\n",
    "        data_dir=\"./../data/1k/\",\n",
    "        node_mapping_path=node_mapping_path,\n",
    "        save_node_mapping_path=node_mapping_path,\n",
    "        save_model=True,\n",
    "        model_save_name=\"1k/totall_loss_node_mapped_tomnet_causal_model_1k_3185_30ep\"\n",
    "    )"
   ]
  },
  {
   "cell_type": "code",
   "execution_count": null,
   "id": "db6b6825",
   "metadata": {},
   "outputs": [
    {
     "name": "stdout",
     "output_type": "stream",
     "text": [
      "=== GENERATING TOMNETCAUSAL POSTERIORS ===\n"
     ]
    },
    {
     "name": "stderr",
     "output_type": "stream",
     "text": [
      "TomNetCausal Episode: 100%|██████████| 1000/1000 [34:21<00:00,  2.06s/it]"
     ]
    },
    {
     "name": "stdout",
     "output_type": "stream",
     "text": [
      "=== ORIGINAL POSTERIORS GENERATED ===\n"
     ]
    },
    {
     "name": "stderr",
     "output_type": "stream",
     "text": [
      "\n"
     ]
    }
   ],
   "source": [
    "# Generate TomNet Causal posteriors\n",
    "print(\"=== GENERATING TOMNETCAUSAL POSTERIORS ===\")\n",
    "\n",
    "def get_tomnet_causal_posterior_format(dists, goals):\n",
    "    \"\"\"\n",
    "    Convert list of posterior arrays to list of {goal: prob} dicts.\n",
    "    \"\"\"\n",
    "    return [\n",
    "        {goal: float(prob[i]) for i, goal in enumerate(goals)}\n",
    "        for prob in dists\n",
    "    ]\n",
    "\n",
    "def infer_tomnet_causal_goal_dists(\n",
    "    model, agent_id, episode, path_data, node_id_mapping, goals, graph_data, \n",
    "    max_seq_len=100, device='cpu'\n",
    "):\n",
    "    \"\"\"\n",
    "    Compute posteriors for TomNet Causal model.\n",
    "    \"\"\"\n",
    "    model.eval()\n",
    "    if agent_id not in path_data.get(episode, {}):\n",
    "        return []\n",
    "    path = path_data[episode][agent_id]\n",
    "    valid_path = [n for n in path if n in node_id_mapping]\n",
    "    if len(valid_path) < 2:\n",
    "        return []\n",
    "    dists = []\n",
    "    \n",
    "    # Ensure graph_data is on the same device as model\n",
    "    graph_data_device = {}\n",
    "    for key, value in graph_data.items():\n",
    "        if isinstance(value, torch.Tensor):\n",
    "            graph_data_device[key] = value.to(device)\n",
    "        else:\n",
    "            graph_data_device[key] = value\n",
    "    \n",
    "    with torch.no_grad():\n",
    "        for t in range(1, min(len(valid_path)+1, max_seq_len+1)):\n",
    "            partial_path = valid_path[:t]\n",
    "            path_indices = [node_id_mapping[n] for n in partial_path]\n",
    "            \n",
    "            if len(path_indices) < max_seq_len:\n",
    "                path_indices = path_indices + [0] * (max_seq_len - len(path_indices))\n",
    "            \n",
    "            trajectory_data = {\n",
    "                'node_ids': torch.tensor([path_indices], dtype=torch.long).to(device),\n",
    "                'timestamps': torch.arange(len(path_indices), dtype=torch.float).unsqueeze(0).to(device),\n",
    "                'mask': torch.ones(1, len(path_indices), dtype=torch.bool).to(device)\n",
    "            }\n",
    "            \n",
    "            # Use the device-corrected graph_data\n",
    "            latents, fused, logits = model(trajectory_data, graph_data_device)\n",
    "            \n",
    "            # Extract goal logits and convert to probabilities\n",
    "            goal_logits = []\n",
    "            for goal in goals:\n",
    "                if goal in node_id_mapping:\n",
    "                    goal_idx = node_id_mapping[goal]\n",
    "                    if goal_idx < logits.shape[1]:\n",
    "                        goal_logits.append(float(logits[0, goal_idx]))\n",
    "                    else:\n",
    "                        goal_logits.append(-float('inf'))\n",
    "                else:\n",
    "                    goal_logits.append(-float('inf'))\n",
    "            \n",
    "            goal_logits_tensor = torch.tensor(goal_logits, device=device)\n",
    "            goal_probs = torch.softmax(goal_logits_tensor, dim=0)\n",
    "            dists.append(goal_probs.cpu().numpy().tolist())\n",
    "    \n",
    "    return dists\n",
    "\n",
    "# Generate original posteriors\n",
    "tomnet_causal_posteriors = {}\n",
    "\n",
    "for episode in tqdm(range(len(goal_data)), desc=\"TomNetCausal Episode\"):\n",
    "    episode_str = str(episode)\n",
    "    tomnet_causal_posteriors[episode] = {}\n",
    "    \n",
    "    for agent in agents:\n",
    "        if agent.id not in test_agent_ids:\n",
    "            continue\n",
    "        \n",
    "        agent_id_str = str(agent.id)\n",
    "        \n",
    "        dists = infer_tomnet_causal_goal_dists(\n",
    "            model, agent_id_str, episode_str, path_data_causal, node_id_mapping, goals, graph_data, \n",
    "            max_seq_len=100, device=device\n",
    "        )\n",
    "        \n",
    "        if dists:\n",
    "            tomnet_causal_posteriors[episode][agent.id] = get_tomnet_causal_posterior_format(dists, goals)\n",
    "\n",
    "print(\"=== ORIGINAL POSTERIORS GENERATED ===\")"
   ]
  },
  {
   "cell_type": "code",
   "execution_count": null,
   "id": "dd8ac9a9",
   "metadata": {},
   "outputs": [
    {
     "name": "stdout",
     "output_type": "stream",
     "text": [
      "=== APPLYING TOP-K + TEMPERATURE BOOSTING ===\n",
      "Using boosting: temp=0.3, top_k=3, boost=2.0\n",
      "✅ BOOSTING APPLIED TO POSTERIORS!\n"
     ]
    }
   ],
   "source": [
    "# Apply TopK + Temperature boosting\n",
    "def apply_topk_temp_boost_to_posteriors(posteriors_dict, temperature=0.3, top_k=3, boost_factor=2.0):\n",
    "    \"\"\"\n",
    "    Apply Top-K + Temperature boosting to existing posterior distributions.\n",
    "    \n",
    "    Args:\n",
    "        posteriors_dict: Your existing tomnet_causal_posteriors\n",
    "        temperature: Lower = sharper distribution (0.1-0.5 recommended)\n",
    "        top_k: Number of top goals to boost (2-5 recommended) \n",
    "        boost_factor: Multiplier for top-k goals (1.5-3.0 recommended)\n",
    "    \n",
    "    Returns:\n",
    "        Enhanced posteriors with boosting applied\n",
    "    \"\"\"\n",
    "    import torch\n",
    "    import numpy as np\n",
    "    \n",
    "    enhanced_posteriors = {}\n",
    "    \n",
    "    for episode_key, episode_data in posteriors_dict.items():\n",
    "        enhanced_posteriors[episode_key] = {}\n",
    "        \n",
    "        for agent_key, agent_posteriors in episode_data.items():\n",
    "            enhanced_agent_posteriors = []\n",
    "            \n",
    "            for posterior in agent_posteriors:\n",
    "                if isinstance(posterior, dict) and len(posterior) > 0:\n",
    "                    # Convert posterior dict to lists\n",
    "                    goals_list = list(posterior.keys())\n",
    "                    probs = list(posterior.values())\n",
    "                    \n",
    "                    # Convert to logits (inverse of softmax)\n",
    "                    probs_tensor = torch.tensor(probs, dtype=torch.float32)\n",
    "                    # Avoid log(0) by adding small epsilon\n",
    "                    probs_tensor = torch.clamp(probs_tensor, min=1e-8)\n",
    "                    logits = torch.log(probs_tensor)\n",
    "                    \n",
    "                    # STEP 1: Apply temperature sharpening to logits\n",
    "                    sharpened_logits = logits / temperature\n",
    "                    initial_probs = torch.softmax(sharpened_logits, dim=0)\n",
    "                    \n",
    "                    # STEP 2: Apply Top-K boosting\n",
    "                    top_k_values, top_k_indices = torch.topk(initial_probs, min(top_k, len(initial_probs)))\n",
    "                    \n",
    "                    # Create boosted probabilities\n",
    "                    boosted_probs = initial_probs.clone()\n",
    "                    boosted_probs[top_k_indices] *= boost_factor\n",
    "                    \n",
    "                    # STEP 3: Final renormalization\n",
    "                    final_probs = boosted_probs / torch.sum(boosted_probs)\n",
    "                    \n",
    "                    # Convert back to dict format\n",
    "                    enhanced_posterior = {\n",
    "                        goal: float(final_probs[i]) \n",
    "                        for i, goal in enumerate(goals_list)\n",
    "                    }\n",
    "                    \n",
    "                    enhanced_agent_posteriors.append(enhanced_posterior)\n",
    "                else:\n",
    "                    # Keep non-dict posteriors unchanged\n",
    "                    enhanced_agent_posteriors.append(posterior)\n",
    "            \n",
    "            enhanced_posteriors[episode_key][agent_key] = enhanced_agent_posteriors\n",
    "    \n",
    "    return enhanced_posteriors\n",
    "\n",
    "print(\"=== APPLYING TOP-K + TEMPERATURE BOOSTING ===\")\n",
    "\n",
    "# Configure boosting parameters\n",
    "boosting_config = {\n",
    "    \"temperature\": 0.3,  # Moderate sharpening\n",
    "    \"top_k\": 3,         # Boost top 3 goals\n",
    "    \"boost_factor\": 2.0  # Double their probability weight\n",
    "}\n",
    "\n",
    "print(f\"Using boosting: temp={boosting_config['temperature']}, top_k={boosting_config['top_k']}, boost={boosting_config['boost_factor']}\")\n",
    "\n",
    "# Apply boosting to existing posteriors\n",
    "tomnet_causal_posteriors_boosted = apply_topk_temp_boost_to_posteriors(\n",
    "    tomnet_causal_posteriors,\n",
    "    temperature=boosting_config['temperature'],\n",
    "    top_k=boosting_config['top_k'],\n",
    "    boost_factor=boosting_config['boost_factor']\n",
    ")\n",
    "\n",
    "print(\"✅ BOOSTING APPLIED TO POSTERIORS!\")"
   ]
  },
  {
   "cell_type": "code",
   "execution_count": null,
   "id": "06e36fdc",
   "metadata": {},
   "outputs": [
    {
     "name": "stdout",
     "output_type": "stream",
     "text": [
      "=== SAVING ORIGINAL TOMNET CAUSAL POSTERIORS ===\n",
      "Saved original posteriors as pickle: ./../data/1k_posteriors/tomnet_causal_posteriors.pkl\n",
      "Saved original posteriors as JSON: ./../data/1k_posteriors/tomnet_causal_posteriors.json\n",
      "=== SAVING BOOSTED TOMNET CAUSAL POSTERIORS ===\n",
      "Saved boosted posteriors as pickle: ./../data/1k_posteriors/tomnet_causal_posteriors_boosted.pkl\n",
      "Saved boosted posteriors as JSON: ./../data/1k_posteriors/tomnet_causal_posteriors_boosted.json\n",
      "=== ALL POSTERIORS SAVED SUCCESSFULLY ===\n"
     ]
    }
   ],
   "source": [
    "# Save original TomNet Causal posteriors\n",
    "print(\"=== SAVING ORIGINAL TOMNET CAUSAL POSTERIORS ===\")\n",
    "\n",
    "# Save as pickle\n",
    "original_pkl_path = \"./../data/1k_posteriors/tomnet_causal_posteriors.pkl\"\n",
    "with open(original_pkl_path, 'wb') as f:\n",
    "    pickle.dump(tomnet_causal_posteriors, f)\n",
    "print(f\"Saved original posteriors as pickle: {original_pkl_path}\")\n",
    "\n",
    "# Save as JSON\n",
    "original_json_path = \"./../data/1k_posteriors/tomnet_causal_posteriors.json\"\n",
    "with open(original_json_path, 'w') as f:\n",
    "    json.dump(tomnet_causal_posteriors, f, indent=2)\n",
    "print(f\"Saved original posteriors as JSON: {original_json_path}\")\n",
    "\n",
    "# Save boosted TomNet Causal posteriors\n",
    "print(\"=== SAVING BOOSTED TOMNET CAUSAL POSTERIORS ===\")\n",
    "\n",
    "# Save as pickle\n",
    "boosted_pkl_path = \"./../data/1k_posteriors/tomnet_causal_posteriors_boosted.pkl\"\n",
    "with open(boosted_pkl_path, 'wb') as f:\n",
    "    pickle.dump(tomnet_causal_posteriors_boosted, f)\n",
    "print(f\"Saved boosted posteriors as pickle: {boosted_pkl_path}\")\n",
    "\n",
    "# Save as JSON\n",
    "boosted_json_path = \"./../data/1k_posteriors/tomnet_causal_posteriors_boosted.json\"\n",
    "with open(boosted_json_path, 'w') as f:\n",
    "    json.dump(tomnet_causal_posteriors_boosted, f, indent=2)\n",
    "print(f\"Saved boosted posteriors as JSON: {boosted_json_path}\")\n",
    "\n",
    "print(\"=== ALL POSTERIORS SAVED SUCCESSFULLY ===\")"
   ]
  },
  {
   "cell_type": "code",
   "execution_count": null,
   "id": "d5ed1641",
   "metadata": {},
   "outputs": [
    {
     "name": "stdout",
     "output_type": "stream",
     "text": [
      "\n",
      "--- TomNet Causal Original Validation ---\n",
      "\n",
      "Episode 0, Agent 80:\n",
      "  Number of time steps: 28\n",
      "    Step 0: 15 goals, sum = 1.000000\n",
      "    Step 1: 15 goals, sum = 1.000000\n",
      "\n",
      "Episode 0, Agent 81:\n",
      "  Number of time steps: 64\n",
      "    Step 0: 15 goals, sum = 1.000000\n",
      "    Step 1: 15 goals, sum = 1.000000\n",
      "\n",
      "Episode 0, Agent 82:\n",
      "  Number of time steps: 22\n",
      "    Step 0: 15 goals, sum = 1.000000\n",
      "    Step 1: 15 goals, sum = 1.000000\n",
      "\n",
      "--- Summary for TomNet Causal Original ---\n",
      "Total distributions checked: 6\n",
      "Valid distributions (sum ≈ 1): 6\n",
      "Invalid distributions: 0\n",
      "✅ All distributions sum to 1.0\n",
      "\n",
      "--- TomNet Causal Boosted Validation ---\n",
      "\n",
      "Episode 0, Agent 80:\n",
      "  Number of time steps: 28\n",
      "    Step 0: 15 goals, sum = 1.000000\n",
      "    Step 1: 15 goals, sum = 1.000000\n",
      "\n",
      "Episode 0, Agent 81:\n",
      "  Number of time steps: 64\n",
      "    Step 0: 15 goals, sum = 1.000000\n",
      "    Step 1: 15 goals, sum = 1.000000\n",
      "\n",
      "Episode 0, Agent 82:\n",
      "  Number of time steps: 22\n",
      "    Step 0: 15 goals, sum = 1.000000\n",
      "    Step 1: 15 goals, sum = 1.000000\n",
      "\n",
      "--- Summary for TomNet Causal Boosted ---\n",
      "Total distributions checked: 6\n",
      "Valid distributions (sum ≈ 1): 6\n",
      "Invalid distributions: 0\n",
      "✅ All distributions sum to 1.0\n"
     ]
    }
   ],
   "source": [
    "# Validation check for the generated posteriors\n",
    "def validate_posterior_distribution(posteriors_dict, model_name=\"Model\", max_samples=3):\n",
    "    \"\"\"\n",
    "    Validate that posterior distributions sum to 1 and are properly formatted.\n",
    "    \"\"\"\n",
    "    print(f\"\\n--- {model_name} Validation ---\")\n",
    "    \n",
    "    total_checked = 0\n",
    "    valid_distributions = 0\n",
    "    sum_errors = []\n",
    "    \n",
    "    sample_count = 0\n",
    "    \n",
    "    for episode_key, episode_data in posteriors_dict.items():\n",
    "        if sample_count >= max_samples:\n",
    "            break\n",
    "            \n",
    "        for agent_key, agent_posteriors in episode_data.items():\n",
    "            if sample_count >= max_samples:\n",
    "                break\n",
    "                \n",
    "            print(f\"\\nEpisode {episode_key}, Agent {agent_key}:\")\n",
    "            print(f\"  Number of time steps: {len(agent_posteriors)}\")\n",
    "            \n",
    "            # Check first few time steps\n",
    "            for i, posterior in enumerate(agent_posteriors[:2]):  # Check first 2 time steps\n",
    "                if isinstance(posterior, dict):\n",
    "                    posterior_sum = sum(posterior.values())\n",
    "                    total_checked += 1\n",
    "                    \n",
    "                    print(f\"    Step {i}: {len(posterior)} goals, sum = {posterior_sum:.6f}\")\n",
    "                    \n",
    "                    if abs(posterior_sum - 1.0) < 1e-6:  # Allow small floating point errors\n",
    "                        valid_distributions += 1\n",
    "                    else:\n",
    "                        sum_errors.append(posterior_sum)\n",
    "                        print(f\"        WARNING: Sum ≠ 1.0\")\n",
    "                else:\n",
    "                    print(f\"    Step {i}: Invalid format - {type(posterior)}\")\n",
    "            \n",
    "            sample_count += 1\n",
    "    \n",
    "    print(f\"\\n--- Summary for {model_name} ---\")\n",
    "    print(f\"Total distributions checked: {total_checked}\")\n",
    "    print(f\"Valid distributions (sum ≈ 1): {valid_distributions}\")\n",
    "    print(f\"Invalid distributions: {total_checked - valid_distributions}\")\n",
    "    \n",
    "    if sum_errors:\n",
    "        print(f\"Sum errors found: {len(sum_errors)}\")\n",
    "    else:\n",
    "        print(\"✅ All distributions sum to 1.0\")\n",
    "\n",
    "# Validate both original and boosted posteriors\n",
    "validate_posterior_distribution(tomnet_causal_posteriors, \"TomNet Causal Original\")\n",
    "validate_posterior_distribution(tomnet_causal_posteriors_boosted, \"TomNet Causal Boosted\")"
   ]
  },
  {
   "cell_type": "markdown",
   "id": "2b6d7170-c62d-4d59-9dcc-1422430d7cd6",
   "metadata": {},
   "source": [
    "## Step 5: Visualizing Performance for Experiment 0  \n",
    "We want to visualize the average brier score across all agents for all epsiodes. That is, calculate the brier score for every path and then take the average. Plot this as a line."
   ]
  },
  {
   "cell_type": "code",
   "execution_count": 99,
   "id": "eb8dc133-9a9d-45bf-a50a-aa14a13d74b4",
   "metadata": {},
   "outputs": [],
   "source": [
    "from real_world_src.utils.metrics import brier_along_path, accuracy_along_path"
   ]
  },
  {
   "cell_type": "code",
   "execution_count": 100,
   "id": "a9b2f0ac",
   "metadata": {},
   "outputs": [],
   "source": [
    "########### Latest.  \n",
    "# Robust scores for all methods: match path and posterior lengths to avoid IndexError\n",
    "\n",
    "# BToM Scores\n",
    "scores = []\n",
    "for episode in range(len(goal_data)):\n",
    "    for agent in agents:\n",
    "        if agent.id not in posteriors_data[episode]:\n",
    "            continue\n",
    "        path = path_data[episode][agent.id]\n",
    "        posteriors = posteriors_data[episode][agent.id]\n",
    "        min_len = min(len(path), len(posteriors))\n",
    "        if min_len == 0:\n",
    "            continue\n",
    "        scores.append(brier_along_path(\n",
    "            path[:min_len],\n",
    "            goal_data[episode][agent.id],\n",
    "            posteriors[:min_len],\n",
    "            goals\n",
    "        ))\n",
    "\n",
    "# Extended BToM Scores\n",
    "ext_scores = []\n",
    "for episode in range(len(goal_data)):\n",
    "    for agent in agents:\n",
    "        if agent.id not in ext_posteriors_data[episode]:\n",
    "            continue\n",
    "        path = path_data[episode][agent.id]\n",
    "        posteriors = ext_posteriors_data[episode][agent.id]\n",
    "        min_len = min(len(path), len(posteriors))\n",
    "        if min_len == 0:\n",
    "            continue\n",
    "        ext_scores.append(brier_along_path(\n",
    "            path[:min_len],\n",
    "            goal_data[episode][agent.id],\n",
    "            posteriors[:min_len],\n",
    "            goals\n",
    "        ))\n",
    "\n",
    "# ToMNet Scores (only for test agents)\n",
    "tomnet_scores = []\n",
    "for episode in range(len(goal_data)):\n",
    "    for agent in agents:\n",
    "        if agent.id not in test_agent_ids or agent.id not in tomnet_posteriors[episode]:\n",
    "            continue\n",
    "        path = path_data[episode][agent.id]\n",
    "        posteriors = tomnet_posteriors[episode][agent.id]\n",
    "        min_len = min(len(path), len(posteriors))\n",
    "        if min_len == 0:\n",
    "            continue\n",
    "        tomnet_scores.append(brier_along_path(\n",
    "            path[:min_len],\n",
    "            goal_data[episode][agent.id],\n",
    "            posteriors[:min_len],\n",
    "            goals\n",
    "        ))\n",
    "\n",
    "# LSTM Scores\n",
    "lstm_scores = []\n",
    "for episode in range(len(goal_data)):\n",
    "    for agent in agents:\n",
    "        if agent.id not in test_agent_ids or agent.id not in lstm_posteriors[episode]:\n",
    "            continue\n",
    "        path = path_data[episode][agent.id]\n",
    "        posteriors = lstm_posteriors[episode][agent.id]\n",
    "        min_len = min(len(path), len(posteriors))\n",
    "        if min_len == 0:\n",
    "            continue\n",
    "        lstm_scores.append(brier_along_path(\n",
    "            path[:min_len],\n",
    "            goal_data[episode][agent.id],\n",
    "            posteriors[:min_len],\n",
    "            goals\n",
    "        ))\n",
    "\n",
    "# GRU Scores\n",
    "gru_scores = []\n",
    "for episode in range(len(goal_data)):\n",
    "    for agent in agents:\n",
    "        if agent.id not in test_agent_ids or agent.id not in gru_posteriors[episode]:\n",
    "            continue\n",
    "        path = path_data[episode][agent.id]\n",
    "        posteriors = gru_posteriors[episode][agent.id]\n",
    "        min_len = min(len(path), len(posteriors))\n",
    "        if min_len == 0:\n",
    "            continue\n",
    "        gru_scores.append(brier_along_path(\n",
    "            path[:min_len],\n",
    "            goal_data[episode][agent.id],\n",
    "            posteriors[:min_len],\n",
    "            goals\n",
    "        ))"
   ]
  },
  {
   "cell_type": "code",
   "execution_count": 101,
   "id": "f7f2ce4e",
   "metadata": {},
   "outputs": [],
   "source": [
    "# tomnet causal scores\n",
    "tomnet_causal_scores = []\n",
    "for episode in range(len(goal_data)):\n",
    "    for agent in agents:\n",
    "        if agent.id not in test_agent_ids or agent.id not in tomnet_causal_posteriors[episode]:\n",
    "            continue\n",
    "        path = path_data[episode][agent.id]\n",
    "        posteriors = tomnet_causal_posteriors[episode][agent.id]\n",
    "        min_len = min(len(path), len(posteriors))\n",
    "        if min_len == 0:\n",
    "            continue\n",
    "        tomnet_causal_scores.append(brier_along_path(\n",
    "            path[:min_len],\n",
    "            goal_data[episode][agent.id],\n",
    "            posteriors[:min_len],\n",
    "            goals\n",
    "        ))"
   ]
  },
  {
   "cell_type": "code",
   "execution_count": 102,
   "id": "4c064fc8",
   "metadata": {},
   "outputs": [
    {
     "data": {
      "text/plain": [
       "[0.9333333333333338,\n",
       " 0.9599112979841198,\n",
       " 0.9273783722622586,\n",
       " 0.9260969910707716,\n",
       " 0.9497800252368459,\n",
       " 0.9471335041446125,\n",
       " 0.9496150922619042,\n",
       " 0.9497119258721566,\n",
       " 0.9483236945693759,\n",
       " 0.9470110631353758,\n",
       " 0.9455845299927973]"
      ]
     },
     "execution_count": 102,
     "metadata": {},
     "output_type": "execute_result"
    }
   ],
   "source": [
    "tomnet_scores[5]"
   ]
  },
  {
   "cell_type": "code",
   "execution_count": 104,
   "id": "a5aa1117",
   "metadata": {},
   "outputs": [
    {
     "data": {
      "text/plain": [
       "[0.9333333333333338,\n",
       " 2.0,\n",
       " 1.999969482887059,\n",
       " 2.0,\n",
       " 2.0,\n",
       " 2.0,\n",
       " 2.0,\n",
       " 2.0,\n",
       " 2.0,\n",
       " 2.0,\n",
       " 2.0]"
      ]
     },
     "execution_count": 104,
     "metadata": {},
     "output_type": "execute_result"
    }
   ],
   "source": [
    "tomnet_causal_scores[5]"
   ]
  },
  {
   "cell_type": "code",
   "execution_count": 71,
   "id": "c9e16131",
   "metadata": {},
   "outputs": [],
   "source": [
    "# ############ Latest 1st Aug Accuracy #############\n",
    "# # Robust accuracy for all methods: match path and posterior lengths to avoid IndexError\n",
    "\n",
    "# # BToM Accuracy\n",
    "# btom_acc = []\n",
    "# for episode in range(len(goal_data)):\n",
    "#     for agent in agents:\n",
    "#         if agent.id not in posteriors_data[episode]:\n",
    "#             continue\n",
    "#         path = path_data[episode][agent.id]\n",
    "#         posteriors = posteriors_data[episode][agent.id]\n",
    "#         min_len = min(len(path), len(posteriors))\n",
    "#         if min_len == 0:\n",
    "#             continue\n",
    "#         btom_acc.append(accuracy_along_path(\n",
    "#             path[:min_len],\n",
    "#             goal_data[episode][agent.id],\n",
    "#             posteriors[:min_len],\n",
    "#             goals\n",
    "#         ))\n",
    "\n",
    "# # Extended BToM Accuracy\n",
    "# ext_acc = []\n",
    "# for episode in range(len(goal_data)):\n",
    "#     for agent in agents:\n",
    "#         if agent.id not in ext_posteriors_data[episode]:\n",
    "#             continue\n",
    "#         path = path_data[episode][agent.id]\n",
    "#         posteriors = ext_posteriors_data[episode][agent.id]\n",
    "#         min_len = min(len(path), len(posteriors))\n",
    "#         if min_len == 0:\n",
    "#             continue\n",
    "#         ext_acc.append(accuracy_along_path(\n",
    "#             path[:min_len],\n",
    "#             goal_data[episode][agent.id],\n",
    "#             posteriors[:min_len],\n",
    "#             goals\n",
    "#         ))\n",
    "\n",
    "# # ToMNet Accuracy (only for test agents)\n",
    "# tomnet_acc = []\n",
    "# for episode in range(len(goal_data)):\n",
    "#     for agent in agents:\n",
    "#         if agent.id not in test_agent_ids or agent.id not in tomnet_posteriors[episode]:\n",
    "#             continue\n",
    "#         path = path_data[episode][agent.id]\n",
    "#         posteriors = tomnet_posteriors[episode][agent.id]\n",
    "#         min_len = min(len(path), len(posteriors))\n",
    "#         if min_len == 0:\n",
    "#             continue\n",
    "#         tomnet_acc.append(accuracy_along_path(\n",
    "#             path[:min_len],\n",
    "#             goal_data[episode][agent.id],\n",
    "#             posteriors[:min_len],\n",
    "#             goals\n",
    "#         ))\n",
    "\n",
    "# # LSTM Accuracy\n",
    "# lstm_acc = []\n",
    "# for episode in range(len(goal_data)):\n",
    "#     for agent in agents:\n",
    "#         if agent.id not in test_agent_ids or agent.id not in lstm_posteriors[episode]:\n",
    "#             continue\n",
    "#         path = path_data[episode][agent.id]\n",
    "#         posteriors = lstm_posteriors[episode][agent.id]\n",
    "#         min_len = min(len(path), len(posteriors))\n",
    "#         if min_len == 0:\n",
    "#             continue\n",
    "#         lstm_acc.append(accuracy_along_path(\n",
    "#             path[:min_len],\n",
    "#             goal_data[episode][agent.id],\n",
    "#             posteriors[:min_len],\n",
    "#             goals\n",
    "#         ))\n",
    "\n",
    "# # GRU Accuracy\n",
    "# gru_acc = []\n",
    "# for episode in range(len(goal_data)):\n",
    "#     for agent in agents:\n",
    "#         if agent.id not in test_agent_ids or agent.id not in gru_posteriors[episode]:\n",
    "#             continue\n",
    "#         path = path_data[episode][agent.id]\n",
    "#         posteriors = gru_posteriors[episode][agent.id]\n",
    "#         min_len = min(len(path), len(posteriors))\n",
    "#         if min_len == 0:\n",
    "#             continue\n",
    "#         gru_acc.append(accuracy_along_path(\n",
    "#             path[:min_len],\n",
    "#             goal_data[episode][agent.id],\n",
    "#             posteriors[:min_len],\n",
    "#             goals\n",
    "#         ))"
   ]
  },
  {
   "cell_type": "code",
   "execution_count": 72,
   "id": "e4e44378",
   "metadata": {},
   "outputs": [],
   "source": [
    "# # tomnet causal accuracy\n",
    "# tomnet_causal_acc = []\n",
    "# for episode in range(len(goal_data)):\n",
    "#     for agent in agents:\n",
    "#         if agent.id not in test_agent_ids or agent.id not in tomnet_causal_posteriors[episode]:\n",
    "#             continue\n",
    "#         path = path_data[episode][agent.id]\n",
    "#         posteriors = tomnet_causal_posteriors[episode][agent.id]\n",
    "#         min_len = min(len(path), len(posteriors))\n",
    "#         if min_len == 0:\n",
    "#             continue\n",
    "#         tomnet_causal_acc.append(accuracy_along_path(\n",
    "#             path[:min_len],\n",
    "#             goal_data[episode][agent.id],\n",
    "#             posteriors[:min_len],\n",
    "#             goals\n",
    "#         ))"
   ]
  },
  {
   "cell_type": "code",
   "execution_count": 73,
   "id": "1e995fc8-386c-4c3e-8200-9a3eacd31104",
   "metadata": {},
   "outputs": [
    {
     "data": {
      "image/png": "[encoded data removed]",
      "text/plain": [
       "<Figure size 1000x600 with 1 Axes>"
      ]
     },
     "metadata": {},
     "output_type": "display_data"
    }
   ],
   "source": [
    "import numpy as np\n",
    "import matplotlib.pyplot as plt\n",
    "\n",
    "# Suppose `scores` is your (n_trajectories × n_fractions) array:\n",
    "arr = np.array(scores)  # shape (N, 11)\n",
    "ext_arr  = np.array(ext_scores)\n",
    "tomnet_arr = np.array(tomnet_scores)\n",
    "lstm_arr = np.array(lstm_scores)\n",
    "gru_arr = np.array(gru_scores)\n",
    "tomnet_causal_arr = np.array(tomnet_causal_scores)\n",
    "props = np.linspace(0, 1, arr.shape[1])\n",
    "\n",
    "# Compute mean\n",
    "mean_base = arr.mean(axis=0)\n",
    "mean_ext  = ext_arr.mean(axis=0)\n",
    "mean_tomnet = tomnet_arr.mean(axis=0)\n",
    "mean_lstm = lstm_arr.mean(axis=0)\n",
    "mean_gru = gru_arr.mean(axis=0)\n",
    "mean_tomnet_causal = tomnet_causal_arr.mean(axis=0)\n",
    "\n",
    "plt.figure(figsize=(10,6))\n",
    "plt.plot(props, mean_base, '-o', label='BToM')\n",
    "plt.plot(props, mean_ext,  '-s', label='Extended BToM')\n",
    "plt.plot(props, mean_tomnet, '-o', label='ToMNet')\n",
    "plt.plot(props, mean_lstm, '-^', label='LSTM')\n",
    "plt.plot(props, mean_gru, '-o', label='GRU')\n",
    "plt.plot(props, mean_tomnet_causal, '-x', label='ToMNet Causal')\n",
    "\n",
    "plt.xlabel('Proportion of Path Observed')\n",
    "plt.ylabel('Brier Score')\n",
    "plt.title('Brier Score vs. Path Fraction')\n",
    "plt.xticks(props)\n",
    "plt.ylim(0, 2)\n",
    "plt.grid(alpha=0.3)\n",
    "plt.legend()\n",
    "plt.tight_layout()\n",
    "plt.show()\n"
   ]
  },
  {
   "cell_type": "code",
   "execution_count": 50,
   "id": "24d0fe36-9cb3-4b1e-894f-c295e908f5d5",
   "metadata": {},
   "outputs": [
    {
     "ename": "NameError",
     "evalue": "name 'tomnet_acc' is not defined",
     "output_type": "error",
     "traceback": [
      "\u001b[31m---------------------------------------------------------------------------\u001b[39m",
      "\u001b[31mNameError\u001b[39m                                 Traceback (most recent call last)",
      "\u001b[36mCell\u001b[39m\u001b[36m \u001b[39m\u001b[32mIn[50]\u001b[39m\u001b[32m, line 7\u001b[39m\n\u001b[32m      5\u001b[39m arr = np.array(btom_acc)  \u001b[38;5;66;03m# shape (N, 11)\u001b[39;00m\n\u001b[32m      6\u001b[39m ext_arr  = np.array(ext_acc)\n\u001b[32m----> \u001b[39m\u001b[32m7\u001b[39m tom_arr = np.array(\u001b[43mtomnet_acc\u001b[49m)\n\u001b[32m      8\u001b[39m lstm_arr = np.array(lstm_acc)\n\u001b[32m      9\u001b[39m gru_arr = np.array(gru_acc)\n",
      "\u001b[31mNameError\u001b[39m: name 'tomnet_acc' is not defined"
     ]
    }
   ],
   "source": [
    "import numpy as np\n",
    "import matplotlib.pyplot as plt\n",
    "\n",
    "# Suppose `scores` is your (n_trajectories × n_fractions) array:\n",
    "arr = np.array(btom_acc)  # shape (N, 11)\n",
    "ext_arr  = np.array(ext_acc)\n",
    "tom_arr = np.array(tomnet_acc)\n",
    "lstm_arr = np.array(lstm_acc)\n",
    "gru_arr = np.array(gru_acc)\n",
    "tomnet_causal_arr = np.array(tomnet_causal_acc)\n",
    "props = np.linspace(0, 1, arr.shape[1])\n",
    "\n",
    "# Compute mean\n",
    "mean_base = arr.mean(axis=0)\n",
    "mean_ext  = ext_arr.mean(axis=0)\n",
    "mean_tom  = tom_arr.mean(axis=0)\n",
    "mean_lstm  = lstm_arr.mean(axis=0)\n",
    "mean_gru  = gru_arr.mean(axis=0)\n",
    "mean_tomnet_causal = tomnet_causal_arr.mean(axis=0)\n",
    "\n",
    "plt.figure(figsize=(10,6))\n",
    "plt.plot(props, mean_base, '-o', label='BToM')\n",
    "plt.plot(props, mean_ext,  '-s', label='Extended BToM')\n",
    "plt.plot(props, mean_tom, '-o', label='ToMNet')\n",
    "plt.plot(props, mean_lstm, '-o', label='LSTM')\n",
    "plt.plot(props, mean_gru, '-o', label='GRU')\n",
    "plt.plot(props, mean_tomnet_causal, '-x', label='ToMNet Causal')\n",
    "\n",
    "plt.xlabel('Proportion of Path Observed')\n",
    "plt.ylabel('Accuracy')\n",
    "plt.title('Accuracy vs. Path Fraction')\n",
    "plt.xticks(props)\n",
    "plt.ylim(0, 1)\n",
    "plt.grid(alpha=0.3)\n",
    "plt.legend()\n",
    "plt.tight_layout()\n",
    "plt.show()"
   ]
  },
  {
   "cell_type": "code",
   "execution_count": null,
   "id": "2d4b0058-fd6b-4fad-9ec5-c8cd1233119d",
   "metadata": {},
   "outputs": [],
   "source": []
  },
  {
   "cell_type": "markdown",
   "id": "636a35ee-3801-4fe7-8e19-1d6a25e471be",
   "metadata": {},
   "source": [
    "1. Use geospatial coordinates instead of IDs for nodes\n",
    "2. Consider an embedding for the nodes --  we are using an embedding for the nodes\n",
    "3. Consider multi head loss\n",
    "4. Consider other loss functions for the distribution\n",
    "5. The character net has a strange input where the multiple past trajs are concatenated"
   ]
  },
  {
   "cell_type": "markdown",
   "id": "b7d90855",
   "metadata": {},
   "source": [
    "# Load existing pickle and json files to plot"
   ]
  },
  {
   "cell_type": "markdown",
   "id": "d8051604",
   "metadata": {},
   "source": [
    "1. Run from Step 0 till Step 4 (Models) \n",
    "2. Run Step 5\n",
    "3. Run the following cells"
   ]
  },
  {
   "cell_type": "code",
   "execution_count": null,
   "id": "c07f5ee4",
   "metadata": {},
   "outputs": [],
   "source": [
    "n_test = int(0.2 * len(agents))\n",
    "test_agent_ids = [agent.id for agent in agents[-n_test:]]"
   ]
  },
  {
   "cell_type": "code",
   "execution_count": null,
   "id": "67fca93b-1cbf-4acc-b131-04c8025440f8",
   "metadata": {},
   "outputs": [
    {
     "name": "stdout",
     "output_type": "stream",
     "text": [
      "BToM episodes: [0, 1, 2]\n",
      "GRU episodes: [0, 1, 2]\n",
      "ToMNet episodes: [0, 1, 2]\n",
      "LSTM episodes: [0, 1, 2]\n",
      "Ext BTOM episodes: [0, 1, 2]\n"
     ]
    }
   ],
   "source": [
    "# --- Load Precomputed Posteriors for Analysis/Plotting ---\n",
    "### Pickle files   \n",
    "\n",
    "import pickle, json\n",
    "\n",
    "# Example: Load BToM posteriors (adjust path as needed)\n",
    "with open('./btom_posteriors.pkl', 'rb') as f:\n",
    "    posteriors_data = pickle.load(f)\n",
    "\n",
    "# Example: Load GRU posteriors\n",
    "with open('./gru_posteriors.pkl', 'rb') as f:\n",
    "    gru_posteriors = pickle.load(f)\n",
    "\n",
    "with open('./ebtom_posteriors.pkl', 'rb') as f:\n",
    "    ext_posteriors_data = pickle.load(f)\n",
    "\n",
    "# Example: Load ToMNet posteriors (can be .pkl or .json)\n",
    "#with open('./../data/1k/tomnet_posteriors.pkl', 'r') as f:\n",
    " #   tomnet_posteriors = pickle.load(f)\n",
    "\n",
    "# If you have .json files instead, use:\n",
    "with open('./tomnet_posteriors.pkl', 'rb') as f:\n",
    "    tomnet_posteriors = pickle.load(f)\n",
    "\n",
    "with open('./lstm_posteriors.pkl', 'rb') as f:\n",
    "    lstm_posteriors = pickle.load(f)\n",
    "\n",
    "# Now you can use these loaded posteriors in your analysis/plotting code as before.\n",
    "# For example, to compute Brier scores or accuracy, just use the loaded posteriors_data, gru_posteriors, tomnet_posteriors, etc.\n",
    "\n",
    "# Example: print keys to verify loading\n",
    "print('BToM episodes:', list(posteriors_data.keys())[:3])\n",
    "print('GRU episodes:', list(gru_posteriors.keys())[:3])\n",
    "print('ToMNet episodes:', list(tomnet_posteriors.keys())[:3])\n",
    "print('LSTM episodes:', list(lstm_posteriors.keys())[:3])\n",
    "print('Ext BTOM episodes:', list(ext_posteriors_data.keys())[:3])"
   ]
  },
  {
   "cell_type": "code",
   "execution_count": null,
   "id": "f24c8c73",
   "metadata": {},
   "outputs": [
    {
     "name": "stdout",
     "output_type": "stream",
     "text": [
      "BToM episodes: ['0', '1', '2']\n",
      "GRU episodes: ['0', '1', '2']\n",
      "ToMNet episodes: ['0', '1', '2']\n",
      "LSTM episodes: ['0', '1', '2']\n",
      "Ext BTOM episodes: ['0', '1', '2']\n"
     ]
    }
   ],
   "source": [
    "# --- Load Precomputed Posteriors for Analysis/Plotting ---\n",
    "### JSON files\n",
    "\n",
    "import pickle, json\n",
    "\n",
    "# Example: Load BToM posteriors (adjust path as needed)\n",
    "with open('./btom_posteriors.json', 'r') as f:\n",
    "    posteriors_data = json.load(f)\n",
    "\n",
    "# Example: Load GRU posteriors\n",
    "with open('./gru_posteriors.json', 'r') as f:\n",
    "    gru_posteriors = json.load(f)\n",
    "\n",
    "with open('./ebtom_posteriors.json', 'r') as f:\n",
    "    ext_posteriors_data = json.load(f)\n",
    "\n",
    "# Example: Load ToMNet posteriors (can be .pkl or .json)\n",
    "#with open('./../data/1k/tomnet_posteriors.pkl', 'r') as f:\n",
    " #   tomnet_posteriors = pickle.load(f)\n",
    "\n",
    "# If you have .json files instead, use:\n",
    "with open('./tomnet_posteriors.json', 'r') as f:\n",
    "    tomnet_posteriors = json.load(f)\n",
    "\n",
    "with open('./lstm_posteriors.json', 'r') as f:\n",
    "    lstm_posteriors = json.load(f)\n",
    "\n",
    "# Now you can use these loaded posteriors in your analysis/plotting code as before.\n",
    "# For example, to compute Brier scores or accuracy, just use the loaded posteriors_data, gru_posteriors, tomnet_posteriors, etc.\n",
    "\n",
    "# Example: print keys to verify loading\n",
    "print('BToM episodes:', list(posteriors_data.keys())[:3])\n",
    "print('GRU episodes:', list(gru_posteriors.keys())[:3])\n",
    "print('ToMNet episodes:', list(tomnet_posteriors.keys())[:3])\n",
    "print('LSTM episodes:', list(lstm_posteriors.keys())[:3])\n",
    "print('Ext BTOM episodes:', list(ext_posteriors_data.keys())[:3])"
   ]
  },
  {
   "cell_type": "code",
   "execution_count": 36,
   "id": "3ac6aa10",
   "metadata": {},
   "outputs": [
    {
     "name": "stderr",
     "output_type": "stream",
     "text": [
      "\u001b[34m\u001b[1mwandb\u001b[0m: Currently logged in as: \u001b[33mrah-m\u001b[0m (\u001b[33mrebot\u001b[0m) to \u001b[32mhttps://api.wandb.ai\u001b[0m. Use \u001b[1m`wandb login --relogin`\u001b[0m to force relogin\n"
     ]
    },
    {
     "data": {
      "text/html": [
       "Tracking run with wandb version 0.21.0"
      ],
      "text/plain": [
       "<IPython.core.display.HTML object>"
      ]
     },
     "metadata": {},
     "output_type": "display_data"
    },
    {
     "data": {
      "text/html": [
       "Run data is saved locally in <code>/Users/arshia/UCSD/New2/Theory-of-mind/notebooks/wandb/run-20250801_011723-zniw13wx</code>"
      ],
      "text/plain": [
       "<IPython.core.display.HTML object>"
      ]
     },
     "metadata": {},
     "output_type": "display_data"
    },
    {
     "data": {
      "text/html": [
       "Syncing run <strong><a href='https://wandb.ai/rebot/baseline_experiment0/runs/zniw13wx' target=\"_blank\">posteriors_analysis</a></strong> to <a href='https://wandb.ai/rebot/baseline_experiment0' target=\"_blank\">Weights & Biases</a> (<a href='https://wandb.me/developer-guide' target=\"_blank\">docs</a>)<br>"
      ],
      "text/plain": [
       "<IPython.core.display.HTML object>"
      ]
     },
     "metadata": {},
     "output_type": "display_data"
    },
    {
     "data": {
      "text/html": [
       " View project at <a href='https://wandb.ai/rebot/baseline_experiment0' target=\"_blank\">https://wandb.ai/rebot/baseline_experiment0</a>"
      ],
      "text/plain": [
       "<IPython.core.display.HTML object>"
      ]
     },
     "metadata": {},
     "output_type": "display_data"
    },
    {
     "data": {
      "text/html": [
       " View run at <a href='https://wandb.ai/rebot/baseline_experiment0/runs/zniw13wx' target=\"_blank\">https://wandb.ai/rebot/baseline_experiment0/runs/zniw13wx</a>"
      ],
      "text/plain": [
       "<IPython.core.display.HTML object>"
      ]
     },
     "metadata": {},
     "output_type": "display_data"
    },
    {
     "data": {
      "image/png": "[encoded data removed]",
      "text/plain": [
       "<Figure size 1000x600 with 1 Axes>"
      ]
     },
     "metadata": {},
     "output_type": "display_data"
    },
    {
     "data": {
      "image/png": "[encoded data removed]",
      "text/plain": [
       "<Figure size 1000x600 with 1 Axes>"
      ]
     },
     "metadata": {},
     "output_type": "display_data"
    },
    {
     "name": "stderr",
     "output_type": "stream",
     "text": [
      "\u001b[34m\u001b[1mwandb\u001b[0m: \u001b[32m\u001b[41mERROR\u001b[0m The nbformat package was not found. It is required to save notebook history.\n"
     ]
    },
    {
     "data": {
      "text/html": [],
      "text/plain": [
       "<IPython.core.display.HTML object>"
      ]
     },
     "metadata": {},
     "output_type": "display_data"
    },
    {
     "data": {
      "text/html": [
       " View run <strong style=\"color:#cdcd00\">posteriors_analysis</strong> at: <a href='https://wandb.ai/rebot/baseline_experiment0/runs/zniw13wx' target=\"_blank\">https://wandb.ai/rebot/baseline_experiment0/runs/zniw13wx</a><br> View project at: <a href='https://wandb.ai/rebot/baseline_experiment0' target=\"_blank\">https://wandb.ai/rebot/baseline_experiment0</a><br>Synced 5 W&B file(s), 2 media file(s), 0 artifact file(s) and 0 other file(s)"
      ],
      "text/plain": [
       "<IPython.core.display.HTML object>"
      ]
     },
     "metadata": {},
     "output_type": "display_data"
    },
    {
     "data": {
      "text/html": [
       "Find logs at: <code>./wandb/run-20250801_011723-zniw13wx/logs</code>"
      ],
      "text/plain": [
       "<IPython.core.display.HTML object>"
      ]
     },
     "metadata": {},
     "output_type": "display_data"
    }
   ],
   "source": [
    "# --- Log Brier Score and Accuracy Plots to Weights & Biases (wandb) ---\n",
    "import wandb\n",
    "\n",
    "# Initialize wandb run (set your project name)\n",
    "wandb.init(project=\"baseline_experiment0\", name=\"posteriors_analysis\")\n",
    "\n",
    "# Plot and log Brier Score\n",
    "import numpy as np\n",
    "import matplotlib.pyplot as plt\n",
    "\n",
    "arr = np.array(scores)\n",
    "ext_arr = np.array(ext_scores)\n",
    "lstm_arr = np.array(lstm_scores)\n",
    "gru_arr = np.array(gru_scores)\n",
    "tomnet_arr = np.array(tomnet_scores)  \n",
    "props = np.linspace(0, 1, arr.shape[1])\n",
    "\n",
    "mean_base = arr.mean(axis=0)\n",
    "mean_ext = ext_arr.mean(axis=0)\n",
    "mean_lstm = lstm_arr.mean(axis=0)\n",
    "mean_gru = gru_arr.mean(axis=0)\n",
    "mean_tomnet = tomnet_arr.mean(axis=0)\n",
    "\n",
    "plt.figure(figsize=(10,6))\n",
    "plt.plot(props, mean_base, '-o', label='BToM')\n",
    "plt.plot(props, mean_ext,  '-s', label='Extended BToM')\n",
    "plt.plot(props, mean_lstm, '-^', label='LSTM')\n",
    "plt.plot(props, mean_gru, '-o', label='GRU')\n",
    "plt.plot(props, mean_tomnet, '-o', label='ToMNet')\n",
    "plt.xlabel('Proportion of Path Observed')\n",
    "plt.ylabel('Brier Score')\n",
    "plt.title('Brier Score vs. Path Fraction')\n",
    "plt.xticks(props)\n",
    "plt.ylim(0, 2)\n",
    "plt.grid(alpha=0.3)\n",
    "plt.legend()\n",
    "plt.tight_layout()\n",
    "wandb.log({\"Brier Score vs. Path Fraction\": wandb.Image(plt)})\n",
    "plt.show()\n",
    "\n",
    "# Plot and log Accuracy\n",
    "arr_acc = np.array(btom_acc)\n",
    "ext_arr_acc = np.array(ext_acc)\n",
    "lstm_arr_acc = np.array(lstm_acc)\n",
    "gru_arr_acc = np.array(gru_acc)\n",
    "tomnet_arr_acc = np.array(tomnet_acc)\n",
    "\n",
    "mean_base_acc = arr_acc.mean(axis=0)\n",
    "mean_ext_acc = ext_arr_acc.mean(axis=0)\n",
    "mean_lstm_acc = lstm_arr_acc.mean(axis=0)\n",
    "mean_gru_acc = gru_arr_acc.mean(axis=0)\n",
    "mean_tomnet_acc = tomnet_arr_acc.mean(axis=0)\n",
    "\n",
    "plt.figure(figsize=(10,6))\n",
    "plt.plot(props, mean_base_acc, '-o', label='BToM')\n",
    "plt.plot(props, mean_ext_acc,  '-s', label='Extended BToM')\n",
    "plt.plot(props, mean_lstm_acc, '-o', label='LSTM')\n",
    "plt.plot(props, mean_gru_acc, '-o', label='GRU')\n",
    "plt.plot(props, mean_tomnet_acc, '-o', label='ToMNet')\n",
    "plt.xlabel('Proportion of Path Observed')\n",
    "plt.ylabel('Accuracy')\n",
    "plt.title('Accuracy vs. Path Fraction')\n",
    "plt.xticks(props)\n",
    "plt.ylim(0, 1)\n",
    "plt.grid(alpha=0.3)\n",
    "plt.legend()\n",
    "plt.tight_layout()\n",
    "wandb.log({\"Accuracy vs. Path Fraction\": wandb.Image(plt)})\n",
    "plt.show()\n",
    "\n",
    "wandb.finish()"
   ]
  },
  {
   "cell_type": "markdown",
   "id": "3f4106df",
   "metadata": {},
   "source": []
  }
 ],
 "metadata": {
  "kernelspec": {
   "display_name": "tom",
   "language": "python",
   "name": "python3"
  },
  "language_info": {
   "codemirror_mode": {
    "name": "ipython",
    "version": 3
   },
   "file_extension": ".py",
   "mimetype": "text/x-python",
   "name": "python",
   "nbconvert_exporter": "python",
   "pygments_lexer": "ipython3",
   "version": "3.12.11"
  }
 },
 "nbformat": 4,
 "nbformat_minor": 5
}
