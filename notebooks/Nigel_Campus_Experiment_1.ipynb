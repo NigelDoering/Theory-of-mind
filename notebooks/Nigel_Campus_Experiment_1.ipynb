{
 "cells": [
  {
   "cell_type": "markdown",
   "id": "7f935291-63a8-4edd-b40d-6bd1b162c6a0",
   "metadata": {},
   "source": [
    "# Experiment 1: False Goal Test\n",
    "The different ToM models may struggle with learning which goals are relevant to which agents. For example, an agent wants to go to point B. The path the agent takes will go by point A, but historically, this agent does not visit point A. How well do models learn goal relevance for agents?  \n",
    "\n",
    "We can test this by designing specific paths for the agents. We will choose the highest probability goal for each agent and the lowest probability goal. Then, we will for the agent to start from a position before the low probability goal such that this goal has to be passed on the way to the true goal. As the agent approaches the false goal, are the models fooled with high certainty that this is the correct goal driving the agent?  \n"
   ]
  },
  {
   "cell_type": "markdown",
   "id": "9ad725c3",
   "metadata": {},
   "source": [
    "## Notes \n",
    "All of the models except ToMNet are working right now. I am pretty sure it is because we are just skipping nodes in the path that are not in the graph thus making our jobs much easier without fixing the underlying problem. This is ok for now. ToMNet will work, but we need to figure out how to remove the nodes not in the graph from the path data so it works properly."
   ]
  },
  {
   "cell_type": "code",
   "execution_count": 1,
   "id": "3f533a38",
   "metadata": {},
   "outputs": [],
   "source": [
    "%load_ext autoreload\n",
    "%autoreload 2"
   ]
  },
  {
   "cell_type": "code",
   "execution_count": 2,
   "id": "46c597f4-f8e5-48bd-8dc1-80bff92f173a",
   "metadata": {},
   "outputs": [],
   "source": [
    "import numpy as np\n",
    "import pymc\n",
    "import networkx as nx\n",
    "import matplotlib.pyplot as plt\n",
    "import random\n",
    "import json\n",
    "import torch"
   ]
  },
  {
   "cell_type": "code",
   "execution_count": 3,
   "id": "523d6981-e37f-499e-b4ee-6f2483e767f5",
   "metadata": {},
   "outputs": [],
   "source": [
    "import sys\n",
    "import os\n",
    "import osmnx as ox\n",
    "\n",
    "# Adjust this path as needed to point to your project root\n",
    "sys.path.append(os.path.abspath(\"..\"))"
   ]
  },
  {
   "cell_type": "code",
   "execution_count": 4,
   "id": "826264e9-c523-42ba-a546-cc1c0fd1377f",
   "metadata": {},
   "outputs": [],
   "source": [
    "from real_world_src.environment.campus_env import CampusEnvironment\n",
    "from real_world_src.agents.agent_factory import AgentFactory\n",
    "from real_world_src.agents.agent_species import ShortestPathAgent\n",
    "from real_world_src.simulation.simulator import Simulator\n",
    "#from real_world_src.simulation.experiment_1 import Simulator\n",
    "\n",
    "from real_world_src.utils.run_manager import RunManager\n",
    "from real_world_src.utils.config import VISUAL_CONFIG\n",
    "from real_world_src.utils.config import get_agent_color"
   ]
  },
  {
   "cell_type": "markdown",
   "id": "faed4e87-641e-40c4-a211-0244b3a946f5",
   "metadata": {},
   "source": [
    "## Step 1: Loading Data"
   ]
  },
  {
   "cell_type": "code",
   "execution_count": 5,
   "id": "7f27bf61-b430-4792-8813-3178ae91db24",
   "metadata": {},
   "outputs": [
    {
     "name": "stdout",
     "output_type": "stream",
     "text": [
      "Loading graph from ucsd_campus.graphml...\n",
      "Environment loaded with 3151 nodes and 8746 edges\n"
     ]
    }
   ],
   "source": [
    "# # Create a run manager\n",
    "# run_manager = RunManager('visuals')\n",
    "# run_dir = run_manager.start_new_run()\n",
    "\n",
    "# Initialize campus environment\n",
    "campus = CampusEnvironment()"
   ]
  },
  {
   "cell_type": "code",
   "execution_count": 6,
   "id": "233045fa-46d3-4c63-b410-db2d51a5181a",
   "metadata": {},
   "outputs": [],
   "source": [
    "# Need to establish the set of common goals (just choose the landmark nodes)\n",
    "goals = [469084068, 49150691, 768264666, 1926666015, 1926673385, 49309735,\n",
    "         273627682, 445989107, 445992528, 446128310, 1772230346, 1926673336, \n",
    "         2872424923, 3139419286, 4037576308]"
   ]
  },
  {
   "cell_type": "code",
   "execution_count": 7,
   "id": "5afbce88-ca11-40e4-b813-d5921d8541e3",
   "metadata": {},
   "outputs": [
    {
     "name": "stderr",
     "output_type": "stream",
     "text": [
      "/var/folders/38/k8ptv94x02v3qc6vywd5sfv40000gn/T/ipykernel_32654/1256136615.py:10: DeprecationWarning: numpy.core.numeric is deprecated and has been renamed to numpy._core.numeric. The numpy._core namespace contains private NumPy internals and its use is discouraged, as NumPy internals can change without warning in any release. In practice, most real-world usage of numpy.core is to access functionality in the public NumPy API. If that is the case, use the public NumPy API. If not, you are using NumPy internals. If you would still like to access an internal attribute, use numpy._core.numeric._frombuffer.\n",
      "  agents = pickle.load(f)\n"
     ]
    }
   ],
   "source": [
    "import json, pickle\n",
    "\n",
    "with open(\"./data/data/1k/path_data.json\", 'r') as file:\n",
    "    path_data = json.load(file)\n",
    "\n",
    "with open(\"./data/data/1k/goal_data.json\", 'r') as file:\n",
    "    goal_data = json.load(file)\n",
    "\n",
    "with open('./data/data/1k/agents.pkl', 'rb') as f:\n",
    "    agents = pickle.load(f)"
   ]
  },
  {
   "cell_type": "code",
   "execution_count": 8,
   "id": "c5aa2410-3495-427d-ab08-c5316ffd4a99",
   "metadata": {},
   "outputs": [],
   "source": [
    "def convert_keys_to_int(data):\n",
    "    if isinstance(data, dict):\n",
    "        return {int(k) if isinstance(k, str) and k.isdigit() else k: convert_keys_to_int(v) for k, v in data.items()}\n",
    "    elif isinstance(data, list):\n",
    "        return [convert_keys_to_int(item) for item in data]\n",
    "    else:\n",
    "        return data"
   ]
  },
  {
   "cell_type": "code",
   "execution_count": 9,
   "id": "8a12c371-2b7c-4e2e-8362-0632c4690fbe",
   "metadata": {},
   "outputs": [],
   "source": [
    "goal_data = convert_keys_to_int(goal_data)\n",
    "path_data = convert_keys_to_int(path_data)"
   ]
  },
  {
   "cell_type": "markdown",
   "id": "be72dfb0-8bdd-4f59-99b0-9a6c2fb3e527",
   "metadata": {},
   "source": [
    "## Step 2: Choosing Start and Goal"
   ]
  },
  {
   "cell_type": "code",
   "execution_count": 10,
   "id": "08442c8d-d892-472e-8dbe-000e4f127940",
   "metadata": {},
   "outputs": [],
   "source": [
    "from tqdm import tqdm"
   ]
  },
  {
   "cell_type": "code",
   "execution_count": 15,
   "id": "f1898bdf-c9cf-4361-82ad-bf686de23e61",
   "metadata": {},
   "outputs": [
    {
     "name": "stderr",
     "output_type": "stream",
     "text": [
      "Processing agents:   3%|▎         | 3/100 [00:15<08:09,  5.04s/it]"
     ]
    },
    {
     "name": "stdout",
     "output_type": "stream",
     "text": [
      "Problem, missing min goal in path\n"
     ]
    },
    {
     "name": "stderr",
     "output_type": "stream",
     "text": [
      "Processing agents:   9%|▉         | 9/100 [00:58<11:42,  7.73s/it]"
     ]
    },
    {
     "name": "stdout",
     "output_type": "stream",
     "text": [
      "Problem, missing min goal in path\n"
     ]
    },
    {
     "name": "stderr",
     "output_type": "stream",
     "text": [
      "Processing agents:  17%|█▋        | 17/100 [01:54<09:40,  7.00s/it]"
     ]
    },
    {
     "name": "stdout",
     "output_type": "stream",
     "text": [
      "No start node forces a pass by min_goal on the way to max_goal\n"
     ]
    },
    {
     "name": "stderr",
     "output_type": "stream",
     "text": [
      "Processing agents:  18%|█▊        | 18/100 [02:03<10:19,  7.56s/it]"
     ]
    },
    {
     "name": "stdout",
     "output_type": "stream",
     "text": [
      "No start node forces a pass by min_goal on the way to max_goal\n"
     ]
    },
    {
     "name": "stderr",
     "output_type": "stream",
     "text": [
      "Processing agents:  22%|██▏       | 22/100 [02:32<09:42,  7.47s/it]"
     ]
    },
    {
     "name": "stdout",
     "output_type": "stream",
     "text": [
      "Problem, missing min goal in path\n"
     ]
    },
    {
     "name": "stderr",
     "output_type": "stream",
     "text": [
      "Processing agents:  28%|██▊       | 28/100 [03:24<10:05,  8.40s/it]"
     ]
    },
    {
     "name": "stdout",
     "output_type": "stream",
     "text": [
      "Problem, missing min goal in path\n"
     ]
    },
    {
     "name": "stderr",
     "output_type": "stream",
     "text": [
      "Processing agents:  35%|███▌      | 35/100 [04:16<08:49,  8.14s/it]"
     ]
    },
    {
     "name": "stdout",
     "output_type": "stream",
     "text": [
      "No start node forces a pass by min_goal on the way to max_goal\n"
     ]
    },
    {
     "name": "stderr",
     "output_type": "stream",
     "text": [
      "Processing agents:  40%|████      | 40/100 [04:54<07:09,  7.16s/it]"
     ]
    },
    {
     "name": "stdout",
     "output_type": "stream",
     "text": [
      "No start node forces a pass by min_goal on the way to max_goal\n"
     ]
    },
    {
     "name": "stderr",
     "output_type": "stream",
     "text": [
      "Processing agents:  45%|████▌     | 45/100 [05:30<06:27,  7.05s/it]"
     ]
    },
    {
     "name": "stdout",
     "output_type": "stream",
     "text": [
      "No start node forces a pass by min_goal on the way to max_goal\n"
     ]
    },
    {
     "name": "stderr",
     "output_type": "stream",
     "text": [
      "Processing agents:  48%|████▊     | 48/100 [05:57<07:21,  8.49s/it]"
     ]
    },
    {
     "name": "stdout",
     "output_type": "stream",
     "text": [
      "No start node forces a pass by min_goal on the way to max_goal\n"
     ]
    },
    {
     "name": "stderr",
     "output_type": "stream",
     "text": [
      "Processing agents:  50%|█████     | 50/100 [06:10<06:19,  7.58s/it]"
     ]
    },
    {
     "name": "stdout",
     "output_type": "stream",
     "text": [
      "No start node forces a pass by min_goal on the way to max_goal\n"
     ]
    },
    {
     "name": "stderr",
     "output_type": "stream",
     "text": [
      "Processing agents:  51%|█████     | 51/100 [06:19<06:28,  7.92s/it]"
     ]
    },
    {
     "name": "stdout",
     "output_type": "stream",
     "text": [
      "Problem, missing min goal in path\n"
     ]
    },
    {
     "name": "stderr",
     "output_type": "stream",
     "text": [
      "Processing agents:  59%|█████▉    | 59/100 [07:13<04:25,  6.48s/it]"
     ]
    },
    {
     "name": "stdout",
     "output_type": "stream",
     "text": [
      "No start node forces a pass by min_goal on the way to max_goal\n"
     ]
    },
    {
     "name": "stderr",
     "output_type": "stream",
     "text": [
      "Processing agents:  77%|███████▋  | 77/100 [09:19<02:23,  6.24s/it]"
     ]
    },
    {
     "name": "stdout",
     "output_type": "stream",
     "text": [
      "Problem, missing min goal in path\n"
     ]
    },
    {
     "name": "stderr",
     "output_type": "stream",
     "text": [
      "Processing agents:  91%|█████████ | 91/100 [11:03<01:11,  7.93s/it]"
     ]
    },
    {
     "name": "stdout",
     "output_type": "stream",
     "text": [
      "Problem, missing min goal in path\n"
     ]
    },
    {
     "name": "stderr",
     "output_type": "stream",
     "text": [
      "Processing agents:  94%|█████████▍| 94/100 [11:23<00:41,  6.93s/it]"
     ]
    },
    {
     "name": "stdout",
     "output_type": "stream",
     "text": [
      "No start node forces a pass by min_goal on the way to max_goal\n"
     ]
    },
    {
     "name": "stderr",
     "output_type": "stream",
     "text": [
      "Processing agents:  99%|█████████▉| 99/100 [11:53<00:06,  6.30s/it]"
     ]
    },
    {
     "name": "stdout",
     "output_type": "stream",
     "text": [
      "Problem, missing min goal in path\n"
     ]
    },
    {
     "name": "stderr",
     "output_type": "stream",
     "text": [
      "Processing agents: 100%|██████████| 100/100 [12:00<00:00,  7.20s/it]\n"
     ]
    }
   ],
   "source": [
    "to_remove = []\n",
    "for agent in tqdm(agents, desc=\"Processing agents\"):\n",
    "    max_goal_idx = np.argmax(agent.goal_distribution)\n",
    "    max_goal = goals[max_goal_idx]\n",
    "    \n",
    "    min_goal_idx = np.argmin(agent.goal_distribution)\n",
    "    min_goal = goals[min_goal_idx]\n",
    "\n",
    "    G = campus.G # your NetworkX graph\n",
    "\n",
    "    if max_goal not in G.nodes() or min_goal not in G.nodes():\n",
    "        to_remove.append(agent)\n",
    "        continue\n",
    "\n",
    "    candidates = []\n",
    "    for s in G.nodes():\n",
    "        if s in (min_goal, max_goal):\n",
    "            continue  # optional: don't start right on one of the goals\n",
    "        try:\n",
    "            path = nx.shortest_path(G, s, max_goal, weight=\"length\")\n",
    "        except (nx.NetworkXNoPath, nx.NodeNotFound):\n",
    "            continue\n",
    "        if min_goal in path:\n",
    "            candidates.append(s)\n",
    "    \n",
    "    if not candidates:\n",
    "        print(\"No start node forces a pass by min_goal on the way to max_goal\")\n",
    "        to_remove.append(agent)\n",
    "        continue\n",
    "\n",
    "    agent.goal_node = max_goal\n",
    "    agent.start_node = random.choice(candidates)\n",
    "    agent.current_node = agent.start_node\n",
    "    # Remove agent if start node is not in the graph\n",
    "    if agent.start_node not in G.nodes():\n",
    "        to_remove.append(agent)\n",
    "        continue\n",
    "    try:\n",
    "        agent.plan_path()\n",
    "    except nx.NodeNotFound:\n",
    "        to_remove.append(agent)\n",
    "        continue\n",
    "\n",
    "    if min_goal not in agent.path:\n",
    "        print(\"Problem, missing min goal in path\")"
   ]
  },
  {
   "cell_type": "code",
   "execution_count": 14,
   "id": "f22a7228-9970-4ebe-89bb-c5f626c10332",
   "metadata": {},
   "outputs": [],
   "source": [
    "agents = [agent for agent in agents if agent not in to_remove]"
   ]
  },
  {
   "cell_type": "code",
   "execution_count": 15,
   "id": "7d6a8a5d",
   "metadata": {},
   "outputs": [],
   "source": [
    "# save it as a pickle file\n",
    "with open('./../data/1k/agents_preprocessed_2.pkl', 'wb') as f:\n",
    "    pickle.dump(agents, f)"
   ]
  },
  {
   "cell_type": "code",
   "execution_count": 12,
   "id": "dd4b32e8",
   "metadata": {},
   "outputs": [],
   "source": [
    "with open('./data/data/1k/agents_processed.pkl', 'rb') as f:\n",
    "    agents = pickle.load(f)"
   ]
  },
  {
   "cell_type": "code",
   "execution_count": 13,
   "id": "6a137b83-79f1-49ba-abf0-7046a5e41f14",
   "metadata": {},
   "outputs": [],
   "source": [
    "# Get each agent's path \n",
    "for agent in agents:\n",
    "    agent.plan_path()"
   ]
  },
  {
   "cell_type": "code",
   "execution_count": null,
   "id": "02728b0c-6c6c-4433-98a9-ebda40f3b48f",
   "metadata": {},
   "outputs": [],
   "source": []
  },
  {
   "cell_type": "markdown",
   "id": "7fc8de82-d87a-4290-ad76-4f8b73216cf3",
   "metadata": {},
   "source": [
    "## Step 3: Run the Models"
   ]
  },
  {
   "cell_type": "markdown",
   "id": "8a3fbea1-ff49-44a1-aa08-280058fcdbf9",
   "metadata": {},
   "source": [
    "### BToM"
   ]
  },
  {
   "cell_type": "code",
   "execution_count": 14,
   "id": "24d015d9-77c7-42c2-8f41-ef70f83cf7ec",
   "metadata": {},
   "outputs": [],
   "source": [
    "# Import BToM baseline\n",
    "from real_world_src.models.btom import BToM"
   ]
  },
  {
   "cell_type": "code",
   "execution_count": 15,
   "id": "38bd2286-198e-47c9-a9d1-8fea037d5ca0",
   "metadata": {},
   "outputs": [
    {
     "name": "stdout",
     "output_type": "stream",
     "text": [
      "Computing shortest paths...\n",
      "Done\n"
     ]
    }
   ],
   "source": [
    "btom = BToM(campus, agents, goals)"
   ]
  },
  {
   "cell_type": "code",
   "execution_count": 16,
   "id": "aef8b7ed-89ce-4ef5-b7e1-a70cf2ee68ea",
   "metadata": {},
   "outputs": [],
   "source": [
    "# Calculate all the posteriors using the first 30 episode\n",
    "posteriors_data = {}"
   ]
  },
  {
   "cell_type": "code",
   "execution_count": 17,
   "id": "a2284b99-156b-482c-ba36-5f29a63f02c4",
   "metadata": {},
   "outputs": [],
   "source": [
    "for agent in agents:\n",
    "    valid_path = [n for n in agent.path if n in btom.campus.G.nodes]\n",
    "    if len(valid_path) < 2:\n",
    "        print(f\"Skipping agent {agent.id}: not enough valid nodes in path.\")\n",
    "        continue\n",
    "    posteriors_data[agent.id] = btom.update_agent_posterior_over_path(agent, valid_path)\n",
    "btom.reset_posteriors()"
   ]
  },
  {
   "cell_type": "markdown",
   "id": "2bfa614c-f699-4d7d-b152-a601434b9bc5",
   "metadata": {},
   "source": [
    "### Extended BToM"
   ]
  },
  {
   "cell_type": "code",
   "execution_count": 18,
   "id": "6a398238-ed96-45de-a059-741ef3d96941",
   "metadata": {},
   "outputs": [],
   "source": [
    "from real_world_src.models.extended_btom import Extended_BToM"
   ]
  },
  {
   "cell_type": "code",
   "execution_count": 20,
   "id": "9aa83b4f-df5a-47ea-ae72-0c47821c43c0",
   "metadata": {},
   "outputs": [],
   "source": [
    "with open('./data/trained_models/extended_btom.pkl', 'rb') as f:\n",
    "    ext_btom = pickle.load(f)"
   ]
  },
  {
   "cell_type": "code",
   "execution_count": 21,
   "id": "a63dde2e-de3c-4d73-bf91-31be44ff91ab",
   "metadata": {},
   "outputs": [],
   "source": [
    "# Calculate all the posteriors using the first 30 episode\n",
    "ext_posteriors_data = {}\n",
    "for agent in agents:\n",
    "    valid_path = [n for n in agent.path if n in ext_btom.campus.G.nodes]\n",
    "    if len(valid_path) < 2:\n",
    "        print(f\"Skipping agent {agent.id}: not enough valid nodes in path.\")\n",
    "        continue\n",
    "    ext_posteriors_data[agent.id] = ext_btom.update_agent_posterior_over_path(agent, valid_path)"
   ]
  },
  {
   "cell_type": "markdown",
   "id": "f41bb0da",
   "metadata": {},
   "source": [
    "# LSTM"
   ]
  },
  {
   "cell_type": "code",
   "execution_count": 28,
   "id": "3783a3db",
   "metadata": {},
   "outputs": [],
   "source": [
    "from real_world_src.models.lstm import (\n",
    "    SimpleLSTM, LSTMDataset, lstm_collate_fn,\n",
    "    train_lstm_model, evaluate_lstm_model, predict_goal_posterior\n",
    ")\n",
    "from torch.utils.data import DataLoader"
   ]
  },
  {
   "cell_type": "code",
   "execution_count": 29,
   "id": "eb357ed6",
   "metadata": {},
   "outputs": [],
   "source": [
    "# build node2idx so that every node in campus.G_undirected maps to 0…V−1\n",
    "all_nodes = list(campus.G_undirected.nodes())\n",
    "node2idx  = {n:i for i,n in enumerate(all_nodes)}\n",
    "V = len(all_nodes)\n",
    "\n",
    "# build goal2idx likewise for your goals list\n",
    "goal2idx = {g:i for i,g in enumerate(goals)}\n",
    "G = len(goals)"
   ]
  },
  {
   "cell_type": "code",
   "execution_count": 30,
   "id": "412458b4",
   "metadata": {},
   "outputs": [],
   "source": [
    "# Filter path_data to only include valid nodes (like BTOM code)\n",
    "filtered_path_data = {}\n",
    "for episode, agents_dict in path_data.items():\n",
    "    filtered_path_data[episode] = {}\n",
    "    for agent_id, path in agents_dict.items():\n",
    "        filtered_path = [n for n in path if n in node2idx]\n",
    "        filtered_path_data[episode][agent_id] = filtered_path\n",
    "\n",
    "lstm_dataset = LSTMDataset(filtered_path_data, goal_data, node2idx, goal2idx)\n",
    "lstm_loader = DataLoader(lstm_dataset, batch_size=32, shuffle=True, collate_fn=lstm_collate_fn)\n"
   ]
  },
  {
   "cell_type": "code",
   "execution_count": 31,
   "id": "7d0ad5f5",
   "metadata": {},
   "outputs": [],
   "source": [
    "if torch.backends.mps.is_available():\n",
    "    device = torch.device(\"mps\")\n",
    "elif torch.cuda.is_available():\n",
    "    device = torch.device(\"cuda\")\n",
    "else:\n",
    "    device = torch.device(\"cpu\")"
   ]
  },
  {
   "cell_type": "code",
   "execution_count": 32,
   "id": "82cdcf1b",
   "metadata": {},
   "outputs": [
    {
     "name": "stderr",
     "output_type": "stream",
     "text": [
      " 10%|█         | 1/10 [00:17<02:41, 18.00s/it]"
     ]
    },
    {
     "name": "stdout",
     "output_type": "stream",
     "text": [
      "Epoch 1/10 - Loss: 1.8774\n"
     ]
    },
    {
     "name": "stderr",
     "output_type": "stream",
     "text": [
      " 20%|██        | 2/10 [00:35<02:23, 17.94s/it]"
     ]
    },
    {
     "name": "stdout",
     "output_type": "stream",
     "text": [
      "Epoch 2/10 - Loss: 1.5465\n"
     ]
    },
    {
     "name": "stderr",
     "output_type": "stream",
     "text": [
      " 30%|███       | 3/10 [00:54<02:08, 18.32s/it]"
     ]
    },
    {
     "name": "stdout",
     "output_type": "stream",
     "text": [
      "Epoch 3/10 - Loss: 1.3925\n"
     ]
    },
    {
     "name": "stderr",
     "output_type": "stream",
     "text": [
      " 40%|████      | 4/10 [01:14<01:53, 18.86s/it]"
     ]
    },
    {
     "name": "stdout",
     "output_type": "stream",
     "text": [
      "Epoch 4/10 - Loss: 0.9691\n"
     ]
    },
    {
     "name": "stderr",
     "output_type": "stream",
     "text": [
      " 50%|█████     | 5/10 [01:34<01:35, 19.20s/it]"
     ]
    },
    {
     "name": "stdout",
     "output_type": "stream",
     "text": [
      "Epoch 5/10 - Loss: 0.2044\n"
     ]
    },
    {
     "name": "stderr",
     "output_type": "stream",
     "text": [
      " 60%|██████    | 6/10 [01:53<01:16, 19.24s/it]"
     ]
    },
    {
     "name": "stdout",
     "output_type": "stream",
     "text": [
      "Epoch 6/10 - Loss: 0.1375\n"
     ]
    },
    {
     "name": "stderr",
     "output_type": "stream",
     "text": [
      " 70%|███████   | 7/10 [02:12<00:57, 19.02s/it]"
     ]
    },
    {
     "name": "stdout",
     "output_type": "stream",
     "text": [
      "Epoch 7/10 - Loss: 0.0427\n"
     ]
    },
    {
     "name": "stderr",
     "output_type": "stream",
     "text": [
      " 80%|████████  | 8/10 [02:30<00:37, 18.84s/it]"
     ]
    },
    {
     "name": "stdout",
     "output_type": "stream",
     "text": [
      "Epoch 8/10 - Loss: 0.0275\n"
     ]
    },
    {
     "name": "stderr",
     "output_type": "stream",
     "text": [
      " 90%|█████████ | 9/10 [02:49<00:18, 18.88s/it]"
     ]
    },
    {
     "name": "stdout",
     "output_type": "stream",
     "text": [
      "Epoch 9/10 - Loss: 0.0097\n"
     ]
    },
    {
     "name": "stderr",
     "output_type": "stream",
     "text": [
      "100%|██████████| 10/10 [03:08<00:00, 18.80s/it]"
     ]
    },
    {
     "name": "stdout",
     "output_type": "stream",
     "text": [
      "Epoch 10/10 - Loss: 0.0136\n"
     ]
    },
    {
     "name": "stderr",
     "output_type": "stream",
     "text": [
      "\n"
     ]
    }
   ],
   "source": [
    "lstm_model = SimpleLSTM(num_nodes=len(node2idx), num_goals=len(goal2idx)).to(device)\n",
    "optimizer = torch.optim.Adam(lstm_model.parameters(), lr=1e-3)\n",
    "train_lstm_model(lstm_model, lstm_loader, optimizer, device, num_epochs=10)"
   ]
  },
  {
   "cell_type": "code",
   "execution_count": 33,
   "id": "e487096d",
   "metadata": {},
   "outputs": [
    {
     "name": "stdout",
     "output_type": "stream",
     "text": [
      "Evaluation accuracy: 0.9988\n"
     ]
    },
    {
     "data": {
      "text/plain": [
       "0.99881"
      ]
     },
     "execution_count": 33,
     "metadata": {},
     "output_type": "execute_result"
    }
   ],
   "source": [
    "evaluate_lstm_model(lstm_model, lstm_loader, device)"
   ]
  },
  {
   "cell_type": "code",
   "execution_count": 34,
   "id": "81ad57d9",
   "metadata": {},
   "outputs": [],
   "source": [
    "n_test = int(0.2 * len(agents))\n",
    "test_agent_ids = [agent.id for agent in agents[-n_test:]]"
   ]
  },
  {
   "cell_type": "code",
   "execution_count": 35,
   "id": "f818324e",
   "metadata": {},
   "outputs": [],
   "source": [
    "# Compute posteriors along paths for all test agents (LSTM)\n",
    "lstm_posteriors = {}\n",
    "for agent in agents:\n",
    "    if agent.id not in test_agent_ids:\n",
    "        continue\n",
    "    # Filter path to only include valid nodes, like BTOM code\n",
    "    valid_path = [n for n in agent.path if n in node2idx]\n",
    "    posteriors_along_path = []\n",
    "    for t in range(1, len(valid_path)+1):\n",
    "        subpath = valid_path[:t]\n",
    "        posterior = predict_goal_posterior(lstm_model, subpath, node2idx, goal2idx, device)\n",
    "        posteriors_along_path.append(posterior)\n",
    "    lstm_posteriors[agent.id] = posteriors_along_path"
   ]
  },
  {
   "cell_type": "code",
   "execution_count": 44,
   "id": "6d743c7a",
   "metadata": {},
   "outputs": [
    {
     "name": "stdout",
     "output_type": "stream",
     "text": [
      "Saved lstm_model_state.pth\n"
     ]
    }
   ],
   "source": [
    "# Save LSTM model weights\n",
    "torch.save(lstm_model.state_dict(), \"lstm_model_state.pth\")\n",
    "print(\"Saved lstm_model_state.pth\")"
   ]
  },
  {
   "cell_type": "markdown",
   "id": "741363d8",
   "metadata": {},
   "source": [
    "# GRU"
   ]
  },
  {
   "cell_type": "code",
   "execution_count": 36,
   "id": "7060aa37",
   "metadata": {},
   "outputs": [],
   "source": [
    "from real_world_src.models.gru import (\n",
    "    SimpleGRU, GRUDataset, gru_collate_fn,\n",
    "    train_gru_model, evaluate_gru_model, predict_goal_posterior_gru\n",
    ")\n",
    "from torch.utils.data import DataLoader"
   ]
  },
  {
   "cell_type": "code",
   "execution_count": 37,
   "id": "167e6622",
   "metadata": {},
   "outputs": [],
   "source": [
    "# Filter path_data to only include valid nodes (like BTOM code)\n",
    "filtered_gru_path_data = {}\n",
    "for episode, agents_dict in path_data.items():\n",
    "    filtered_gru_path_data[episode] = {}\n",
    "    for agent_id, path in agents_dict.items():\n",
    "        filtered_path = [n for n in path if n in node2idx]\n",
    "        filtered_gru_path_data[episode][agent_id] = filtered_path\n",
    "\n",
    "gru_dataset = GRUDataset(filtered_gru_path_data, goal_data, node2idx, goal2idx)\n",
    "gru_loader = DataLoader(gru_dataset, batch_size=32, shuffle=True, collate_fn=gru_collate_fn)"
   ]
  },
  {
   "cell_type": "code",
   "execution_count": 38,
   "id": "b5f0cca6",
   "metadata": {},
   "outputs": [],
   "source": [
    "if torch.backends.mps.is_available():\n",
    "    device = torch.device(\"mps\")\n",
    "elif torch.cuda.is_available():\n",
    "    device = torch.device(\"cuda\")\n",
    "else:\n",
    "    device = torch.device(\"cpu\")"
   ]
  },
  {
   "cell_type": "code",
   "execution_count": 39,
   "id": "2ea7ea1a",
   "metadata": {},
   "outputs": [
    {
     "name": "stdout",
     "output_type": "stream",
     "text": [
      "Epoch 1/10, Loss: 0.5288\n",
      "Epoch 2/10, Loss: 0.0036\n",
      "Epoch 3/10, Loss: 0.0010\n",
      "Epoch 4/10, Loss: 0.0001\n",
      "Epoch 5/10, Loss: 0.0000\n"
     ]
    },
    {
     "ename": "KeyboardInterrupt",
     "evalue": "",
     "output_type": "error",
     "traceback": [
      "\u001b[31m---------------------------------------------------------------------------\u001b[39m",
      "\u001b[31mKeyboardInterrupt\u001b[39m                         Traceback (most recent call last)",
      "\u001b[36mCell\u001b[39m\u001b[36m \u001b[39m\u001b[32mIn[39]\u001b[39m\u001b[32m, line 3\u001b[39m\n\u001b[32m      1\u001b[39m gru_model = SimpleGRU(num_nodes=\u001b[38;5;28mlen\u001b[39m(node2idx), num_goals=\u001b[38;5;28mlen\u001b[39m(goal2idx)).to(device)\n\u001b[32m      2\u001b[39m optimizer = torch.optim.Adam(gru_model.parameters(), lr=\u001b[32m1e-3\u001b[39m)\n\u001b[32m----> \u001b[39m\u001b[32m3\u001b[39m \u001b[43mtrain_gru_model\u001b[49m\u001b[43m(\u001b[49m\u001b[43mgru_model\u001b[49m\u001b[43m,\u001b[49m\u001b[43m \u001b[49m\u001b[43mgru_loader\u001b[49m\u001b[43m,\u001b[49m\u001b[43m \u001b[49m\u001b[43moptimizer\u001b[49m\u001b[43m,\u001b[49m\u001b[43m \u001b[49m\u001b[43mdevice\u001b[49m\u001b[43m,\u001b[49m\u001b[43m \u001b[49m\u001b[43mnum_epochs\u001b[49m\u001b[43m=\u001b[49m\u001b[32;43m10\u001b[39;49m\u001b[43m)\u001b[49m\n",
      "\u001b[36mFile \u001b[39m\u001b[32m~/Desktop/Research/Dissertation/Theory of Mind/Theory-of-mind/real_world_src/models/gru.py:39\u001b[39m, in \u001b[36mtrain_gru_model\u001b[39m\u001b[34m(model, dataloader, optimizer, device, num_epochs)\u001b[39m\n\u001b[32m     37\u001b[39m paths = paths.to(device)\n\u001b[32m     38\u001b[39m goals = goals.to(device)\n\u001b[32m---> \u001b[39m\u001b[32m39\u001b[39m \u001b[43moptimizer\u001b[49m\u001b[43m.\u001b[49m\u001b[43mzero_grad\u001b[49m\u001b[43m(\u001b[49m\u001b[43m)\u001b[49m\n\u001b[32m     40\u001b[39m logits = model(paths)\n\u001b[32m     41\u001b[39m loss = criterion(logits, goals)\n",
      "\u001b[36mFile \u001b[39m\u001b[32m~/miniconda3/envs/tom/lib/python3.12/site-packages/torch/nn/modules/module.py:1751\u001b[39m, in \u001b[36mModule._wrapped_call_impl\u001b[39m\u001b[34m(self, *args, **kwargs)\u001b[39m\n\u001b[32m   1749\u001b[39m     \u001b[38;5;28;01mreturn\u001b[39;00m \u001b[38;5;28mself\u001b[39m._compiled_call_impl(*args, **kwargs)  \u001b[38;5;66;03m# type: ignore[misc]\u001b[39;00m\n\u001b[32m   1750\u001b[39m \u001b[38;5;28;01melse\u001b[39;00m:\n\u001b[32m-> \u001b[39m\u001b[32m1751\u001b[39m     \u001b[38;5;28;01mreturn\u001b[39;00m \u001b[38;5;28;43mself\u001b[39;49m\u001b[43m.\u001b[49m\u001b[43m_call_impl\u001b[49m\u001b[43m(\u001b[49m\u001b[43m*\u001b[49m\u001b[43margs\u001b[49m\u001b[43m,\u001b[49m\u001b[43m \u001b[49m\u001b[43m*\u001b[49m\u001b[43m*\u001b[49m\u001b[43mkwargs\u001b[49m\u001b[43m)\u001b[49m\n",
      "\u001b[36mFile \u001b[39m\u001b[32m~/miniconda3/envs/tom/lib/python3.12/site-packages/torch/nn/modules/module.py:1762\u001b[39m, in \u001b[36mModule._call_impl\u001b[39m\u001b[34m(self, *args, **kwargs)\u001b[39m\n\u001b[32m   1757\u001b[39m \u001b[38;5;66;03m# If we don't have any hooks, we want to skip the rest of the logic in\u001b[39;00m\n\u001b[32m   1758\u001b[39m \u001b[38;5;66;03m# this function, and just call forward.\u001b[39;00m\n\u001b[32m   1759\u001b[39m \u001b[38;5;28;01mif\u001b[39;00m \u001b[38;5;129;01mnot\u001b[39;00m (\u001b[38;5;28mself\u001b[39m._backward_hooks \u001b[38;5;129;01mor\u001b[39;00m \u001b[38;5;28mself\u001b[39m._backward_pre_hooks \u001b[38;5;129;01mor\u001b[39;00m \u001b[38;5;28mself\u001b[39m._forward_hooks \u001b[38;5;129;01mor\u001b[39;00m \u001b[38;5;28mself\u001b[39m._forward_pre_hooks\n\u001b[32m   1760\u001b[39m         \u001b[38;5;129;01mor\u001b[39;00m _global_backward_pre_hooks \u001b[38;5;129;01mor\u001b[39;00m _global_backward_hooks\n\u001b[32m   1761\u001b[39m         \u001b[38;5;129;01mor\u001b[39;00m _global_forward_hooks \u001b[38;5;129;01mor\u001b[39;00m _global_forward_pre_hooks):\n\u001b[32m-> \u001b[39m\u001b[32m1762\u001b[39m     \u001b[38;5;28;01mreturn\u001b[39;00m \u001b[43mforward_call\u001b[49m\u001b[43m(\u001b[49m\u001b[43m*\u001b[49m\u001b[43margs\u001b[49m\u001b[43m,\u001b[49m\u001b[43m \u001b[49m\u001b[43m*\u001b[49m\u001b[43m*\u001b[49m\u001b[43mkwargs\u001b[49m\u001b[43m)\u001b[49m\n\u001b[32m   1764\u001b[39m result = \u001b[38;5;28;01mNone\u001b[39;00m\n\u001b[32m   1765\u001b[39m called_always_called_hooks = \u001b[38;5;28mset\u001b[39m()\n",
      "\u001b[36mFile \u001b[39m\u001b[32m~/Desktop/Research/Dissertation/Theory of Mind/Theory-of-mind/real_world_src/models/gru.py:20\u001b[39m, in \u001b[36mforward\u001b[39m\u001b[34m(self, path_idxs)\u001b[39m\n\u001b[32m     16\u001b[39m \u001b[38;5;28;01mdef\u001b[39;00m\u001b[38;5;250m \u001b[39m\u001b[34mforward\u001b[39m(\u001b[38;5;28mself\u001b[39m, path_idxs):\n\u001b[32m     17\u001b[39m \u001b[38;5;250m    \u001b[39m\u001b[33;03m\"\"\"\u001b[39;00m\n\u001b[32m     18\u001b[39m \u001b[33;03m    path_idxs: (batch_size, seq_len)\u001b[39;00m\n\u001b[32m     19\u001b[39m \u001b[33;03m    \"\"\"\u001b[39;00m\n\u001b[32m---> \u001b[39m\u001b[32m20\u001b[39m     emb = \u001b[38;5;28mself\u001b[39m.embedding(path_idxs)  \u001b[38;5;66;03m# (batch_size, seq_len, embedding_dim)\u001b[39;00m\n\u001b[32m     21\u001b[39m     _, h_n = \u001b[38;5;28mself\u001b[39m.gru(emb)           \u001b[38;5;66;03m# h_n: (num_layers, batch_size, hidden_dim)\u001b[39;00m\n\u001b[32m     22\u001b[39m     h_last = h_n[-\u001b[32m1\u001b[39m]                 \u001b[38;5;66;03m# (batch_size, hidden_dim)\u001b[39;00m\n",
      "\u001b[36mFile \u001b[39m\u001b[32m~/miniconda3/envs/tom/lib/python3.12/site-packages/torch/nn/modules/module.py:1751\u001b[39m, in \u001b[36mModule._wrapped_call_impl\u001b[39m\u001b[34m(self, *args, **kwargs)\u001b[39m\n\u001b[32m   1749\u001b[39m     \u001b[38;5;28;01mreturn\u001b[39;00m \u001b[38;5;28mself\u001b[39m._compiled_call_impl(*args, **kwargs)  \u001b[38;5;66;03m# type: ignore[misc]\u001b[39;00m\n\u001b[32m   1750\u001b[39m \u001b[38;5;28;01melse\u001b[39;00m:\n\u001b[32m-> \u001b[39m\u001b[32m1751\u001b[39m     \u001b[38;5;28;01mreturn\u001b[39;00m \u001b[38;5;28;43mself\u001b[39;49m\u001b[43m.\u001b[49m\u001b[43m_call_impl\u001b[49m\u001b[43m(\u001b[49m\u001b[43m*\u001b[49m\u001b[43margs\u001b[49m\u001b[43m,\u001b[49m\u001b[43m \u001b[49m\u001b[43m*\u001b[49m\u001b[43m*\u001b[49m\u001b[43mkwargs\u001b[49m\u001b[43m)\u001b[49m\n",
      "\u001b[36mFile \u001b[39m\u001b[32m~/miniconda3/envs/tom/lib/python3.12/site-packages/torch/nn/modules/module.py:1762\u001b[39m, in \u001b[36mModule._call_impl\u001b[39m\u001b[34m(self, *args, **kwargs)\u001b[39m\n\u001b[32m   1757\u001b[39m \u001b[38;5;66;03m# If we don't have any hooks, we want to skip the rest of the logic in\u001b[39;00m\n\u001b[32m   1758\u001b[39m \u001b[38;5;66;03m# this function, and just call forward.\u001b[39;00m\n\u001b[32m   1759\u001b[39m \u001b[38;5;28;01mif\u001b[39;00m \u001b[38;5;129;01mnot\u001b[39;00m (\u001b[38;5;28mself\u001b[39m._backward_hooks \u001b[38;5;129;01mor\u001b[39;00m \u001b[38;5;28mself\u001b[39m._backward_pre_hooks \u001b[38;5;129;01mor\u001b[39;00m \u001b[38;5;28mself\u001b[39m._forward_hooks \u001b[38;5;129;01mor\u001b[39;00m \u001b[38;5;28mself\u001b[39m._forward_pre_hooks\n\u001b[32m   1760\u001b[39m         \u001b[38;5;129;01mor\u001b[39;00m _global_backward_pre_hooks \u001b[38;5;129;01mor\u001b[39;00m _global_backward_hooks\n\u001b[32m   1761\u001b[39m         \u001b[38;5;129;01mor\u001b[39;00m _global_forward_hooks \u001b[38;5;129;01mor\u001b[39;00m _global_forward_pre_hooks):\n\u001b[32m-> \u001b[39m\u001b[32m1762\u001b[39m     \u001b[38;5;28;01mreturn\u001b[39;00m \u001b[43mforward_call\u001b[49m\u001b[43m(\u001b[49m\u001b[43m*\u001b[49m\u001b[43margs\u001b[49m\u001b[43m,\u001b[49m\u001b[43m \u001b[49m\u001b[43m*\u001b[49m\u001b[43m*\u001b[49m\u001b[43mkwargs\u001b[49m\u001b[43m)\u001b[49m\n\u001b[32m   1764\u001b[39m result = \u001b[38;5;28;01mNone\u001b[39;00m\n\u001b[32m   1765\u001b[39m called_always_called_hooks = \u001b[38;5;28mset\u001b[39m()\n",
      "\u001b[36mFile \u001b[39m\u001b[32m~/miniconda3/envs/tom/lib/python3.12/site-packages/torch/nn/modules/rnn.py:1393\u001b[39m, in \u001b[36mGRU.forward\u001b[39m\u001b[34m(self, input, hx)\u001b[39m\n\u001b[32m   1391\u001b[39m \u001b[38;5;28mself\u001b[39m.check_forward_args(\u001b[38;5;28minput\u001b[39m, hx, batch_sizes)\n\u001b[32m   1392\u001b[39m \u001b[38;5;28;01mif\u001b[39;00m batch_sizes \u001b[38;5;129;01mis\u001b[39;00m \u001b[38;5;28;01mNone\u001b[39;00m:\n\u001b[32m-> \u001b[39m\u001b[32m1393\u001b[39m     result = \u001b[43m_VF\u001b[49m\u001b[43m.\u001b[49m\u001b[43mgru\u001b[49m\u001b[43m(\u001b[49m\n\u001b[32m   1394\u001b[39m \u001b[43m        \u001b[49m\u001b[38;5;28;43minput\u001b[39;49m\u001b[43m,\u001b[49m\n\u001b[32m   1395\u001b[39m \u001b[43m        \u001b[49m\u001b[43mhx\u001b[49m\u001b[43m,\u001b[49m\n\u001b[32m   1396\u001b[39m \u001b[43m        \u001b[49m\u001b[38;5;28;43mself\u001b[39;49m\u001b[43m.\u001b[49m\u001b[43m_flat_weights\u001b[49m\u001b[43m,\u001b[49m\u001b[43m  \u001b[49m\u001b[38;5;66;43;03m# type: ignore[arg-type]\u001b[39;49;00m\n\u001b[32m   1397\u001b[39m \u001b[43m        \u001b[49m\u001b[38;5;28;43mself\u001b[39;49m\u001b[43m.\u001b[49m\u001b[43mbias\u001b[49m\u001b[43m,\u001b[49m\n\u001b[32m   1398\u001b[39m \u001b[43m        \u001b[49m\u001b[38;5;28;43mself\u001b[39;49m\u001b[43m.\u001b[49m\u001b[43mnum_layers\u001b[49m\u001b[43m,\u001b[49m\n\u001b[32m   1399\u001b[39m \u001b[43m        \u001b[49m\u001b[38;5;28;43mself\u001b[39;49m\u001b[43m.\u001b[49m\u001b[43mdropout\u001b[49m\u001b[43m,\u001b[49m\n\u001b[32m   1400\u001b[39m \u001b[43m        \u001b[49m\u001b[38;5;28;43mself\u001b[39;49m\u001b[43m.\u001b[49m\u001b[43mtraining\u001b[49m\u001b[43m,\u001b[49m\n\u001b[32m   1401\u001b[39m \u001b[43m        \u001b[49m\u001b[38;5;28;43mself\u001b[39;49m\u001b[43m.\u001b[49m\u001b[43mbidirectional\u001b[49m\u001b[43m,\u001b[49m\n\u001b[32m   1402\u001b[39m \u001b[43m        \u001b[49m\u001b[38;5;28;43mself\u001b[39;49m\u001b[43m.\u001b[49m\u001b[43mbatch_first\u001b[49m\u001b[43m,\u001b[49m\n\u001b[32m   1403\u001b[39m \u001b[43m    \u001b[49m\u001b[43m)\u001b[49m\n\u001b[32m   1404\u001b[39m \u001b[38;5;28;01melse\u001b[39;00m:\n\u001b[32m   1405\u001b[39m     result = _VF.gru(\n\u001b[32m   1406\u001b[39m         \u001b[38;5;28minput\u001b[39m,\n\u001b[32m   1407\u001b[39m         batch_sizes,\n\u001b[32m   (...)\u001b[39m\u001b[32m   1414\u001b[39m         \u001b[38;5;28mself\u001b[39m.bidirectional,\n\u001b[32m   1415\u001b[39m     )\n",
      "\u001b[31mKeyboardInterrupt\u001b[39m: "
     ]
    }
   ],
   "source": [
    "gru_model = SimpleGRU(num_nodes=len(node2idx), num_goals=len(goal2idx)).to(device)\n",
    "optimizer = torch.optim.Adam(gru_model.parameters(), lr=1e-3)\n",
    "train_gru_model(gru_model, gru_loader, optimizer, device, num_epochs=10)"
   ]
  },
  {
   "cell_type": "code",
   "execution_count": 40,
   "id": "f961ab55",
   "metadata": {},
   "outputs": [
    {
     "name": "stdout",
     "output_type": "stream",
     "text": [
      "Evaluation accuracy: 1.0000\n"
     ]
    },
    {
     "data": {
      "text/plain": [
       "1.0"
      ]
     },
     "execution_count": 40,
     "metadata": {},
     "output_type": "execute_result"
    }
   ],
   "source": [
    "evaluate_gru_model(gru_model, gru_loader, device)"
   ]
  },
  {
   "cell_type": "code",
   "execution_count": 41,
   "id": "68a145dd",
   "metadata": {},
   "outputs": [
    {
     "name": "stdout",
     "output_type": "stream",
     "text": [
      "Saved gru_model_state.pth\n"
     ]
    }
   ],
   "source": [
    "# Save GRU model weights\n",
    "torch.save(gru_model.state_dict(), \"gru_model_state.pth\")\n",
    "print(\"Saved gru_model_state.pth\")"
   ]
  },
  {
   "cell_type": "code",
   "execution_count": 42,
   "id": "82f61c85",
   "metadata": {},
   "outputs": [],
   "source": [
    "from tqdm import tqdm"
   ]
  },
  {
   "cell_type": "code",
   "execution_count": 75,
   "id": "c3551270",
   "metadata": {},
   "outputs": [],
   "source": [
    "# Compute posteriors along paths for all test agents(GRU)\n",
    "gru_posteriors = {}\n",
    "for agent in agents:\n",
    "    if agent.id not in test_agent_ids:\n",
    "        continue\n",
    "    # Filter path to only include valid nodes, like BTOM and LSTM code\n",
    "    valid_path = [n for n in agent.path if n in node2idx]\n",
    "    posteriors_along_path = []\n",
    "    for t in range(1, len(valid_path)+1):\n",
    "        subpath = valid_path[:t]\n",
    "        posterior = predict_goal_posterior_gru(gru_model, subpath, node2idx, goal2idx, device)\n",
    "        posteriors_along_path.append(posterior)\n",
    "    gru_posteriors[agent.id] = posteriors_along_path"
   ]
  },
  {
   "cell_type": "markdown",
   "id": "25beb616-38e6-4a7f-bee7-638ec7019dfb",
   "metadata": {},
   "source": [
    "### ToMNet"
   ]
  },
  {
   "cell_type": "code",
   "execution_count": 52,
   "id": "ebd9bfdc",
   "metadata": {},
   "outputs": [
    {
     "name": "stdout",
     "output_type": "stream",
     "text": [
      "Number of nodes in node2idx: 3185\n"
     ]
    }
   ],
   "source": [
    "all_nodes = set()\n",
    "for episode in path_data.values():\n",
    "    for path in episode.values():\n",
    "        if isinstance(path, (list, tuple, set)):\n",
    "            all_nodes.update(path)\n",
    "        else:\n",
    "            all_nodes.add(path)\n",
    "all_nodes.update(campus.G_undirected.nodes())\n",
    "all_nodes = list(all_nodes)\n",
    "\n",
    "node2idx = {n: i for i, n in enumerate(all_nodes)}\n",
    "print(f\"Number of nodes in node2idx: {len(node2idx)}\")\n",
    "\n",
    "V = len(all_nodes)\n",
    "\n",
    "# build goal2idx likewise for your goals list\n",
    "goal2idx = {g:i for i,g in enumerate(goals)}\n",
    "\n",
    "# Adjust the path if needed\n",
    "node_embeddings = np.load(\"./data/data/data_utils/node2vec_embeddings_3185.npy\")"
   ]
  },
  {
   "cell_type": "code",
   "execution_count": 59,
   "id": "13f5b959-a8f4-4fa1-8893-5f00345c201a",
   "metadata": {},
   "outputs": [],
   "source": [
    "import torch\n",
    "from real_world_src.models.tomnet import ToMNet, ToMNetDataset, tomnet_collate_fn, infer_goal_dists, make_support_tensor\n",
    "from torch.utils.data import Dataset, DataLoader"
   ]
  },
  {
   "cell_type": "code",
   "execution_count": 60,
   "id": "f04f891b-00a7-4cdf-b222-fb936b610eca",
   "metadata": {},
   "outputs": [
    {
     "data": {
      "text/plain": [
       "ToMNet(\n",
       "  (char_net): CharacterNet(\n",
       "    (embedding): Embedding(3185, 64, padding_idx=0)\n",
       "    (lstm): LSTM(64, 64, batch_first=True)\n",
       "    (layer_norm): LayerNorm((64,), eps=1e-05, elementwise_affine=True)\n",
       "    (dropout): Dropout(p=0.5, inplace=False)\n",
       "    (fc_mu): Linear(in_features=64, out_features=64, bias=True)\n",
       "    (fc_logvar): Linear(in_features=64, out_features=64, bias=True)\n",
       "  )\n",
       "  (mental_net): MentalNet(\n",
       "    (embedding): Embedding(3185, 64, padding_idx=0)\n",
       "    (lstm): LSTM(64, 64, batch_first=True, bidirectional=True)\n",
       "    (layer_norm): LayerNorm((128,), eps=1e-05, elementwise_affine=True)\n",
       "    (dropout): Dropout(p=0.5, inplace=False)\n",
       "    (attn): Linear(in_features=128, out_features=1, bias=True)\n",
       "    (fc_mu): Linear(in_features=128, out_features=64, bias=True)\n",
       "    (fc_logvar): Linear(in_features=128, out_features=64, bias=True)\n",
       "  )\n",
       "  (embedding): Embedding(3185, 64, padding_idx=0)\n",
       "  (fusion): Sequential(\n",
       "    (0): Linear(in_features=192, out_features=128, bias=True)\n",
       "    (1): LayerNorm((128,), eps=1e-05, elementwise_affine=True)\n",
       "    (2): ReLU()\n",
       "    (3): Dropout(p=0.5, inplace=False)\n",
       "    (4): Linear(in_features=128, out_features=32, bias=True)\n",
       "    (5): LayerNorm((32,), eps=1e-05, elementwise_affine=True)\n",
       "    (6): ReLU()\n",
       "    (7): Dropout(p=0.5, inplace=False)\n",
       "  )\n",
       "  (goal_head): Linear(in_features=32, out_features=15, bias=True)\n",
       "  (next_head): Linear(in_features=32, out_features=3185, bias=True)\n",
       ")"
      ]
     },
     "execution_count": 60,
     "metadata": {},
     "output_type": "execute_result"
    }
   ],
   "source": [
    "device = 'cuda' if torch.cuda.is_available() else 'mps' if torch.backends.mps.is_available() else 'cpu'\n",
    "\n",
    "# the values you trained with:\n",
    "K     = 10\n",
    "T_sup = 50\n",
    "T_q   = 20\n",
    "\n",
    "\n",
    "model = ToMNet(\n",
    "    node_embeddings,\n",
    "    num_nodes = len(all_nodes),\n",
    "    #num_nodes=3108,\n",
    "    num_goals = len(goals),\n",
    "    K     = K,\n",
    "    T_sup = T_sup,\n",
    "    T_q   = T_q,\n",
    "    #h_char= 64, \n",
    "    #h_ment = 64, \n",
    "    #z_dim = 32\n",
    "    ).to(device)\n",
    "\n",
    "state_dict = torch.load(\n",
    "    \"./data/trained_models/New_Tomnet_1k_3185_2ep.pth\",\n",
    "    map_location=device\n",
    ")\n",
    "model.load_state_dict(state_dict)\n",
    "model.eval()"
   ]
  },
  {
   "cell_type": "code",
   "execution_count": null,
   "id": "da03077b-a04b-45df-a09a-62aa031cc2dd",
   "metadata": {},
   "outputs": [],
   "source": [
    "# # build node2idx so that every node in campus.G_undirected maps to 0…V−1\n",
    "# all_nodes = list(campus.G_undirected.nodes())\n",
    "# node2idx  = {n:i for i,n in enumerate(all_nodes)}\n",
    "# V = len(all_nodes)\n",
    "\n",
    "# # build goal2idx likewise for your goals list\n",
    "# goal2idx = {g:i for i,g in enumerate(goals)}\n",
    "# G = len(goals)"
   ]
  },
  {
   "cell_type": "code",
   "execution_count": 62,
   "id": "a278514a-0a5c-4c70-86bb-6b18ea2a3bc9",
   "metadata": {},
   "outputs": [],
   "source": [
    "def get_posterior_format(dists):\n",
    "    idx2goal = { idx: goal for goal, idx in goal2idx.items() }\n",
    "    goal_posterior = [ {idx2goal[i]: float(p) for i, p in enumerate(prob_row) } for prob_row in dists]\n",
    "    return goal_posterior"
   ]
  },
  {
   "cell_type": "code",
   "execution_count": 87,
   "id": "0e9061a3",
   "metadata": {},
   "outputs": [
    {
     "name": "stdout",
     "output_type": "stream",
     "text": [
      "Total nodes removed: 69630 out of 4241222 (0.0164)\n"
     ]
    }
   ],
   "source": [
    "filtered_path_data = {}\n",
    "removed_node_count = 0\n",
    "total_node_count = 0\n",
    "\n",
    "for episode, agent_paths in path_data.items():\n",
    "    filtered_path_data[episode] = {}\n",
    "    for agent_id, path in agent_paths.items():\n",
    "        original_len = len(path)\n",
    "        total_node_count += original_len\n",
    "        filtered_path = [node for node in path if node in node2idx]\n",
    "        removed_node_count += original_len - len(filtered_path)\n",
    "        filtered_path_data[episode][agent_id] = filtered_path\n",
    "\n",
    "print(f\"Total nodes removed: {removed_node_count} out of {total_node_count} \"\n",
    "      f\"({removed_node_count / total_node_count:.4f})\")"
   ]
  },
  {
   "cell_type": "code",
   "execution_count": 88,
   "id": "9f774f45",
   "metadata": {},
   "outputs": [
    {
     "data": {
      "text/plain": [
       "1000"
      ]
     },
     "execution_count": 88,
     "metadata": {},
     "output_type": "execute_result"
    }
   ],
   "source": [
    "len(filtered_path_data)"
   ]
  },
  {
   "cell_type": "code",
   "execution_count": 92,
   "id": "3ac7f9c6-d24a-49f8-a9e5-9419f6e2c6b7",
   "metadata": {},
   "outputs": [],
   "source": [
    "tomnet_posteriors = {}\n",
    "\n",
    "for agent in agents:\n",
    "\n",
    "    if agent.id not in test_agent_ids:\n",
    "        continue\n",
    "\n",
    "    dists = infer_goal_dists(\n",
    "        model, agent.id, episode, filtered_path_data,\n",
    "        node2idx, goal2idx,\n",
    "        K=10, T_sup=50, T_q=20, device=device\n",
    "    )\n",
    "\n",
    "\n",
    "    tomnet_posteriors[agent.id] = get_posterior_format(dists)\n"
   ]
  },
  {
   "cell_type": "code",
   "execution_count": null,
   "id": "a338c19b",
   "metadata": {},
   "outputs": [],
   "source": []
  },
  {
   "cell_type": "markdown",
   "id": "185bef46-c250-4fe5-8432-3f6da7c3a9be",
   "metadata": {},
   "source": [
    "## Step 4: Calculate Brier Score  \n",
    "We will calculate the brier score for each 10% portion of the path (same as before), but only leading up to the false goal. A model that does not learn historical trends will have a higher brier score since it will be more confident in the false goal. "
   ]
  },
  {
   "cell_type": "code",
   "execution_count": 64,
   "id": "b7423c5e-672d-45e7-949d-2ca65062888f",
   "metadata": {},
   "outputs": [],
   "source": [
    "from real_world_src.utils.metrics import brier_along_path, accuracy_along_path, fooled_along_path"
   ]
  },
  {
   "cell_type": "code",
   "execution_count": 112,
   "id": "12528472",
   "metadata": {},
   "outputs": [],
   "source": [
    "btom_scores = []\n",
    "for agent in agents:\n",
    "    valid_path = [n for n in agent.path if n in btom.campus.G.nodes]\n",
    "    btom_scores.append(brier_along_path(valid_path, \n",
    "                              agent.goal_node, \n",
    "                              posteriors_data[agent.id], \n",
    "                              goals))\n",
    "\n",
    "ext_scores = []\n",
    "for agent in agents:\n",
    "    valid_path = [n for n in agent.path if n in ext_btom.campus.G.nodes]\n",
    "    ext_scores.append(brier_along_path(valid_path, \n",
    "                              agent.goal_node, \n",
    "                              ext_posteriors_data[agent.id], \n",
    "                              goals))\n",
    "\n",
    "    \n",
    "tomnet_scores = []\n",
    "for agent in agents:\n",
    "    if agent.id not in test_agent_ids:\n",
    "        continue\n",
    "    if agent.id not in tomnet_posteriors:\n",
    "        continue  # Skip if no posterior for this agent\n",
    "\n",
    "    path = filtered_path_data[episode][agent.id]\n",
    "    posteriors = tomnet_posteriors[agent.id]\n",
    "    min_len = min(len(path), len(posteriors))\n",
    "    if min_len == 0:\n",
    "        continue\n",
    "    tomnet_scores.append(brier_along_path(\n",
    "        path[:min_len],\n",
    "        goal_data[episode][agent.id],\n",
    "        posteriors[:min_len],\n",
    "        goals\n",
    "    ))\n",
    "    \n",
    "lstm_scores = []\n",
    "for agent in agents:\n",
    "    if agent.id not in test_agent_ids:\n",
    "        continue\n",
    "    if agent.id not in lstm_posteriors:\n",
    "        continue  # Skip if no posterior for this agent\n",
    "    valid_path = [n for n in agent.path if n in node2idx]\n",
    "    lstm_scores.append(brier_along_path(valid_path, \n",
    "                              agent.goal_node, \n",
    "                              lstm_posteriors[agent.id], \n",
    "                              goals))\n",
    "\n",
    "gru_scores = []\n",
    "for agent in agents:\n",
    "    if agent.id not in test_agent_ids:\n",
    "        continue\n",
    "    if agent.id not in gru_posteriors:\n",
    "        continue  # Skip if no posterior for this agent\n",
    "    valid_path = [n for n in agent.path if n in node2idx]\n",
    "    gru_scores.append(brier_along_path(valid_path, \n",
    "                              agent.goal_node, \n",
    "                              gru_posteriors[agent.id], \n",
    "                              goals))"
   ]
  },
  {
   "cell_type": "code",
   "execution_count": null,
   "id": "afefe114-5593-4f94-9b1b-9cbafcb7d885",
   "metadata": {},
   "outputs": [],
   "source": []
  },
  {
   "cell_type": "code",
   "execution_count": 113,
   "id": "ba72de8f-78a0-43b2-b703-33ed8ae97856",
   "metadata": {},
   "outputs": [
    {
     "data": {
      "image/png": "[encoded data removed]",
      "text/plain": [
       "<Figure size 1000x600 with 1 Axes>"
      ]
     },
     "metadata": {},
     "output_type": "display_data"
    }
   ],
   "source": [
    "import numpy as np\n",
    "import matplotlib.pyplot as plt\n",
    "\n",
    "# Suppose `scores` and `ext_scores` are your (N × 11) arrays:\n",
    "arr      = np.array(btom_scores)      # shape (N, 11)\n",
    "ext_arr  = np.array(ext_scores)  # same shape\n",
    "tomnet_arr = np.array(tomnet_scores)\n",
    "lstm_arr= np.array(lstm_scores)\n",
    "gru_arr= np.array(gru_scores)\n",
    "props = np.linspace(0, 1, arr.shape[1])\n",
    "\n",
    "\n",
    "# Compute means \n",
    "mean_b = arr.mean(axis=0)\n",
    "mean_e = ext_arr.mean(axis=0)\n",
    "mean_tomnet = tomnet_arr.mean(axis=0)\n",
    "mean_lstm = lstm_arr.mean(axis=0)\n",
    "mean_gru = gru_arr.mean(axis=0)\n",
    "\n",
    "\n",
    "plt.figure(figsize=(10,6))\n",
    "\n",
    "# BToM curve\n",
    "plt.plot(props, mean_b, '-o', color='C0', label='BToM mean')\n",
    "# Extended BToM curve\n",
    "plt.plot(props, mean_e, '-s', color='C1', label='Ext-BToM mean')\n",
    "# Tomnet curve\n",
    "plt.plot(props, mean_tomnet, '-o', color='green', label='ToMNet')\n",
    "#LSTM curve\n",
    "plt.plot(props, mean_lstm, '-^', color='purple', label='LSTM')\n",
    "#GRU curve\n",
    "plt.plot(props, mean_gru, '-d', color='orange', label='GRU')\n",
    "\n",
    "\n",
    "plt.xlabel('Proportion of Path Observed')\n",
    "plt.ylabel('Brier Score')\n",
    "plt.title('Brier Score vs. Path Fraction (with 95% CI)')\n",
    "plt.xticks(props)\n",
    "plt.ylim(0, 1.7)\n",
    "plt.grid(alpha=0.3)\n",
    "plt.legend(loc='upper right')\n",
    "plt.tight_layout()\n",
    "plt.show()"
   ]
  },
  {
   "cell_type": "code",
   "execution_count": null,
   "id": "4607f795-e74e-4251-9607-9908031d17c0",
   "metadata": {},
   "outputs": [],
   "source": [
    "fooled_scores = []\n",
    "for agent in agents:\n",
    "    min_goal_idx = np.argmin(agent.goal_distribution)\n",
    "    min_goal = goals[min_goal_idx]\n",
    "    path = agent.path\n",
    "    if min_goal not in path:\n",
    "        continue  # Skip if min_goal is not in the path\n",
    "    false_goal_idx = path.index(min_goal)\n",
    "    path = path[:false_goal_idx + 1]\n",
    "    fooled_scores.append(fooled_along_path(path, \n",
    "                                agent.goal_node,\n",
    "                                min_goal,\n",
    "                                posteriors_data[agent.id],\n",
    "                                goals))\n",
    "\n",
    "ext_fooled_scores = []\n",
    "for agent in agents:\n",
    "    min_goal_idx = np.argmin(agent.goal_distribution)\n",
    "    min_goal = goals[min_goal_idx]\n",
    "    path = agent.path\n",
    "    if min_goal not in path:\n",
    "        continue\n",
    "    false_goal_idx = path.index(min_goal)\n",
    "    path = path[:false_goal_idx + 1]\n",
    "    ext_fooled_scores.append(fooled_along_path(path, \n",
    "                                agent.goal_node,\n",
    "                                min_goal,\n",
    "                                ext_posteriors_data[agent.id],\n",
    "                                goals))\n",
    "\n",
    "tomnet_fooled_scores = []\n",
    "for agent in agents:\n",
    "    if agent.id not in test_agent_ids:\n",
    "        continue\n",
    "    if agent.id not in tomnet_posteriors:\n",
    "        continue  # Skip if no posterior for this agent\n",
    "    min_goal_idx = np.argmin(agent.goal_distribution)\n",
    "    min_goal = goals[min_goal_idx]\n",
    "    path = filtered_path_data[episode][agent.id]\n",
    "    if min_goal not in path:\n",
    "        continue\n",
    "    false_goal_idx = path.index(min_goal)\n",
    "    path = path[:false_goal_idx + 1]\n",
    "    tomnet_fooled_scores.append(fooled_along_path(path, \n",
    "                                agent.goal_node,\n",
    "                                min_goal,\n",
    "                                tomnet_posteriors[agent.id],\n",
    "                                goals))\n",
    "    \n",
    "\n",
    "lstm_fooled_scores = []\n",
    "for agent in agents:\n",
    "    if agent.id not in test_agent_ids:\n",
    "        continue\n",
    "    min_goal_idx = np.argmin(agent.goal_distribution)\n",
    "    min_goal = goals[min_goal_idx]\n",
    "    path = agent.path\n",
    "    if min_goal not in path or agent.id not in lstm_posteriors:\n",
    "        continue\n",
    "    false_goal_idx = path.index(min_goal)\n",
    "    path = path[:false_goal_idx + 1]\n",
    "    lstm_fooled_scores.append(fooled_along_path(path, \n",
    "                                agent.goal_node,\n",
    "                                min_goal,\n",
    "                                lstm_posteriors[agent.id],\n",
    "                                goals))\n",
    "\n",
    "gru_fooled_scores = []\n",
    "for agent in agents:\n",
    "    if agent.id not in test_agent_ids:\n",
    "        continue\n",
    "    min_goal_idx = np.argmin(agent.goal_distribution)\n",
    "    min_goal = goals[min_goal_idx]\n",
    "    path = agent.path\n",
    "    if min_goal not in path or agent.id not in gru_posteriors:\n",
    "        continue\n",
    "    false_goal_idx = path.index(min_goal)\n",
    "    path = path[:false_goal_idx + 1]\n",
    "    gru_fooled_scores.append(fooled_along_path(path, \n",
    "                                agent.goal_node,\n",
    "                                min_goal,\n",
    "                                gru_posteriors[agent.id],\n",
    "                                goals))"
   ]
  },
  {
   "cell_type": "code",
   "execution_count": 116,
   "id": "c3ef326e-0b19-4e9c-abb6-ac9b16b85130",
   "metadata": {},
   "outputs": [
    {
     "data": {
      "image/png": "[encoded data removed]",
      "text/plain": [
       "<Figure size 1000x600 with 1 Axes>"
      ]
     },
     "metadata": {},
     "output_type": "display_data"
    }
   ],
   "source": [
    "import numpy as np\n",
    "import matplotlib.pyplot as plt\n",
    "\n",
    "# your two (n_trajectories × n_fractions) arrays:\n",
    "arr      = np.array(fooled_scores)      # original BToM\n",
    "ext_arr  = np.array(ext_fooled_scores)  # extended BToM\n",
    "tomnet_arr = np.array(tomnet_fooled_scores)\n",
    "lstm_arr= np.array(lstm_fooled_scores)\n",
    "gru_arr= np.array(gru_fooled_scores)\n",
    "\n",
    "props = np.linspace(0, 1, arr.shape[1])\n",
    "\n",
    "# --- original BToM stats ---\n",
    "mean_b = arr.mean(axis=0)\n",
    "\n",
    "# --- extended BToM stats ---\n",
    "mean_e = ext_arr.mean(axis=0)\n",
    "\n",
    "mean_tomnet = tomnet_arr.mean(axis=0)\n",
    "mean_lstm = lstm_arr.mean(axis=0)\n",
    "mean_gru = gru_arr.mean(axis=0)\n",
    "# Plotting the results\n",
    "\n",
    "\n",
    "plt.figure(figsize=(10,6))\n",
    "\n",
    "# original BToM\n",
    "plt.plot(props, mean_b, '-o', color='C0', label='BToM mean')\n",
    "\n",
    "# extended BToM\n",
    "plt.plot(props, mean_e, '-s', color='C1', label='Ext‐BToM mean')\n",
    "# Tomnet curve\n",
    "plt.plot(props, mean_tomnet, '-o', color='green', label='ToMNet')\n",
    "#LSTM curve\n",
    "plt.plot(props, mean_lstm, '-^', color='purple', label='LSTM')\n",
    "#GRU curve\n",
    "plt.plot(props, mean_gru, '-d', color='orange', label='GRU')\n",
    "\n",
    "\n",
    "\n",
    "plt.xlabel('Proportion of Path Observed Before False Goal')\n",
    "plt.ylabel('P(false goal)')\n",
    "plt.title('Model False Goal Confidence')\n",
    "plt.xticks(props)\n",
    "plt.ylim(0, 0.5)\n",
    "plt.grid(alpha=0.3)\n",
    "plt.legend(loc='upper right')\n",
    "plt.tight_layout()\n",
    "plt.show()"
   ]
  },
  {
   "cell_type": "code",
   "execution_count": null,
   "id": "d1724180-4cc1-4a52-a30a-fbe9022ef3c7",
   "metadata": {},
   "outputs": [],
   "source": []
  }
 ],
 "metadata": {
  "kernelspec": {
   "display_name": "tom",
   "language": "python",
   "name": "python3"
  },
  "language_info": {
   "codemirror_mode": {
    "name": "ipython",
    "version": 3
   },
   "file_extension": ".py",
   "mimetype": "text/x-python",
   "name": "python",
   "nbconvert_exporter": "python",
   "pygments_lexer": "ipython3",
   "version": "3.12.0"
  }
 },
 "nbformat": 4,
 "nbformat_minor": 5
}
