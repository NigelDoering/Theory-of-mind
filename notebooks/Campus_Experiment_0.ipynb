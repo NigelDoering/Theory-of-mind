{
 "cells": [
  {
   "cell_type": "markdown",
   "id": "0af56c5f-2901-400b-a682-8c4cfab6b611",
   "metadata": {},
   "source": [
    "# Experiment  0: ToM Overall Model Performance\n"
   ]
  },
  {
   "cell_type": "code",
   "execution_count": 30,
   "id": "1de2384e",
   "metadata": {},
   "outputs": [
    {
     "name": "stdout",
     "output_type": "stream",
     "text": [
      "The autoreload extension is already loaded. To reload it, use:\n",
      "  %reload_ext autoreload\n"
     ]
    }
   ],
   "source": [
    "%load_ext autoreload\n",
    "%autoreload 2"
   ]
  },
  {
   "cell_type": "code",
   "execution_count": 2,
   "id": "7c5b1840-cde8-455b-828d-b405646d3247",
   "metadata": {},
   "outputs": [],
   "source": [
    "import numpy as np\n",
    "import pymc\n",
    "import networkx as nx\n",
    "import matplotlib.pyplot as plt\n",
    "import random\n",
    "import torch"
   ]
  },
  {
   "cell_type": "code",
   "execution_count": 3,
   "id": "10e47055-0cb8-491b-bc16-2a8d8dcce4a7",
   "metadata": {},
   "outputs": [],
   "source": [
    "import sys\n",
    "import os\n",
    "import osmnx as ox\n",
    "\n",
    "# Adjust this path as needed to point to your project root\n",
    "sys.path.append(os.path.abspath(\"..\"))"
   ]
  },
  {
   "cell_type": "code",
   "execution_count": 4,
   "id": "0c402353-27ab-46bf-b576-52d2d4d2c865",
   "metadata": {},
   "outputs": [],
   "source": [
    "def plot_goal_distribution(goal_distribution):\n",
    "    \"\"\"\n",
    "    Plot the goal distribution as a bar plot.\n",
    "\n",
    "    Parameters\n",
    "    ----------\n",
    "    goal_distribution : dict\n",
    "        Dictionary mapping candidate goal IDs to probability values.\n",
    "    \"\"\"\n",
    "    # Extract goal IDs and probabilities, converting to floats if needed.\n",
    "    goals = list(goal_distribution.keys())\n",
    "    probs = [float(goal_distribution[g]) for g in goals]\n",
    "    \n",
    "    # Create the bar plot.\n",
    "    plt.figure(figsize=(10, 6))\n",
    "    plt.bar(range(len(goals)), probs, tick_label=[str(g) for g in goals])\n",
    "    plt.xlabel(\"Candidate Goal IDs\")\n",
    "    plt.ylabel(\"Probability\")\n",
    "    plt.title(\"Posterior Distribution over Candidate Goals\")\n",
    "    plt.xticks(rotation=45, ha=\"right\")\n",
    "    plt.tight_layout()\n",
    "    plt.show()"
   ]
  },
  {
   "cell_type": "code",
   "execution_count": 5,
   "id": "ae66225e-25c8-4648-809e-6fd2f98fe8b6",
   "metadata": {},
   "outputs": [],
   "source": [
    "def visualize_map(campus,\n",
    "                  path=None,\n",
    "                  goal_nodes=None,\n",
    "                  ax=None):\n",
    "    \"\"\"\n",
    "    Visualize the campus map, plus optional trajectory, start, waypoint, and goal nodes.\n",
    "    \n",
    "    Arguments:\n",
    "      campus         an object with:\n",
    "                        - campus.G           : a networkx graph\n",
    "                        - campus.node_coords : dict[node] -> (x, y) coordinates\n",
    "                        - campus.buildings   : a GeoDataFrame of building footprints (or None)\n",
    "      path           list of node‐IDs, the agent’s trajectory to draw (in order)\n",
    "      start_nodes    list of node‐IDs to mark as start(s)\n",
    "      waypoint       single node‐ID to mark as an intermediate waypoint\n",
    "      goal_nodes     list of node‐IDs to mark as goal(s)\n",
    "      ax             optional matplotlib Axes onto which to draw\n",
    "      \n",
    "    Returns:\n",
    "      fig, ax        the figure & axis\n",
    "    \"\"\"\n",
    "    # 1) draw the base map\n",
    "    if ax is None:\n",
    "        fig, ax = ox.plot_graph(campus.G,\n",
    "                                figsize=(15,15),\n",
    "                                node_size=5,\n",
    "                                edge_color=\"#999999\",\n",
    "                                show=False,\n",
    "                                close=False)\n",
    "    else:\n",
    "        fig = ax.figure\n",
    "        ox.plot_graph(campus.G,\n",
    "                      ax=ax,\n",
    "                      node_size=5,\n",
    "                      edge_color=\"#999999\",\n",
    "                      show=False)\n",
    "    \n",
    "    # 2) overlay buildings if you have them\n",
    "    if getattr(campus, \"buildings\", None) is not None:\n",
    "        campus.buildings.plot(ax=ax,\n",
    "                              color=\"#bbbbbb\",\n",
    "                              alpha=0.7,\n",
    "                              edgecolor=\"#444444\")\n",
    "    \n",
    "    # 3) draw the agent’s path\n",
    "    if path is not None and len(path) > 1:\n",
    "        coords = [campus.node_coords[n] for n in path]\n",
    "        xs, ys = zip(*coords)\n",
    "        ax.plot(xs, ys,\n",
    "                linestyle='-',\n",
    "                linewidth=3.0,\n",
    "                color='lightblue',\n",
    "                alpha=0.8,\n",
    "                zorder=3,\n",
    "                label=\"Trajectory\")\n",
    "        # and mark the actual visited nodes\n",
    "        ax.scatter(xs, ys,\n",
    "                   c='C0',\n",
    "                   s=30,\n",
    "                   zorder=4)\n",
    "    \n",
    "    # 6) mark goal nodes\n",
    "    if goal_nodes:\n",
    "        goal_coords = [campus.node_coords[n] for n in goal_nodes]\n",
    "        xs, ys = zip(*goal_coords)\n",
    "        ax.scatter(xs, ys,\n",
    "                   c=\"yellow\",\n",
    "                   s=160,\n",
    "                   marker=\"*\",\n",
    "                   zorder=5,\n",
    "                   label=\"Goal\")\n",
    "    \n",
    "    # 7) finalize\n",
    "    ax.legend(loc=\"upper right\")\n",
    "    ax.set_title(\"UCSD Campus Environment\")\n",
    "    ax.set_axis_off()\n",
    "    fig.tight_layout()\n",
    "    return fig, ax"
   ]
  },
  {
   "cell_type": "code",
   "execution_count": 6,
   "id": "eaafe0ee-e10e-4ca6-a9db-d6125df1e119",
   "metadata": {},
   "outputs": [],
   "source": [
    "from real_world_src.environment.campus_env import CampusEnvironment\n",
    "from real_world_src.agents.agent_factory import AgentFactory\n",
    "from real_world_src.simulation.simulator import Simulator\n",
    "#from real_world_src.simulation.experiment_1 import Simulator\n",
    "\n",
    "from real_world_src.utils.run_manager import RunManager\n",
    "from real_world_src.utils.config import VISUAL_CONFIG\n",
    "from real_world_src.utils.config import get_agent_color\n"
   ]
  },
  {
   "cell_type": "markdown",
   "id": "5c7670da-fc0e-4cbf-ae62-64c288c8243c",
   "metadata": {},
   "source": [
    "## Steps  \n",
    "1. Create the UCSD campus world\n",
    "2. Create n agents each with a specific distribution over the goals\n",
    "3. Run m epsiodes where each agent chooses a goal and performs a single path to that goal\n",
    "4. Use this data as training set"
   ]
  },
  {
   "cell_type": "markdown",
   "id": "9d3521d0-745e-48a4-bc1c-ef76b62a628c",
   "metadata": {},
   "source": [
    "## Step 1: Create the Map"
   ]
  },
  {
   "cell_type": "code",
   "execution_count": 7,
   "id": "e78418df-240d-4e7c-93d8-c6c452bdacd4",
   "metadata": {},
   "outputs": [
    {
     "name": "stdout",
     "output_type": "stream",
     "text": [
      "Loading map data for University of California, San Diego, La Jolla, CA, USA...\n"
     ]
    },
    {
     "name": "stdout",
     "output_type": "stream",
     "text": [
      "Environment loaded with 3151 nodes and 8746 edges\n"
     ]
    }
   ],
   "source": [
    "# Create a run manager\n",
    "# run_manager = RunManager('visuals')\n",
    "# run_dir = run_manager.start_new_run()\n",
    "\n",
    "# Initialize campus environment\n",
    "campus = CampusEnvironment()"
   ]
  },
  {
   "cell_type": "markdown",
   "id": "f742f179-ff68-4b38-aff4-ddaf202362b9",
   "metadata": {},
   "source": [
    "## Step 2: Create N Agents"
   ]
  },
  {
   "cell_type": "code",
   "execution_count": 8,
   "id": "ec6bdf25-4915-4b89-8dba-c78b873f0179",
   "metadata": {},
   "outputs": [],
   "source": [
    "# Need to establish the set of common goals (just choose the landmark nodes)\n",
    "goals = [469084068, 49150691, 768264666, 1926666015, 1926673385, 49309735,\n",
    "         273627682, 445989107, 445992528, 446128310, 1772230346, 1926673336, \n",
    "         2872424923, 3139419286, 4037576308]"
   ]
  },
  {
   "cell_type": "code",
   "execution_count": 9,
   "id": "4c33922c-bfa7-46ea-9974-bcb2da19b9bc",
   "metadata": {},
   "outputs": [
    {
     "data": {
      "text/plain": [
       "' Already created agents and saved as pkl\\n# Create n agents\\nagents = []\\nn = 100\\nfor i in range(n):\\n    agents.append(AgentFactory.create_agent(\"shortest\"))\\n    agents[i].id = i\\n\\nn_goals = len(goals)\\nag_alpha = np.random.normal(1, 0.2, size=n_goals)\\n\\nfor agent in agents: # Set each agent\\'s goal distribution\\n    agent.goal_distribution = np.random.dirichlet(alpha=np.ones(n_goals)*(ag_alpha), size=1)[0]\\n    agent.environment = campus\\n\\n# Save the agents \\nimport pickle\\n\\n# suppose `agents` is your list of Agent instances\\nwith open(\\'agents.pkl\\', \\'wb\\') as f:\\n    pickle.dump(agents, f)\\n\\n'"
      ]
     },
     "execution_count": 9,
     "metadata": {},
     "output_type": "execute_result"
    }
   ],
   "source": [
    "\"\"\" Already created agents and saved as pkl\n",
    "# Create n agents\n",
    "agents = []\n",
    "n = 100\n",
    "for i in range(n):\n",
    "    agents.append(AgentFactory.create_agent(\"shortest\"))\n",
    "    agents[i].id = i\n",
    "\n",
    "n_goals = len(goals)\n",
    "ag_alpha = np.random.normal(1, 0.2, size=n_goals)\n",
    "\n",
    "for agent in agents: # Set each agent's goal distribution\n",
    "    agent.goal_distribution = np.random.dirichlet(alpha=np.ones(n_goals)*(ag_alpha), size=1)[0]\n",
    "    agent.environment = campus\n",
    "\n",
    "# Save the agents \n",
    "import pickle\n",
    "\n",
    "# suppose `agents` is your list of Agent instances\n",
    "with open('agents.pkl', 'wb') as f:\n",
    "    pickle.dump(agents, f)\n",
    "\n",
    "\"\"\""
   ]
  },
  {
   "cell_type": "code",
   "execution_count": null,
   "id": "e7c6abef-216f-4057-8f34-2edea75432e5",
   "metadata": {},
   "outputs": [],
   "source": []
  },
  {
   "cell_type": "code",
   "execution_count": null,
   "id": "de485afc-a2df-4bb8-b93b-db4a8bee921d",
   "metadata": {},
   "outputs": [],
   "source": []
  },
  {
   "cell_type": "code",
   "execution_count": 10,
   "id": "552271a1-b2fd-40ed-b2cc-f42f3fbfee57",
   "metadata": {},
   "outputs": [],
   "source": [
    "def new_episode(agents):\n",
    "\n",
    "    # Set the goal and start nodes\n",
    "    for agent in agents:\n",
    "        agent.path = [] # Clear the old path\n",
    "        agent.goal_node = int(np.random.choice(goals, size=1, p=agent.goal_distribution)[0])\n",
    "\n",
    "        while True:\n",
    "            start_node = campus.get_random_node()\n",
    "            try:\n",
    "                path = nx.shortest_path(campus.G_undirected, \n",
    "                                       source=start_node, \n",
    "                                       target=agent.goal_node, \n",
    "                                       weight='length')\n",
    "                if len(path) >15:  # Make sure path is non-trivial\n",
    "                    break\n",
    "            except:\n",
    "                continue\n",
    "        agent.start_node = start_node\n",
    "        agent.current_node = start_node\n",
    "\n",
    "    return "
   ]
  },
  {
   "cell_type": "markdown",
   "id": "85dac1c3-4dc8-4561-a09b-7c7bf4689e90",
   "metadata": {},
   "source": [
    "## Step 3: Perform Episodes and Data Collection"
   ]
  },
  {
   "cell_type": "code",
   "execution_count": 11,
   "id": "f7d02913-3faf-40f7-8196-aa41436a469d",
   "metadata": {},
   "outputs": [],
   "source": [
    "import json"
   ]
  },
  {
   "cell_type": "code",
   "execution_count": 12,
   "id": "34b540e4-d51d-4a85-aad1-1ba4c7cd9bda",
   "metadata": {},
   "outputs": [
    {
     "data": {
      "text/plain": [
       "' Already ran once. Data is saved in /data\\n\\npath_data = {}\\ngoal_data = {}\\nm = 100\\nfor episode in range(m):\\n    new_episode(agents)\\n    episode_path_data = {}\\n    episode_goal_data = {}\\n    for agent in agents:\\n        agent.plan_path()\\n        episode_path_data[agent.id] = agent.path\\n        episode_goal_data[agent.id] = agent.goal_node\\n    # Save the data from each episode\\n    path_data[episode] = episode_path_data\\n    goal_data[episode] = episode_goal_data\\n\\nwith open(\"./data/path_data.json\", \"w\") as file:\\n    json.dump(path_data, file, indent=4)\\n\\nwith open(\"./data/goal_data.json\", \"w\") as file:\\n    json.dump(goal_data, file, indent=4)\\n\\n'"
      ]
     },
     "execution_count": 12,
     "metadata": {},
     "output_type": "execute_result"
    }
   ],
   "source": [
    "\"\"\" Already ran once. Data is saved in /data\n",
    "\n",
    "path_data = {}\n",
    "goal_data = {}\n",
    "m = 100\n",
    "for episode in range(m):\n",
    "    new_episode(agents)\n",
    "    episode_path_data = {}\n",
    "    episode_goal_data = {}\n",
    "    for agent in agents:\n",
    "        agent.plan_path()\n",
    "        episode_path_data[agent.id] = agent.path\n",
    "        episode_goal_data[agent.id] = agent.goal_node\n",
    "    # Save the data from each episode\n",
    "    path_data[episode] = episode_path_data\n",
    "    goal_data[episode] = episode_goal_data\n",
    "\n",
    "with open(\"./data/path_data.json\", \"w\") as file:\n",
    "    json.dump(path_data, file, indent=4)\n",
    "\n",
    "with open(\"./data/goal_data.json\", \"w\") as file:\n",
    "    json.dump(goal_data, file, indent=4)\n",
    "\n",
    "\"\"\""
   ]
  },
  {
   "cell_type": "markdown",
   "id": "da41552e-8521-4de9-8c57-fa022ed0211a",
   "metadata": {},
   "source": [
    "### Load existing data"
   ]
  },
  {
   "cell_type": "code",
   "execution_count": 99,
   "id": "c416d7b0-9f2d-49f6-bae2-58ff3b3a6c0e",
   "metadata": {},
   "outputs": [
    {
     "name": "stderr",
     "output_type": "stream",
     "text": [
      "/tmp/ipykernel_31645/1732508900.py:10: DeprecationWarning: numpy.core.numeric is deprecated and has been renamed to numpy._core.numeric. The numpy._core namespace contains private NumPy internals and its use is discouraged, as NumPy internals can change without warning in any release. In practice, most real-world usage of numpy.core is to access functionality in the public NumPy API. If that is the case, use the public NumPy API. If not, you are using NumPy internals. If you would still like to access an internal attribute, use numpy._core.numeric._frombuffer.\n",
      "  agents = pickle.load(f)\n"
     ]
    }
   ],
   "source": [
    "import json, pickle\n",
    "\n",
    "with open(\"./../data/1k/path_data.json\", 'r') as file:\n",
    "    path_data = json.load(file)\n",
    "\n",
    "with open(\"./../data/1k/goal_data.json\", 'r') as file:\n",
    "    goal_data = json.load(file)\n",
    "\n",
    "with open('./../data/1k/agents.pkl', 'rb') as f:\n",
    "    agents = pickle.load(f)"
   ]
  },
  {
   "cell_type": "code",
   "execution_count": 100,
   "id": "80616ce4-0671-4838-ac61-7559103e252d",
   "metadata": {},
   "outputs": [],
   "source": [
    "def convert_keys_to_int(data):\n",
    "    if isinstance(data, dict):\n",
    "        return {int(k) if isinstance(k, str) and k.isdigit() else k: convert_keys_to_int(v) for k, v in data.items()}\n",
    "    elif isinstance(data, list):\n",
    "        return [convert_keys_to_int(item) for item in data]\n",
    "    else:\n",
    "        return data"
   ]
  },
  {
   "cell_type": "code",
   "execution_count": 101,
   "id": "7d112963-0bb5-4da9-9c7f-79b74d0cd810",
   "metadata": {},
   "outputs": [],
   "source": [
    "goal_data = convert_keys_to_int(goal_data)\n",
    "path_data = convert_keys_to_int(path_data)"
   ]
  },
  {
   "cell_type": "markdown",
   "id": "dedbcf19-d824-4887-abe8-48793d60334c",
   "metadata": {},
   "source": [
    "## Step 4: Fit the Models\n",
    "There should again be a dict of dict for posteriors. The first key will be for the episode, the second key will be the agent, and the value of this will be a list of dicts for the posteriors. "
   ]
  },
  {
   "cell_type": "markdown",
   "id": "3dd7ce3a-ab26-419f-ac82-6874cec66b4e",
   "metadata": {},
   "source": [
    "### BToM"
   ]
  },
  {
   "cell_type": "code",
   "execution_count": 16,
   "id": "07b578e1-1ec0-4112-a0be-a00c6ea367ec",
   "metadata": {},
   "outputs": [],
   "source": [
    "# Import BToM baseline\n",
    "from real_world_src.models.btom import BToM"
   ]
  },
  {
   "cell_type": "code",
   "execution_count": 17,
   "id": "c88b861e-8d79-443d-9956-c72fbb961fc5",
   "metadata": {},
   "outputs": [
    {
     "name": "stdout",
     "output_type": "stream",
     "text": [
      "Computing shortest paths...\n"
     ]
    },
    {
     "name": "stdout",
     "output_type": "stream",
     "text": [
      "Done\n"
     ]
    }
   ],
   "source": [
    "btom = BToM(campus, agents, goals)"
   ]
  },
  {
   "cell_type": "code",
   "execution_count": 18,
   "id": "5e30d7ef-46bd-4081-8472-758319904771",
   "metadata": {},
   "outputs": [],
   "source": [
    "# Calculate all the posteriors using the first 30 episode\n",
    "posteriors_data = {}\n",
    "\n",
    "for episode in range(len(goal_data)):\n",
    "    posteriors_data[episode] = {}\n",
    "    for agent in agents:\n",
    "        # Filter path to only include valid nodes in the graph\n",
    "        valid_path = [n for n in path_data[episode][agent.id] if n in btom.campus.G.nodes]\n",
    "        if len(valid_path) < 2:\n",
    "            print(f\"Skipping agent {agent.id} in episode {episode}: not enough valid nodes in path.\")\n",
    "            continue\n",
    "        posteriors_data[episode][agent.id] = btom.update_agent_posterior_over_path(agent, valid_path)\n",
    "    # Reset the posteriors for new episode\n",
    "    btom.reset_posteriors()"
   ]
  },
  {
   "cell_type": "markdown",
   "id": "8908d792-2cce-4b27-bd85-92d418b7f404",
   "metadata": {},
   "source": [
    "### Extended BToM"
   ]
  },
  {
   "cell_type": "code",
   "execution_count": 19,
   "id": "b77ccae6-b84a-49a4-b1e6-f527d44153fa",
   "metadata": {},
   "outputs": [],
   "source": [
    "# Import Ex-BToM baseline\n",
    "from real_world_src.models.extended_btom import Extended_BToM"
   ]
  },
  {
   "cell_type": "code",
   "execution_count": 20,
   "id": "bd52fb8b-f541-4b5a-b4f2-ed2ac63518fa",
   "metadata": {},
   "outputs": [
    {
     "name": "stdout",
     "output_type": "stream",
     "text": [
      "Computing shortest paths...\n",
      "Done\n"
     ]
    }
   ],
   "source": [
    "ext_btom = Extended_BToM(campus, agents, goals)"
   ]
  },
  {
   "cell_type": "code",
   "execution_count": 21,
   "id": "6ed02246-7c26-418d-a987-9c5e11e09487",
   "metadata": {},
   "outputs": [],
   "source": [
    "# Calculate all the posteriors using the first 30 episode\n",
    "ext_posteriors_data = {}\n",
    "\n",
    "for episode in range(len(goal_data)):\n",
    "    ext_posteriors_data[episode] = {}\n",
    "    for agent in agents:\n",
    "        # Filter path to only include valid nodes in the graph\n",
    "        valid_path = [n for n in path_data[episode][agent.id] if n in ext_btom.campus.G.nodes]\n",
    "        if len(valid_path) < 2:\n",
    "            print(f\"Skipping agent {agent.id} in episode {episode}: not enough valid nodes in path.\")\n",
    "            continue\n",
    "        ext_posteriors_data[episode][agent.id] = ext_btom.update_agent_posterior_over_path(agent, valid_path)"
   ]
  },
  {
   "cell_type": "code",
   "execution_count": 22,
   "id": "a44e3511-63cb-4aa6-991b-7eaa3998e711",
   "metadata": {},
   "outputs": [],
   "source": [
    "# Save extended BToM to load for other experiments\n",
    "# suppose `agents` is your list of Agent instances\n",
    "with open('extended_btom.pkl', 'wb') as f:\n",
    "    pickle.dump(ext_btom, f)"
   ]
  },
  {
   "cell_type": "markdown",
   "id": "ef17d15d",
   "metadata": {},
   "source": [
    "# To get posterior data"
   ]
  },
  {
   "cell_type": "code",
   "execution_count": 23,
   "id": "19a55bd4",
   "metadata": {},
   "outputs": [],
   "source": [
    "n_test = int(0.2 * len(agents))\n",
    "test_agent_ids = [agent.id for agent in agents[-n_test:]]"
   ]
  },
  {
   "cell_type": "markdown",
   "id": "235c5892",
   "metadata": {},
   "source": [
    "### LSTM"
   ]
  },
  {
   "cell_type": "code",
   "execution_count": 32,
   "id": "a9e2cdb3",
   "metadata": {},
   "outputs": [],
   "source": [
    "# Import LSTM model and helpers\n",
    "from real_world_src.models.lstm import (\n",
    "    SimpleLSTM, LSTMDataset, lstm_collate_fn,\n",
    "    train_lstm_model, evaluate_lstm_model, predict_goal_posterior\n",
    ")\n",
    "from torch.utils.data import DataLoader"
   ]
  },
  {
   "cell_type": "code",
   "execution_count": 33,
   "id": "53f9ffd5",
   "metadata": {},
   "outputs": [],
   "source": [
    "# build node2idx so that every node in campus.G_undirected maps to 0…V−1\n",
    "all_nodes = list(campus.G_undirected.nodes())\n",
    "node2idx  = {n:i for i,n in enumerate(all_nodes)}\n",
    "V = len(all_nodes)\n",
    "\n",
    "# build goal2idx likewise for your goals list\n",
    "goal2idx = {g:i for i,g in enumerate(goals)}\n",
    "G = len(goals)"
   ]
  },
  {
   "cell_type": "code",
   "execution_count": 34,
   "id": "dbb3c6b6",
   "metadata": {},
   "outputs": [],
   "source": [
    "# Prepare dataset and dataloader\n",
    "# Batch size = 32\n",
    "# Filter all paths to only include valid nodes in node2idx\n",
    "valid_path_data = {}\n",
    "for episode in path_data:\n",
    "    valid_path_data[episode] = {}\n",
    "    for agent_id, path in path_data[episode].items():\n",
    "        valid_path = [n for n in path if n in node2idx]\n",
    "        valid_path_data[episode][agent_id] = valid_path\n",
    "\n",
    "lstm_dataset = LSTMDataset(valid_path_data, goal_data, node2idx, goal2idx)\n",
    "lstm_loader = DataLoader(lstm_dataset, batch_size=32, shuffle=True, collate_fn=lstm_collate_fn)"
   ]
  },
  {
   "cell_type": "code",
   "execution_count": 35,
   "id": "05ed5c46",
   "metadata": {},
   "outputs": [],
   "source": [
    "if torch.backends.mps.is_available():\n",
    "    device = torch.device(\"mps\")\n",
    "elif torch.cuda.is_available():\n",
    "    device = torch.device(\"cuda:1\")\n",
    "else:\n",
    "    device = torch.device(\"cpu\")"
   ]
  },
  {
   "cell_type": "code",
   "execution_count": 36,
   "id": "1e8f9b15",
   "metadata": {},
   "outputs": [
    {
     "name": "stdout",
     "output_type": "stream",
     "text": [
      "Epoch 1/10 - Loss: 2.0579\n",
      "Epoch 2/10 - Loss: 1.4470\n",
      "Epoch 3/10 - Loss: 1.2080\n",
      "Epoch 4/10 - Loss: 0.8643\n",
      "Epoch 5/10 - Loss: 0.6395\n",
      "Epoch 6/10 - Loss: 0.3551\n",
      "Epoch 7/10 - Loss: 0.1429\n",
      "Epoch 8/10 - Loss: 0.1064\n",
      "Epoch 9/10 - Loss: 0.0174\n",
      "Epoch 10/10 - Loss: 0.0076\n"
     ]
    }
   ],
   "source": [
    "# Instantiate and train the model\n",
    "lstm_model = SimpleLSTM(num_nodes=len(node2idx), num_goals=len(goal2idx)).to(device)\n",
    "optimizer = torch.optim.Adam(lstm_model.parameters(), lr=1e-3)  # Learning rate =0.001\n",
    "train_lstm_model(lstm_model, lstm_loader, optimizer, device, num_epochs=10)"
   ]
  },
  {
   "cell_type": "code",
   "execution_count": 37,
   "id": "1ba8aa90",
   "metadata": {},
   "outputs": [
    {
     "name": "stdout",
     "output_type": "stream",
     "text": [
      "Evaluation accuracy: 0.9983\n"
     ]
    },
    {
     "data": {
      "text/plain": [
       "0.99835"
      ]
     },
     "execution_count": 37,
     "metadata": {},
     "output_type": "execute_result"
    }
   ],
   "source": [
    "# Evaluate the model\n",
    "evaluate_lstm_model(lstm_model, lstm_loader, device)"
   ]
  },
  {
   "cell_type": "code",
   "execution_count": 38,
   "id": "c1850fa2",
   "metadata": {},
   "outputs": [],
   "source": [
    "# Compute posteriors along paths for all agents/episodes\n",
    "lstm_posteriors = {}\n",
    "\n",
    "for episode in range(len(goal_data)):\n",
    "    lstm_posteriors[episode] = {}\n",
    "    for agent in agents:\n",
    "        if agent.id not in test_agent_ids:\n",
    "            continue\n",
    "        # Filter path to only include valid nodes in node2idx\n",
    "        path = [n for n in path_data[episode][agent.id] if n in node2idx]\n",
    "        posteriors_along_path = []\n",
    "        for t in range(1, len(path)+1):\n",
    "            subpath = path[:t]\n",
    "            posterior = predict_goal_posterior(lstm_model, subpath, node2idx, goal2idx, device)\n",
    "            posteriors_along_path.append(posterior)\n",
    "        lstm_posteriors[episode][agent.id] = posteriors_along_path"
   ]
  },
  {
   "cell_type": "code",
   "execution_count": 40,
   "id": "e145f27f",
   "metadata": {},
   "outputs": [],
   "source": [
    "import pickle\n",
    "with open('./../data/data_utils/lstm_posteriors.pkl', 'wb') as f:\n",
    "    pickle.dump(lstm_posteriors, f)\n",
    "\n",
    "import json\n",
    "with open('./../data/data_utils/lstm_posteriors.json', 'w') as f:\n",
    "    json.dump(lstm_posteriors, f, indent=2)"
   ]
  },
  {
   "cell_type": "markdown",
   "id": "b72c38d7",
   "metadata": {},
   "source": [
    "### GRU"
   ]
  },
  {
   "cell_type": "code",
   "execution_count": 41,
   "id": "631e03ee",
   "metadata": {},
   "outputs": [],
   "source": [
    "from real_world_src.models.gru import (\n",
    "    SimpleGRU, GRUDataset, gru_collate_fn,\n",
    "    train_gru_model, evaluate_gru_model, predict_goal_posterior_gru\n",
    ")\n",
    "from torch.utils.data import DataLoader"
   ]
  },
  {
   "cell_type": "code",
   "execution_count": 42,
   "id": "79ff7a0b",
   "metadata": {},
   "outputs": [],
   "source": [
    "# Prepare dataset and dataloader\n",
    "# Batch size = 32\n",
    "# Filter all paths to only include valid nodes in node2idx\n",
    "valid_gru_path_data = {}\n",
    "for episode in path_data:\n",
    "    valid_gru_path_data[episode] = {}\n",
    "    for agent_id, path in path_data[episode].items():\n",
    "        valid_path = [n for n in path if n in node2idx]\n",
    "        valid_gru_path_data[episode][agent_id] = valid_path\n",
    "\n",
    "gru_dataset = GRUDataset(valid_gru_path_data, goal_data, node2idx, goal2idx)\n",
    "gru_loader = DataLoader(gru_dataset, batch_size=32, shuffle=True, collate_fn=gru_collate_fn)"
   ]
  },
  {
   "cell_type": "code",
   "execution_count": 44,
   "id": "22e7980d",
   "metadata": {},
   "outputs": [],
   "source": [
    "if torch.backends.mps.is_available():\n",
    "    device = torch.device(\"mps\")\n",
    "elif torch.cuda.is_available():\n",
    "    device = torch.device(\"cuda:1\")\n",
    "else:\n",
    "    device = torch.device(\"cpu\")"
   ]
  },
  {
   "cell_type": "code",
   "execution_count": 45,
   "id": "ea2dc6ae",
   "metadata": {},
   "outputs": [
    {
     "name": "stdout",
     "output_type": "stream",
     "text": [
      "Epoch 1/10, Loss: 0.3435\n",
      "Epoch 2/10, Loss: 0.0136\n",
      "Epoch 3/10, Loss: 0.0007\n",
      "Epoch 4/10, Loss: 0.0001\n",
      "Epoch 5/10, Loss: 0.0000\n",
      "Epoch 6/10, Loss: 0.0000\n",
      "Epoch 7/10, Loss: 0.0047\n",
      "Epoch 8/10, Loss: 0.0001\n",
      "Epoch 9/10, Loss: 0.0000\n",
      "Epoch 10/10, Loss: 0.0000\n"
     ]
    }
   ],
   "source": [
    "# Instantiate and train the model\n",
    "gru_model = SimpleGRU(num_nodes=len(node2idx), num_goals=len(goal2idx)).to(device)\n",
    "optimizer = torch.optim.Adam(gru_model.parameters(), lr=1e-3)\n",
    "train_gru_model(gru_model, gru_loader, optimizer, device, num_epochs=10)"
   ]
  },
  {
   "cell_type": "code",
   "execution_count": 46,
   "id": "af17408b",
   "metadata": {},
   "outputs": [
    {
     "name": "stdout",
     "output_type": "stream",
     "text": [
      "Evaluation accuracy: 1.0000\n"
     ]
    },
    {
     "data": {
      "text/plain": [
       "1.0"
      ]
     },
     "execution_count": 46,
     "metadata": {},
     "output_type": "execute_result"
    }
   ],
   "source": [
    "# Evaluate the model\n",
    "evaluate_gru_model(gru_model, gru_loader, device)"
   ]
  },
  {
   "cell_type": "code",
   "execution_count": 47,
   "id": "a82df9b4",
   "metadata": {},
   "outputs": [],
   "source": [
    "from tqdm import tqdm"
   ]
  },
  {
   "cell_type": "code",
   "execution_count": 48,
   "id": "4870010a",
   "metadata": {},
   "outputs": [
    {
     "name": "stderr",
     "output_type": "stream",
     "text": [
      "Episode: 100%|██████████| 1000/1000 [04:47<00:00,  3.48it/s]\n"
     ]
    }
   ],
   "source": [
    "# Compute posteriors along paths for all test agents/episodes\n",
    "# Define test_agent_ids for GRU evaluation (use same split as ToMNet)\n",
    "n_test = int(0.2 * len(agents))\n",
    "test_agent_ids = [agent.id for agent in agents[-n_test:]]\n",
    "\n",
    "gru_posteriors = {}\n",
    "for episode in tqdm(range(len(goal_data)), desc=\"Episode\"):\n",
    "    gru_posteriors[episode] = {}\n",
    "    for agent in agents:\n",
    "        if agent.id not in test_agent_ids:\n",
    "            continue\n",
    "        # Filter path to only include valid nodes in node2idx\n",
    "        path = [n for n in path_data[episode][agent.id] if n in node2idx]\n",
    "        posteriors_along_path = []\n",
    "        for t in range(1, len(path)+1):\n",
    "            subpath = path[:t]\n",
    "            posterior = predict_goal_posterior_gru(gru_model, subpath, node2idx, goal2idx, device)\n",
    "            posteriors_along_path.append(posterior)\n",
    "        gru_posteriors[episode][agent.id] = posteriors_along_path"
   ]
  },
  {
   "cell_type": "code",
   "execution_count": 49,
   "id": "7096b8c6",
   "metadata": {},
   "outputs": [],
   "source": [
    "import pickle\n",
    "with open('./../data/data_utils/gru_posteriors.pkl', 'wb') as f:\n",
    "    pickle.dump(gru_posteriors, f)\n",
    "\n",
    "import json\n",
    "with open('./../data/data_utils/gru_posteriors.json', 'w') as f:\n",
    "    json.dump(gru_posteriors, f, indent=2)"
   ]
  },
  {
   "cell_type": "markdown",
   "id": "f6b00a96-79c5-4e65-ad02-90d024d1b819",
   "metadata": {},
   "source": [
    "### ToMNet"
   ]
  },
  {
   "cell_type": "code",
   "execution_count": 66,
   "id": "49eea85d-7ef1-4956-879a-3b2af63289fb",
   "metadata": {},
   "outputs": [],
   "source": [
    "from real_world_src.models.tomnet import ToMNet, ToMNetDataset, tomnet_collate_fn, infer_goal_dists\n",
    "from torch.utils.data import Dataset, DataLoader\n"
   ]
  },
  {
   "cell_type": "code",
   "execution_count": 67,
   "id": "02e80f0c-dc03-4e62-adca-230c75cc1b96",
   "metadata": {},
   "outputs": [],
   "source": [
    "def get_posterior_format(dists):\n",
    "    idx2goal = { idx: goal for goal, idx in goal2idx.items() }\n",
    "    goal_posterior = [ {idx2goal[i]: float(p) for i, p in enumerate(prob_row) } for prob_row in dists]\n",
    "    return goal_posterior"
   ]
  },
  {
   "cell_type": "code",
   "execution_count": 68,
   "id": "e2fbd954",
   "metadata": {},
   "outputs": [
    {
     "name": "stdout",
     "output_type": "stream",
     "text": [
      "Number of nodes in node2idx: 3185\n"
     ]
    }
   ],
   "source": [
    "# build node2idx so that every node in campus.G_undirected maps to 0…V−1\n",
    "all_nodes = set()\n",
    "for episode in path_data.values():\n",
    "    for path in episode.values():\n",
    "        if isinstance(path, (list, tuple, set)):\n",
    "            all_nodes.update(path)\n",
    "        else:\n",
    "            all_nodes.add(path)\n",
    "all_nodes.update(campus.G_undirected.nodes())\n",
    "all_nodes = list(all_nodes)\n",
    "\n",
    "node2idx = {n: i for i, n in enumerate(all_nodes)}\n",
    "print(f\"Number of nodes in node2idx: {len(node2idx)}\")\n",
    "\n",
    "V = len(all_nodes)\n",
    "\n",
    "# build goal2idx likewise for your goals list\n",
    "goal2idx = {g:i for i,g in enumerate(goals)}\n",
    "G = len(goals)"
   ]
  },
  {
   "cell_type": "code",
   "execution_count": 69,
   "id": "261da935-1a0e-43fd-89a1-ccd3e1cfa3cb",
   "metadata": {},
   "outputs": [
    {
     "data": {
      "text/plain": [
       "ToMNet(\n",
       "  (char_net): CharacterNet(\n",
       "    (embedding): Embedding(3185, 64, padding_idx=0)\n",
       "    (lstm): LSTM(64, 64, batch_first=True)\n",
       "    (layer_norm): LayerNorm((64,), eps=1e-05, elementwise_affine=True)\n",
       "    (dropout): Dropout(p=0.5, inplace=False)\n",
       "    (fc_mu): Linear(in_features=64, out_features=64, bias=True)\n",
       "    (fc_logvar): Linear(in_features=64, out_features=64, bias=True)\n",
       "  )\n",
       "  (mental_net): MentalNet(\n",
       "    (embedding): Embedding(3185, 64, padding_idx=0)\n",
       "    (lstm): LSTM(64, 64, batch_first=True, bidirectional=True)\n",
       "    (layer_norm): LayerNorm((128,), eps=1e-05, elementwise_affine=True)\n",
       "    (dropout): Dropout(p=0.5, inplace=False)\n",
       "    (attn): Linear(in_features=128, out_features=1, bias=True)\n",
       "    (fc_mu): Linear(in_features=128, out_features=64, bias=True)\n",
       "    (fc_logvar): Linear(in_features=128, out_features=64, bias=True)\n",
       "  )\n",
       "  (embedding): Embedding(3185, 64, padding_idx=0)\n",
       "  (fusion): Sequential(\n",
       "    (0): Linear(in_features=192, out_features=128, bias=True)\n",
       "    (1): LayerNorm((128,), eps=1e-05, elementwise_affine=True)\n",
       "    (2): ReLU()\n",
       "    (3): Dropout(p=0.5, inplace=False)\n",
       "    (4): Linear(in_features=128, out_features=32, bias=True)\n",
       "    (5): LayerNorm((32,), eps=1e-05, elementwise_affine=True)\n",
       "    (6): ReLU()\n",
       "    (7): Dropout(p=0.5, inplace=False)\n",
       "  )\n",
       "  (goal_head): Linear(in_features=32, out_features=15, bias=True)\n",
       "  (next_head): Linear(in_features=32, out_features=3185, bias=True)\n",
       ")"
      ]
     },
     "execution_count": 69,
     "metadata": {},
     "output_type": "execute_result"
    }
   ],
   "source": [
    "device = 'cuda:1'\n",
    "\n",
    "# the values you trained with:\n",
    "K     = 10\n",
    "T_sup = 75\n",
    "T_q   = 20\n",
    "\n",
    "node2vec_embedding = np.load(\"./../data/data_utils/node2vec_embeddings_3185.npy\")\n",
    "\n",
    "model = ToMNet(\n",
    "    node_embeddings = node2vec_embedding,\n",
    "    num_nodes = len(all_nodes),\n",
    "    #num_nodes=3108,\n",
    "    num_goals = len(goals),\n",
    "    K     = K,\n",
    "    T_sup = T_sup,\n",
    "    T_q   = T_q,\n",
    ").to(device)\n",
    "\n",
    "state_dict = torch.load(\n",
    "    \"./../trained_models/New_Tomnet_1k_3185_2ep.pth\",\n",
    "    map_location=device\n",
    ")\n",
    "model.load_state_dict(state_dict)\n",
    "model.eval()"
   ]
  },
  {
   "cell_type": "code",
   "execution_count": 70,
   "id": "9a4b4035",
   "metadata": {},
   "outputs": [
    {
     "name": "stdout",
     "output_type": "stream",
     "text": [
      "Number of nodes in node2idx: 3185\n"
     ]
    }
   ],
   "source": [
    "all_nodes = set()\n",
    "for episode in path_data.values():\n",
    "    for path in episode.values():\n",
    "        if isinstance(path, (list, tuple, set)):\n",
    "            all_nodes.update(path)\n",
    "        else:\n",
    "            all_nodes.add(path)\n",
    "all_nodes.update(campus.G_undirected.nodes())\n",
    "all_nodes = list(all_nodes)\n",
    "node2idx = {n: i for i, n in enumerate(all_nodes)}\n",
    "print(f\"Number of nodes in node2idx: {len(node2idx)}\")"
   ]
  },
  {
   "cell_type": "markdown",
   "id": "3aa0ea43-0e72-43ac-b196-55f8d025f55d",
   "metadata": {},
   "source": [
    "Preparing ToMNet for evaluation"
   ]
  },
  {
   "cell_type": "code",
   "execution_count": 71,
   "id": "cde4b619-66eb-41f4-abac-6db05748f18f",
   "metadata": {},
   "outputs": [
    {
     "data": {
      "text/plain": [
       "device(type='cuda', index=1)"
      ]
     },
     "execution_count": 71,
     "metadata": {},
     "output_type": "execute_result"
    }
   ],
   "source": [
    "if torch.backends.mps.is_available():\n",
    "    device = torch.device(\"mps\")\n",
    "elif torch.cuda.is_available():\n",
    "    device = torch.device(\"cuda:1\")\n",
    "else:\n",
    "    device = torch.device(\"cpu\")\n",
    "device"
   ]
  },
  {
   "cell_type": "code",
   "execution_count": 72,
   "id": "1462ee99-9823-4817-8174-5a3eac664215",
   "metadata": {},
   "outputs": [],
   "source": [
    "from tqdm import tqdm"
   ]
  },
  {
   "cell_type": "markdown",
   "id": "72b2f03a-fe7f-4707-8eaf-0ab71aacadef",
   "metadata": {},
   "source": [
    "Getting posteriors for test data"
   ]
  },
  {
   "cell_type": "code",
   "execution_count": 73,
   "id": "8bb92c8c",
   "metadata": {},
   "outputs": [],
   "source": [
    "n_test = int(0.2 * len(agents))\n",
    "test_agent_ids = [agent.id for agent in agents[-n_test:]]"
   ]
  },
  {
   "cell_type": "code",
   "execution_count": 74,
   "id": "eabefa40-38fb-4f6a-8b7a-3263cedcf687",
   "metadata": {},
   "outputs": [
    {
     "name": "stderr",
     "output_type": "stream",
     "text": [
      "Episode:   0%|          | 0/1000 [00:00<?, ?it/s]"
     ]
    },
    {
     "name": "stderr",
     "output_type": "stream",
     "text": [
      "Episode: 100%|██████████| 1000/1000 [28:56<00:00,  1.74s/it]\n"
     ]
    }
   ],
   "source": [
    "tomnet_posteriors = {}\n",
    "\n",
    "for episode in tqdm(range(len(goal_data)), desc=\"Episode\"):\n",
    "    tomnet_posteriors[episode] = {}\n",
    "    for agent in agents:\n",
    "        if agent.id not in test_agent_ids:\n",
    "            continue\n",
    "        dists = infer_goal_dists(model, agent.id, episode, path_data, node2idx, goal2idx, K=10, T_sup=75, T_q=20, device=device)\n",
    "        tomnet_posteriors[episode][agent.id] = get_posterior_format(dists)"
   ]
  },
  {
   "cell_type": "code",
   "execution_count": 75,
   "id": "a1b31abe-b911-429c-b89e-199f8f7fa9ef",
   "metadata": {},
   "outputs": [],
   "source": [
    "import pickle\n",
    "with open('./../data/data_utils/tomnet_posteriors.pkl', 'wb') as f:\n",
    "    pickle.dump(tomnet_posteriors, f)\n",
    "\n",
    "import json\n",
    "with open('./../data/data_utils/tomnet_posteriors.json', 'w') as f:\n",
    "    json.dump(tomnet_posteriors, f, indent=2)"
   ]
  },
  {
   "cell_type": "markdown",
   "id": "4fb14d28",
   "metadata": {},
   "source": [
    "### SOTA: Our Model"
   ]
  },
  {
   "cell_type": "code",
   "execution_count": 76,
   "id": "86577a1e",
   "metadata": {},
   "outputs": [],
   "source": [
    "# Import our novel SOTA model components\n",
    "from real_world_src.models.tomnet_causal_trainer import TomNetCausal, train_pipeline\n",
    "from real_world_src.models.tomnet_causal_dataloader import CampusDataLoader\n",
    "import torch\n",
    "import torch.nn.functional as F\n",
    "from tqdm import tqdm"
   ]
  },
  {
   "cell_type": "code",
   "execution_count": 77,
   "id": "43a82ff0",
   "metadata": {},
   "outputs": [
    {
     "name": "stdout",
     "output_type": "stream",
     "text": [
      "Using device: cuda:1\n"
     ]
    }
   ],
   "source": [
    "if torch.backends.mps.is_available():\n",
    "    device = torch.device(\"mps\")\n",
    "elif torch.cuda.is_available():\n",
    "    device = torch.device(\"cuda:1\")\n",
    "else:\n",
    "    device = torch.device(\"cpu\")\n",
    "print(f\"Using device: {device}\")"
   ]
  },
  {
   "cell_type": "code",
   "execution_count": 78,
   "id": "cfed2618",
   "metadata": {},
   "outputs": [
    {
     "name": "stdout",
     "output_type": "stream",
     "text": [
      "Initializing CampusDataLoader for TomNetCausal evaluation...\n",
      "Loading campus environment...\n",
      "Loading graph from ucsd_campus.graphml...\n"
     ]
    },
    {
     "name": "stdout",
     "output_type": "stream",
     "text": [
      "Environment loaded with 3151 nodes and 8746 edges\n",
      "Loading agents...\n",
      "Loaded 100 agents\n",
      "Loading path data...\n",
      "Path data keys: 1000\n",
      "Loading goal data...\n",
      "Goal data keys: 1000\n",
      "Loading node_id_mapping from ./../data/1k/node_mapping_3185.pkl\n",
      "Loaded node_id_mapping with 3185 nodes.\n",
      "[EVAL] Using fixed node_id_mapping with 3185 nodes.\n",
      "Node ID range: 48865150 to 13015886764\n",
      "Sequential range: 0 to 3184\n"
     ]
    }
   ],
   "source": [
    "# Check if node mapping exists, if not create it first\n",
    "node_mapping_path = \"./../data/1k/node_mapping_3185.pkl\"\n",
    "if not os.path.exists(node_mapping_path):\n",
    "    print(\"Node mapping not found. Creating it first...\")\n",
    "    # Initialize data loader in train mode to create the mapping\n",
    "    data_loader_train = CampusDataLoader(\n",
    "        data_dir=\"./../data/1k/\",\n",
    "        node_mapping_path=None,\n",
    "        save_node_mapping_path=node_mapping_path,\n",
    "        mode='train'\n",
    "    )\n",
    "    print(\"Node mapping created successfully!\")\n",
    "\n",
    "# Now initialize data loader for evaluation\n",
    "print(\"Initializing CampusDataLoader for TomNetCausal evaluation...\")\n",
    "data_loader = CampusDataLoader(\n",
    "    data_dir=\"./../data/1k/\",\n",
    "    node_mapping_path=node_mapping_path,\n",
    "    save_node_mapping_path=node_mapping_path,\n",
    "    mode='eval'\n",
    ")"
   ]
  },
  {
   "cell_type": "code",
   "execution_count": null,
   "id": "52d27b12",
   "metadata": {},
   "outputs": [
    {
     "name": "stdout",
     "output_type": "stream",
     "text": [
      "Number of nodes: 3185\n",
      "Preparing graph data...\n"
     ]
    }
   ],
   "source": [
    "# Get data dimensions\n",
    "path_data_causal = data_loader.path_data\n",
    "goal_data_causal = data_loader.goal_data\n",
    "node_id_mapping = data_loader.node_id_mapping\n",
    "num_nodes = len(node_id_mapping)\n",
    "print(f\"Number of nodes: {num_nodes}\")\n",
    "\n",
    "# Prepare graph data\n",
    "print(\"Preparing graph data...\")\n",
    "graph_data = data_loader.prepare_graph_data(\n",
    "    save_cuda_path='./../data/1k/graph_data_cuda.pt',\n",
    "    device=device\n",
    ")"
   ]
  },
  {
   "cell_type": "code",
   "execution_count": 80,
   "id": "26c9a427",
   "metadata": {},
   "outputs": [
    {
     "name": "stdout",
     "output_type": "stream",
     "text": [
      "Initializing TomNetCausal model...\n",
      "num_nodes for model: 3185\n"
     ]
    }
   ],
   "source": [
    "# filepath: /root/Theory-of-mind/notebooks/Campus_Experiment_0.ipynb\n",
    "print(\"Initializing TomNetCausal model...\")\n",
    "num_nodes = len(node_id_mapping)  # Should be 3185 for your checkpoint!\n",
    "print(f\"num_nodes for model: {num_nodes}\")\n",
    "model = TomNetCausal(\n",
    "    node_feat_dim=4,\n",
    "    num_nodes=num_nodes,\n",
    "    time_emb_dim=16,\n",
    "    hidden_dim=128,\n",
    "    latent_dim=32,\n",
    "    n_layers=2,\n",
    "    n_heads=4,\n",
    "    dropout=0.1,\n",
    "    use_gat=True\n",
    ").to(device)"
   ]
  },
  {
   "cell_type": "code",
   "execution_count": 85,
   "id": "b296fa62",
   "metadata": {},
   "outputs": [
    {
     "name": "stdout",
     "output_type": "stream",
     "text": [
      "Loading pre-trained model from ./../trained_models/new_node_mapped_tomnet_causal_model_1k_3185.pth\n"
     ]
    }
   ],
   "source": [
    "model_path = \"./../trained_models/new_node_mapped_tomnet_causal_model_1k_3185.pth\"\n",
    "if os.path.exists(model_path):\n",
    "    print(f\"Loading pre-trained model from {model_path}\")\n",
    "else:\n",
    "    print(\"sorry\")"
   ]
  },
  {
   "cell_type": "code",
   "execution_count": 86,
   "id": "6ee7bc2c",
   "metadata": {},
   "outputs": [
    {
     "name": "stdout",
     "output_type": "stream",
     "text": [
      "Loading pre-trained model from ./../trained_models/new_node_mapped_tomnet_causal_model_1k_3185.pth\n"
     ]
    }
   ],
   "source": [
    "model_path = \"./../trained_models/new_node_mapped_tomnet_causal_model_1k_3185.pth\"\n",
    "if os.path.exists(model_path):\n",
    "    print(f\"Loading pre-trained model from {model_path}\")\n",
    "    checkpoint = torch.load(model_path, map_location=device)\n",
    "    # Try loading with strict=False to skip mismatched layers\n",
    "    missing, unexpected = model.load_state_dict(checkpoint, strict=False)\n",
    "    if missing:\n",
    "        print(\"WARNING: Missing keys in state_dict:\", missing)\n",
    "    if unexpected:\n",
    "        print(\"WARNING: Unexpected keys in state_dict:\", unexpected)\n",
    "    model.eval()\n",
    "else:\n",
    "    print(\"No pre-trained model found. Training from scratch...\")\n",
    "    # Train the model using the pipeline\n",
    "    train_pipeline(\n",
    "        epochs=10,\n",
    "        batch_size=2048,\n",
    "        log_wandb=False,\n",
    "        max_seq_len=100,\n",
    "        top_k=5,\n",
    "        gpu=1 if torch.cuda.is_available() else None,\n",
    "        data_dir=\"./../data/1k/\",\n",
    "        node_mapping_path=node_mapping_path,\n",
    "        save_node_mapping_path=node_mapping_path,\n",
    "        save_model=True,\n",
    "        model_save_name=\"new_node_mapped_tomnet_causal_model_1k_3185.pth\"\n",
    "    )"
   ]
  },
  {
   "cell_type": "code",
   "execution_count": 87,
   "id": "1cc053a9",
   "metadata": {},
   "outputs": [],
   "source": [
    "# --- Posterior calculator for TomNetCausal (SOTA) model ---\n",
    "from tqdm import tqdm\n",
    "\n",
    "def get_tomnet_causal_posterior_format(dists, goals):\n",
    "    \"\"\"\n",
    "    Convert list of posterior arrays to list of {goal: prob} dicts.\n",
    "    \"\"\"\n",
    "    return [\n",
    "        {goal: float(prob[i]) for i, goal in enumerate(goals)}\n",
    "        for prob in dists\n",
    "    ]\n",
    "\n",
    "def infer_tomnet_causal_goal_dists(\n",
    "    model, agent_id, episode, path_data, node_id_mapping, goals, graph_data, max_seq_len=100, device='cpu'\n",
    "):\n",
    "    \"\"\"\n",
    "    Compute posteriors for each prefix of the agent's path in the given episode.\n",
    "    Returns a list of arrays (one per prefix), each array is [num_goals] (ordered as in `goals`).\n",
    "    \"\"\"\n",
    "    model.eval()\n",
    "    if agent_id not in path_data.get(episode, {}):\n",
    "        return []\n",
    "    path = path_data[episode][agent_id]\n",
    "    valid_path = [n for n in path if n in node_id_mapping]\n",
    "    if len(valid_path) < 2:\n",
    "        return []\n",
    "    dists = []\n",
    "    with torch.no_grad():\n",
    "        for t in range(1, min(len(valid_path)+1, max_seq_len+1)):\n",
    "            partial_path = valid_path[:t]\n",
    "            path_indices = [node_id_mapping[n] for n in partial_path]\n",
    "            # Pad to max_seq_len\n",
    "            if len(path_indices) < max_seq_len:\n",
    "                path_indices = path_indices + [0] * (max_seq_len - len(path_indices))\n",
    "            trajectory_data = {\n",
    "                'node_ids': torch.tensor([path_indices], dtype=torch.long).to(device),\n",
    "                'timestamps': torch.arange(len(path_indices), dtype=torch.float).unsqueeze(0).to(device),\n",
    "                'mask': torch.ones(1, len(path_indices), dtype=torch.bool).to(device)\n",
    "            }\n",
    "            latents, fused, logits = model(trajectory_data, graph_data)\n",
    "            probs = torch.softmax(logits, dim=-1)\n",
    "            # Extract probabilities for the goal nodes in order\n",
    "            goal_probs = []\n",
    "            for goal in goals:\n",
    "                if goal in node_id_mapping:\n",
    "                    goal_idx = node_id_mapping[goal]\n",
    "                    if goal_idx < probs.shape[1]:\n",
    "                        goal_probs.append(float(probs[0, goal_idx]))\n",
    "                    else:\n",
    "                        goal_probs.append(0.0)\n",
    "                else:\n",
    "                    goal_probs.append(0.0)\n",
    "            dists.append(goal_probs)\n",
    "    return dists\n"
   ]
  },
  {
   "cell_type": "code",
   "execution_count": null,
   "id": "1f59e62a",
   "metadata": {},
   "outputs": [
    {
     "name": "stderr",
     "output_type": "stream",
     "text": [
      "TomNetCausal Episode: 100%|██████████| 1000/1000 [00:04<00:00, 235.54it/s]\n"
     ]
    }
   ],
   "source": [
    "tomnet_causal_posteriors = {}\n",
    "\n",
    "for episode in tqdm(range(len(goal_data)), desc=\"TomNetCausal Episode\"):\n",
    "    tomnet_causal_posteriors[episode] = {}\n",
    "    for agent in agents:\n",
    "        if agent.id not in test_agent_ids:\n",
    "            continue\n",
    "        dists = infer_tomnet_causal_goal_dists(\n",
    "            model, agent.id, episode, path_data_causal, node_id_mapping, goals, graph_data, max_seq_len=100, device=device\n",
    "        )\n",
    "        if dists:\n",
    "            tomnet_causal_posteriors[episode][agent.id] = get_tomnet_causal_posterior_format(dists, goals)"
   ]
  },
  {
   "cell_type": "code",
   "execution_count": 89,
   "id": "ed30d7f5",
   "metadata": {},
   "outputs": [],
   "source": [
    "# def predict_tomnet_causal_posteriors(model, agent_id, episode, path_data, goal_data, node_id_mapping, goals, max_seq_len=100):\n",
    "#     \"\"\"\n",
    "#     Predict goal posteriors for a partial trajectory using TomNetCausal.\n",
    "    \n",
    "#     Args:\n",
    "#         model: TomNetCausal model\n",
    "#         agent_id: Agent ID\n",
    "#         episode: Episode number\n",
    "#         path_data: Path data dictionary\n",
    "#         goal_data: Goal data dictionary\n",
    "#         node_id_mapping: Node ID mapping\n",
    "#         goals: List of goal nodes\n",
    "#         max_seq_len: Maximum sequence length\n",
    "    \n",
    "#     Returns:\n",
    "#         List of posterior distributions for each step along the path\n",
    "#     \"\"\"\n",
    "#     if agent_id not in path_data.get(episode, {}):\n",
    "#         return []\n",
    "    \n",
    "#     path = path_data[episode][agent_id]\n",
    "#     # Filter to valid nodes\n",
    "#     valid_path = [n for n in path if n in node_id_mapping]\n",
    "#     if len(valid_path) < 2:\n",
    "#         return []\n",
    "    \n",
    "#     posteriors = []\n",
    "#     model.eval()\n",
    "    \n",
    "#     with torch.no_grad():\n",
    "#         for t in range(1, min(len(valid_path) + 1, max_seq_len + 1)):\n",
    "#             # Get partial trajectory\n",
    "#             partial_path = valid_path[:t]\n",
    "            \n",
    "#             # Convert to indices\n",
    "#             path_indices = [node_id_mapping[n] for n in partial_path]\n",
    "            \n",
    "#             # Pad sequence\n",
    "#             if len(path_indices) < max_seq_len:\n",
    "#                 path_indices = path_indices + [0] * (max_seq_len - len(path_indices))\n",
    "            \n",
    "#             # Prepare trajectory data\n",
    "#             trajectory_data = {\n",
    "#                 'node_ids': torch.tensor([path_indices], dtype=torch.long).to(device),\n",
    "#                 'timestamps': torch.arange(len(path_indices), dtype=torch.float).unsqueeze(0).to(device),\n",
    "#                 'mask': torch.ones(1, len(path_indices), dtype=torch.bool).to(device)\n",
    "#             }\n",
    "            \n",
    "#             # Forward pass\n",
    "#             latents, fused, logits = model(trajectory_data, graph_data)\n",
    "            \n",
    "#             # Get probabilities\n",
    "#             probs = F.softmax(logits, dim=-1)\n",
    "            \n",
    "#             # Convert to goal posterior format\n",
    "#             goal_posterior = {}\n",
    "#             for i, goal in enumerate(goals):\n",
    "#                 if goal in node_id_mapping:\n",
    "#                     goal_idx = node_id_mapping[goal]\n",
    "#                     if goal_idx < probs.shape[1]:\n",
    "#                         goal_posterior[goal] = float(probs[0, goal_idx])\n",
    "#                     else:\n",
    "#                         goal_posterior[goal] = 0.0\n",
    "#                 else:\n",
    "#                     goal_posterior[goal] = 0.0\n",
    "            \n",
    "#             posteriors.append(goal_posterior)\n",
    "    \n",
    "#     return posteriors"
   ]
  },
  {
   "cell_type": "code",
   "execution_count": 90,
   "id": "12fe92c2",
   "metadata": {},
   "outputs": [],
   "source": [
    "# # Compute posteriors for test agents\n",
    "# print(\"Computing TomNetCausal posteriors for test agents...\")\n",
    "# n_test = int(0.2 * len(agents))\n",
    "# test_agent_ids = [agent.id for agent in agents[-n_test:]]\n",
    "\n",
    "# tomnet_causal_posteriors = {}\n",
    "\n",
    "# for episode in tqdm(range(len(goal_data)), desc=\"TomNetCausal Episode\"):\n",
    "#     tomnet_causal_posteriors[episode] = {}\n",
    "#     for agent in agents:\n",
    "#         if agent.id not in test_agent_ids:\n",
    "#             continue\n",
    "#         if agent.id not in path_data.get(episode, {}):\n",
    "#             print(f\"Agent {agent.id} not in path_data for episode {episode}\")\n",
    "#             continue\n",
    "#         path = path_data[episode][agent.id]\n",
    "#         valid_path = [n for n in path if n in node_id_mapping]\n",
    "#         if len(valid_path) < 2:\n",
    "#             print(f\"Agent {agent.id} in episode {episode} has too short/invalid path: {valid_path}\")\n",
    "#             continue\n",
    "        \n",
    "#         posteriors = predict_tomnet_causal_posteriors(\n",
    "#             model, \n",
    "#             agent.id, \n",
    "#             episode, \n",
    "#             path_data, \n",
    "#             goal_data, \n",
    "#             node_id_mapping, \n",
    "#             goals\n",
    "#         )\n",
    "        \n",
    "#         if posteriors:  # Only add if we got valid posteriors\n",
    "#             tomnet_causal_posteriors[episode][agent.id] = posteriors"
   ]
  },
  {
   "cell_type": "code",
   "execution_count": 92,
   "id": "4766edd4",
   "metadata": {},
   "outputs": [
    {
     "name": "stdout",
     "output_type": "stream",
     "text": [
      "{0: {}, 1: {}, 2: {}, 3: {}, 4: {}, 5: {}, 6: {}, 7: {}, 8: {}, 9: {}, 10: {}, 11: {}, 12: {}, 13: {}, 14: {}, 15: {}, 16: {}, 17: {}, 18: {}, 19: {}, 20: {}, 21: {}, 22: {}, 23: {}, 24: {}, 25: {}, 26: {}, 27: {}, 28: {}, 29: {}, 30: {}, 31: {}, 32: {}, 33: {}, 34: {}, 35: {}, 36: {}, 37: {}, 38: {}, 39: {}, 40: {}, 41: {}, 42: {}, 43: {}, 44: {}, 45: {}, 46: {}, 47: {}, 48: {}, 49: {}, 50: {}, 51: {}, 52: {}, 53: {}, 54: {}, 55: {}, 56: {}, 57: {}, 58: {}, 59: {}, 60: {}, 61: {}, 62: {}, 63: {}, 64: {}, 65: {}, 66: {}, 67: {}, 68: {}, 69: {}, 70: {}, 71: {}, 72: {}, 73: {}, 74: {}, 75: {}, 76: {}, 77: {}, 78: {}, 79: {}, 80: {}, 81: {}, 82: {}, 83: {}, 84: {}, 85: {}, 86: {}, 87: {}, 88: {}, 89: {}, 90: {}, 91: {}, 92: {}, 93: {}, 94: {}, 95: {}, 96: {}, 97: {}, 98: {}, 99: {}, 100: {}, 101: {}, 102: {}, 103: {}, 104: {}, 105: {}, 106: {}, 107: {}, 108: {}, 109: {}, 110: {}, 111: {}, 112: {}, 113: {}, 114: {}, 115: {}, 116: {}, 117: {}, 118: {}, 119: {}, 120: {}, 121: {}, 122: {}, 123: {}, 124: {}, 125: {}, 126: {}, 127: {}, 128: {}, 129: {}, 130: {}, 131: {}, 132: {}, 133: {}, 134: {}, 135: {}, 136: {}, 137: {}, 138: {}, 139: {}, 140: {}, 141: {}, 142: {}, 143: {}, 144: {}, 145: {}, 146: {}, 147: {}, 148: {}, 149: {}, 150: {}, 151: {}, 152: {}, 153: {}, 154: {}, 155: {}, 156: {}, 157: {}, 158: {}, 159: {}, 160: {}, 161: {}, 162: {}, 163: {}, 164: {}, 165: {}, 166: {}, 167: {}, 168: {}, 169: {}, 170: {}, 171: {}, 172: {}, 173: {}, 174: {}, 175: {}, 176: {}, 177: {}, 178: {}, 179: {}, 180: {}, 181: {}, 182: {}, 183: {}, 184: {}, 185: {}, 186: {}, 187: {}, 188: {}, 189: {}, 190: {}, 191: {}, 192: {}, 193: {}, 194: {}, 195: {}, 196: {}, 197: {}, 198: {}, 199: {}, 200: {}, 201: {}, 202: {}, 203: {}, 204: {}, 205: {}, 206: {}, 207: {}, 208: {}, 209: {}, 210: {}, 211: {}, 212: {}, 213: {}, 214: {}, 215: {}, 216: {}, 217: {}, 218: {}, 219: {}, 220: {}, 221: {}, 222: {}, 223: {}, 224: {}, 225: {}, 226: {}, 227: {}, 228: {}, 229: {}, 230: {}, 231: {}, 232: {}, 233: {}, 234: {}, 235: {}, 236: {}, 237: {}, 238: {}, 239: {}, 240: {}, 241: {}, 242: {}, 243: {}, 244: {}, 245: {}, 246: {}, 247: {}, 248: {}, 249: {}, 250: {}, 251: {}, 252: {}, 253: {}, 254: {}, 255: {}, 256: {}, 257: {}, 258: {}, 259: {}, 260: {}, 261: {}, 262: {}, 263: {}, 264: {}, 265: {}, 266: {}, 267: {}, 268: {}, 269: {}, 270: {}, 271: {}, 272: {}, 273: {}, 274: {}, 275: {}, 276: {}, 277: {}, 278: {}, 279: {}, 280: {}, 281: {}, 282: {}, 283: {}, 284: {}, 285: {}, 286: {}, 287: {}, 288: {}, 289: {}, 290: {}, 291: {}, 292: {}, 293: {}, 294: {}, 295: {}, 296: {}, 297: {}, 298: {}, 299: {}, 300: {}, 301: {}, 302: {}, 303: {}, 304: {}, 305: {}, 306: {}, 307: {}, 308: {}, 309: {}, 310: {}, 311: {}, 312: {}, 313: {}, 314: {}, 315: {}, 316: {}, 317: {}, 318: {}, 319: {}, 320: {}, 321: {}, 322: {}, 323: {}, 324: {}, 325: {}, 326: {}, 327: {}, 328: {}, 329: {}, 330: {}, 331: {}, 332: {}, 333: {}, 334: {}, 335: {}, 336: {}, 337: {}, 338: {}, 339: {}, 340: {}, 341: {}, 342: {}, 343: {}, 344: {}, 345: {}, 346: {}, 347: {}, 348: {}, 349: {}, 350: {}, 351: {}, 352: {}, 353: {}, 354: {}, 355: {}, 356: {}, 357: {}, 358: {}, 359: {}, 360: {}, 361: {}, 362: {}, 363: {}, 364: {}, 365: {}, 366: {}, 367: {}, 368: {}, 369: {}, 370: {}, 371: {}, 372: {}, 373: {}, 374: {}, 375: {}, 376: {}, 377: {}, 378: {}, 379: {}, 380: {}, 381: {}, 382: {}, 383: {}, 384: {}, 385: {}, 386: {}, 387: {}, 388: {}, 389: {}, 390: {}, 391: {}, 392: {}, 393: {}, 394: {}, 395: {}, 396: {}, 397: {}, 398: {}, 399: {}, 400: {}, 401: {}, 402: {}, 403: {}, 404: {}, 405: {}, 406: {}, 407: {}, 408: {}, 409: {}, 410: {}, 411: {}, 412: {}, 413: {}, 414: {}, 415: {}, 416: {}, 417: {}, 418: {}, 419: {}, 420: {}, 421: {}, 422: {}, 423: {}, 424: {}, 425: {}, 426: {}, 427: {}, 428: {}, 429: {}, 430: {}, 431: {}, 432: {}, 433: {}, 434: {}, 435: {}, 436: {}, 437: {}, 438: {}, 439: {}, 440: {}, 441: {}, 442: {}, 443: {}, 444: {}, 445: {}, 446: {}, 447: {}, 448: {}, 449: {}, 450: {}, 451: {}, 452: {}, 453: {}, 454: {}, 455: {}, 456: {}, 457: {}, 458: {}, 459: {}, 460: {}, 461: {}, 462: {}, 463: {}, 464: {}, 465: {}, 466: {}, 467: {}, 468: {}, 469: {}, 470: {}, 471: {}, 472: {}, 473: {}, 474: {}, 475: {}, 476: {}, 477: {}, 478: {}, 479: {}, 480: {}, 481: {}, 482: {}, 483: {}, 484: {}, 485: {}, 486: {}, 487: {}, 488: {}, 489: {}, 490: {}, 491: {}, 492: {}, 493: {}, 494: {}, 495: {}, 496: {}, 497: {}, 498: {}, 499: {}, 500: {}, 501: {}, 502: {}, 503: {}, 504: {}, 505: {}, 506: {}, 507: {}, 508: {}, 509: {}, 510: {}, 511: {}, 512: {}, 513: {}, 514: {}, 515: {}, 516: {}, 517: {}, 518: {}, 519: {}, 520: {}, 521: {}, 522: {}, 523: {}, 524: {}, 525: {}, 526: {}, 527: {}, 528: {}, 529: {}, 530: {}, 531: {}, 532: {}, 533: {}, 534: {}, 535: {}, 536: {}, 537: {}, 538: {}, 539: {}, 540: {}, 541: {}, 542: {}, 543: {}, 544: {}, 545: {}, 546: {}, 547: {}, 548: {}, 549: {}, 550: {}, 551: {}, 552: {}, 553: {}, 554: {}, 555: {}, 556: {}, 557: {}, 558: {}, 559: {}, 560: {}, 561: {}, 562: {}, 563: {}, 564: {}, 565: {}, 566: {}, 567: {}, 568: {}, 569: {}, 570: {}, 571: {}, 572: {}, 573: {}, 574: {}, 575: {}, 576: {}, 577: {}, 578: {}, 579: {}, 580: {}, 581: {}, 582: {}, 583: {}, 584: {}, 585: {}, 586: {}, 587: {}, 588: {}, 589: {}, 590: {}, 591: {}, 592: {}, 593: {}, 594: {}, 595: {}, 596: {}, 597: {}, 598: {}, 599: {}, 600: {}, 601: {}, 602: {}, 603: {}, 604: {}, 605: {}, 606: {}, 607: {}, 608: {}, 609: {}, 610: {}, 611: {}, 612: {}, 613: {}, 614: {}, 615: {}, 616: {}, 617: {}, 618: {}, 619: {}, 620: {}, 621: {}, 622: {}, 623: {}, 624: {}, 625: {}, 626: {}, 627: {}, 628: {}, 629: {}, 630: {}, 631: {}, 632: {}, 633: {}, 634: {}, 635: {}, 636: {}, 637: {}, 638: {}, 639: {}, 640: {}, 641: {}, 642: {}, 643: {}, 644: {}, 645: {}, 646: {}, 647: {}, 648: {}, 649: {}, 650: {}, 651: {}, 652: {}, 653: {}, 654: {}, 655: {}, 656: {}, 657: {}, 658: {}, 659: {}, 660: {}, 661: {}, 662: {}, 663: {}, 664: {}, 665: {}, 666: {}, 667: {}, 668: {}, 669: {}, 670: {}, 671: {}, 672: {}, 673: {}, 674: {}, 675: {}, 676: {}, 677: {}, 678: {}, 679: {}, 680: {}, 681: {}, 682: {}, 683: {}, 684: {}, 685: {}, 686: {}, 687: {}, 688: {}, 689: {}, 690: {}, 691: {}, 692: {}, 693: {}, 694: {}, 695: {}, 696: {}, 697: {}, 698: {}, 699: {}, 700: {}, 701: {}, 702: {}, 703: {}, 704: {}, 705: {}, 706: {}, 707: {}, 708: {}, 709: {}, 710: {}, 711: {}, 712: {}, 713: {}, 714: {}, 715: {}, 716: {}, 717: {}, 718: {}, 719: {}, 720: {}, 721: {}, 722: {}, 723: {}, 724: {}, 725: {}, 726: {}, 727: {}, 728: {}, 729: {}, 730: {}, 731: {}, 732: {}, 733: {}, 734: {}, 735: {}, 736: {}, 737: {}, 738: {}, 739: {}, 740: {}, 741: {}, 742: {}, 743: {}, 744: {}, 745: {}, 746: {}, 747: {}, 748: {}, 749: {}, 750: {}, 751: {}, 752: {}, 753: {}, 754: {}, 755: {}, 756: {}, 757: {}, 758: {}, 759: {}, 760: {}, 761: {}, 762: {}, 763: {}, 764: {}, 765: {}, 766: {}, 767: {}, 768: {}, 769: {}, 770: {}, 771: {}, 772: {}, 773: {}, 774: {}, 775: {}, 776: {}, 777: {}, 778: {}, 779: {}, 780: {}, 781: {}, 782: {}, 783: {}, 784: {}, 785: {}, 786: {}, 787: {}, 788: {}, 789: {}, 790: {}, 791: {}, 792: {}, 793: {}, 794: {}, 795: {}, 796: {}, 797: {}, 798: {}, 799: {}, 800: {}, 801: {}, 802: {}, 803: {}, 804: {}, 805: {}, 806: {}, 807: {}, 808: {}, 809: {}, 810: {}, 811: {}, 812: {}, 813: {}, 814: {}, 815: {}, 816: {}, 817: {}, 818: {}, 819: {}, 820: {}, 821: {}, 822: {}, 823: {}, 824: {}, 825: {}, 826: {}, 827: {}, 828: {}, 829: {}, 830: {}, 831: {}, 832: {}, 833: {}, 834: {}, 835: {}, 836: {}, 837: {}, 838: {}, 839: {}, 840: {}, 841: {}, 842: {}, 843: {}, 844: {}, 845: {}, 846: {}, 847: {}, 848: {}, 849: {}, 850: {}, 851: {}, 852: {}, 853: {}, 854: {}, 855: {}, 856: {}, 857: {}, 858: {}, 859: {}, 860: {}, 861: {}, 862: {}, 863: {}, 864: {}, 865: {}, 866: {}, 867: {}, 868: {}, 869: {}, 870: {}, 871: {}, 872: {}, 873: {}, 874: {}, 875: {}, 876: {}, 877: {}, 878: {}, 879: {}, 880: {}, 881: {}, 882: {}, 883: {}, 884: {}, 885: {}, 886: {}, 887: {}, 888: {}, 889: {}, 890: {}, 891: {}, 892: {}, 893: {}, 894: {}, 895: {}, 896: {}, 897: {}, 898: {}, 899: {}, 900: {}, 901: {}, 902: {}, 903: {}, 904: {}, 905: {}, 906: {}, 907: {}, 908: {}, 909: {}, 910: {}, 911: {}, 912: {}, 913: {}, 914: {}, 915: {}, 916: {}, 917: {}, 918: {}, 919: {}, 920: {}, 921: {}, 922: {}, 923: {}, 924: {}, 925: {}, 926: {}, 927: {}, 928: {}, 929: {}, 930: {}, 931: {}, 932: {}, 933: {}, 934: {}, 935: {}, 936: {}, 937: {}, 938: {}, 939: {}, 940: {}, 941: {}, 942: {}, 943: {}, 944: {}, 945: {}, 946: {}, 947: {}, 948: {}, 949: {}, 950: {}, 951: {}, 952: {}, 953: {}, 954: {}, 955: {}, 956: {}, 957: {}, 958: {}, 959: {}, 960: {}, 961: {}, 962: {}, 963: {}, 964: {}, 965: {}, 966: {}, 967: {}, 968: {}, 969: {}, 970: {}, 971: {}, 972: {}, 973: {}, 974: {}, 975: {}, 976: {}, 977: {}, 978: {}, 979: {}, 980: {}, 981: {}, 982: {}, 983: {}, 984: {}, 985: {}, 986: {}, 987: {}, 988: {}, 989: {}, 990: {}, 991: {}, 992: {}, 993: {}, 994: {}, 995: {}, 996: {}, 997: {}, 998: {}, 999: {}}\n"
     ]
    }
   ],
   "source": [
    "print(tomnet_causal_posteriors)"
   ]
  },
  {
   "cell_type": "code",
   "execution_count": 93,
   "id": "a5490bdc",
   "metadata": {},
   "outputs": [],
   "source": [
    "# Save TomNetCausal posteriors\n",
    "import pickle\n",
    "with open('./../data/data_utils/tomnet_causal_posteriors.pkl', 'wb') as f:\n",
    "    pickle.dump(tomnet_causal_posteriors, f)"
   ]
  },
  {
   "cell_type": "code",
   "execution_count": null,
   "id": "3a722c3e",
   "metadata": {},
   "outputs": [],
   "source": []
  },
  {
   "cell_type": "markdown",
   "id": "2b6d7170-c62d-4d59-9dcc-1422430d7cd6",
   "metadata": {},
   "source": [
    "## Step 5: Visualizing Performance for Experiment 0  \n",
    "We want to visualize the average brier score across all agents for all epsiodes. That is, calculate the brier score for every path and then take the average. Plot this as a line."
   ]
  },
  {
   "cell_type": "code",
   "execution_count": 94,
   "id": "eb8dc133-9a9d-45bf-a50a-aa14a13d74b4",
   "metadata": {},
   "outputs": [],
   "source": [
    "from real_world_src.utils.metrics import brier_along_path, accuracy_along_path"
   ]
  },
  {
   "cell_type": "code",
   "execution_count": 102,
   "id": "a1c1e6e6",
   "metadata": {},
   "outputs": [],
   "source": [
    "# BToM Scores (robust: only agents with posteriors, and matching path/posterior lengths)\n",
    "scores = []\n",
    "for episode in range(len(goal_data)):\n",
    "    for agent in agents:\n",
    "        if agent.id not in posteriors_data[episode]:\n",
    "            continue  # skip agents with no posteriors\n",
    "        path = path_data[episode][agent.id]\n",
    "        posteriors = posteriors_data[episode][agent.id]\n",
    "        min_len = min(len(path), len(posteriors))\n",
    "        if min_len == 0:\n",
    "            continue  # skip empty paths/posteriors\n",
    "        scores.append(brier_along_path(\n",
    "            path[:min_len],\n",
    "            goal_data[episode][agent.id],\n",
    "            posteriors[:min_len],\n",
    "            goals\n",
    "        ))"
   ]
  },
  {
   "cell_type": "code",
   "execution_count": null,
   "id": "ab7bdf33-f8fb-4147-aaf5-af7e22b1064c",
   "metadata": {},
   "outputs": [],
   "source": [
    "\"\"\"# BToM Scores\n",
    "scores = []\n",
    "for episode in range(len(goal_data)):\n",
    "    for agent in agents:\n",
    "        scores.append(brier_along_path(path_data[episode][agent.id], \n",
    "                                  goal_data[episode][agent.id], \n",
    "                                  posteriors_data[episode][agent.id], \n",
    "                                  goals))\n",
    "                                  \"\"\""
   ]
  },
  {
   "cell_type": "code",
   "execution_count": 106,
   "id": "be36b3ec-94cc-4c8a-9aad-b8635b37eeab",
   "metadata": {},
   "outputs": [],
   "source": [
    "# BToM Scores\n",
    "# BToM Scores (robust: only agents with posteriors, and matching path/posterior lengths)\n",
    "scores = []\n",
    "for episode in range(len(goal_data)):\n",
    "    for agent in agents:\n",
    "        if agent.id not in posteriors_data[episode]:\n",
    "            continue  # skip agents with no posteriors\n",
    "        path = path_data[episode][agent.id]\n",
    "        posteriors = posteriors_data[episode][agent.id]\n",
    "        min_len = min(len(path), len(posteriors))\n",
    "        if min_len == 0:\n",
    "            continue  # skip empty paths/posteriors\n",
    "        scores.append(brier_along_path(\n",
    "            path[:min_len],\n",
    "            goal_data[episode][agent.id],\n",
    "            posteriors[:min_len],\n",
    "            goals\n",
    "        ))\n",
    "        \n",
    "# Extended BToM Scores\n",
    "ext_scores = []\n",
    "for episode in range(len(goal_data)):\n",
    "    for agent in agents:\n",
    "        path = path_data[episode][agent.id]\n",
    "        posteriors = ext_posteriors_data[episode][agent.id]\n",
    "        min_len = min(len(path), len(posteriors))\n",
    "        if min_len == 0:\n",
    "            continue\n",
    "        ext_scores.append(brier_along_path(\n",
    "            path[:min_len],\n",
    "            goal_data[episode][agent.id],\n",
    "            posteriors[:min_len],\n",
    "            goals\n",
    "        ))\n",
    "\n",
    "# ToMNet Scores\n",
    "tomnet_scores = []\n",
    "for episode in range(len(goal_data)):\n",
    "    for agent in agents:\n",
    "        if agent.id not in test_agent_ids:\n",
    "            continue\n",
    "        tomnet_scores.append(brier_along_path(path_data[episode][agent.id], \n",
    "                                  goal_data[episode][agent.id], \n",
    "                                  tomnet_posteriors[episode][agent.id], \n",
    "                                  goals))\n"
   ]
  },
  {
   "cell_type": "code",
   "execution_count": 107,
   "id": "e4ea446a",
   "metadata": {},
   "outputs": [],
   "source": [
    "# TomNetCausal Scores\n",
    "tomnet_causal_scores = []\n",
    "for episode in range(len(goal_data)):\n",
    "    for agent in agents:\n",
    "        if agent.id not in test_agent_ids:\n",
    "            continue\n",
    "        if agent.id not in tomnet_causal_posteriors.get(episode, {}):\n",
    "            continue\n",
    "        tomnet_causal_scores.append(brier_along_path(\n",
    "            path_data[episode][agent.id],\n",
    "            goal_data[episode][agent.id],\n",
    "            tomnet_causal_posteriors[episode][agent.id],\n",
    "            goals\n",
    "        ))\n"
   ]
  },
  {
   "cell_type": "code",
   "execution_count": 110,
   "id": "bb56a243",
   "metadata": {},
   "outputs": [],
   "source": [
    "# LSTM Scores\n",
    "lstm_scores = []\n",
    "for episode in range(len(goal_data)):\n",
    "    for agent in agents:\n",
    "        if agent.id not in test_agent_ids:\n",
    "            continue\n",
    "        path = path_data[episode][agent.id]\n",
    "        posteriors = lstm_posteriors[episode][agent.id]\n",
    "        min_len = min(len(path), len(posteriors))\n",
    "        if min_len == 0:\n",
    "            continue\n",
    "        lstm_scores.append(brier_along_path(\n",
    "            path[:min_len],\n",
    "            goal_data[episode][agent.id],\n",
    "            posteriors[:min_len],\n",
    "            goals\n",
    "        ))\n",
    "\n",
    "# Plotting LSTM scores\n",
    "#props = np.linspace(0.1, 1.0, num=10)\n",
    "#props = np.linspace(0, 1, arr.shape[1])\n",
    "#lstm_arr = np.array(lstm_scores)\n",
    "#mean_lstm = lstm_arr.mean(axis=0)\n",
    "#plt.plot(props, mean_lstm, '-o', label='LSTM')\n",
    "#plt.legend()"
   ]
  },
  {
   "cell_type": "code",
   "execution_count": 112,
   "id": "792aeb9b",
   "metadata": {},
   "outputs": [],
   "source": [
    "# GRU Scores\n",
    "gru_scores = []\n",
    "for episode in range(len(goal_data)):\n",
    "    for agent in agents:\n",
    "        if agent.id not in test_agent_ids:\n",
    "            continue\n",
    "        path = path_data[episode][agent.id]\n",
    "        posteriors = gru_posteriors[episode][agent.id]\n",
    "        min_len = min(len(path), len(posteriors))\n",
    "        if min_len == 0:\n",
    "            continue\n",
    "        gru_scores.append(brier_along_path(\n",
    "            path[:min_len],\n",
    "            goal_data[episode][agent.id],\n",
    "            posteriors[:min_len],\n",
    "            goals\n",
    "        ))"
   ]
  },
  {
   "cell_type": "code",
   "execution_count": 122,
   "id": "879cd422-ca7c-4179-bd2b-a6153f6eee09",
   "metadata": {},
   "outputs": [],
   "source": [
    "# BToM Accuracy Scores (robust: trim path and posteriors to same length)\n",
    "btom_acc = []\n",
    "for episode in range(len(goal_data)):\n",
    "    for agent in agents:\n",
    "        path = path_data[episode][agent.id]\n",
    "        posteriors = posteriors_data[episode][agent.id]\n",
    "        min_len = min(len(path), len(posteriors))\n",
    "        if min_len == 0:\n",
    "            continue\n",
    "        btom_acc.append(accuracy_along_path(\n",
    "            path[:min_len],\n",
    "            goal_data[episode][agent.id],\n",
    "            posteriors[:min_len],\n",
    "            goals\n",
    "        ))\n",
    "\n",
    "# Extended BToM Scores\n",
    "ext_acc = []\n",
    "for episode in range(len(goal_data)):\n",
    "    for agent in agents:\n",
    "        path = path_data[episode][agent.id]\n",
    "        posteriors = ext_posteriors_data[episode][agent.id]\n",
    "        min_len = min(len(path), len(posteriors))\n",
    "        if min_len == 0:\n",
    "            continue\n",
    "        ext_acc.append(accuracy_along_path(\n",
    "            path[:min_len],\n",
    "            goal_data[episode][agent.id],\n",
    "            posteriors[:min_len],\n",
    "            goals\n",
    "        ))\n",
    "\n",
    "# ToMNet Scores\n",
    "tomnet_acc = []\n",
    "for episode in range(len(goal_data)):\n",
    "    for agent in agents:\n",
    "        if agent.id not in test_agent_ids:\n",
    "            continue\n",
    "        path = path_data[episode][agent.id]\n",
    "        posteriors = tomnet_posteriors[episode][agent.id]\n",
    "        min_len = min(len(path), len(posteriors))\n",
    "        if min_len == 0:\n",
    "            continue\n",
    "        tomnet_acc.append(accuracy_along_path(\n",
    "            path[:min_len],\n",
    "            goal_data[episode][agent.id],\n",
    "            posteriors[:min_len],\n",
    "            goals\n",
    "        ))"
   ]
  },
  {
   "cell_type": "code",
   "execution_count": 115,
   "id": "8ba9cad5",
   "metadata": {},
   "outputs": [],
   "source": [
    "# LSTM accuracy scores\n",
    "lstm_acc = []\n",
    "for episode in range(len(goal_data)):\n",
    "    for agent in agents:\n",
    "        if agent.id not in test_agent_ids:\n",
    "            continue\n",
    "        path = path_data[episode][agent.id]\n",
    "        posteriors = lstm_posteriors[episode][agent.id]\n",
    "        min_len = min(len(path), len(posteriors))\n",
    "        if min_len == 0:\n",
    "            continue\n",
    "        lstm_acc.append(accuracy_along_path(\n",
    "            path[:min_len],\n",
    "            goal_data[episode][agent.id],\n",
    "            posteriors[:min_len],\n",
    "            goals\n",
    "        ))"
   ]
  },
  {
   "cell_type": "code",
   "execution_count": 116,
   "id": "546dd305",
   "metadata": {},
   "outputs": [],
   "source": [
    "# GRU accuracy scores\n",
    "gru_acc = []\n",
    "for episode in range(len(goal_data)):\n",
    "    for agent in agents:\n",
    "        if agent.id not in test_agent_ids:\n",
    "            continue\n",
    "        path = path_data[episode][agent.id]\n",
    "        posteriors = gru_posteriors[episode][agent.id]\n",
    "        min_len = min(len(path), len(posteriors))\n",
    "        if min_len == 0:\n",
    "            continue\n",
    "        gru_acc.append(accuracy_along_path(\n",
    "            path[:min_len],\n",
    "            goal_data[episode][agent.id],\n",
    "            posteriors[:min_len],\n",
    "            goals\n",
    "        ))"
   ]
  },
  {
   "cell_type": "code",
   "execution_count": 114,
   "id": "10f655d5",
   "metadata": {},
   "outputs": [],
   "source": [
    "# TomNetCausal accuracy scores\n",
    "tomnet_causal_acc = []\n",
    "for episode in range(len(goal_data)):\n",
    "    for agent in agents:\n",
    "        if agent.id not in test_agent_ids:\n",
    "            continue\n",
    "        if agent.id not in tomnet_causal_posteriors.get(episode, {}):\n",
    "            continue\n",
    "        tomnet_causal_acc.append(accuracy_along_path(\n",
    "            path_data[episode][agent.id],\n",
    "            goal_data[episode][agent.id],\n",
    "            tomnet_causal_posteriors[episode][agent.id],\n",
    "            goals\n",
    "        ))"
   ]
  },
  {
   "cell_type": "code",
   "execution_count": 124,
   "id": "1379147d",
   "metadata": {},
   "outputs": [
    {
     "data": {
      "image/png": "[encoded data removed]",
      "text/plain": [
       "<Figure size 1200x800 with 2 Axes>"
      ]
     },
     "metadata": {},
     "output_type": "display_data"
    }
   ],
   "source": [
    "import numpy as np\n",
    "import matplotlib.pyplot as plt\n",
    "\n",
    "# Suppose `scores` is your (n_trajectories × n_fractions) array:\n",
    "arr = np.array(scores)  # shape (N, 11)\n",
    "ext_arr = np.array(ext_scores)\n",
    "lstm_arr = np.array(lstm_scores)\n",
    "gru_arr = np.array(gru_scores)\n",
    "tomnet_arr = np.array(tomnet_scores)\n",
    "# tomnet_causal_arr = np.array(tomnet_causal_scores)\n",
    "props = np.linspace(0, 1, arr.shape[1])\n",
    "\n",
    "# Compute mean\n",
    "mean_base = arr.mean(axis=0)\n",
    "mean_ext = ext_arr.mean(axis=0)\n",
    "mean_lstm = lstm_arr.mean(axis=0)\n",
    "mean_gru = gru_arr.mean(axis=0)\n",
    "mean_tomnet = tomnet_arr.mean(axis=0)\n",
    "# mean_tomnet_causal = tomnet_causal_arr.mean(axis=0)\n",
    "\n",
    "plt.figure(figsize=(12, 8))\n",
    "\n",
    "# Brier Score Plot\n",
    "plt.subplot(2, 1, 1)\n",
    "plt.plot(props, mean_base, '-o', label='BToM', linewidth=2, markersize=6)\n",
    "plt.plot(props, mean_ext, '-s', label='Extended BToM', linewidth=2, markersize=6)\n",
    "plt.plot(props, mean_lstm, '-^', label='LSTM', linewidth=2, markersize=6)\n",
    "plt.plot(props, mean_gru, '-d', label='GRU', linewidth=2, markersize=6)\n",
    "plt.plot(props, mean_tomnet, '-x', label='ToMNet', linewidth=2, markersize=6)\n",
    "# plt.plot(props, mean_tomnet_causal, '-*', label='TomNetCausal (SOTA)', linewidth=3, markersize=8, color='red')\n",
    "\n",
    "plt.xlabel('Proportion of Path Observed')\n",
    "plt.ylabel('Brier Score')\n",
    "plt.title('Brier Score vs. Path Fraction - All Models')\n",
    "plt.xticks(props)\n",
    "plt.ylim(0, 2)\n",
    "plt.grid(alpha=0.3)\n",
    "plt.legend()\n",
    "plt.tight_layout()\n",
    "\n",
    "# Accuracy Plot\n",
    "plt.subplot(2, 1, 2)\n",
    "arr_acc = np.array(btom_acc)\n",
    "ext_arr_acc = np.array(ext_acc)\n",
    "lstm_arr_acc = np.array(lstm_acc)\n",
    "gru_arr_acc = np.array(gru_acc)\n",
    "tomnet_arr_acc = np.array(tomnet_acc)\n",
    "# tomnet_causal_arr_acc = np.array(tomnet_causal_acc)\n",
    "\n",
    "mean_base_acc = arr_acc.mean(axis=0)\n",
    "mean_ext_acc = ext_arr_acc.mean(axis=0)\n",
    "mean_lstm_acc = lstm_arr_acc.mean(axis=0)\n",
    "mean_gru_acc = gru_arr_acc.mean(axis=0)\n",
    "mean_tomnet_acc = tomnet_arr_acc.mean(axis=0)\n",
    "# mean_tomnet_causal_acc = tomnet_causal_arr_acc.mean(axis=0)\n",
    "\n",
    "plt.plot(props, mean_base_acc, '-o', label='BToM', linewidth=2, markersize=6)\n",
    "plt.plot(props, mean_ext_acc, '-s', label='Extended BToM', linewidth=2, markersize=6)\n",
    "plt.plot(props, mean_lstm_acc, '-^', label='LSTM', linewidth=2, markersize=6)\n",
    "plt.plot(props, mean_gru_acc, '-d', label='GRU', linewidth=2, markersize=6)\n",
    "plt.plot(props, mean_tomnet_acc, '-x', label='ToMNet', linewidth=2, markersize=6)\n",
    "# plt.plot(props, mean_tomnet_causal_acc, '-*', label='TomNetCausal (SOTA)', linewidth=3, markersize=8, color='red')\n",
    "\n",
    "plt.xlabel('Proportion of Path Observed')\n",
    "plt.ylabel('Accuracy')\n",
    "plt.title('Accuracy vs. Path Fraction - All Models')\n",
    "plt.xticks(props)\n",
    "plt.ylim(0, 1)\n",
    "plt.grid(alpha=0.3)\n",
    "plt.legend()\n",
    "plt.tight_layout()\n",
    "\n",
    "plt.show()"
   ]
  },
  {
   "cell_type": "code",
   "execution_count": 126,
   "id": "fd451222",
   "metadata": {},
   "outputs": [
    {
     "name": "stdout",
     "output_type": "stream",
     "text": [
      "No valid tomnet_causal_scores to plot.\n"
     ]
    }
   ],
   "source": [
    "import numpy as np\n",
    "import matplotlib.pyplot as plt\n",
    "\n",
    "# Filter out any entries that are not 1D arrays/lists of the same length\n",
    "filtered_scores = [s for s in tomnet_causal_scores if isinstance(s, (list, np.ndarray)) and len(s) > 1]\n",
    "if not filtered_scores:\n",
    "    print(\"No valid tomnet_causal_scores to plot.\")\n",
    "else:\n",
    "    min_len = min(len(s) for s in filtered_scores)\n",
    "    # Optionally, trim all to the same length\n",
    "    filtered_scores = [s[:min_len] for s in filtered_scores]\n",
    "    tomnet_causal_arr = np.array(filtered_scores)\n",
    "    print(\"tomnet_causal_arr.shape:\", tomnet_causal_arr.shape)\n",
    "\n",
    "    props = np.linspace(0, 1, tomnet_causal_arr.shape[1])\n",
    "    mean_tomnet_causal = tomnet_causal_arr.mean(axis=0)\n",
    "\n",
    "    plt.figure(figsize=(12, 8))\n",
    "    plt.subplot(2, 1, 1)\n",
    "    plt.plot(props, mean_tomnet_causal, '-*', label='TomNetCausal (SOTA)', linewidth=3, markersize=8, color='red')\n",
    "    plt.xlabel('Proportion of Path Observed')\n",
    "    plt.ylabel('Brier Score')\n",
    "    plt.title('Brier Score vs. Path Fraction - All Models')\n",
    "    plt.xticks(props)\n",
    "    plt.ylim(0, 2)\n",
    "    plt.grid(alpha=0.3)\n",
    "    plt.legend()\n",
    "    plt.tight_layout()\n",
    "\n",
    "    # Accuracy Plot\n",
    "    filtered_acc = [a[:min_len] for a in tomnet_causal_acc if isinstance(a, (list, np.ndarray)) and len(a) >= min_len]\n",
    "    tomnet_causal_arr_acc = np.array(filtered_acc)\n",
    "    mean_tomnet_causal_acc = tomnet_causal_arr_acc.mean(axis=0)\n",
    "    plt.subplot(2, 1, 2)\n",
    "    plt.plot(props, mean_tomnet_causal_acc, '-*', label='TomNetCausal (SOTA)', linewidth=3, markersize=8, color='red')\n",
    "    plt.xlabel('Proportion of Path Observed')\n",
    "    plt.ylabel('Accuracy')\n",
    "    plt.title('Accuracy vs. Path Fraction - All Models')\n",
    "    plt.xticks(props)\n",
    "    plt.ylim(0, 1)\n",
    "    plt.grid(alpha=0.3)\n",
    "    plt.legend()\n",
    "    plt.tight_layout()\n",
    "    plt.show()"
   ]
  },
  {
   "cell_type": "code",
   "execution_count": 127,
   "id": "5a3e5d65",
   "metadata": {},
   "outputs": [
    {
     "name": "stdout",
     "output_type": "stream",
     "text": [
      "tomnet_causal_arr.shape: (0,)\n",
      "WARNING: tomnet_causal_arr is not 2D. Check your data. Skipping plot.\n"
     ]
    }
   ],
   "source": [
    "import numpy as np\n",
    "import matplotlib.pyplot as plt\n",
    "\n",
    "tomnet_causal_arr = np.array(tomnet_causal_scores)\n",
    "print(\"tomnet_causal_arr.shape:\", tomnet_causal_arr.shape)\n",
    "\n",
    "if tomnet_causal_arr.ndim != 2:\n",
    "    print(\"WARNING: tomnet_causal_arr is not 2D. Check your data. Skipping plot.\")\n",
    "else:\n",
    "    props = np.linspace(0, 1, tomnet_causal_arr.shape[1])\n",
    "\n",
    "    mean_tomnet_causal = tomnet_causal_arr.mean(axis=0)\n",
    "\n",
    "    plt.figure(figsize=(12, 8))\n",
    "    plt.subplot(2, 1, 1)\n",
    "    plt.plot(props, mean_tomnet_causal, '-*', label='TomNetCausal (SOTA)', linewidth=3, markersize=8, color='red')\n",
    "    plt.xlabel('Proportion of Path Observed')\n",
    "    plt.ylabel('Brier Score')\n",
    "    plt.title('Brier Score vs. Path Fraction - All Models')\n",
    "    plt.xticks(props)\n",
    "    plt.ylim(0, 2)\n",
    "    plt.grid(alpha=0.3)\n",
    "    plt.legend()\n",
    "    plt.tight_layout()\n",
    "\n",
    "    # Accuracy Plot\n",
    "    tomnet_causal_arr_acc = np.array(tomnet_causal_acc)\n",
    "    mean_tomnet_causal_acc = tomnet_causal_arr_acc.mean(axis=0)\n",
    "    plt.subplot(2, 1, 2)\n",
    "    plt.plot(props, mean_tomnet_causal_acc, '-*', label='TomNetCausal (SOTA)', linewidth=3, markersize=8, color='red')\n",
    "    plt.xlabel('Proportion of Path Observed')\n",
    "    plt.ylabel('Accuracy')\n",
    "    plt.title('Accuracy vs. Path Fraction - All Models')\n",
    "    plt.xticks(props)\n",
    "    plt.ylim(0, 1)\n",
    "    plt.grid(alpha=0.3)\n",
    "    plt.legend()\n",
    "    plt.tight_layout()\n",
    "    plt.show()"
   ]
  },
  {
   "cell_type": "code",
   "execution_count": 129,
   "id": "17a9ce3b",
   "metadata": {},
   "outputs": [
    {
     "name": "stdout",
     "output_type": "stream",
     "text": [
      "\n",
      "============================================================\n",
      "MODEL PERFORMANCE SUMMARY\n",
      "============================================================\n",
      "\n",
      "Brier Score (Lower is Better):\n",
      "BToM: 0.8320 ± 0.1665\n",
      "Extended BToM: 0.7752 ± 0.1570\n",
      "LSTM: 1.0959 ± 0.2669\n",
      "GRU: 1.3565 ± 0.3182\n",
      "ToMNet: 0.7841 ± 0.0770\n",
      "\n",
      "Accuracy (Higher is Better):\n",
      "BToM: 0.3733 ± 0.2063\n",
      "Extended BToM: 0.4161 ± 0.2066\n",
      "LSTM: 0.1516 ± 0.2086\n",
      "GRU: 0.1316 ± 0.1896\n",
      "ToMNet: 0.2588 ± 0.1055\n",
      "\n",
      "Results saved to experiment_0_results.json\n",
      "============================================================\n"
     ]
    }
   ],
   "source": [
    "\n",
    "# Print summary statistics\n",
    "print(\"\\n\" + \"=\"*60)\n",
    "print(\"MODEL PERFORMANCE SUMMARY\")\n",
    "print(\"=\"*60)\n",
    "\n",
    "print(f\"\\nBrier Score (Lower is Better):\")\n",
    "print(f\"BToM: {mean_base.mean():.4f} ± {mean_base.std():.4f}\")\n",
    "print(f\"Extended BToM: {mean_ext.mean():.4f} ± {mean_ext.std():.4f}\")\n",
    "print(f\"LSTM: {mean_lstm.mean():.4f} ± {mean_lstm.std():.4f}\")\n",
    "print(f\"GRU: {mean_gru.mean():.4f} ± {mean_gru.std():.4f}\")\n",
    "print(f\"ToMNet: {mean_tomnet.mean():.4f} ± {mean_tomnet.std():.4f}\")\n",
    "# print(f\"TomNetCausal (SOTA): {mean_tomnet_causal.mean():.4f} ± {mean_tomnet_causal.std():.4f}\")\n",
    "\n",
    "print(f\"\\nAccuracy (Higher is Better):\")\n",
    "print(f\"BToM: {mean_base_acc.mean():.4f} ± {mean_base_acc.std():.4f}\")\n",
    "print(f\"Extended BToM: {mean_ext_acc.mean():.4f} ± {mean_ext_acc.std():.4f}\")\n",
    "print(f\"LSTM: {mean_lstm_acc.mean():.4f} ± {mean_lstm_acc.std():.4f}\")\n",
    "print(f\"GRU: {mean_gru_acc.mean():.4f} ± {mean_gru_acc.std():.4f}\")\n",
    "print(f\"ToMNet: {mean_tomnet_acc.mean():.4f} ± {mean_tomnet_acc.std():.4f}\")\n",
    "# print(f\"TomNetCausal (SOTA): {mean_tomnet_causal_acc.mean():.4f} ± {mean_tomnet_causal_acc.std():.4f}\")\n",
    "\n",
    "# Save results\n",
    "results = {\n",
    "    'brier_scores': {\n",
    "        'btom': mean_base.tolist(),\n",
    "        'extended_btom': mean_ext.tolist(),\n",
    "        'lstm': mean_lstm.tolist(),\n",
    "        'gru': mean_gru.tolist(),\n",
    "        'tomnet': mean_tomnet.tolist(),\n",
    "        # 'tomnet_causal': mean_tomnet_causal.tolist()\n",
    "    },\n",
    "    'accuracy_scores': {\n",
    "        'btom': mean_base_acc.tolist(),\n",
    "        'extended_btom': mean_ext_acc.tolist(),\n",
    "        'lstm': mean_lstm_acc.tolist(),\n",
    "        'gru': mean_gru_acc.tolist(),\n",
    "        'tomnet': mean_tomnet_acc.tolist(),\n",
    "        # 'tomnet_causal': mean_tomnet_causal_acc.tolist()\n",
    "    }\n",
    "}\n",
    "\n",
    "import json\n",
    "with open('experiment_0_results.json', 'w') as f:\n",
    "    json.dump(results, f, indent=2)\n",
    "\n",
    "print(f\"\\nResults saved to experiment_0_results.json\")\n",
    "print(\"=\"*60)"
   ]
  },
  {
   "cell_type": "code",
   "execution_count": 130,
   "id": "1e995fc8-386c-4c3e-8200-9a3eacd31104",
   "metadata": {},
   "outputs": [
    {
     "data": {
      "image/png": "[encoded data removed]",
      "text/plain": [
       "<Figure size 1000x600 with 1 Axes>"
      ]
     },
     "metadata": {},
     "output_type": "display_data"
    }
   ],
   "source": [
    "import numpy as np\n",
    "import matplotlib.pyplot as plt\n",
    "\n",
    "# Suppose `scores` is your (n_trajectories × n_fractions) array:\n",
    "arr = np.array(scores)  # shape (N, 11)\n",
    "ext_arr  = np.array(ext_scores)\n",
    "#tomnet_arr = np.array(tomnet_scores)\n",
    "lstm_arr = np.array(lstm_scores)\n",
    "gru_arr = np.array(gru_scores)\n",
    "props = np.linspace(0, 1, arr.shape[1])\n",
    "\n",
    "# Compute mean\n",
    "mean_base = arr.mean(axis=0)\n",
    "mean_ext  = ext_arr.mean(axis=0)\n",
    "#mean_tomnet = tomnet_arr.mean(axis=0)\n",
    "mean_lstm = lstm_arr.mean(axis=0)\n",
    "mean_gru = gru_arr.mean(axis=0)\n",
    "\n",
    "plt.figure(figsize=(10,6))\n",
    "plt.plot(props, mean_base, '-o', label='BToM')\n",
    "plt.plot(props, mean_ext,  '-s', label='Extended BToM')\n",
    "#plt.plot(props, mean_tomnet, '-o', label='ToMNet')\n",
    "plt.plot(props, mean_lstm, '-^', label='LSTM')\n",
    "plt.plot(props, mean_gru, '-o', label='GRU')\n",
    "\n",
    "plt.xlabel('Proportion of Path Observed')\n",
    "plt.ylabel('Brier Score')\n",
    "plt.title('Brier Score vs. Path Fraction')\n",
    "plt.xticks(props)\n",
    "plt.ylim(0, 2)\n",
    "plt.grid(alpha=0.3)\n",
    "plt.legend()\n",
    "plt.tight_layout()\n",
    "plt.show()\n"
   ]
  },
  {
   "cell_type": "code",
   "execution_count": 131,
   "id": "24d0fe36-9cb3-4b1e-894f-c295e908f5d5",
   "metadata": {},
   "outputs": [
    {
     "data": {
      "image/png": "[encoded data removed]",
      "text/plain": [
       "<Figure size 1000x600 with 1 Axes>"
      ]
     },
     "metadata": {},
     "output_type": "display_data"
    }
   ],
   "source": [
    "import numpy as np\n",
    "import matplotlib.pyplot as plt\n",
    "\n",
    "# Suppose `scores` is your (n_trajectories × n_fractions) array:\n",
    "arr = np.array(btom_acc)  # shape (N, 11)\n",
    "ext_arr  = np.array(ext_acc)\n",
    "#tom_arr = np.array(tomnet_acc)\n",
    "lstm_arr = np.array(lstm_acc)\n",
    "gru_arr = np.array(gru_acc)\n",
    "props = np.linspace(0, 1, arr.shape[1])\n",
    "\n",
    "# Compute mean\n",
    "mean_base = arr.mean(axis=0)\n",
    "mean_ext  = ext_arr.mean(axis=0)\n",
    "#mean_tom  = tom_arr.mean(axis=0)\n",
    "mean_lstm  = lstm_arr.mean(axis=0)\n",
    "mean_gru  = gru_arr.mean(axis=0)\n",
    "\n",
    "\n",
    "plt.figure(figsize=(10,6))\n",
    "plt.plot(props, mean_base, '-o', label='BToM')\n",
    "plt.plot(props, mean_ext,  '-s', label='Extended BToM')\n",
    "#plt.plot(props, mean_tom, '-o', label='ToMNet')\n",
    "plt.plot(props, mean_lstm, '-o', label='LSTM')\n",
    "plt.plot(props, mean_gru, '-o', label='GRU')\n",
    "\n",
    "plt.xlabel('Proportion of Path Observed')\n",
    "plt.ylabel('Accuracy')\n",
    "plt.title('Accuracy vs. Path Fraction')\n",
    "plt.xticks(props)\n",
    "plt.ylim(0, 1)\n",
    "plt.grid(alpha=0.3)\n",
    "plt.legend()\n",
    "plt.tight_layout()\n",
    "plt.show()"
   ]
  },
  {
   "cell_type": "code",
   "execution_count": null,
   "id": "2d4b0058-fd6b-4fad-9ec5-c8cd1233119d",
   "metadata": {},
   "outputs": [],
   "source": []
  },
  {
   "cell_type": "code",
   "execution_count": null,
   "id": "87cfcf79-5913-46c1-a842-ad92614d9715",
   "metadata": {},
   "outputs": [],
   "source": []
  },
  {
   "cell_type": "markdown",
   "id": "636a35ee-3801-4fe7-8e19-1d6a25e471be",
   "metadata": {},
   "source": [
    "1. Use geospatial coordinates instead of IDs for nodes\n",
    "2. Consider an embedding for the nodes --  we are using an embedding for the nodes\n",
    "3. Consider multi head loss\n",
    "4. Consider other loss functions for the distribution\n",
    "5. The character net has a strange input where the multiple past trajs are concatenated"
   ]
  },
  {
   "cell_type": "code",
   "execution_count": null,
   "id": "f8899e57-9f79-49ae-b548-c564e32f6196",
   "metadata": {},
   "outputs": [],
   "source": []
  },
  {
   "cell_type": "code",
   "execution_count": null,
   "id": "ec673c0c-4372-4423-b2c0-8fd188e6f54e",
   "metadata": {},
   "outputs": [],
   "source": []
  },
  {
   "cell_type": "code",
   "execution_count": null,
   "id": "f7c5de70-3d1a-43e3-981c-6a339b829dc9",
   "metadata": {},
   "outputs": [],
   "source": []
  },
  {
   "cell_type": "code",
   "execution_count": null,
   "id": "9dfbbd05-25b0-440f-b0a7-feeff19f249c",
   "metadata": {},
   "outputs": [],
   "source": []
  },
  {
   "cell_type": "code",
   "execution_count": null,
   "id": "bae657c0-8e55-4d60-9af3-0767439a48b8",
   "metadata": {},
   "outputs": [],
   "source": []
  },
  {
   "cell_type": "code",
   "execution_count": null,
   "id": "6c1d6dbf-f5f5-4b82-9694-ed6bf46811a4",
   "metadata": {},
   "outputs": [],
   "source": []
  },
  {
   "cell_type": "code",
   "execution_count": null,
   "id": "67fca93b-1cbf-4acc-b131-04c8025440f8",
   "metadata": {},
   "outputs": [],
   "source": []
  }
 ],
 "metadata": {
  "kernelspec": {
   "display_name": "tom",
   "language": "python",
   "name": "python3"
  },
  "language_info": {
   "codemirror_mode": {
    "name": "ipython",
    "version": 3
   },
   "file_extension": ".py",
   "mimetype": "text/x-python",
   "name": "python",
   "nbconvert_exporter": "python",
   "pygments_lexer": "ipython3",
   "version": "3.12.11"
  }
 },
 "nbformat": 4,
 "nbformat_minor": 5
}
