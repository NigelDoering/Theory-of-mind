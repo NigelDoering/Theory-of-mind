{
 "cells": [
  {
   "cell_type": "markdown",
   "id": "0af56c5f-2901-400b-a682-8c4cfab6b611",
   "metadata": {},
   "source": [
    "# Experiment  0: ToM Overall Model Performance\n"
   ]
  },
  {
   "cell_type": "code",
   "execution_count": 1,
   "id": "7c5b1840-cde8-455b-828d-b405646d3247",
   "metadata": {},
   "outputs": [],
   "source": [
    "import numpy as np\n",
    "import pymc\n",
    "import networkx as nx\n",
    "import matplotlib.pyplot as plt\n",
    "import random\n",
    "import torch"
   ]
  },
  {
   "cell_type": "code",
   "execution_count": 2,
   "id": "10e47055-0cb8-491b-bc16-2a8d8dcce4a7",
   "metadata": {},
   "outputs": [],
   "source": [
    "import sys\n",
    "import os\n",
    "import osmnx as ox\n",
    "\n",
    "# Adjust this path as needed to point to your project root\n",
    "sys.path.append(os.path.abspath(\"..\"))"
   ]
  },
  {
   "cell_type": "code",
   "execution_count": 3,
   "id": "0c402353-27ab-46bf-b576-52d2d4d2c865",
   "metadata": {},
   "outputs": [],
   "source": [
    "def plot_goal_distribution(goal_distribution):\n",
    "    \"\"\"\n",
    "    Plot the goal distribution as a bar plot.\n",
    "\n",
    "    Parameters\n",
    "    ----------\n",
    "    goal_distribution : dict\n",
    "        Dictionary mapping candidate goal IDs to probability values.\n",
    "    \"\"\"\n",
    "    # Extract goal IDs and probabilities, converting to floats if needed.\n",
    "    goals = list(goal_distribution.keys())\n",
    "    probs = [float(goal_distribution[g]) for g in goals]\n",
    "    \n",
    "    # Create the bar plot.\n",
    "    plt.figure(figsize=(10, 6))\n",
    "    plt.bar(range(len(goals)), probs, tick_label=[str(g) for g in goals])\n",
    "    plt.xlabel(\"Candidate Goal IDs\")\n",
    "    plt.ylabel(\"Probability\")\n",
    "    plt.title(\"Posterior Distribution over Candidate Goals\")\n",
    "    plt.xticks(rotation=45, ha=\"right\")\n",
    "    plt.tight_layout()\n",
    "    plt.show()"
   ]
  },
  {
   "cell_type": "code",
   "execution_count": 4,
   "id": "ae66225e-25c8-4648-809e-6fd2f98fe8b6",
   "metadata": {},
   "outputs": [],
   "source": [
    "def visualize_map(campus,\n",
    "                  path=None,\n",
    "                  goal_nodes=None,\n",
    "                  ax=None):\n",
    "    \"\"\"\n",
    "    Visualize the campus map, plus optional trajectory, start, waypoint, and goal nodes.\n",
    "    \n",
    "    Arguments:\n",
    "      campus         an object with:\n",
    "                        - campus.G           : a networkx graph\n",
    "                        - campus.node_coords : dict[node] -> (x, y) coordinates\n",
    "                        - campus.buildings   : a GeoDataFrame of building footprints (or None)\n",
    "      path           list of node‐IDs, the agent’s trajectory to draw (in order)\n",
    "      start_nodes    list of node‐IDs to mark as start(s)\n",
    "      waypoint       single node‐ID to mark as an intermediate waypoint\n",
    "      goal_nodes     list of node‐IDs to mark as goal(s)\n",
    "      ax             optional matplotlib Axes onto which to draw\n",
    "      \n",
    "    Returns:\n",
    "      fig, ax        the figure & axis\n",
    "    \"\"\"\n",
    "    # 1) draw the base map\n",
    "    if ax is None:\n",
    "        fig, ax = ox.plot_graph(campus.G,\n",
    "                                figsize=(15,15),\n",
    "                                node_size=5,\n",
    "                                edge_color=\"#999999\",\n",
    "                                show=False,\n",
    "                                close=False)\n",
    "    else:\n",
    "        fig = ax.figure\n",
    "        ox.plot_graph(campus.G,\n",
    "                      ax=ax,\n",
    "                      node_size=5,\n",
    "                      edge_color=\"#999999\",\n",
    "                      show=False)\n",
    "    \n",
    "    # 2) overlay buildings if you have them\n",
    "    if getattr(campus, \"buildings\", None) is not None:\n",
    "        campus.buildings.plot(ax=ax,\n",
    "                              color=\"#bbbbbb\",\n",
    "                              alpha=0.7,\n",
    "                              edgecolor=\"#444444\")\n",
    "    \n",
    "    # 3) draw the agent’s path\n",
    "    if path is not None and len(path) > 1:\n",
    "        coords = [campus.node_coords[n] for n in path]\n",
    "        xs, ys = zip(*coords)\n",
    "        ax.plot(xs, ys,\n",
    "                linestyle='-',\n",
    "                linewidth=3.0,\n",
    "                color='lightblue',\n",
    "                alpha=0.8,\n",
    "                zorder=3,\n",
    "                label=\"Trajectory\")\n",
    "        # and mark the actual visited nodes\n",
    "        ax.scatter(xs, ys,\n",
    "                   c='C0',\n",
    "                   s=30,\n",
    "                   zorder=4)\n",
    "    \n",
    "    # 6) mark goal nodes\n",
    "    if goal_nodes:\n",
    "        goal_coords = [campus.node_coords[n] for n in goal_nodes]\n",
    "        xs, ys = zip(*goal_coords)\n",
    "        ax.scatter(xs, ys,\n",
    "                   c=\"yellow\",\n",
    "                   s=160,\n",
    "                   marker=\"*\",\n",
    "                   zorder=5,\n",
    "                   label=\"Goal\")\n",
    "    \n",
    "    # 7) finalize\n",
    "    ax.legend(loc=\"upper right\")\n",
    "    ax.set_title(\"UCSD Campus Environment\")\n",
    "    ax.set_axis_off()\n",
    "    fig.tight_layout()\n",
    "    return fig, ax"
   ]
  },
  {
   "cell_type": "code",
   "execution_count": 5,
   "id": "eaafe0ee-e10e-4ca6-a9db-d6125df1e119",
   "metadata": {},
   "outputs": [],
   "source": [
    "from real_world_src.environment.campus_env import CampusEnvironment\n",
    "from real_world_src.agents.agent_factory import AgentFactory\n",
    "from real_world_src.simulation.simulator import Simulator\n",
    "#from real_world_src.simulation.experiment_1 import Simulator\n",
    "\n",
    "from real_world_src.utils.run_manager import RunManager\n",
    "from real_world_src.utils.config import VISUAL_CONFIG\n",
    "from real_world_src.utils.config import get_agent_color\n"
   ]
  },
  {
   "cell_type": "markdown",
   "id": "5c7670da-fc0e-4cbf-ae62-64c288c8243c",
   "metadata": {},
   "source": [
    "## Steps  \n",
    "1. Create the UCSD campus world\n",
    "2. Create n agents each with a specific distribution over the goals\n",
    "3. Run m epsiodes where each agent chooses a goal and performs a single path to that goal\n",
    "4. Use this data as training set"
   ]
  },
  {
   "cell_type": "markdown",
   "id": "9d3521d0-745e-48a4-bc1c-ef76b62a628c",
   "metadata": {},
   "source": [
    "## Step 1: Create the Map"
   ]
  },
  {
   "cell_type": "code",
   "execution_count": 6,
   "id": "e78418df-240d-4e7c-93d8-c6c452bdacd4",
   "metadata": {},
   "outputs": [
    {
     "name": "stdout",
     "output_type": "stream",
     "text": [
      "Started new simulation run #38\n",
      "All visualizations will be saved to: /Users/nigeldoering/Desktop/Research/Dissertation/Theory of Mind/Theory-of-mind/notebooks/visuals/run_38_20250507_114804\n",
      "Loading map data for University of California, San Diego, La Jolla, CA, USA...\n",
      "Environment loaded with 3108 nodes and 8646 edges\n"
     ]
    }
   ],
   "source": [
    "# Create a run manager\n",
    "run_manager = RunManager('visuals')\n",
    "run_dir = run_manager.start_new_run()\n",
    "\n",
    "# Initialize campus environment\n",
    "campus = CampusEnvironment()"
   ]
  },
  {
   "cell_type": "markdown",
   "id": "f742f179-ff68-4b38-aff4-ddaf202362b9",
   "metadata": {},
   "source": [
    "## Step 2: Create N Agents"
   ]
  },
  {
   "cell_type": "code",
   "execution_count": 7,
   "id": "ec6bdf25-4915-4b89-8dba-c78b873f0179",
   "metadata": {},
   "outputs": [],
   "source": [
    "# Need to establish the set of common goals (just choose the landmark nodes)\n",
    "goals = [469084068, 49150691, 768264666, 1926666015, 1926673385, 49309735,\n",
    "         273627682, 445989107, 445992528, 446128310, 1772230346, 1926673336, \n",
    "         2872424923, 3139419286, 4037576308]"
   ]
  },
  {
   "cell_type": "code",
   "execution_count": 8,
   "id": "4c33922c-bfa7-46ea-9974-bcb2da19b9bc",
   "metadata": {},
   "outputs": [],
   "source": [
    "# Create n agents\n",
    "agents = []\n",
    "n = 100\n",
    "for i in range(n):\n",
    "    agents.append(AgentFactory.create_agent(\"shortest\"))\n",
    "    agents[i].id = i"
   ]
  },
  {
   "cell_type": "code",
   "execution_count": 9,
   "id": "e7c6abef-216f-4057-8f34-2edea75432e5",
   "metadata": {},
   "outputs": [],
   "source": [
    "n_goals = len(goals)\n",
    "ag_alpha = np.random.normal(1, 0.2, size=n_goals)\n",
    "\n",
    "for agent in agents: # Set each agent's goal distribution\n",
    "    agent.goal_distribution = np.random.dirichlet(alpha=np.ones(n_goals)*(ag_alpha), size=1)[0]\n",
    "    agent.environment = campus"
   ]
  },
  {
   "cell_type": "code",
   "execution_count": 10,
   "id": "552271a1-b2fd-40ed-b2cc-f42f3fbfee57",
   "metadata": {},
   "outputs": [],
   "source": [
    "def new_episode(agents):\n",
    "\n",
    "    # Set the goal and start nodes\n",
    "    for agent in agents:\n",
    "        agent.path = [] # Clear the old path\n",
    "        agent.goal_node = int(np.random.choice(goals, size=1, p=agent.goal_distribution)[0])\n",
    "\n",
    "        while True:\n",
    "            start_node = campus.get_random_node()\n",
    "            try:\n",
    "                path = nx.shortest_path(campus.G_undirected, \n",
    "                                       source=start_node, \n",
    "                                       target=agent.goal_node, \n",
    "                                       weight='length')\n",
    "                if len(path) >15:  # Make sure path is non-trivial\n",
    "                    break\n",
    "            except:\n",
    "                continue\n",
    "        agent.start_node = start_node\n",
    "        agent.current_node = start_node\n",
    "\n",
    "    return "
   ]
  },
  {
   "cell_type": "code",
   "execution_count": 11,
   "id": "de485afc-a2df-4bb8-b93b-db4a8bee921d",
   "metadata": {},
   "outputs": [],
   "source": [
    "# Save the agents \n",
    "import pickle\n",
    "\n",
    "# suppose `agents` is your list of Agent instances\n",
    "with open('agents.pkl', 'wb') as f:\n",
    "    pickle.dump(agents, f)"
   ]
  },
  {
   "cell_type": "markdown",
   "id": "85dac1c3-4dc8-4561-a09b-7c7bf4689e90",
   "metadata": {},
   "source": [
    "## Step 3: Perform Episodes and Data Collection"
   ]
  },
  {
   "cell_type": "code",
   "execution_count": 12,
   "id": "f7d02913-3faf-40f7-8196-aa41436a469d",
   "metadata": {},
   "outputs": [],
   "source": [
    "import json"
   ]
  },
  {
   "cell_type": "code",
   "execution_count": 13,
   "id": "34b540e4-d51d-4a85-aad1-1ba4c7cd9bda",
   "metadata": {},
   "outputs": [],
   "source": [
    "\"\"\" Already ran once. Data is saved in /data\"\"\"\n",
    "\n",
    "path_data = {}\n",
    "goal_data = {}\n",
    "m = 100\n",
    "for episode in range(m):\n",
    "    new_episode(agents)\n",
    "    episode_path_data = {}\n",
    "    episode_goal_data = {}\n",
    "    for agent in agents:\n",
    "        agent.plan_path()\n",
    "        episode_path_data[agent.id] = agent.path\n",
    "        episode_goal_data[agent.id] = agent.goal_node\n",
    "    # Save the data from each episode\n",
    "    path_data[episode] = episode_path_data\n",
    "    goal_data[episode] = episode_goal_data\n",
    "\n",
    "with open(\"./data/path_data.json\", \"w\") as file:\n",
    "    json.dump(path_data, file, indent=4)\n",
    "\n",
    "with open(\"./data/goal_data.json\", \"w\") as file:\n",
    "    json.dump(goal_data, file, indent=4)\n",
    "\n"
   ]
  },
  {
   "cell_type": "markdown",
   "id": "da41552e-8521-4de9-8c57-fa022ed0211a",
   "metadata": {},
   "source": [
    "### Load existing data"
   ]
  },
  {
   "cell_type": "code",
   "execution_count": 14,
   "id": "c416d7b0-9f2d-49f6-bae2-58ff3b3a6c0e",
   "metadata": {},
   "outputs": [],
   "source": [
    "with open(\"./data/path_data.json\", 'r') as file:\n",
    "    path_data = json.load(file)\n",
    "\n",
    "with open(\"./data/goal_data.json\", 'r') as file:\n",
    "    goal_data = json.load(file)"
   ]
  },
  {
   "cell_type": "code",
   "execution_count": 15,
   "id": "80616ce4-0671-4838-ac61-7559103e252d",
   "metadata": {},
   "outputs": [],
   "source": [
    "def convert_keys_to_int(data):\n",
    "    if isinstance(data, dict):\n",
    "        return {int(k) if isinstance(k, str) and k.isdigit() else k: convert_keys_to_int(v) for k, v in data.items()}\n",
    "    elif isinstance(data, list):\n",
    "        return [convert_keys_to_int(item) for item in data]\n",
    "    else:\n",
    "        return data"
   ]
  },
  {
   "cell_type": "code",
   "execution_count": 16,
   "id": "7d112963-0bb5-4da9-9c7f-79b74d0cd810",
   "metadata": {},
   "outputs": [],
   "source": [
    "goal_data = convert_keys_to_int(goal_data)\n",
    "path_data = convert_keys_to_int(path_data)"
   ]
  },
  {
   "cell_type": "markdown",
   "id": "dedbcf19-d824-4887-abe8-48793d60334c",
   "metadata": {},
   "source": [
    "## Step 4: Fit the Models\n",
    "There should again be a dict of dict for posteriors. The first key will be for the episode, the second key will be the agent, and the value of this will be a list of dicts for the posteriors. "
   ]
  },
  {
   "cell_type": "markdown",
   "id": "3dd7ce3a-ab26-419f-ac82-6874cec66b4e",
   "metadata": {},
   "source": [
    "### BToM"
   ]
  },
  {
   "cell_type": "code",
   "execution_count": 17,
   "id": "07b578e1-1ec0-4112-a0be-a00c6ea367ec",
   "metadata": {},
   "outputs": [],
   "source": [
    "# Import BToM baseline\n",
    "from real_world_src.models.btom import BToM"
   ]
  },
  {
   "cell_type": "code",
   "execution_count": 18,
   "id": "c88b861e-8d79-443d-9956-c72fbb961fc5",
   "metadata": {},
   "outputs": [
    {
     "name": "stdout",
     "output_type": "stream",
     "text": [
      "Computing shortest paths...\n",
      "Done\n"
     ]
    }
   ],
   "source": [
    "btom = BToM(campus, agents, goals)"
   ]
  },
  {
   "cell_type": "code",
   "execution_count": 19,
   "id": "5e30d7ef-46bd-4081-8472-758319904771",
   "metadata": {},
   "outputs": [],
   "source": [
    "# Calculate all the posteriors using the first 30 episode\n",
    "posteriors_data = {}\n",
    "\n",
    "for episode in range(len(goal_data)):\n",
    "    posteriors_data[episode] = {}\n",
    "    for agent in agents:\n",
    "        posteriors_data[episode][agent.id] = btom.update_agent_posterior_over_path(agent, path_data[episode][agent.id])\n",
    "    # Reset the posteriors for new episode\n",
    "    btom.reset_posteriors()"
   ]
  },
  {
   "cell_type": "markdown",
   "id": "8908d792-2cce-4b27-bd85-92d418b7f404",
   "metadata": {},
   "source": [
    "### Extended BToM"
   ]
  },
  {
   "cell_type": "code",
   "execution_count": 20,
   "id": "b77ccae6-b84a-49a4-b1e6-f527d44153fa",
   "metadata": {},
   "outputs": [],
   "source": [
    "# Import BToM baseline\n",
    "from real_world_src.models.extended_btom import Extended_BToM"
   ]
  },
  {
   "cell_type": "code",
   "execution_count": 21,
   "id": "bd52fb8b-f541-4b5a-b4f2-ed2ac63518fa",
   "metadata": {},
   "outputs": [
    {
     "name": "stdout",
     "output_type": "stream",
     "text": [
      "Computing shortest paths...\n",
      "Done\n"
     ]
    }
   ],
   "source": [
    "ext_btom = Extended_BToM(campus, agents, goals)"
   ]
  },
  {
   "cell_type": "code",
   "execution_count": 22,
   "id": "6ed02246-7c26-418d-a987-9c5e11e09487",
   "metadata": {},
   "outputs": [],
   "source": [
    "# Calculate all the posteriors using the first 30 episode\n",
    "ext_posteriors_data = {}\n",
    "\n",
    "for episode in range(len(goal_data)):\n",
    "    ext_posteriors_data[episode] = {}\n",
    "    for agent in agents:\n",
    "        ext_posteriors_data[episode][agent.id] = ext_btom.update_agent_posterior_over_path(agent, path_data[episode][agent.id])\n",
    "\n"
   ]
  },
  {
   "cell_type": "code",
   "execution_count": null,
   "id": "a44e3511-63cb-4aa6-991b-7eaa3998e711",
   "metadata": {},
   "outputs": [],
   "source": []
  },
  {
   "cell_type": "code",
   "execution_count": null,
   "id": "700e9c9a-514d-4194-b305-340003199a98",
   "metadata": {},
   "outputs": [],
   "source": []
  },
  {
   "cell_type": "markdown",
   "id": "f6b00a96-79c5-4e65-ad02-90d024d1b819",
   "metadata": {},
   "source": [
    "### ToMNet"
   ]
  },
  {
   "cell_type": "code",
   "execution_count": 38,
   "id": "9a19d3f2-c588-48dd-a6f3-c6d74b8d3954",
   "metadata": {},
   "outputs": [],
   "source": [
    "from real_world_src.utils.trajectory_collector import TrajectoryCollector\n",
    "from real_world_src.models.tomnet import ToMNet\n",
    "from real_world_src.models.tomnet_trainer import ToMNetTrainer\n",
    "from real_world_src.agents.tom_agent import ToMAgent"
   ]
  },
  {
   "cell_type": "code",
   "execution_count": 34,
   "id": "8c074a07-9936-4cbe-892e-9d0dcfe9aa08",
   "metadata": {},
   "outputs": [],
   "source": [
    "trajectory_collector = TrajectoryCollector(campus, max_trajectory_length=1000)\n",
    "episode_buffers = {}\n",
    "\n",
    "# Use first 30 episodes for training data\n",
    "for episode in range(30):\n",
    "    for agent in agents:\n",
    "        episode_buffers[agent.id] = []\n",
    "        goal_node = goal_data[episode][agent.id]\n",
    "        path = path_data[episode][agent.id]\n",
    "        for step in path:\n",
    "            position = campus.get_node_coordinates(step)\n",
    "            current_node = step\n",
    "            dist_to_goal = 0\n",
    "            try:\n",
    "                dist_to_goal = self.environment.get_path_length([current_node, goal_node])\n",
    "            except:\n",
    "                # If path finding fails, use Euclidean distance\n",
    "                goal_pos = campus.get_node_coordinates(goal_node)\n",
    "                dist_to_goal = ((position[0] - goal_pos[0])**2 + (position[1] - goal_pos[1])**2) ** 0.5\n",
    "            \n",
    "            state = {\n",
    "                'position': position,\n",
    "                'node': current_node,\n",
    "                'goal_node': goal_node,\n",
    "                'dist_to_goal': dist_to_goal,\n",
    "                'species': agent.species\n",
    "            }\n",
    "            episode_buffers[agent.id].append(state)\n",
    "\n",
    "    trajectory_collector.finalize_episode(episode_buffers)"
   ]
  },
  {
   "cell_type": "code",
   "execution_count": 35,
   "id": "06d075c0-ca68-4d28-83fd-d5b55019a518",
   "metadata": {},
   "outputs": [
    {
     "name": "stdout",
     "output_type": "stream",
     "text": [
      "Training on: cpu\n"
     ]
    }
   ],
   "source": [
    "# Configure model parameters\n",
    "input_dim = 5  # State encoding dimension from trajectory_collector\n",
    "state_dim = 5  # Current state encoding dimension\n",
    "hidden_dim = 64  # Hidden layer dimension\n",
    "output_dim = 5  # Prediction output dimension (same as state encoding)\n",
    "\n",
    "# Use GPU if available\n",
    "device = torch.device(\"cuda\" if torch.cuda.is_available() else \"cpu\")\n",
    "print(f\"Training on: {device}\")\n",
    "\n",
    "# Create and train the model\n",
    "trainer = ToMNetTrainer(\n",
    "    input_dim=input_dim,\n",
    "    state_dim=state_dim,\n",
    "    hidden_dim=hidden_dim,\n",
    "    output_dim=output_dim,\n",
    "    lr=0.001,\n",
    "    device=device\n",
    ")"
   ]
  },
  {
   "cell_type": "code",
   "execution_count": 36,
   "id": "61aae5ed-9bab-4008-8295-0bbeebbb3cd2",
   "metadata": {},
   "outputs": [
    {
     "name": "stdout",
     "output_type": "stream",
     "text": [
      "Starting ToMNet training on cpu...\n"
     ]
    },
    {
     "name": "stderr",
     "output_type": "stream",
     "text": [
      "Training Epoch:   0%|                                                                                  | 0/50 [00:00<?, ?it/s]"
     ]
    },
    {
     "name": "stdout",
     "output_type": "stream",
     "text": [
      "Output shape: torch.Size([32, 5, 5])\n",
      "Target shape: torch.Size([32, 50, 5])\n",
      "Using first 5 steps for prediction\n"
     ]
    },
    {
     "name": "stderr",
     "output_type": "stream",
     "text": [
      "Training Epoch:   2%|█▍                                                                        | 1/50 [00:06<05:06,  6.25s/it]"
     ]
    },
    {
     "name": "stdout",
     "output_type": "stream",
     "text": [
      "Epoch 1/50, Loss: 1.089566\n"
     ]
    },
    {
     "name": "stderr",
     "output_type": "stream",
     "text": [
      "Training Epoch:   4%|██▉                                                                       | 2/50 [00:12<05:03,  6.31s/it]"
     ]
    },
    {
     "name": "stdout",
     "output_type": "stream",
     "text": [
      "Epoch 2/50, Loss: 1.000465\n"
     ]
    },
    {
     "name": "stderr",
     "output_type": "stream",
     "text": [
      "Training Epoch:   6%|████▍                                                                     | 3/50 [00:19<04:58,  6.35s/it]"
     ]
    },
    {
     "name": "stdout",
     "output_type": "stream",
     "text": [
      "Epoch 3/50, Loss: 0.999772\n"
     ]
    },
    {
     "name": "stderr",
     "output_type": "stream",
     "text": [
      "Training Epoch:   8%|█████▉                                                                    | 4/50 [00:25<04:48,  6.27s/it]"
     ]
    },
    {
     "name": "stdout",
     "output_type": "stream",
     "text": [
      "Epoch 4/50, Loss: 0.999730\n"
     ]
    },
    {
     "name": "stderr",
     "output_type": "stream",
     "text": [
      "Training Epoch:  10%|███████▍                                                                  | 5/50 [00:31<04:41,  6.26s/it]"
     ]
    },
    {
     "name": "stdout",
     "output_type": "stream",
     "text": [
      "Epoch 5/50, Loss: 0.999808\n"
     ]
    },
    {
     "name": "stderr",
     "output_type": "stream",
     "text": [
      "Training Epoch:  12%|████████▉                                                                 | 6/50 [00:37<04:36,  6.27s/it]"
     ]
    },
    {
     "name": "stdout",
     "output_type": "stream",
     "text": [
      "Epoch 6/50, Loss: 0.999648\n"
     ]
    },
    {
     "name": "stderr",
     "output_type": "stream",
     "text": [
      "Training Epoch:  14%|██████████▎                                                               | 7/50 [00:44<04:30,  6.29s/it]"
     ]
    },
    {
     "name": "stdout",
     "output_type": "stream",
     "text": [
      "Epoch 7/50, Loss: 0.999389\n"
     ]
    },
    {
     "name": "stderr",
     "output_type": "stream",
     "text": [
      "Training Epoch:  16%|███████████▊                                                              | 8/50 [00:50<04:24,  6.29s/it]"
     ]
    },
    {
     "name": "stdout",
     "output_type": "stream",
     "text": [
      "Epoch 8/50, Loss: 0.998514\n"
     ]
    },
    {
     "name": "stderr",
     "output_type": "stream",
     "text": [
      "Training Epoch:  18%|█████████████▎                                                            | 9/50 [00:56<04:16,  6.26s/it]"
     ]
    },
    {
     "name": "stdout",
     "output_type": "stream",
     "text": [
      "Epoch 9/50, Loss: 0.996521\n"
     ]
    },
    {
     "name": "stderr",
     "output_type": "stream",
     "text": [
      "Training Epoch:  20%|██████████████▌                                                          | 10/50 [01:02<04:09,  6.25s/it]"
     ]
    },
    {
     "name": "stdout",
     "output_type": "stream",
     "text": [
      "Epoch 10/50, Loss: 0.996423\n"
     ]
    },
    {
     "name": "stderr",
     "output_type": "stream",
     "text": [
      "Training Epoch:  22%|████████████████                                                         | 11/50 [01:08<04:03,  6.24s/it]"
     ]
    },
    {
     "name": "stdout",
     "output_type": "stream",
     "text": [
      "Epoch 11/50, Loss: 0.995661\n"
     ]
    },
    {
     "name": "stderr",
     "output_type": "stream",
     "text": [
      "Training Epoch:  24%|█████████████████▌                                                       | 12/50 [01:15<03:58,  6.28s/it]"
     ]
    },
    {
     "name": "stdout",
     "output_type": "stream",
     "text": [
      "Epoch 12/50, Loss: 0.994980\n"
     ]
    },
    {
     "name": "stderr",
     "output_type": "stream",
     "text": [
      "Training Epoch:  26%|██████████████████▉                                                      | 13/50 [01:21<03:52,  6.30s/it]"
     ]
    },
    {
     "name": "stdout",
     "output_type": "stream",
     "text": [
      "Epoch 13/50, Loss: 0.994318\n"
     ]
    },
    {
     "name": "stderr",
     "output_type": "stream",
     "text": [
      "Training Epoch:  28%|████████████████████▍                                                    | 14/50 [01:27<03:46,  6.29s/it]"
     ]
    },
    {
     "name": "stdout",
     "output_type": "stream",
     "text": [
      "Epoch 14/50, Loss: 0.993678\n"
     ]
    },
    {
     "name": "stderr",
     "output_type": "stream",
     "text": [
      "Training Epoch:  30%|█████████████████████▉                                                   | 15/50 [01:34<03:38,  6.26s/it]"
     ]
    },
    {
     "name": "stdout",
     "output_type": "stream",
     "text": [
      "Epoch 15/50, Loss: 0.993063\n"
     ]
    },
    {
     "name": "stderr",
     "output_type": "stream",
     "text": [
      "Training Epoch:  32%|███████████████████████▎                                                 | 16/50 [01:40<03:32,  6.25s/it]"
     ]
    },
    {
     "name": "stdout",
     "output_type": "stream",
     "text": [
      "Epoch 16/50, Loss: 0.992475\n"
     ]
    },
    {
     "name": "stderr",
     "output_type": "stream",
     "text": [
      "Training Epoch:  34%|████████████████████████▊                                                | 17/50 [01:46<03:26,  6.24s/it]"
     ]
    },
    {
     "name": "stdout",
     "output_type": "stream",
     "text": [
      "Epoch 17/50, Loss: 0.991916\n"
     ]
    },
    {
     "name": "stderr",
     "output_type": "stream",
     "text": [
      "Training Epoch:  36%|██████████████████████████▎                                              | 18/50 [01:52<03:19,  6.24s/it]"
     ]
    },
    {
     "name": "stdout",
     "output_type": "stream",
     "text": [
      "Epoch 18/50, Loss: 0.991387\n"
     ]
    },
    {
     "name": "stderr",
     "output_type": "stream",
     "text": [
      "Training Epoch:  38%|███████████████████████████▋                                             | 19/50 [01:59<03:13,  6.23s/it]"
     ]
    },
    {
     "name": "stdout",
     "output_type": "stream",
     "text": [
      "Epoch 19/50, Loss: 0.990888\n"
     ]
    },
    {
     "name": "stderr",
     "output_type": "stream",
     "text": [
      "Training Epoch:  40%|█████████████████████████████▏                                           | 20/50 [02:05<03:07,  6.23s/it]"
     ]
    },
    {
     "name": "stdout",
     "output_type": "stream",
     "text": [
      "Epoch 20/50, Loss: 0.990421\n"
     ]
    },
    {
     "name": "stderr",
     "output_type": "stream",
     "text": [
      "Training Epoch:  42%|██████████████████████████████▋                                          | 21/50 [02:11<03:00,  6.24s/it]"
     ]
    },
    {
     "name": "stdout",
     "output_type": "stream",
     "text": [
      "Epoch 21/50, Loss: 0.989984\n"
     ]
    },
    {
     "name": "stderr",
     "output_type": "stream",
     "text": [
      "Training Epoch:  44%|████████████████████████████████                                         | 22/50 [02:17<02:54,  6.23s/it]"
     ]
    },
    {
     "name": "stdout",
     "output_type": "stream",
     "text": [
      "Epoch 22/50, Loss: 0.989578\n"
     ]
    },
    {
     "name": "stderr",
     "output_type": "stream",
     "text": [
      "Training Epoch:  46%|█████████████████████████████████▌                                       | 23/50 [02:23<02:47,  6.22s/it]"
     ]
    },
    {
     "name": "stdout",
     "output_type": "stream",
     "text": [
      "Epoch 23/50, Loss: 0.989202\n"
     ]
    },
    {
     "name": "stderr",
     "output_type": "stream",
     "text": [
      "Training Epoch:  48%|███████████████████████████████████                                      | 24/50 [02:30<02:41,  6.21s/it]"
     ]
    },
    {
     "name": "stdout",
     "output_type": "stream",
     "text": [
      "Epoch 24/50, Loss: 0.988855\n"
     ]
    },
    {
     "name": "stderr",
     "output_type": "stream",
     "text": [
      "Training Epoch:  50%|████████████████████████████████████▌                                    | 25/50 [02:36<02:36,  6.27s/it]"
     ]
    },
    {
     "name": "stdout",
     "output_type": "stream",
     "text": [
      "Epoch 25/50, Loss: 0.988536\n"
     ]
    },
    {
     "name": "stderr",
     "output_type": "stream",
     "text": [
      "Training Epoch:  52%|█████████████████████████████████████▉                                   | 26/50 [02:42<02:30,  6.28s/it]"
     ]
    },
    {
     "name": "stdout",
     "output_type": "stream",
     "text": [
      "Epoch 26/50, Loss: 0.988243\n"
     ]
    },
    {
     "name": "stderr",
     "output_type": "stream",
     "text": [
      "Training Epoch:  54%|███████████████████████████████████████▍                                 | 27/50 [02:49<02:24,  6.29s/it]"
     ]
    },
    {
     "name": "stdout",
     "output_type": "stream",
     "text": [
      "Epoch 27/50, Loss: 0.987976\n"
     ]
    },
    {
     "name": "stderr",
     "output_type": "stream",
     "text": [
      "Training Epoch:  56%|████████████████████████████████████████▉                                | 28/50 [02:55<02:18,  6.31s/it]"
     ]
    },
    {
     "name": "stdout",
     "output_type": "stream",
     "text": [
      "Epoch 28/50, Loss: 0.987733\n"
     ]
    },
    {
     "name": "stderr",
     "output_type": "stream",
     "text": [
      "Training Epoch:  58%|██████████████████████████████████████████▎                              | 29/50 [03:01<02:12,  6.31s/it]"
     ]
    },
    {
     "name": "stdout",
     "output_type": "stream",
     "text": [
      "Epoch 29/50, Loss: 0.987512\n"
     ]
    },
    {
     "name": "stderr",
     "output_type": "stream",
     "text": [
      "Training Epoch:  60%|███████████████████████████████████████████▊                             | 30/50 [03:08<02:05,  6.30s/it]"
     ]
    },
    {
     "name": "stdout",
     "output_type": "stream",
     "text": [
      "Epoch 30/50, Loss: 0.987312\n"
     ]
    },
    {
     "name": "stderr",
     "output_type": "stream",
     "text": [
      "Training Epoch:  62%|█████████████████████████████████████████████▎                           | 31/50 [03:14<01:59,  6.28s/it]"
     ]
    },
    {
     "name": "stdout",
     "output_type": "stream",
     "text": [
      "Epoch 31/50, Loss: 0.987132\n"
     ]
    },
    {
     "name": "stderr",
     "output_type": "stream",
     "text": [
      "Training Epoch:  64%|██████████████████████████████████████████████▋                          | 32/50 [03:20<01:53,  6.28s/it]"
     ]
    },
    {
     "name": "stdout",
     "output_type": "stream",
     "text": [
      "Epoch 32/50, Loss: 0.986970\n"
     ]
    },
    {
     "name": "stderr",
     "output_type": "stream",
     "text": [
      "Training Epoch:  66%|████████████████████████████████████████████████▏                        | 33/50 [03:26<01:46,  6.29s/it]"
     ]
    },
    {
     "name": "stdout",
     "output_type": "stream",
     "text": [
      "Epoch 33/50, Loss: 0.986824\n"
     ]
    },
    {
     "name": "stderr",
     "output_type": "stream",
     "text": [
      "Training Epoch:  68%|█████████████████████████████████████████████████▋                       | 34/50 [03:33<01:40,  6.31s/it]"
     ]
    },
    {
     "name": "stdout",
     "output_type": "stream",
     "text": [
      "Epoch 34/50, Loss: 0.986694\n"
     ]
    },
    {
     "name": "stderr",
     "output_type": "stream",
     "text": [
      "Training Epoch:  70%|███████████████████████████████████████████████████                      | 35/50 [03:39<01:34,  6.30s/it]"
     ]
    },
    {
     "name": "stdout",
     "output_type": "stream",
     "text": [
      "Epoch 35/50, Loss: 0.986577\n"
     ]
    },
    {
     "name": "stderr",
     "output_type": "stream",
     "text": [
      "Training Epoch:  72%|████████████████████████████████████████████████████▌                    | 36/50 [03:45<01:28,  6.31s/it]"
     ]
    },
    {
     "name": "stdout",
     "output_type": "stream",
     "text": [
      "Epoch 36/50, Loss: 0.986474\n"
     ]
    },
    {
     "name": "stderr",
     "output_type": "stream",
     "text": [
      "Training Epoch:  74%|██████████████████████████████████████████████████████                   | 37/50 [03:52<01:22,  6.31s/it]"
     ]
    },
    {
     "name": "stdout",
     "output_type": "stream",
     "text": [
      "Epoch 37/50, Loss: 0.986381\n"
     ]
    },
    {
     "name": "stderr",
     "output_type": "stream",
     "text": [
      "Training Epoch:  76%|███████████████████████████████████████████████████████▍                 | 38/50 [03:58<01:15,  6.30s/it]"
     ]
    },
    {
     "name": "stdout",
     "output_type": "stream",
     "text": [
      "Epoch 38/50, Loss: 0.986299\n"
     ]
    },
    {
     "name": "stderr",
     "output_type": "stream",
     "text": [
      "Training Epoch:  78%|████████████████████████████████████████████████████████▉                | 39/50 [04:04<01:09,  6.31s/it]"
     ]
    },
    {
     "name": "stdout",
     "output_type": "stream",
     "text": [
      "Epoch 39/50, Loss: 0.986227\n"
     ]
    },
    {
     "name": "stderr",
     "output_type": "stream",
     "text": [
      "Training Epoch:  80%|██████████████████████████████████████████████████████████▍              | 40/50 [04:11<01:03,  6.33s/it]"
     ]
    },
    {
     "name": "stdout",
     "output_type": "stream",
     "text": [
      "Epoch 40/50, Loss: 0.986162\n"
     ]
    },
    {
     "name": "stderr",
     "output_type": "stream",
     "text": [
      "Training Epoch:  82%|███████████████████████████████████████████████████████████▊             | 41/50 [04:17<00:56,  6.31s/it]"
     ]
    },
    {
     "name": "stdout",
     "output_type": "stream",
     "text": [
      "Epoch 41/50, Loss: 0.986105\n"
     ]
    },
    {
     "name": "stderr",
     "output_type": "stream",
     "text": [
      "Training Epoch:  84%|█████████████████████████████████████████████████████████████▎           | 42/50 [04:23<00:50,  6.28s/it]"
     ]
    },
    {
     "name": "stdout",
     "output_type": "stream",
     "text": [
      "Epoch 42/50, Loss: 0.986055\n"
     ]
    },
    {
     "name": "stderr",
     "output_type": "stream",
     "text": [
      "Training Epoch:  86%|██████████████████████████████████████████████████████████████▊          | 43/50 [04:29<00:43,  6.28s/it]"
     ]
    },
    {
     "name": "stdout",
     "output_type": "stream",
     "text": [
      "Epoch 43/50, Loss: 0.986011\n"
     ]
    },
    {
     "name": "stderr",
     "output_type": "stream",
     "text": [
      "Training Epoch:  88%|████████████████████████████████████████████████████████████████▏        | 44/50 [04:36<00:37,  6.29s/it]"
     ]
    },
    {
     "name": "stdout",
     "output_type": "stream",
     "text": [
      "Epoch 44/50, Loss: 0.985972\n"
     ]
    },
    {
     "name": "stderr",
     "output_type": "stream",
     "text": [
      "Training Epoch:  90%|█████████████████████████████████████████████████████████████████▋       | 45/50 [04:42<00:31,  6.29s/it]"
     ]
    },
    {
     "name": "stdout",
     "output_type": "stream",
     "text": [
      "Epoch 45/50, Loss: 0.985937\n"
     ]
    },
    {
     "name": "stderr",
     "output_type": "stream",
     "text": [
      "Training Epoch:  92%|███████████████████████████████████████████████████████████████████▏     | 46/50 [04:48<00:25,  6.29s/it]"
     ]
    },
    {
     "name": "stdout",
     "output_type": "stream",
     "text": [
      "Epoch 46/50, Loss: 0.985907\n"
     ]
    },
    {
     "name": "stderr",
     "output_type": "stream",
     "text": [
      "Training Epoch:  94%|████████████████████████████████████████████████████████████████████▌    | 47/50 [04:55<00:18,  6.27s/it]"
     ]
    },
    {
     "name": "stdout",
     "output_type": "stream",
     "text": [
      "Epoch 47/50, Loss: 0.985880\n"
     ]
    },
    {
     "name": "stderr",
     "output_type": "stream",
     "text": [
      "Training Epoch:  96%|██████████████████████████████████████████████████████████████████████   | 48/50 [05:01<00:12,  6.26s/it]"
     ]
    },
    {
     "name": "stdout",
     "output_type": "stream",
     "text": [
      "Epoch 48/50, Loss: 0.985857\n"
     ]
    },
    {
     "name": "stderr",
     "output_type": "stream",
     "text": [
      "Training Epoch:  98%|███████████████████████████████████████████████████████████████████████▌ | 49/50 [05:07<00:06,  6.28s/it]"
     ]
    },
    {
     "name": "stdout",
     "output_type": "stream",
     "text": [
      "Epoch 49/50, Loss: 0.985836\n"
     ]
    },
    {
     "name": "stderr",
     "output_type": "stream",
     "text": [
      "Training Epoch: 100%|█████████████████████████████████████████████████████████████████████████| 50/50 [05:13<00:00,  6.28s/it]"
     ]
    },
    {
     "name": "stdout",
     "output_type": "stream",
     "text": [
      "Epoch 50/50, Loss: 0.985817\n",
      "Training completed!\n"
     ]
    },
    {
     "name": "stderr",
     "output_type": "stream",
     "text": [
      "\n"
     ]
    }
   ],
   "source": [
    "# Train the model\n",
    "model = trainer.train(\n",
    "    trajectory_collector=trajectory_collector,\n",
    "    batch_size=32,\n",
    "    epochs=50\n",
    ")"
   ]
  },
  {
   "cell_type": "code",
   "execution_count": 39,
   "id": "8d7374e5-025a-463f-9dda-f8adea245939",
   "metadata": {},
   "outputs": [],
   "source": [
    "tom_agent = ToMAgent(\n",
    "    agent_id=\"tom_agent_1\",\n",
    "    environment=campus,\n",
    "    tomnet=model,\n",
    "    start_node=None,  # Will be assigned automatically\n",
    "    goal_node=None,   # Will be assigned automatically\n",
    "    color=\"#ffffff\"   # White color to distinguish it\n",
    ")\n",
    "\n",
    "# Add the ToM agent to the environment\n",
    "campus.add_agent(tom_agent)"
   ]
  },
  {
   "cell_type": "code",
   "execution_count": null,
   "id": "49eea85d-7ef1-4956-879a-3b2af63289fb",
   "metadata": {},
   "outputs": [],
   "source": []
  },
  {
   "cell_type": "code",
   "execution_count": null,
   "id": "261da935-1a0e-43fd-89a1-ccd3e1cfa3cb",
   "metadata": {},
   "outputs": [],
   "source": []
  },
  {
   "cell_type": "code",
   "execution_count": null,
   "id": "f27c44c0-3bbd-49a9-8212-2ecd244c1ff2",
   "metadata": {},
   "outputs": [],
   "source": []
  },
  {
   "cell_type": "code",
   "execution_count": null,
   "id": "22a2d281-f71e-4eaf-a0b3-be8d6d63d7f7",
   "metadata": {},
   "outputs": [],
   "source": []
  },
  {
   "cell_type": "markdown",
   "id": "2b6d7170-c62d-4d59-9dcc-1422430d7cd6",
   "metadata": {},
   "source": [
    "## Step 5: Visualizing Performance for Experiment 0  \n",
    "We want to visualize the average brier score across all agents for all epsiodes. That is, calculate the brier score for every path and then take the average. Plot this as a line."
   ]
  },
  {
   "cell_type": "code",
   "execution_count": 23,
   "id": "eb8dc133-9a9d-45bf-a50a-aa14a13d74b4",
   "metadata": {},
   "outputs": [],
   "source": [
    "from real_world_src.utils.metrics import brier_along_path, accuracy_along_path"
   ]
  },
  {
   "cell_type": "code",
   "execution_count": 24,
   "id": "be36b3ec-94cc-4c8a-9aad-b8635b37eeab",
   "metadata": {},
   "outputs": [],
   "source": [
    "# BToM Scores\n",
    "scores = []\n",
    "for episode in range(len(goal_data)):\n",
    "    for agent in agents:\n",
    "        scores.append(brier_along_path(path_data[episode][agent.id], \n",
    "                                  goal_data[episode][agent.id], \n",
    "                                  posteriors_data[episode][agent.id], \n",
    "                                  goals))\n",
    "# Extended BToM Scores\n",
    "ext_scores = []\n",
    "for episode in range(len(goal_data)):\n",
    "    for agent in agents:\n",
    "        ext_scores.append(brier_along_path(path_data[episode][agent.id], \n",
    "                                  goal_data[episode][agent.id], \n",
    "                                  ext_posteriors_data[episode][agent.id], \n",
    "                                  goals))"
   ]
  },
  {
   "cell_type": "code",
   "execution_count": 25,
   "id": "879cd422-ca7c-4179-bd2b-a6153f6eee09",
   "metadata": {},
   "outputs": [],
   "source": [
    "# BToM Scores\n",
    "btom_acc = []\n",
    "for episode in range(len(goal_data)):\n",
    "    for agent in agents:\n",
    "        btom_acc.append(accuracy_along_path(path_data[episode][agent.id], \n",
    "                                  goal_data[episode][agent.id], \n",
    "                                  posteriors_data[episode][agent.id], \n",
    "                                  goals))\n",
    "# Extended BToM Scores\n",
    "ext_acc = []\n",
    "for episode in range(len(goal_data)):\n",
    "    for agent in agents:\n",
    "        ext_acc.append(accuracy_along_path(path_data[episode][agent.id], \n",
    "                                  goal_data[episode][agent.id], \n",
    "                                  ext_posteriors_data[episode][agent.id], \n",
    "                                  goals))"
   ]
  },
  {
   "cell_type": "code",
   "execution_count": 26,
   "id": "1e995fc8-386c-4c3e-8200-9a3eacd31104",
   "metadata": {},
   "outputs": [
    {
     "data": {
      "image/png": "[encoded data removed]",
      "text/plain": [
       "<Figure size 1000x600 with 1 Axes>"
      ]
     },
     "metadata": {},
     "output_type": "display_data"
    }
   ],
   "source": [
    "import numpy as np\n",
    "import matplotlib.pyplot as plt\n",
    "\n",
    "# Suppose `scores` is your (n_trajectories × n_fractions) array:\n",
    "arr = np.array(scores)  # shape (N, 11)\n",
    "ext_arr  = np.array(ext_scores)\n",
    "props = np.linspace(0, 1, arr.shape[1])\n",
    "\n",
    "# Compute mean\n",
    "mean_base = arr.mean(axis=0)\n",
    "mean_ext  = ext_arr.mean(axis=0)\n",
    "\n",
    "plt.figure(figsize=(10,6))\n",
    "plt.plot(props, mean_base, '-o', label='BToM')\n",
    "plt.plot(props, mean_ext,  '-s', label='Extended BToM')\n",
    "\n",
    "plt.xlabel('Proportion of Path Observed')\n",
    "plt.ylabel('Brier Score')\n",
    "plt.title('Brier Score vs. Path Fraction')\n",
    "plt.xticks(props)\n",
    "plt.ylim(0, 1.5)\n",
    "plt.grid(alpha=0.3)\n",
    "plt.legend()\n",
    "plt.tight_layout()\n",
    "plt.show()"
   ]
  },
  {
   "cell_type": "code",
   "execution_count": 27,
   "id": "24d0fe36-9cb3-4b1e-894f-c295e908f5d5",
   "metadata": {},
   "outputs": [
    {
     "data": {
      "image/png": "[encoded data removed]",
      "text/plain": [
       "<Figure size 1000x600 with 1 Axes>"
      ]
     },
     "metadata": {},
     "output_type": "display_data"
    }
   ],
   "source": [
    "import numpy as np\n",
    "import matplotlib.pyplot as plt\n",
    "\n",
    "# Suppose `scores` is your (n_trajectories × n_fractions) array:\n",
    "arr = np.array(btom_acc)  # shape (N, 11)\n",
    "ext_arr  = np.array(ext_acc)\n",
    "props = np.linspace(0, 1, arr.shape[1])\n",
    "\n",
    "# Compute mean\n",
    "mean_base = arr.mean(axis=0)\n",
    "mean_ext  = ext_arr.mean(axis=0)\n",
    "\n",
    "plt.figure(figsize=(10,6))\n",
    "plt.plot(props, mean_base, '-o', label='BToM')\n",
    "plt.plot(props, mean_ext,  '-s', label='Extended BToM')\n",
    "\n",
    "plt.xlabel('Proportion of Path Observed')\n",
    "plt.ylabel('Accuracy')\n",
    "plt.title('Accuracy vs. Path Fraction')\n",
    "plt.xticks(props)\n",
    "plt.ylim(0, 1.5)\n",
    "plt.grid(alpha=0.3)\n",
    "plt.legend()\n",
    "plt.tight_layout()\n",
    "plt.show()"
   ]
  },
  {
   "cell_type": "code",
   "execution_count": null,
   "id": "2d4b0058-fd6b-4fad-9ec5-c8cd1233119d",
   "metadata": {},
   "outputs": [],
   "source": []
  },
  {
   "cell_type": "code",
   "execution_count": null,
   "id": "87cfcf79-5913-46c1-a842-ad92614d9715",
   "metadata": {},
   "outputs": [],
   "source": []
  },
  {
   "cell_type": "code",
   "execution_count": null,
   "id": "d5da3715-1e7e-4713-b865-4341c9b539b0",
   "metadata": {},
   "outputs": [],
   "source": []
  },
  {
   "cell_type": "code",
   "execution_count": 18,
   "id": "f8899e57-9f79-49ae-b548-c564e32f6196",
   "metadata": {},
   "outputs": [],
   "source": []
  },
  {
   "cell_type": "code",
   "execution_count": null,
   "id": "ec673c0c-4372-4423-b2c0-8fd188e6f54e",
   "metadata": {},
   "outputs": [],
   "source": []
  },
  {
   "cell_type": "code",
   "execution_count": null,
   "id": "f7c5de70-3d1a-43e3-981c-6a339b829dc9",
   "metadata": {},
   "outputs": [],
   "source": []
  },
  {
   "cell_type": "code",
   "execution_count": null,
   "id": "9dfbbd05-25b0-440f-b0a7-feeff19f249c",
   "metadata": {},
   "outputs": [],
   "source": []
  },
  {
   "cell_type": "code",
   "execution_count": null,
   "id": "bae657c0-8e55-4d60-9af3-0767439a48b8",
   "metadata": {},
   "outputs": [],
   "source": []
  },
  {
   "cell_type": "code",
   "execution_count": null,
   "id": "6c1d6dbf-f5f5-4b82-9694-ed6bf46811a4",
   "metadata": {},
   "outputs": [],
   "source": []
  },
  {
   "cell_type": "code",
   "execution_count": null,
   "id": "67fca93b-1cbf-4acc-b131-04c8025440f8",
   "metadata": {},
   "outputs": [],
   "source": []
  },
  {
   "cell_type": "code",
   "execution_count": null,
   "id": "3dbb07be-e01a-4d2c-9dc4-cedf4a2fcff4",
   "metadata": {},
   "outputs": [],
   "source": []
  },
  {
   "cell_type": "code",
   "execution_count": null,
   "id": "da5fcb5c-e64c-4cef-9dfc-1d0544eb5651",
   "metadata": {},
   "outputs": [],
   "source": []
  }
 ],
 "metadata": {
  "kernelspec": {
   "display_name": "Python (tom)",
   "language": "python",
   "name": "tom"
  },
  "language_info": {
   "codemirror_mode": {
    "name": "ipython",
    "version": 3
   },
   "file_extension": ".py",
   "mimetype": "text/x-python",
   "name": "python",
   "nbconvert_exporter": "python",
   "pygments_lexer": "ipython3",
   "version": "3.12.0"
  }
 },
 "nbformat": 4,
 "nbformat_minor": 5
}
