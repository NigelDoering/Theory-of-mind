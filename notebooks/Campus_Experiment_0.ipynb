{
 "cells": [
  {
   "cell_type": "markdown",
   "id": "0af56c5f-2901-400b-a682-8c4cfab6b611",
   "metadata": {},
   "source": [
    "# Experiment  0: ToM Overall Model Performance\n"
   ]
  },
  {
   "cell_type": "code",
   "execution_count": 1,
   "id": "7c5b1840-cde8-455b-828d-b405646d3247",
   "metadata": {},
   "outputs": [
    {
     "name": "stderr",
     "output_type": "stream",
     "text": [
      "WARNING (pytensor.configdefaults): g++ not available, if using conda: `conda install gxx`\n",
      "WARNING (pytensor.configdefaults): g++ not detected!  PyTensor will be unable to compile C-implementations and will default to Python. Performance may be severely degraded. To remove this warning, set PyTensor flags cxx to an empty string.\n"
     ]
    }
   ],
   "source": [
    "import numpy as np\n",
    "import pymc\n",
    "import networkx as nx\n",
    "import matplotlib.pyplot as plt\n",
    "import random\n",
    "import torch"
   ]
  },
  {
   "cell_type": "code",
   "execution_count": 2,
   "id": "10e47055-0cb8-491b-bc16-2a8d8dcce4a7",
   "metadata": {},
   "outputs": [],
   "source": [
    "import sys\n",
    "import os\n",
    "import osmnx as ox\n",
    "\n",
    "# Adjust this path as needed to point to your project root\n",
    "sys.path.append(os.path.abspath(\"..\"))"
   ]
  },
  {
   "cell_type": "code",
   "execution_count": 3,
   "id": "0c402353-27ab-46bf-b576-52d2d4d2c865",
   "metadata": {},
   "outputs": [],
   "source": [
    "def plot_goal_distribution(goal_distribution):\n",
    "    \"\"\"\n",
    "    Plot the goal distribution as a bar plot.\n",
    "\n",
    "    Parameters\n",
    "    ----------\n",
    "    goal_distribution : dict\n",
    "        Dictionary mapping candidate goal IDs to probability values.\n",
    "    \"\"\"\n",
    "    # Extract goal IDs and probabilities, converting to floats if needed.\n",
    "    goals = list(goal_distribution.keys())\n",
    "    probs = [float(goal_distribution[g]) for g in goals]\n",
    "    \n",
    "    # Create the bar plot.\n",
    "    plt.figure(figsize=(10, 6))\n",
    "    plt.bar(range(len(goals)), probs, tick_label=[str(g) for g in goals])\n",
    "    plt.xlabel(\"Candidate Goal IDs\")\n",
    "    plt.ylabel(\"Probability\")\n",
    "    plt.title(\"Posterior Distribution over Candidate Goals\")\n",
    "    plt.xticks(rotation=45, ha=\"right\")\n",
    "    plt.tight_layout()\n",
    "    plt.show()"
   ]
  },
  {
   "cell_type": "code",
   "execution_count": 4,
   "id": "ae66225e-25c8-4648-809e-6fd2f98fe8b6",
   "metadata": {},
   "outputs": [],
   "source": [
    "def visualize_map(campus,\n",
    "                  path=None,\n",
    "                  goal_nodes=None,\n",
    "                  ax=None):\n",
    "    \"\"\"\n",
    "    Visualize the campus map, plus optional trajectory, start, waypoint, and goal nodes.\n",
    "    \n",
    "    Arguments:\n",
    "      campus         an object with:\n",
    "                        - campus.G           : a networkx graph\n",
    "                        - campus.node_coords : dict[node] -> (x, y) coordinates\n",
    "                        - campus.buildings   : a GeoDataFrame of building footprints (or None)\n",
    "      path           list of node‐IDs, the agent’s trajectory to draw (in order)\n",
    "      start_nodes    list of node‐IDs to mark as start(s)\n",
    "      waypoint       single node‐ID to mark as an intermediate waypoint\n",
    "      goal_nodes     list of node‐IDs to mark as goal(s)\n",
    "      ax             optional matplotlib Axes onto which to draw\n",
    "      \n",
    "    Returns:\n",
    "      fig, ax        the figure & axis\n",
    "    \"\"\"\n",
    "    # 1) draw the base map\n",
    "    if ax is None:\n",
    "        fig, ax = ox.plot_graph(campus.G,\n",
    "                                figsize=(15,15),\n",
    "                                node_size=5,\n",
    "                                edge_color=\"#999999\",\n",
    "                                show=False,\n",
    "                                close=False)\n",
    "    else:\n",
    "        fig = ax.figure\n",
    "        ox.plot_graph(campus.G,\n",
    "                      ax=ax,\n",
    "                      node_size=5,\n",
    "                      edge_color=\"#999999\",\n",
    "                      show=False)\n",
    "    \n",
    "    # 2) overlay buildings if you have them\n",
    "    if getattr(campus, \"buildings\", None) is not None:\n",
    "        campus.buildings.plot(ax=ax,\n",
    "                              color=\"#bbbbbb\",\n",
    "                              alpha=0.7,\n",
    "                              edgecolor=\"#444444\")\n",
    "    \n",
    "    # 3) draw the agent’s path\n",
    "    if path is not None and len(path) > 1:\n",
    "        coords = [campus.node_coords[n] for n in path]\n",
    "        xs, ys = zip(*coords)\n",
    "        ax.plot(xs, ys,\n",
    "                linestyle='-',\n",
    "                linewidth=3.0,\n",
    "                color='lightblue',\n",
    "                alpha=0.8,\n",
    "                zorder=3,\n",
    "                label=\"Trajectory\")\n",
    "        # and mark the actual visited nodes\n",
    "        ax.scatter(xs, ys,\n",
    "                   c='C0',\n",
    "                   s=30,\n",
    "                   zorder=4)\n",
    "    \n",
    "    # 6) mark goal nodes\n",
    "    if goal_nodes:\n",
    "        goal_coords = [campus.node_coords[n] for n in goal_nodes]\n",
    "        xs, ys = zip(*goal_coords)\n",
    "        ax.scatter(xs, ys,\n",
    "                   c=\"yellow\",\n",
    "                   s=160,\n",
    "                   marker=\"*\",\n",
    "                   zorder=5,\n",
    "                   label=\"Goal\")\n",
    "    \n",
    "    # 7) finalize\n",
    "    ax.legend(loc=\"upper right\")\n",
    "    ax.set_title(\"UCSD Campus Environment\")\n",
    "    ax.set_axis_off()\n",
    "    fig.tight_layout()\n",
    "    return fig, ax"
   ]
  },
  {
   "cell_type": "code",
   "execution_count": 5,
   "id": "eaafe0ee-e10e-4ca6-a9db-d6125df1e119",
   "metadata": {},
   "outputs": [],
   "source": [
    "from real_world_src.environment.campus_env import CampusEnvironment\n",
    "from real_world_src.agents.agent_factory import AgentFactory\n",
    "from real_world_src.simulation.simulator import Simulator\n",
    "#from real_world_src.simulation.experiment_1 import Simulator\n",
    "\n",
    "from real_world_src.utils.run_manager import RunManager\n",
    "from real_world_src.utils.config import VISUAL_CONFIG\n",
    "from real_world_src.utils.config import get_agent_color\n"
   ]
  },
  {
   "cell_type": "markdown",
   "id": "5c7670da-fc0e-4cbf-ae62-64c288c8243c",
   "metadata": {},
   "source": [
    "## Steps  \n",
    "1. Create the UCSD campus world\n",
    "2. Create n agents each with a specific distribution over the goals\n",
    "3. Run m epsiodes where each agent chooses a goal and performs a single path to that goal\n",
    "4. Use this data as training set"
   ]
  },
  {
   "cell_type": "markdown",
   "id": "9d3521d0-745e-48a4-bc1c-ef76b62a628c",
   "metadata": {},
   "source": [
    "## Step 1: Create the Map"
   ]
  },
  {
   "cell_type": "code",
   "execution_count": 6,
   "id": "e78418df-240d-4e7c-93d8-c6c452bdacd4",
   "metadata": {},
   "outputs": [
    {
     "name": "stdout",
     "output_type": "stream",
     "text": [
      "Loading map data for University of California, San Diego, La Jolla, CA, USA...\n",
      "Environment loaded with 3136 nodes and 8704 edges\n"
     ]
    }
   ],
   "source": [
    "# Create a run manager\n",
    "# run_manager = RunManager('visuals')\n",
    "# run_dir = run_manager.start_new_run()\n",
    "\n",
    "# Initialize campus environment\n",
    "campus = CampusEnvironment()"
   ]
  },
  {
   "cell_type": "markdown",
   "id": "f742f179-ff68-4b38-aff4-ddaf202362b9",
   "metadata": {},
   "source": [
    "## Step 2: Create N Agents"
   ]
  },
  {
   "cell_type": "code",
   "execution_count": 7,
   "id": "ec6bdf25-4915-4b89-8dba-c78b873f0179",
   "metadata": {},
   "outputs": [],
   "source": [
    "# Need to establish the set of common goals (just choose the landmark nodes)\n",
    "goals = [469084068, 49150691, 768264666, 1926666015, 1926673385, 49309735,\n",
    "         273627682, 445989107, 445992528, 446128310, 1772230346, 1926673336, \n",
    "         2872424923, 3139419286, 4037576308]"
   ]
  },
  {
   "cell_type": "code",
   "execution_count": 8,
   "id": "4c33922c-bfa7-46ea-9974-bcb2da19b9bc",
   "metadata": {},
   "outputs": [
    {
     "data": {
      "text/plain": [
       "' Already created agents and saved as pkl\\n# Create n agents\\nagents = []\\nn = 100\\nfor i in range(n):\\n    agents.append(AgentFactory.create_agent(\"shortest\"))\\n    agents[i].id = i\\n\\nn_goals = len(goals)\\nag_alpha = np.random.normal(1, 0.2, size=n_goals)\\n\\nfor agent in agents: # Set each agent\\'s goal distribution\\n    agent.goal_distribution = np.random.dirichlet(alpha=np.ones(n_goals)*(ag_alpha), size=1)[0]\\n    agent.environment = campus\\n\\n# Save the agents \\nimport pickle\\n\\n# suppose `agents` is your list of Agent instances\\nwith open(\\'agents.pkl\\', \\'wb\\') as f:\\n    pickle.dump(agents, f)\\n\\n# '"
      ]
     },
     "execution_count": 8,
     "metadata": {},
     "output_type": "execute_result"
    }
   ],
   "source": [
    "\"\"\" Already created agents and saved as pkl\n",
    "# Create n agents\n",
    "agents = []\n",
    "n = 100\n",
    "for i in range(n):\n",
    "    agents.append(AgentFactory.create_agent(\"shortest\"))\n",
    "    agents[i].id = i\n",
    "\n",
    "n_goals = len(goals)\n",
    "ag_alpha = np.random.normal(1, 0.2, size=n_goals)\n",
    "\n",
    "for agent in agents: # Set each agent's goal distribution\n",
    "    agent.goal_distribution = np.random.dirichlet(alpha=np.ones(n_goals)*(ag_alpha), size=1)[0]\n",
    "    agent.environment = campus\n",
    "\n",
    "# Save the agents \n",
    "import pickle\n",
    "\n",
    "# suppose `agents` is your list of Agent instances\n",
    "with open('agents.pkl', 'wb') as f:\n",
    "    pickle.dump(agents, f)\n",
    "\n",
    "# \"\"\""
   ]
  },
  {
   "cell_type": "code",
   "execution_count": 9,
   "id": "552271a1-b2fd-40ed-b2cc-f42f3fbfee57",
   "metadata": {},
   "outputs": [],
   "source": [
    "def new_episode(agents):\n",
    "\n",
    "    # Set the goal and start nodes\n",
    "    for agent in agents:\n",
    "        agent.path = [] # Clear the old path\n",
    "        agent.goal_node = int(np.random.choice(goals, size=1, p=agent.goal_distribution)[0])\n",
    "\n",
    "        while True:\n",
    "            start_node = campus.get_random_node()\n",
    "            try:\n",
    "                path = nx.shortest_path(campus.G_undirected, \n",
    "                                       source=start_node, \n",
    "                                       target=agent.goal_node, \n",
    "                                       weight='length')\n",
    "                if len(path) >15:  # Make sure path is non-trivial\n",
    "                    break\n",
    "            except:\n",
    "                continue\n",
    "        agent.start_node = start_node\n",
    "        agent.current_node = start_node\n",
    "\n",
    "    return "
   ]
  },
  {
   "cell_type": "markdown",
   "id": "85dac1c3-4dc8-4561-a09b-7c7bf4689e90",
   "metadata": {},
   "source": [
    "## Step 3: Perform Episodes and Data Collection"
   ]
  },
  {
   "cell_type": "code",
   "execution_count": 10,
   "id": "f7d02913-3faf-40f7-8196-aa41436a469d",
   "metadata": {},
   "outputs": [],
   "source": [
    "import json"
   ]
  },
  {
   "cell_type": "code",
   "execution_count": 11,
   "id": "34b540e4-d51d-4a85-aad1-1ba4c7cd9bda",
   "metadata": {},
   "outputs": [
    {
     "data": {
      "text/plain": [
       "' Already ran once. Data is saved in /data\\n\\npath_data = {}\\ngoal_data = {}\\nm = 100\\nfor episode in range(m):\\n    new_episode(agents)\\n    episode_path_data = {}\\n    episode_goal_data = {}\\n    for agent in agents:\\n        agent.plan_path()\\n        episode_path_data[agent.id] = agent.path\\n        episode_goal_data[agent.id] = agent.goal_node\\n    # Save the data from each episode\\n    path_data[episode] = episode_path_data\\n    goal_data[episode] = episode_goal_data\\n\\nwith open(\"./data/path_data.json\", \"w\") as file:\\n    json.dump(path_data, file, indent=4)\\n\\nwith open(\"./data/goal_data.json\", \"w\") as file:\\n    json.dump(goal_data, file, indent=4)\\n\\n# '"
      ]
     },
     "execution_count": 11,
     "metadata": {},
     "output_type": "execute_result"
    }
   ],
   "source": [
    "\"\"\" Already ran once. Data is saved in /data\n",
    "\n",
    "path_data = {}\n",
    "goal_data = {}\n",
    "m = 100\n",
    "for episode in range(m):\n",
    "    new_episode(agents)\n",
    "    episode_path_data = {}\n",
    "    episode_goal_data = {}\n",
    "    for agent in agents:\n",
    "        agent.plan_path()\n",
    "        episode_path_data[agent.id] = agent.path\n",
    "        episode_goal_data[agent.id] = agent.goal_node\n",
    "    # Save the data from each episode\n",
    "    path_data[episode] = episode_path_data\n",
    "    goal_data[episode] = episode_goal_data\n",
    "\n",
    "with open(\"./data/path_data.json\", \"w\") as file:\n",
    "    json.dump(path_data, file, indent=4)\n",
    "\n",
    "with open(\"./data/goal_data.json\", \"w\") as file:\n",
    "    json.dump(goal_data, file, indent=4)\n",
    "\n",
    "# \"\"\""
   ]
  },
  {
   "cell_type": "markdown",
   "id": "da41552e-8521-4de9-8c57-fa022ed0211a",
   "metadata": {},
   "source": [
    "### Load existing data"
   ]
  },
  {
   "cell_type": "code",
   "execution_count": 12,
   "id": "c416d7b0-9f2d-49f6-bae2-58ff3b3a6c0e",
   "metadata": {},
   "outputs": [],
   "source": [
    "import json, pickle\n",
    "\n",
    "with open(\"./data/path_data.json\", 'r') as file:\n",
    "    path_data = json.load(file)\n",
    "\n",
    "with open(\"./data/goal_data.json\", 'r') as file:\n",
    "    goal_data = json.load(file)\n",
    "\n",
    "with open('agents.pkl', 'rb') as f:\n",
    "    agents = pickle.load(f)"
   ]
  },
  {
   "cell_type": "code",
   "execution_count": 13,
   "id": "80616ce4-0671-4838-ac61-7559103e252d",
   "metadata": {},
   "outputs": [],
   "source": [
    "def convert_keys_to_int(data):\n",
    "    if isinstance(data, dict):\n",
    "        return {int(k) if isinstance(k, str) and k.isdigit() else k: convert_keys_to_int(v) for k, v in data.items()}\n",
    "    elif isinstance(data, list):\n",
    "        return [convert_keys_to_int(item) for item in data]\n",
    "    else:\n",
    "        return data"
   ]
  },
  {
   "cell_type": "code",
   "execution_count": 14,
   "id": "7d112963-0bb5-4da9-9c7f-79b74d0cd810",
   "metadata": {},
   "outputs": [],
   "source": [
    "goal_data = convert_keys_to_int(goal_data)\n",
    "path_data = convert_keys_to_int(path_data)"
   ]
  },
  {
   "cell_type": "markdown",
   "id": "dedbcf19-d824-4887-abe8-48793d60334c",
   "metadata": {},
   "source": [
    "## Step 4: Fit the Models\n",
    "There should again be a dict of dict for posteriors. The first key will be for the episode, the second key will be the agent, and the value of this will be a list of dicts for the posteriors. "
   ]
  },
  {
   "cell_type": "markdown",
   "id": "3dd7ce3a-ab26-419f-ac82-6874cec66b4e",
   "metadata": {},
   "source": [
    "### BToM"
   ]
  },
  {
   "cell_type": "code",
   "execution_count": 15,
   "id": "07b578e1-1ec0-4112-a0be-a00c6ea367ec",
   "metadata": {},
   "outputs": [],
   "source": [
    "# Import BToM baseline\n",
    "from real_world_src.models.btom import BToM"
   ]
  },
  {
   "cell_type": "code",
   "execution_count": 16,
   "id": "c88b861e-8d79-443d-9956-c72fbb961fc5",
   "metadata": {},
   "outputs": [
    {
     "name": "stdout",
     "output_type": "stream",
     "text": [
      "Computing shortest paths...\n",
      "Done\n"
     ]
    }
   ],
   "source": [
    "btom = BToM(campus, agents, goals)"
   ]
  },
  {
   "cell_type": "code",
   "execution_count": 17,
   "id": "64915dc2",
   "metadata": {},
   "outputs": [
    {
     "name": "stdout",
     "output_type": "stream",
     "text": [
      "25\n",
      "75\n",
      "50\n",
      "34\n",
      "22\n",
      "19\n",
      "27\n",
      "52\n",
      "43\n",
      "32\n",
      "29\n",
      "35\n",
      "24\n",
      "47\n",
      "20\n",
      "55\n",
      "19\n",
      "26\n",
      "43\n",
      "61\n",
      "61\n",
      "25\n",
      "37\n",
      "57\n",
      "19\n",
      "27\n",
      "43\n",
      "25\n",
      "18\n",
      "34\n",
      "21\n",
      "47\n",
      "20\n",
      "55\n",
      "25\n",
      "24\n",
      "49\n",
      "44\n",
      "16\n",
      "36\n",
      "47\n",
      "58\n",
      "47\n",
      "26\n",
      "19\n",
      "60\n",
      "69\n",
      "44\n",
      "50\n",
      "57\n",
      "20\n",
      "19\n",
      "50\n",
      "39\n",
      "47\n",
      "38\n",
      "42\n",
      "31\n",
      "47\n",
      "30\n",
      "44\n",
      "36\n",
      "75\n",
      "57\n",
      "28\n",
      "40\n",
      "55\n",
      "26\n",
      "17\n",
      "40\n",
      "24\n",
      "50\n",
      "68\n",
      "32\n",
      "35\n",
      "47\n",
      "28\n",
      "29\n",
      "17\n",
      "29\n",
      "63\n",
      "41\n",
      "20\n",
      "53\n",
      "74\n",
      "53\n",
      "34\n",
      "35\n",
      "24\n",
      "19\n",
      "76\n",
      "47\n",
      "57\n",
      "68\n",
      "33\n",
      "29\n",
      "47\n",
      "75\n",
      "16\n",
      "49\n"
     ]
    }
   ],
   "source": [
    "for i in range(len(goal_data)):\n",
    "    print(len(path_data[i][0]))"
   ]
  },
  {
   "cell_type": "code",
   "execution_count": 18,
   "id": "5e30d7ef-46bd-4081-8472-758319904771",
   "metadata": {},
   "outputs": [],
   "source": [
    "# Calculate all the posteriors using the first 30 episode\n",
    "posteriors_data = {}\n",
    "\n",
    "for episode in range(len(goal_data)):\n",
    "    posteriors_data[episode] = {}\n",
    "    for agent in agents:\n",
    "        posteriors_data[episode][agent.id] = btom.update_agent_posterior_over_path(agent, path_data[episode][agent.id])\n",
    "    # Reset the posteriors for new episode\n",
    "    btom.reset_posteriors()"
   ]
  },
  {
   "cell_type": "markdown",
   "id": "8908d792-2cce-4b27-bd85-92d418b7f404",
   "metadata": {},
   "source": [
    "### Extended BToM"
   ]
  },
  {
   "cell_type": "code",
   "execution_count": 19,
   "id": "b77ccae6-b84a-49a4-b1e6-f527d44153fa",
   "metadata": {},
   "outputs": [],
   "source": [
    "# Import BToM baseline\n",
    "from real_world_src.models.extended_btom import Extended_BToM"
   ]
  },
  {
   "cell_type": "code",
   "execution_count": 20,
   "id": "bd52fb8b-f541-4b5a-b4f2-ed2ac63518fa",
   "metadata": {},
   "outputs": [
    {
     "name": "stdout",
     "output_type": "stream",
     "text": [
      "Computing shortest paths...\n",
      "Done\n"
     ]
    }
   ],
   "source": [
    "ext_btom = Extended_BToM(campus, agents, goals)"
   ]
  },
  {
   "cell_type": "code",
   "execution_count": 21,
   "id": "6ed02246-7c26-418d-a987-9c5e11e09487",
   "metadata": {},
   "outputs": [],
   "source": [
    "# Calculate all the posteriors using the first 30 episode\n",
    "ext_posteriors_data = {}\n",
    "\n",
    "for episode in range(len(goal_data)):\n",
    "    ext_posteriors_data[episode] = {}\n",
    "    for agent in agents:\n",
    "        ext_posteriors_data[episode][agent.id] = ext_btom.update_agent_posterior_over_path(agent, path_data[episode][agent.id])"
   ]
  },
  {
   "cell_type": "code",
   "execution_count": 22,
   "id": "a44e3511-63cb-4aa6-991b-7eaa3998e711",
   "metadata": {},
   "outputs": [],
   "source": [
    "# Save extended BToM to load for other experiments\n",
    "# suppose `agents` is your list of Agent instances\n",
    "# with open('extended_btom.pkl', 'wb') as f:\n",
    "    # pickle.dump(ext_btom, f)"
   ]
  },
  {
   "cell_type": "code",
   "execution_count": null,
   "id": "700e9c9a-514d-4194-b305-340003199a98",
   "metadata": {},
   "outputs": [],
   "source": []
  },
  {
   "cell_type": "markdown",
   "id": "f6b00a96-79c5-4e65-ad02-90d024d1b819",
   "metadata": {},
   "source": [
    "### ToMNet"
   ]
  },
  {
   "cell_type": "code",
   "execution_count": 23,
   "id": "49eea85d-7ef1-4956-879a-3b2af63289fb",
   "metadata": {},
   "outputs": [],
   "source": [
    "from real_world_src.models.simple_tomnet import ToMNet, ToMNetDataset, tomnet_collate_fn, infer_goal_dists\n",
    "from torch.utils.data import Dataset, DataLoader"
   ]
  },
  {
   "cell_type": "code",
   "execution_count": 24,
   "id": "02e80f0c-dc03-4e62-adca-230c75cc1b96",
   "metadata": {},
   "outputs": [],
   "source": [
    "def get_posterior_format(dists):\n",
    "    idx2goal = { idx: goal for goal, idx in goal2idx.items() }\n",
    "    goal_posterior = [ {idx2goal[i]: float(p) for i, p in enumerate(prob_row) } for prob_row in dists]\n",
    "    return goal_posterior"
   ]
  },
  {
   "cell_type": "code",
   "execution_count": 33,
   "id": "261da935-1a0e-43fd-89a1-ccd3e1cfa3cb",
   "metadata": {},
   "outputs": [
    {
     "data": {
      "text/plain": [
       "ToMNet(\n",
       "  (char_net): CharacterNet(\n",
       "    (embedding): Embedding(3108, 16, padding_idx=0)\n",
       "    (lstm): LSTM(16, 64, batch_first=True)\n",
       "  )\n",
       "  (mental_net): MentalNet(\n",
       "    (embedding): Embedding(3108, 16, padding_idx=0)\n",
       "    (lstm): LSTM(16, 64, batch_first=True)\n",
       "  )\n",
       "  (embedding): Embedding(3108, 16, padding_idx=0)\n",
       "  (fusion): Sequential(\n",
       "    (0): Linear(in_features=144, out_features=128, bias=True)\n",
       "    (1): ReLU()\n",
       "    (2): Linear(in_features=128, out_features=64, bias=True)\n",
       "    (3): ReLU()\n",
       "  )\n",
       "  (goal_head): Linear(in_features=64, out_features=15, bias=True)\n",
       "  (next_head): Linear(in_features=64, out_features=3108, bias=True)\n",
       ")"
      ]
     },
     "execution_count": 33,
     "metadata": {},
     "output_type": "execute_result"
    }
   ],
   "source": [
    "device = 'cuda' if torch.cuda.is_available() else 'cpu'\n",
    "device = torch.device(device)\n",
    "# device = torch.device('cpu')\n",
    "\n",
    "# the values you trained with:\n",
    "K     = 10\n",
    "T_sup = 75\n",
    "T_q   = 20\n",
    "\n",
    "\n",
    "model = ToMNet(\n",
    "    # num_nodes = len(campus.nodes),\n",
    "    num_nodes = 3108,\n",
    "    num_goals = len(goals),\n",
    "    K     = K,\n",
    "    T_sup = T_sup,\n",
    "    T_q   = T_q,\n",
    ").to(device)\n",
    "\n",
    "state_dict = torch.load(\n",
    "    \"../real_world_src/models/model_runs/tomnet_cpu.pth\",\n",
    "    map_location=device\n",
    ")\n",
    "model.load_state_dict(state_dict)\n",
    "model.eval()"
   ]
  },
  {
   "cell_type": "markdown",
   "id": "3aa0ea43-0e72-43ac-b196-55f8d025f55d",
   "metadata": {},
   "source": [
    "Preparing ToMNet for evaluation"
   ]
  },
  {
   "cell_type": "code",
   "execution_count": 34,
   "id": "66eb86f8-03b1-4b13-9163-4ac72dcd4fb9",
   "metadata": {},
   "outputs": [
    {
     "name": "stdout",
     "output_type": "stream",
     "text": [
      "Number of nodes in the graph: 3108\n",
      "{48865150: 0, 48899387: 1, 49029596: 2, 49150677: 3, 49150691: 4, 49221957: 5, 49221964: 6, 49221966: 7, 49282471: 8, 49309735: 9, 49429968: 10, 49430623: 11, 49463411: 12, 49463428: 13, 49504441: 14, 49504463: 15, 49504477: 16, 49550453: 17, 49647398: 18, 49655807: 19, 49685139: 20, 49685143: 21, 49721328: 22, 273627026: 23, 273627557: 24, 273627682: 25, 273628792: 26, 273628799: 27, 273628800: 28, 273628801: 29, 273628806: 30, 273629718: 31, 273629733: 32, 319438800: 33, 319438810: 34, 324535395: 35, 324739415: 36, 356077999: 37, 356095647: 38, 356125178: 39, 356168059: 40, 356207821: 41, 356241612: 42, 356242654: 43, 356391658: 44, 356403345: 45, 356407711: 46, 356499115: 47, 445979331: 48, 445979334: 49, 445988281: 50, 445988286: 51, 445988293: 52, 445988298: 53, 445988300: 54, 445988301: 55, 445988304: 56, 445988307: 57, 445988309: 58, 445988310: 59, 445988312: 60, 445988588: 61, 445988594: 62, 445988607: 63, 445988608: 64, 445989083: 65, 445989084: 66, 445989086: 67, 445989099: 68, 445989103: 69, 445989107: 70, 445989109: 71, 445989240: 72, 445990912: 73, 445992528: 74, 446001726: 75, 446128299: 76, 446128310: 77, 446128311: 78, 446128315: 79, 446128318: 80, 446130583: 81, 446132667: 82, 446132668: 83, 446132669: 84, 446136019: 85, 446606685: 86, 446606694: 87, 446612700: 88, 446616501: 89, 446616502: 90, 446616503: 91, 446616561: 92, 446624521: 93, 446633721: 94, 446645809: 95, 446647550: 96, 446647553: 97, 446647557: 98, 446656756: 99, 446658187: 100, 446658188: 101, 446680833: 102, 446690226: 103, 446721191: 104, 446723668: 105, 447369963: 106, 447621416: 107, 447621432: 108, 447621458: 109, 447635688: 110, 447635692: 111, 447635764: 112, 447635828: 113, 447637139: 114, 447637140: 115, 447637142: 116, 447640953: 117, 447640954: 118, 447640985: 119, 447640986: 120, 447640987: 121, 447640995: 122, 447640996: 123, 447641069: 124, 447641070: 125, 447678933: 126, 454862513: 127, 454862518: 128, 469081875: 129, 469081877: 130, 469081878: 131, 469081879: 132, 469081881: 133, 469081882: 134, 469082557: 135, 469082565: 136, 469082581: 137, 469084068: 138, 469084070: 139, 469084079: 140, 469084100: 141, 469084101: 142, 469084112: 143, 471275034: 144, 471275041: 145, 471275043: 146, 471275045: 147, 471275046: 148, 471275051: 149, 471275268: 150, 471275278: 151, 471275280: 152, 471275281: 153, 471275282: 154, 471275285: 155, 471275728: 156, 471954451: 157, 471954452: 158, 471954453: 159, 471954454: 160, 536362840: 161, 536362844: 162, 536362854: 163, 536362862: 164, 536366858: 165, 536367015: 166, 536367019: 167, 536367077: 168, 536375831: 169, 536380635: 170, 655435908: 171, 655435909: 172, 655435911: 173, 655435912: 174, 655435913: 175, 655435947: 176, 655435948: 177, 655435949: 178, 655435950: 179, 655435952: 180, 655435957: 181, 655435958: 182, 655435959: 183, 655435963: 184, 655435966: 185, 655435967: 186, 655435968: 187, 655435981: 188, 658984047: 189, 658984050: 190, 658984051: 191, 658984052: 192, 658984053: 193, 658984054: 194, 658984058: 195, 658984059: 196, 658984066: 197, 658984069: 198, 658984679: 199, 658984702: 200, 658984713: 201, 658984716: 202, 658984717: 203, 658984718: 204, 658984721: 205, 658984737: 206, 658984746: 207, 658984748: 208, 658984756: 209, 658984757: 210, 658984762: 211, 658984774: 212, 658984776: 213, 658984780: 214, 658984790: 215, 658984791: 216, 658984796: 217, 658984797: 218, 658984800: 219, 658984821: 220, 658984823: 221, 674530149: 222, 674530151: 223, 674530153: 224, 674530156: 225, 674530157: 226, 674530158: 227, 674530164: 228, 674530165: 229, 674530171: 230, 674530172: 231, 674530173: 232, 674530177: 233, 698283454: 234, 698283636: 235, 698283649: 236, 768264666: 237, 914043397: 238, 914043400: 239, 914043402: 240, 914043403: 241, 914043404: 242, 914043405: 243, 914043406: 244, 914043407: 245, 914043408: 246, 914043410: 247, 914043411: 248, 914043420: 249, 914043423: 250, 914043424: 251, 914043426: 252, 914043429: 253, 914043430: 254, 914259238: 255, 914259241: 256, 914259245: 257, 914259250: 258, 914259327: 259, 914259334: 260, 914259336: 261, 914259337: 262, 914259338: 263, 914259343: 264, 914259345: 265, 914259699: 266, 914259708: 267, 914259719: 268, 967540676: 269, 1146834982: 270, 1146841827: 271, 1146841833: 272, 1146841843: 273, 1146859374: 274, 1146859390: 275, 1146859421: 276, 1146863105: 277, 1146863120: 278, 1146863123: 279, 1146863130: 280, 1176646941: 281, 1176646954: 282, 1176646972: 283, 1176646981: 284, 1176646983: 285, 1176646984: 286, 1176646986: 287, 1176649597: 288, 1176649602: 289, 1176649606: 290, 1176649608: 291, 1176649610: 292, 1176649627: 293, 1176649652: 294, 1176649662: 295, 1176649664: 296, 1176649666: 297, 1176652241: 298, 1176652244: 299, 1176652253: 300, 1176652262: 301, 1176652266: 302, 1176652295: 303, 1176652302: 304, 1176652306: 305, 1176652308: 306, 1176654303: 307, 1176654329: 308, 1176654332: 309, 1176654352: 310, 1176657662: 311, 1190394704: 312, 1190394772: 313, 1196394851: 314, 1196394855: 315, 1196394863: 316, 1196407946: 317, 1309689706: 318, 1309689739: 319, 1309689774: 320, 1309689807: 321, 1309689830: 322, 1309689836: 323, 1309689850: 324, 1309689863: 325, 1309689874: 326, 1309689903: 327, 1309689904: 328, 1309689910: 329, 1309689915: 330, 1309689918: 331, 1309690002: 332, 1309690019: 333, 1309690038: 334, 1309690039: 335, 1309690041: 336, 1309690068: 337, 1309690103: 338, 1309690185: 339, 1309690206: 340, 1319098263: 341, 1350616562: 342, 1352176224: 343, 1352176227: 344, 1352176230: 345, 1352176235: 346, 1352176236: 347, 1352176242: 348, 1352176244: 349, 1352176249: 350, 1352176258: 351, 1352176265: 352, 1352176272: 353, 1352176283: 354, 1352176304: 355, 1352176308: 356, 1352176319: 357, 1352176321: 358, 1352176342: 359, 1352176344: 360, 1352176352: 361, 1352176355: 362, 1352176359: 363, 1352176365: 364, 1352176392: 365, 1352176399: 366, 1352176415: 367, 1352176423: 368, 1352176478: 369, 1352178893: 370, 1354495926: 371, 1354495933: 372, 1354496050: 373, 1354496053: 374, 1354496056: 375, 1361121320: 376, 1361121324: 377, 1361121331: 378, 1361121332: 379, 1361121334: 380, 1361121339: 381, 1361121344: 382, 1361121361: 383, 1361121362: 384, 1361121366: 385, 1361121371: 386, 1361121381: 387, 1361121385: 388, 1361121389: 389, 1361121394: 390, 1361121398: 391, 1361121406: 392, 1388150630: 393, 1433991696: 394, 1440078899: 395, 1440078901: 396, 1440086535: 397, 1446007845: 398, 1446007852: 399, 1446007856: 400, 1446008140: 401, 1446008141: 402, 1446008149: 403, 1446008150: 404, 1457025499: 405, 1457465205: 406, 1457843000: 407, 1457843003: 408, 1457843008: 409, 1457843009: 410, 1457843020: 411, 1457843021: 412, 1504689989: 413, 1533636146: 414, 1533636151: 415, 1533636199: 416, 1533636325: 417, 1533639503: 418, 1533639513: 419, 1533658482: 420, 1533671299: 421, 1533685294: 422, 1533685318: 423, 1533709575: 424, 1533709578: 425, 1533709584: 426, 1534878503: 427, 1534878504: 428, 1534882290: 429, 1534882293: 430, 1534882301: 431, 1534882320: 432, 1534882350: 433, 1538330463: 434, 1545499689: 435, 1545508762: 436, 1545527790: 437, 1545527794: 438, 1545527821: 439, 1545527871: 440, 1545531390: 441, 1545531391: 442, 1545531397: 443, 1545531402: 444, 1545531404: 445, 1545531409: 446, 1668259280: 447, 1668259328: 448, 1668259339: 449, 1668259348: 450, 1668259351: 451, 1668259352: 452, 1668259888: 453, 1668259895: 454, 1668259932: 455, 1715024517: 456, 1715024582: 457, 1715024598: 458, 1715024607: 459, 1715024609: 460, 1715033809: 461, 1715033826: 462, 1772229154: 463, 1772229374: 464, 1772229386: 465, 1772229388: 466, 1772229389: 467, 1772230332: 468, 1772230346: 469, 1772232752: 470, 1772238274: 471, 1772238291: 472, 1772238314: 473, 1772238324: 474, 1926666011: 475, 1926666013: 476, 1926666015: 477, 1926667755: 478, 1926667757: 479, 1926673336: 480, 1926673373: 481, 1926673385: 482, 1931686115: 483, 1989046927: 484, 2013783143: 485, 2013783144: 486, 2016132695: 487, 2016132696: 488, 2016829244: 489, 2028895482: 490, 2183114704: 491, 2183114714: 492, 2183114717: 493, 2295397631: 494, 2295397633: 495, 2295397745: 496, 2295398914: 497, 2295398915: 498, 2295398917: 499, 2295398919: 500, 2295398923: 501, 2295398924: 502, 2295398926: 503, 2323614712: 504, 2338944704: 505, 2338944705: 506, 2376616185: 507, 2376616186: 508, 2376616187: 509, 2478669623: 510, 2478669624: 511, 2478669646: 512, 2478669661: 513, 2478669662: 514, 2478669663: 515, 2478669673: 516, 2478669683: 517, 2478669684: 518, 2478669689: 519, 2478669691: 520, 2478669692: 521, 2478669694: 522, 2478669695: 523, 2478669699: 524, 2478669702: 525, 2478669707: 526, 2478669708: 527, 2478669714: 528, 2478669718: 529, 2478669720: 530, 2478669721: 531, 2478669726: 532, 2478669727: 533, 2478669728: 534, 2501321596: 535, 2501321597: 536, 2738236085: 537, 2738236086: 538, 2738236087: 539, 2738236094: 540, 2797979730: 541, 2797979771: 542, 2824642784: 543, 2872424923: 544, 2872424924: 545, 2872424927: 546, 2930609913: 547, 2993062633: 548, 2993062638: 549, 2993062639: 550, 2993062640: 551, 2993062641: 552, 2993062642: 553, 2993062644: 554, 2993062645: 555, 2993062646: 556, 2993062653: 557, 2993062664: 558, 2993062665: 559, 2993062666: 560, 2993062668: 561, 2993062672: 562, 2993062674: 563, 2993062676: 564, 2993062766: 565, 2993062767: 566, 2993062768: 567, 2993062769: 568, 2993062772: 569, 2993062775: 570, 2993062776: 571, 3139408385: 572, 3139408389: 573, 3139408393: 574, 3139408403: 575, 3139408409: 576, 3139408418: 577, 3139408423: 578, 3139419231: 579, 3139419286: 580, 3297844022: 581, 3297844023: 582, 3297844029: 583, 3326353507: 584, 3326353508: 585, 3326353509: 586, 3326353510: 587, 3326353511: 588, 3326353512: 589, 3326353513: 590, 3326356063: 591, 3326356069: 592, 3326356072: 593, 3329282580: 594, 3333758501: 595, 3333758514: 596, 3333760943: 597, 3333760946: 598, 3333760952: 599, 3333766414: 600, 3335554172: 601, 3335554173: 602, 3335554174: 603, 3335554175: 604, 3337511368: 605, 3337511372: 606, 3337511375: 607, 3337511379: 608, 3337511380: 609, 3337511381: 610, 3337511382: 611, 3337511384: 612, 3337516133: 613, 3337567583: 614, 3342988816: 615, 3342988817: 616, 3342988823: 617, 3342988831: 618, 3417929786: 619, 3417929791: 620, 3417930397: 621, 3417930399: 622, 3417930412: 623, 3417930421: 624, 3417930435: 625, 3417930440: 626, 3418056008: 627, 3422595499: 628, 3431784179: 629, 3431784183: 630, 3431784184: 631, 3451647253: 632, 3451647256: 633, 3451647261: 634, 3451647264: 635, 3464861413: 636, 3545794010: 637, 3605169543: 638, 3605169545: 639, 3605169546: 640, 3605169547: 641, 3605169551: 642, 3617891574: 643, 3617891581: 644, 3649157821: 645, 3650347283: 646, 3650347284: 647, 3687377564: 648, 3687377566: 649, 3687377567: 650, 3687377569: 651, 3687377572: 652, 3687377575: 653, 3687377581: 654, 3687377582: 655, 3687377585: 656, 3687377586: 657, 3687377587: 658, 3687377589: 659, 3687377590: 660, 3687377593: 661, 3687377623: 662, 3687377728: 663, 3687377731: 664, 3687377735: 665, 3687377736: 666, 3687377755: 667, 3687377757: 668, 3687377762: 669, 3687377770: 670, 3687377778: 671, 3687377782: 672, 3687377784: 673, 3687377785: 674, 3687377786: 675, 3687377792: 676, 3687377798: 677, 3687377802: 678, 3687377809: 679, 3701741646: 680, 3782574244: 681, 3797951198: 682, 3798588088: 683, 4022670373: 684, 4022670374: 685, 4023183266: 686, 4023183267: 687, 4023228690: 688, 4037576300: 689, 4037576308: 690, 4037603228: 691, 4350609698: 692, 4350609699: 693, 4350609700: 694, 4350609701: 695, 4350609716: 696, 4350609717: 697, 4350609722: 698, 4350609725: 699, 4350609726: 700, 4350609730: 701, 4350609731: 702, 4350609736: 703, 4350609739: 704, 4350609740: 705, 4350609741: 706, 4350609742: 707, 4350609743: 708, 4350609744: 709, 4350609746: 710, 4372982848: 711, 4372982855: 712, 4379822859: 713, 4407234565: 714, 4407347595: 715, 4416576247: 716, 4416576249: 717, 4467936412: 718, 4467936417: 719, 4467936428: 720, 4467936429: 721, 4467936430: 722, 4467936432: 723, 4467936437: 724, 4515822147: 725, 4515887377: 726, 4515887405: 727, 4515887425: 728, 4515887426: 729, 4515887427: 730, 4515887431: 731, 4515887435: 732, 4515977438: 733, 4515977444: 734, 4515977445: 735, 4536669341: 736, 4553390941: 737, 4553390952: 738, 4554611506: 739, 4596804910: 740, 4596804916: 741, 4596804920: 742, 4596804930: 743, 4596843524: 744, 4596843529: 745, 4596843534: 746, 4596843535: 747, 4596843538: 748, 4596843540: 749, 4596843542: 750, 4596843543: 751, 4596843544: 752, 4596843549: 753, 4596843552: 754, 4596843553: 755, 4596843554: 756, 4596843557: 757, 4596843559: 758, 4596843562: 759, 4596843564: 760, 4596843568: 761, 4596843569: 762, 4596843578: 763, 4596843580: 764, 4596843581: 765, 4596843796: 766, 4596843797: 767, 4596843800: 768, 4596843801: 769, 4597270127: 770, 4597270128: 771, 4597270133: 772, 4597270150: 773, 4597270151: 774, 4597270153: 775, 4597270155: 776, 4597270158: 777, 4597270159: 778, 4597270160: 779, 4597270161: 780, 4597270171: 781, 4597270172: 782, 4597270178: 783, 4597270184: 784, 4597270185: 785, 4597285992: 786, 4597285994: 787, 4597286003: 788, 4597286007: 789, 4597286010: 790, 4597286011: 791, 4597286013: 792, 4597286014: 793, 4597286016: 794, 4597286017: 795, 4597286018: 796, 4597286027: 797, 4597286030: 798, 4597286031: 799, 4597286034: 800, 4597286035: 801, 4597286036: 802, 4597286037: 803, 4597286046: 804, 4597286050: 805, 4597286052: 806, 4597286058: 807, 4597286062: 808, 4597286063: 809, 4597286074: 810, 4597307649: 811, 4597307650: 812, 4597307653: 813, 4597307661: 814, 4597307684: 815, 4597307685: 816, 4597316392: 817, 4597316393: 818, 4597316395: 819, 4597316403: 820, 4597316406: 821, 4597316407: 822, 4597316410: 823, 4597316411: 824, 4597316414: 825, 4597331159: 826, 4597331163: 827, 4597331164: 828, 4597331183: 829, 4597331184: 830, 4597331186: 831, 4597331789: 832, 4597331790: 833, 4597331793: 834, 4597331794: 835, 4597331805: 836, 4597331807: 837, 4597334903: 838, 4597334907: 839, 4616865087: 840, 4616865993: 841, 4868801218: 842, 4868801823: 843, 4868801842: 844, 5260967673: 845, 5260967676: 846, 5260967683: 847, 5260967684: 848, 5260967703: 849, 5334569432: 850, 5334569434: 851, 5387846590: 852, 5387846595: 853, 5387846596: 854, 5387846597: 855, 5388224262: 856, 5388224265: 857, 5388224268: 858, 5388224270: 859, 5388224271: 860, 5388224272: 861, 5388224282: 862, 5388224283: 863, 5388224286: 864, 5388224288: 865, 5388224289: 866, 5388224290: 867, 5388224291: 868, 5388224292: 869, 5388224293: 870, 5388224295: 871, 5388224299: 872, 5388224300: 873, 5388224301: 874, 5388224302: 875, 5388224303: 876, 5388224305: 877, 5388224306: 878, 5388224308: 879, 5388224311: 880, 5388224315: 881, 5388236178: 882, 5388236179: 883, 5388236205: 884, 5388236214: 885, 5390733096: 886, 5390733100: 887, 5390733101: 888, 5390733106: 889, 5390733108: 890, 5390733109: 891, 5390733113: 892, 5390733114: 893, 5390733530: 894, 5390733536: 895, 5390812787: 896, 5390812819: 897, 5390959099: 898, 5390959116: 899, 5390959120: 900, 5390959627: 901, 5391010350: 902, 5391193393: 903, 5391193394: 904, 5391193397: 905, 5391193398: 906, 5391193400: 907, 5391193402: 908, 5391193405: 909, 5391193406: 910, 5391202008: 911, 5391208974: 912, 5391208975: 913, 5391215257: 914, 5391218789: 915, 5391218790: 916, 5391230841: 917, 5394721596: 918, 5394731442: 919, 5394731451: 920, 5394731452: 921, 5394731453: 922, 5394731455: 923, 5394745288: 924, 5394745289: 925, 5394745292: 926, 5394745293: 927, 5394745407: 928, 5394745409: 929, 5394745411: 930, 5397915669: 931, 5397915670: 932, 5398780622: 933, 5398780623: 934, 5404629705: 935, 5404629707: 936, 5404629708: 937, 5404629713: 938, 5404629717: 939, 5404629718: 940, 5404629720: 941, 5404631121: 942, 5404632924: 943, 5404632926: 944, 5404632928: 945, 5404632929: 946, 5404632936: 947, 5404632938: 948, 5404632939: 949, 5404632940: 950, 5404632943: 951, 5404632946: 952, 5404632947: 953, 5404632949: 954, 5404634603: 955, 5404634604: 956, 5404634605: 957, 5404634618: 958, 5404644401: 959, 5404644403: 960, 5404644404: 961, 5406225437: 962, 5406225438: 963, 5406225439: 964, 5406225441: 965, 5406225442: 966, 5406225443: 967, 5406225449: 968, 5406225452: 969, 5406225460: 970, 5406225461: 971, 5406225462: 972, 5406225463: 973, 5406225464: 974, 5416265816: 975, 5416265817: 976, 5416265818: 977, 5416272521: 978, 5416272526: 979, 5416272527: 980, 5416272529: 981, 5416272532: 982, 5416281663: 983, 5416281665: 984, 5425865929: 985, 5428436415: 986, 5428438126: 987, 5430976750: 988, 5430976754: 989, 5430976761: 990, 5430976764: 991, 5430976765: 992, 5431877494: 993, 5431877495: 994, 5431877498: 995, 5431877499: 996, 5431877501: 997, 5432894231: 998, 5446902665: 999, 5446951521: 1000, 5446951522: 1001, 5446951527: 1002, 5446951552: 1003, 5448402852: 1004, 5448402860: 1005, 5457413132: 1006, 5457413133: 1007, 5457413134: 1008, 5457413135: 1009, 5457413137: 1010, 5457413138: 1011, 5457413140: 1012, 5457413141: 1013, 5457413143: 1014, 5457413144: 1015, 5457413145: 1016, 5457413147: 1017, 5457413148: 1018, 5457413150: 1019, 5457413151: 1020, 5457413156: 1021, 5457413157: 1022, 5457413160: 1023, 5457413161: 1024, 5457413164: 1025, 5466043462: 1026, 5466043463: 1027, 5466043464: 1028, 5466043465: 1029, 5466043472: 1030, 5466043481: 1031, 5466059061: 1032, 5466059072: 1033, 5466059073: 1034, 5466059075: 1035, 5466059076: 1036, 5466059077: 1037, 5466059078: 1038, 5466059079: 1039, 5466059080: 1040, 5466059081: 1041, 5466059082: 1042, 5466059083: 1043, 5466059084: 1044, 5466059085: 1045, 5466068421: 1046, 5466068423: 1047, 5466068424: 1048, 5466068425: 1049, 5466068426: 1050, 5466068433: 1051, 5466068434: 1052, 5466079815: 1053, 5466325306: 1054, 5466325307: 1055, 5466326126: 1056, 5466326131: 1057, 5466326133: 1058, 5526780390: 1059, 5529658589: 1060, 5529658591: 1061, 5538551741: 1062, 5538551771: 1063, 5538551777: 1064, 5538551778: 1065, 5538551779: 1066, 5538551780: 1067, 5538551788: 1068, 5538551798: 1069, 5538554905: 1070, 5538554954: 1071, 5538554955: 1072, 5538554956: 1073, 5538554957: 1074, 5538554959: 1075, 5538554960: 1076, 5538554965: 1077, 5538554970: 1078, 5538554973: 1079, 5538554975: 1080, 5538555021: 1081, 5538555022: 1082, 5538555023: 1083, 5538555030: 1084, 5538555032: 1085, 5538555035: 1086, 5538555036: 1087, 5538555038: 1088, 5538555039: 1089, 5538555040: 1090, 5538555041: 1091, 5538555044: 1092, 5538555412: 1093, 5538555414: 1094, 5538555415: 1095, 5538555416: 1096, 5538555417: 1097, 5538555418: 1098, 5538555419: 1099, 5538555420: 1100, 5538555496: 1101, 5538555497: 1102, 5538555499: 1103, 5538555501: 1104, 5538555502: 1105, 5538555503: 1106, 5538555506: 1107, 5538555507: 1108, 5546557183: 1109, 5546567865: 1110, 5546567879: 1111, 5546567892: 1112, 5546567898: 1113, 5546567901: 1114, 5551778718: 1115, 5552758097: 1116, 5552758832: 1117, 5564824388: 1118, 5565181504: 1119, 5565181511: 1120, 5565181512: 1121, 5565181825: 1122, 5565181828: 1123, 5565181829: 1124, 5565181832: 1125, 5565181833: 1126, 5565181835: 1127, 5565187403: 1128, 5565187404: 1129, 5565187407: 1130, 5565187408: 1131, 5565187409: 1132, 5565187412: 1133, 5565187413: 1134, 5565187826: 1135, 5565202714: 1136, 5565202715: 1137, 5565212305: 1138, 5565212306: 1139, 5565212307: 1140, 5565212308: 1141, 5565212309: 1142, 5565212310: 1143, 5565212313: 1144, 5565212314: 1145, 5565212315: 1146, 5565212316: 1147, 5565212317: 1148, 5593560219: 1149, 5593613305: 1150, 5611059295: 1151, 5613163313: 1152, 5631461600: 1153, 5631461602: 1154, 5652932565: 1155, 5710711350: 1156, 5710711358: 1157, 5718921063: 1158, 5718921068: 1159, 5740071605: 1160, 5740071606: 1161, 5740071608: 1162, 5740071615: 1163, 5740071616: 1164, 5740082857: 1165, 5740082872: 1166, 5740082873: 1167, 5740082874: 1168, 5740082875: 1169, 5740082876: 1170, 5740082877: 1171, 5740082878: 1172, 5740082879: 1173, 5740082880: 1174, 5740082881: 1175, 5740082882: 1176, 5740082883: 1177, 5740082884: 1178, 5740082885: 1179, 5740082886: 1180, 5740082887: 1181, 5742738421: 1182, 5745765321: 1183, 5745765322: 1184, 5801803415: 1185, 5801803416: 1186, 5801803417: 1187, 5811663003: 1188, 5811817303: 1189, 5811847060: 1190, 5811847062: 1191, 5811847067: 1192, 5811847068: 1193, 5811887320: 1194, 5811887324: 1195, 5811896640: 1196, 5811901152: 1197, 5811901754: 1198, 5811962759: 1199, 5811962760: 1200, 5811962768: 1201, 5811962769: 1202, 5811962772: 1203, 5811962774: 1204, 5867286970: 1205, 5867286972: 1206, 5867286973: 1207, 5867286975: 1208, 5867286976: 1209, 5867286978: 1210, 5867286980: 1211, 5867286981: 1212, 5867286982: 1213, 5867287287: 1214, 5867288233: 1215, 5900610298: 1216, 5917529659: 1217, 5917529662: 1218, 5917529665: 1219, 5917529666: 1220, 5917529668: 1221, 5917529669: 1222, 5917529670: 1223, 5917529671: 1224, 5917529672: 1225, 5917529674: 1226, 5917529681: 1227, 5917529682: 1228, 5917533027: 1229, 5917533028: 1230, 5917538841: 1231, 5921568236: 1232, 5921568250: 1233, 5934982831: 1234, 5934982832: 1235, 5935081688: 1236, 5935081689: 1237, 5935081690: 1238, 5935081695: 1239, 5935081747: 1240, 5935081748: 1241, 5935081749: 1242, 5935081750: 1243, 5935081752: 1244, 5935081753: 1245, 5935081754: 1246, 5935081756: 1247, 5935081762: 1248, 5935130695: 1249, 5935130705: 1250, 5935130706: 1251, 5935130707: 1252, 5935130708: 1253, 5935130712: 1254, 5935130720: 1255, 5935130722: 1256, 5935130725: 1257, 5935153191: 1258, 5935153192: 1259, 5935153193: 1260, 5935153200: 1261, 5935153201: 1262, 5973380951: 1263, 5973392450: 1264, 5973392477: 1265, 5973392484: 1266, 5973397097: 1267, 5973397100: 1268, 5973397108: 1269, 5973397110: 1270, 5973397114: 1271, 5973397116: 1272, 5973397120: 1273, 5983732113: 1274, 5983732118: 1275, 5983732120: 1276, 5986666638: 1277, 5986666640: 1278, 5986666642: 1279, 5986666644: 1280, 5986666648: 1281, 5986666649: 1282, 5986666652: 1283, 5986666653: 1284, 5986666654: 1285, 5986666655: 1286, 6042715086: 1287, 6042715087: 1288, 6042717968: 1289, 6042718978: 1290, 6059250359: 1291, 6124293553: 1292, 6124293561: 1293, 6269754976: 1294, 6269754982: 1295, 6296458760: 1296, 6296458761: 1297, 6296458763: 1298, 6296458765: 1299, 6296458905: 1300, 6296458906: 1301, 6296458907: 1302, 6296458927: 1303, 6296458940: 1304, 6296458941: 1305, 6313067146: 1306, 6313067147: 1307, 6313067162: 1308, 6433577302: 1309, 6433577305: 1310, 6433577306: 1311, 6434338908: 1312, 6434338910: 1313, 6434338912: 1314, 6434338915: 1315, 6801427044: 1316, 6801427052: 1317, 6801427081: 1318, 6801459624: 1319, 6801459647: 1320, 6801459700: 1321, 6853099369: 1322, 6853099370: 1323, 6853099377: 1324, 6853102987: 1325, 6858811769: 1326, 6858811770: 1327, 6858811772: 1328, 6858811773: 1329, 6868505371: 1330, 6868505381: 1331, 6868547145: 1332, 6896256788: 1333, 6896256792: 1334, 6896256796: 1335, 6896256798: 1336, 6896256799: 1337, 6896256800: 1338, 6896256801: 1339, 6896605782: 1340, 6896605784: 1341, 6896614988: 1342, 6896614989: 1343, 6896614990: 1344, 6976611581: 1345, 6981724619: 1346, 6981724630: 1347, 6981724648: 1348, 6981724664: 1349, 7029570105: 1350, 7034521001: 1351, 7054523512: 1352, 7054523513: 1353, 7150807343: 1354, 7153002858: 1355, 7161876372: 1356, 7161876379: 1357, 7161876382: 1358, 7161876384: 1359, 7161923985: 1360, 7161923987: 1361, 7161923989: 1362, 7161923990: 1363, 7179565949: 1364, 7179565950: 1365, 7179565952: 1366, 7179565953: 1367, 7179565954: 1368, 7179565960: 1369, 7179565980: 1370, 7179565981: 1371, 7179565982: 1372, 7179588587: 1373, 7179588592: 1374, 7179588593: 1375, 7179588595: 1376, 7179588596: 1377, 7179588607: 1378, 7179588615: 1379, 7179588627: 1380, 7179588642: 1381, 7179588643: 1382, 7179588644: 1383, 7179588645: 1384, 7179588646: 1385, 7179588647: 1386, 7179588648: 1387, 7179588649: 1388, 7179588650: 1389, 7179588651: 1390, 7179588652: 1391, 7179588653: 1392, 7179588654: 1393, 7179588655: 1394, 7179588656: 1395, 7179588657: 1396, 7179588673: 1397, 7179588675: 1398, 7179588677: 1399, 7179588679: 1400, 7179588680: 1401, 7179588686: 1402, 7179588688: 1403, 7179588694: 1404, 7179588698: 1405, 7179588699: 1406, 7179588709: 1407, 7179588712: 1408, 7179588713: 1409, 7179588714: 1410, 7179588715: 1411, 7179588716: 1412, 7179588717: 1413, 7179588718: 1414, 7179588725: 1415, 7179588736: 1416, 7179588741: 1417, 7179588746: 1418, 7179588755: 1419, 7179588763: 1420, 7179588764: 1421, 7179588765: 1422, 7179588776: 1423, 7179588788: 1424, 7179588793: 1425, 7179630121: 1426, 7179630138: 1427, 7179630146: 1428, 7179630162: 1429, 7179630163: 1430, 7179630164: 1431, 7179630165: 1432, 7179630166: 1433, 7179630167: 1434, 7179630168: 1435, 7179630169: 1436, 7179630170: 1437, 7179630171: 1438, 7179630172: 1439, 7179630173: 1440, 7179630174: 1441, 7179630175: 1442, 7179630176: 1443, 7179630177: 1444, 7179630178: 1445, 7179658686: 1446, 7179658694: 1447, 7179658696: 1448, 7179658700: 1449, 7179658703: 1450, 7179658704: 1451, 7179658705: 1452, 7179658719: 1453, 7179658720: 1454, 7179658721: 1455, 7179658722: 1456, 7179658723: 1457, 7179658724: 1458, 7179658725: 1459, 7179658726: 1460, 7179658751: 1461, 7179658754: 1462, 7179658832: 1463, 7179658860: 1464, 7179658877: 1465, 7179658878: 1466, 7179685053: 1467, 7179685054: 1468, 7179685055: 1469, 7179685056: 1470, 7179685057: 1471, 7179685058: 1472, 7179685071: 1473, 7179685072: 1474, 7179685074: 1475, 7179685075: 1476, 7179685082: 1477, 7179685083: 1478, 7179725188: 1479, 7179725191: 1480, 7179725192: 1481, 7179725194: 1482, 7179725195: 1483, 7179725196: 1484, 7179725197: 1485, 7179725198: 1486, 7179725200: 1487, 7179725206: 1488, 7179725207: 1489, 7179725211: 1490, 7179725212: 1491, 7179725214: 1492, 7179725216: 1493, 7179725217: 1494, 7179725218: 1495, 7179725219: 1496, 7179725220: 1497, 7179725221: 1498, 7179725222: 1499, 7179725223: 1500, 7179725224: 1501, 7179725227: 1502, 7179725251: 1503, 7179725280: 1504, 7179725290: 1505, 7179725378: 1506, 7180450235: 1507, 7180450246: 1508, 7180450249: 1509, 7180450257: 1510, 7180450273: 1511, 7180450274: 1512, 7180458093: 1513, 7180458098: 1514, 7180458102: 1515, 7180458105: 1516, 7180458113: 1517, 7180458116: 1518, 7180458117: 1519, 7180458119: 1520, 7180458125: 1521, 7180458152: 1522, 7180458154: 1523, 7180458165: 1524, 7180458167: 1525, 7180458168: 1526, 7180458169: 1527, 7180458170: 1528, 7180458172: 1529, 7180458176: 1530, 7180458178: 1531, 7180458180: 1532, 7180458181: 1533, 7180458183: 1534, 7180458184: 1535, 7180458190: 1536, 7180458195: 1537, 7180458200: 1538, 7180458232: 1539, 7180458253: 1540, 7180458255: 1541, 7180458276: 1542, 7180458280: 1543, 7180458291: 1544, 7180458297: 1545, 7180458311: 1546, 7180458320: 1547, 7180458321: 1548, 7180458322: 1549, 7180458323: 1550, 7180458339: 1551, 7180458361: 1552, 7180458363: 1553, 7180458364: 1554, 7180458365: 1555, 7180458379: 1556, 7180458396: 1557, 7180458406: 1558, 7180458440: 1559, 7180458445: 1560, 7180469562: 1561, 7180469569: 1562, 7180469570: 1563, 7180469571: 1564, 7180469572: 1565, 7180469573: 1566, 7180469574: 1567, 7180469575: 1568, 7180469576: 1569, 7180469577: 1570, 7180484996: 1571, 7180485002: 1572, 7180485007: 1573, 7180485018: 1574, 7180485022: 1575, 7180485023: 1576, 7180485024: 1577, 7180485025: 1578, 7180485026: 1579, 7180485028: 1580, 7180485035: 1581, 7180485047: 1582, 7180485048: 1583, 7180485049: 1584, 7180485063: 1585, 7180485067: 1586, 7180485070: 1587, 7180485073: 1588, 7237743290: 1589, 7237743291: 1590, 7237743299: 1591, 7237743300: 1592, 7237743310: 1593, 7237743348: 1594, 7237743349: 1595, 7237743350: 1596, 7238382491: 1597, 7249339431: 1598, 7295860687: 1599, 7295860699: 1600, 7295860703: 1601, 7295860704: 1602, 7301840333: 1603, 7301840342: 1604, 7311197591: 1605, 7316852625: 1606, 7316852637: 1607, 7316852638: 1608, 7316852639: 1609, 7316852640: 1610, 7316852646: 1611, 7316900186: 1612, 7316900205: 1613, 7464948170: 1614, 7488130425: 1615, 7644787987: 1616, 7644788100: 1617, 7644788121: 1618, 7644788208: 1619, 7644788209: 1620, 7667900839: 1621, 7667900840: 1622, 7667900851: 1623, 7667900854: 1624, 7667900863: 1625, 7667900865: 1626, 7667900866: 1627, 7667900869: 1628, 7667900870: 1629, 7667900877: 1630, 7667983800: 1631, 7667983801: 1632, 7729384167: 1633, 7729384168: 1634, 7737751716: 1635, 7738294594: 1636, 7738294595: 1637, 7738294596: 1638, 7738294605: 1639, 7757324384: 1640, 7757324385: 1641, 7965230915: 1642, 7965230939: 1643, 7965230952: 1644, 7965230953: 1645, 7965311554: 1646, 7965311555: 1647, 7965311558: 1648, 7965311559: 1649, 7965311562: 1650, 7965311565: 1651, 7965311572: 1652, 7965311577: 1653, 7965311581: 1654, 7965317437: 1655, 7965317439: 1656, 7965569376: 1657, 7965583153: 1658, 7965583155: 1659, 7965583166: 1660, 7965583167: 1661, 7965583172: 1662, 7965583175: 1663, 7965583177: 1664, 7965583181: 1665, 7965583182: 1666, 7965587891: 1667, 7965587896: 1668, 7965587897: 1669, 7965587898: 1670, 7965587903: 1671, 7965587904: 1672, 7965587907: 1673, 7965587908: 1674, 7965587909: 1675, 7965587915: 1676, 7965587916: 1677, 7965587917: 1678, 7965587919: 1679, 7965587922: 1680, 7965587923: 1681, 7965587925: 1682, 7965587926: 1683, 7965587942: 1684, 7965587946: 1685, 7965587947: 1686, 7965587952: 1687, 7965587953: 1688, 7965587969: 1689, 7978139574: 1690, 7978152342: 1691, 7978152347: 1692, 7978152375: 1693, 7990587605: 1694, 7990587606: 1695, 7990587609: 1696, 7990587610: 1697, 7990587614: 1698, 7990587615: 1699, 7990587616: 1700, 7990587620: 1701, 7990587621: 1702, 7990587629: 1703, 7990587630: 1704, 7990587639: 1705, 8014204468: 1706, 8014204475: 1707, 8014204476: 1708, 8014205587: 1709, 8014205601: 1710, 8014205603: 1711, 8085622087: 1712, 8085622105: 1713, 8085622106: 1714, 8085622107: 1715, 8085622108: 1716, 8085622109: 1717, 8085622110: 1718, 8085622111: 1719, 8085622112: 1720, 8085622113: 1721, 8085622114: 1722, 8085622116: 1723, 8085649233: 1724, 8085649234: 1725, 8085649240: 1726, 8085649245: 1727, 8085649247: 1728, 8085649251: 1729, 8085649254: 1730, 8085649263: 1731, 8085649267: 1732, 8085649268: 1733, 8085649272: 1734, 8085649273: 1735, 8085649275: 1736, 8085649276: 1737, 8085649280: 1738, 8085649281: 1739, 8085649282: 1740, 8085649293: 1741, 8085649296: 1742, 8085649298: 1743, 8085649299: 1744, 8085649300: 1745, 8085649301: 1746, 8085649302: 1747, 8085649304: 1748, 8085649306: 1749, 8085649308: 1750, 8085649309: 1751, 8085649310: 1752, 8085649311: 1753, 8085649337: 1754, 8085649338: 1755, 8085649352: 1756, 8085649360: 1757, 8085649361: 1758, 8085649363: 1759, 8085649364: 1760, 8085649369: 1761, 8085649371: 1762, 8085649372: 1763, 8085649375: 1764, 8085649376: 1765, 8085677679: 1766, 8085677680: 1767, 8088540611: 1768, 8166369231: 1769, 8166713594: 1770, 8166713597: 1771, 8166713598: 1772, 8166761478: 1773, 8166761479: 1774, 8235254797: 1775, 8298109277: 1776, 8304877684: 1777, 8370173772: 1778, 8370173787: 1779, 8462604273: 1780, 8522708967: 1781, 8522708968: 1782, 8522708971: 1783, 8522708975: 1784, 8522708977: 1785, 8522708981: 1786, 8638506500: 1787, 8638506501: 1788, 8638506506: 1789, 8638506510: 1790, 8638506514: 1791, 8638509518: 1792, 8638509519: 1793, 8638509520: 1794, 8638509522: 1795, 8638509528: 1796, 8638509529: 1797, 8638509535: 1798, 8708060834: 1799, 8708060839: 1800, 8771276197: 1801, 8851756712: 1802, 8851759219: 1803, 8851759222: 1804, 8851759232: 1805, 8851759239: 1806, 8851759240: 1807, 8861678691: 1808, 8861736049: 1809, 8861736052: 1810, 8861736055: 1811, 8861736062: 1812, 8861736063: 1813, 8861736064: 1814, 8861736065: 1815, 8861736082: 1816, 8861736083: 1817, 8861736097: 1818, 8863615978: 1819, 8881625234: 1820, 8881625235: 1821, 8881625236: 1822, 8881625239: 1823, 8905639854: 1824, 8905639856: 1825, 8905639857: 1826, 8905639862: 1827, 8905639863: 1828, 8905639872: 1829, 8905639873: 1830, 8905639874: 1831, 8905639876: 1832, 8905639877: 1833, 8908715198: 1834, 8908715199: 1835, 8908715200: 1836, 8908715202: 1837, 8908715203: 1838, 8908715204: 1839, 8921798244: 1840, 8921798250: 1841, 8921798256: 1842, 8921798264: 1843, 8921798269: 1844, 8921798272: 1845, 8921798274: 1846, 8921798276: 1847, 8921798277: 1848, 8921798282: 1849, 8921798287: 1850, 8921956970: 1851, 8921956978: 1852, 8921956993: 1853, 8921956994: 1854, 8921956995: 1855, 8921956997: 1856, 8921957000: 1857, 8921957004: 1858, 8921957007: 1859, 8921957010: 1860, 8921957016: 1861, 8921960717: 1862, 8921960720: 1863, 8921960725: 1864, 8921960726: 1865, 8921960734: 1866, 8921960735: 1867, 8921960740: 1868, 8921960741: 1869, 8921960752: 1870, 8932713585: 1871, 8932713591: 1872, 8932780384: 1873, 8938276319: 1874, 8939875800: 1875, 8994595954: 1876, 8994595955: 1877, 8994595958: 1878, 8994595963: 1879, 8994595964: 1880, 8994595967: 1881, 8994595979: 1882, 8994595980: 1883, 8994595988: 1884, 8994595989: 1885, 9067479118: 1886, 9067479121: 1887, 9067479129: 1888, 9067479131: 1889, 9099230480: 1890, 9099230481: 1891, 9099230482: 1892, 9099230483: 1893, 9099230484: 1894, 9125448451: 1895, 9125448453: 1896, 9125448454: 1897, 9131115123: 1898, 9131115124: 1899, 9131115127: 1900, 9131115128: 1901, 9131115131: 1902, 9131115132: 1903, 9131115135: 1904, 9131115136: 1905, 9131115149: 1906, 9146901563: 1907, 9146901567: 1908, 9146901571: 1909, 9146901572: 1910, 9146901574: 1911, 9146901578: 1912, 9146901593: 1913, 9408616468: 1914, 9408616471: 1915, 9408616475: 1916, 9408642058: 1917, 9408642059: 1918, 9408642060: 1919, 9408642062: 1920, 9408642063: 1921, 9408642065: 1922, 9408642067: 1923, 9408642068: 1924, 9408642069: 1925, 9408642070: 1926, 9408642071: 1927, 9408642072: 1928, 9408642080: 1929, 9408642086: 1930, 9408642089: 1931, 9408642090: 1932, 9408642095: 1933, 9408642096: 1934, 9408642097: 1935, 9408642098: 1936, 9408642099: 1937, 9408642100: 1938, 9408642105: 1939, 9408642106: 1940, 9408642108: 1941, 9408642109: 1942, 9421468497: 1943, 9421468498: 1944, 9429180937: 1945, 9429180956: 1946, 9429180958: 1947, 9456334308: 1948, 9456334309: 1949, 9456334312: 1950, 9456334313: 1951, 9456403520: 1952, 9456403529: 1953, 9456403533: 1954, 9456403537: 1955, 9456403543: 1956, 9456403547: 1957, 9456403558: 1958, 9456403559: 1959, 9456403563: 1960, 9456403566: 1961, 9456403568: 1962, 9456403569: 1963, 9456403570: 1964, 9456403573: 1965, 9456403580: 1966, 9463749192: 1967, 9463773724: 1968, 9463773740: 1969, 9463773742: 1970, 9544330408: 1971, 9544330409: 1972, 9544330520: 1973, 9544330521: 1974, 9545454008: 1975, 9545680354: 1976, 9545680355: 1977, 9545680356: 1978, 9545680358: 1979, 9545680359: 1980, 9545710868: 1981, 9545710869: 1982, 9545710873: 1983, 9545710874: 1984, 9552915906: 1985, 9552915911: 1986, 9552915912: 1987, 9552915913: 1988, 9552931518: 1989, 9552931530: 1990, 9552931537: 1991, 9552931538: 1992, 9552931539: 1993, 9552931552: 1994, 9552931562: 1995, 9552931563: 1996, 9552931566: 1997, 9552931569: 1998, 9552931571: 1999, 9552931572: 2000, 9552931573: 2001, 9557013186: 2002, 9557013192: 2003, 9579010285: 2004, 9579010287: 2005, 9610102429: 2006, 9611588627: 2007, 9611588628: 2008, 9611588629: 2009, 9611588634: 2010, 9611588635: 2011, 9611588636: 2012, 9611588638: 2013, 9611588639: 2014, 9611821086: 2015, 9611821087: 2016, 9611821098: 2017, 9611821099: 2018, 9611821105: 2019, 9611821115: 2020, 9611821116: 2021, 9612070211: 2022, 9612082720: 2023, 9612082738: 2024, 9612082792: 2025, 9612082794: 2026, 9612082795: 2027, 9612082808: 2028, 9612082816: 2029, 9612082880: 2030, 9612082954: 2031, 9612082970: 2032, 9612082972: 2033, 9612082973: 2034, 9612189413: 2035, 9612189414: 2036, 9612189415: 2037, 9612217624: 2038, 9612217626: 2039, 9612217639: 2040, 9612217647: 2041, 9612217651: 2042, 9612217653: 2043, 9612217654: 2044, 9612217702: 2045, 9612217704: 2046, 9612217708: 2047, 9612217719: 2048, 9612217720: 2049, 9612217721: 2050, 9612217722: 2051, 9612217723: 2052, 9612217724: 2053, 9612217725: 2054, 9612217726: 2055, 9612217727: 2056, 9612217728: 2057, 9612217729: 2058, 9612217731: 2059, 9612217732: 2060, 9612217735: 2061, 9612217747: 2062, 9612217748: 2063, 9612217749: 2064, 9612217750: 2065, 9612261734: 2066, 9612266989: 2067, 9612266992: 2068, 9612266999: 2069, 9612267010: 2070, 9612267012: 2071, 9612295419: 2072, 9612295423: 2073, 9620618662: 2074, 9620618663: 2075, 9620618673: 2076, 9620618679: 2077, 9620618680: 2078, 9620618683: 2079, 9620618684: 2080, 9620618685: 2081, 9620618688: 2082, 9620618692: 2083, 9620618699: 2084, 9620618700: 2085, 9620619917: 2086, 9620619953: 2087, 9620619989: 2088, 9622038209: 2089, 9622038212: 2090, 9622038216: 2091, 9622059676: 2092, 9622059678: 2093, 9622059688: 2094, 9625384597: 2095, 9627835194: 2096, 9627835212: 2097, 9627835213: 2098, 9630406142: 2099, 9630474153: 2100, 9630474255: 2101, 9630474258: 2102, 9630909959: 2103, 9630909962: 2104, 9630909964: 2105, 9630910055: 2106, 9630910056: 2107, 9630910066: 2108, 9630910067: 2109, 9630910070: 2110, 9630910075: 2111, 9630910077: 2112, 9630910078: 2113, 9630910084: 2114, 9630910087: 2115, 9630910092: 2116, 9630910094: 2117, 9630910097: 2118, 9630910099: 2119, 9630910131: 2120, 9630910133: 2121, 9630910136: 2122, 9641821961: 2123, 9641821983: 2124, 9641839408: 2125, 9641914645: 2126, 9641914655: 2127, 9641914657: 2128, 9642608243: 2129, 9642608244: 2130, 9642608249: 2131, 9642608252: 2132, 9642608254: 2133, 9642608255: 2134, 9642608257: 2135, 9642608258: 2136, 9642608259: 2137, 9642608260: 2138, 9642608267: 2139, 9642608270: 2140, 9642608271: 2141, 9642608272: 2142, 9642608273: 2143, 9642608274: 2144, 9642608276: 2145, 9642608278: 2146, 9642608286: 2147, 9642608291: 2148, 9642608293: 2149, 9642608294: 2150, 9642608295: 2151, 9642608300: 2152, 9642608302: 2153, 9642612957: 2154, 9642612962: 2155, 9642612964: 2156, 9650415368: 2157, 9654979272: 2158, 9674860395: 2159, 9674860399: 2160, 9674860402: 2161, 9675336075: 2162, 9675566972: 2163, 9675566978: 2164, 9675566984: 2165, 9675655162: 2166, 9675655163: 2167, 9675655182: 2168, 9675671127: 2169, 9675671131: 2170, 9675671134: 2171, 9675671137: 2172, 9681216664: 2173, 9681216665: 2174, 9681221048: 2175, 9681289450: 2176, 9681289453: 2177, 9681289454: 2178, 9681289455: 2179, 9681289456: 2180, 9681289461: 2181, 9681289463: 2182, 9681289466: 2183, 9681289471: 2184, 9681289472: 2185, 9681289478: 2186, 9681289482: 2187, 9681289483: 2188, 9681289486: 2189, 9681289487: 2190, 9681289504: 2191, 9681289506: 2192, 9681289508: 2193, 9681313969: 2194, 9681320717: 2195, 9681332616: 2196, 9681362119: 2197, 9681362121: 2198, 9681402640: 2199, 9699583537: 2200, 9699583543: 2201, 9699583556: 2202, 9739748081: 2203, 9739748082: 2204, 9739748116: 2205, 9739763520: 2206, 9784057790: 2207, 9784057793: 2208, 9784057794: 2209, 9813183903: 2210, 9813207806: 2211, 9813211825: 2212, 9815476367: 2213, 9815476368: 2214, 9815476371: 2215, 9840480983: 2216, 9840480984: 2217, 9840481002: 2218, 9840481006: 2219, 9840481008: 2220, 9842899660: 2221, 9842899661: 2222, 9842899663: 2223, 9842899666: 2224, 9842899667: 2225, 9842899670: 2226, 9842899671: 2227, 9842899674: 2228, 9842899677: 2229, 9842899680: 2230, 9842899683: 2231, 9842899684: 2232, 9842899685: 2233, 9842899686: 2234, 9845790717: 2235, 9845790718: 2236, 9845790719: 2237, 9845790720: 2238, 9845790721: 2239, 9845790725: 2240, 9845790727: 2241, 9845790729: 2242, 9845790731: 2243, 9845790742: 2244, 9845790743: 2245, 9845790744: 2246, 9863143441: 2247, 9863143444: 2248, 9863143453: 2249, 9863143456: 2250, 9863143457: 2251, 9863143459: 2252, 9863143460: 2253, 9863143467: 2254, 9863143470: 2255, 9863143471: 2256, 9863143493: 2257, 9867133500: 2258, 9867133504: 2259, 9867133506: 2260, 9867133509: 2261, 9867133513: 2262, 9867139420: 2263, 9867139424: 2264, 9867139434: 2265, 9867139435: 2266, 9867139442: 2267, 9867139445: 2268, 9867139448: 2269, 9867139451: 2270, 9867139467: 2271, 9871148651: 2272, 9871148652: 2273, 9871148653: 2274, 9871148656: 2275, 9871148657: 2276, 9871148661: 2277, 9871148678: 2278, 9871148688: 2279, 9871148689: 2280, 9880108063: 2281, 9880108064: 2282, 9880108065: 2283, 9880108068: 2284, 9880108070: 2285, 9880108073: 2286, 9880108074: 2287, 9880108075: 2288, 9880108076: 2289, 9880108077: 2290, 9880108078: 2291, 9880108082: 2292, 9880108117: 2293, 9880108118: 2294, 9880108172: 2295, 9880108176: 2296, 9880108271: 2297, 9880108274: 2298, 9880108277: 2299, 9880108278: 2300, 9880108279: 2301, 9880108281: 2302, 9880108290: 2303, 9880108291: 2304, 9880108294: 2305, 9880108297: 2306, 9880108306: 2307, 9880108308: 2308, 9880108316: 2309, 9880108321: 2310, 9880108322: 2311, 9880108338: 2312, 9880108354: 2313, 9880108355: 2314, 9880108356: 2315, 9880108357: 2316, 9880108359: 2317, 9880108361: 2318, 9880108362: 2319, 9880108363: 2320, 9880108365: 2321, 9880108367: 2322, 9880108368: 2323, 9880108369: 2324, 9880108376: 2325, 9880108377: 2326, 9886044230: 2327, 9886044246: 2328, 9886044254: 2329, 9886044263: 2330, 9886044307: 2331, 9886044406: 2332, 9886044407: 2333, 9886044408: 2334, 9886044409: 2335, 9886044410: 2336, 9886044514: 2337, 9886044515: 2338, 9886047929: 2339, 9886047932: 2340, 9886047933: 2341, 9886047934: 2342, 9886047935: 2343, 9886047936: 2344, 9886047937: 2345, 9886047938: 2346, 9886047939: 2347, 9886047940: 2348, 9948714502: 2349, 9990697226: 2350, 9990697243: 2351, 9990697272: 2352, 9990697275: 2353, 9990697277: 2354, 10028680333: 2355, 10028680336: 2356, 10028680338: 2357, 10028680343: 2358, 10028680346: 2359, 10028680348: 2360, 10028680351: 2361, 10028680353: 2362, 10028680356: 2363, 10028680357: 2364, 10028680358: 2365, 10028680359: 2366, 10028680360: 2367, 10028680366: 2368, 10028680370: 2369, 10028680371: 2370, 10080248415: 2371, 10080290226: 2372, 10119253843: 2373, 10133683641: 2374, 10133683717: 2375, 10133683728: 2376, 10142318025: 2377, 10166777236: 2378, 10166777237: 2379, 10180295241: 2380, 10180295245: 2381, 10180295247: 2382, 10180295250: 2383, 10180918718: 2384, 10224492133: 2385, 10241316977: 2386, 10241316978: 2387, 10241316981: 2388, 10241316982: 2389, 10241316987: 2390, 10261531626: 2391, 10261545803: 2392, 10261555874: 2393, 10261555875: 2394, 10261555876: 2395, 10261555877: 2396, 10261555878: 2397, 10266029519: 2398, 10266029520: 2399, 10266029521: 2400, 10266029522: 2401, 10266029524: 2402, 10266029525: 2403, 10266029527: 2404, 10266029760: 2405, 10266029761: 2406, 10266029762: 2407, 10266029763: 2408, 10266029764: 2409, 10266029765: 2410, 10266029766: 2411, 10266029767: 2412, 10266091462: 2413, 10266091463: 2414, 10266091474: 2415, 10266091475: 2416, 10266091476: 2417, 10266091477: 2418, 10266091478: 2419, 10266091479: 2420, 10266091488: 2421, 10266091493: 2422, 10266091502: 2423, 10266091503: 2424, 10266093918: 2425, 10266093924: 2426, 10266093925: 2427, 10266093929: 2428, 10266093946: 2429, 10266093950: 2430, 10266093953: 2431, 10266093963: 2432, 10266093964: 2433, 10266434341: 2434, 10266434349: 2435, 10266434351: 2436, 10266434352: 2437, 10266434354: 2438, 10266434355: 2439, 10266434356: 2440, 10266434357: 2441, 10266434358: 2442, 10266434359: 2443, 10266434360: 2444, 10266434368: 2445, 10266434370: 2446, 10266434371: 2447, 10266434372: 2448, 10266434373: 2449, 10266434374: 2450, 10266434375: 2451, 10266434376: 2452, 10266434377: 2453, 10266434378: 2454, 10266434379: 2455, 10266434381: 2456, 10266434382: 2457, 10266434383: 2458, 10266434384: 2459, 10266434385: 2460, 10266434392: 2461, 10266434394: 2462, 10266434395: 2463, 10266434397: 2464, 10266434398: 2465, 10266434399: 2466, 10266434400: 2467, 10266434401: 2468, 10266434402: 2469, 10266434403: 2470, 10266434404: 2471, 10266434405: 2472, 10273923943: 2473, 10273923944: 2474, 10273923945: 2475, 10273923946: 2476, 10279001414: 2477, 10279001415: 2478, 10279001416: 2479, 10279001417: 2480, 10279001418: 2481, 10279001419: 2482, 10279001420: 2483, 10279001421: 2484, 10279001422: 2485, 10279001423: 2486, 10279001424: 2487, 10279001425: 2488, 10279001426: 2489, 10280786542: 2490, 10280786544: 2491, 10280786545: 2492, 10280786547: 2493, 10280786556: 2494, 10280786559: 2495, 10281069564: 2496, 10281259583: 2497, 10281259585: 2498, 10281307624: 2499, 10281307627: 2500, 10281307628: 2501, 10281308871: 2502, 10281308875: 2503, 10281308876: 2504, 10281308877: 2505, 10281457689: 2506, 10281457690: 2507, 10281457691: 2508, 10281457692: 2509, 10281457693: 2510, 10281457694: 2511, 10281473271: 2512, 10282604892: 2513, 10282604894: 2514, 10282621309: 2515, 10282621311: 2516, 10282621312: 2517, 10282621313: 2518, 10282621314: 2519, 10282621315: 2520, 10282621316: 2521, 10282621317: 2522, 10282621335: 2523, 10282621336: 2524, 10282621337: 2525, 10282621339: 2526, 10282621341: 2527, 10282621345: 2528, 10282621346: 2529, 10282621350: 2530, 10282621352: 2531, 10282621353: 2532, 10282621354: 2533, 10282621362: 2534, 10282621367: 2535, 10282667143: 2536, 10282667145: 2537, 10282667162: 2538, 10282667164: 2539, 10282667166: 2540, 10282667167: 2541, 10282760068: 2542, 10282833379: 2543, 10282833382: 2544, 10282833388: 2545, 10282833392: 2546, 10285438391: 2547, 10285438393: 2548, 10285438398: 2549, 10285438400: 2550, 10285438401: 2551, 10285438403: 2552, 10287694619: 2553, 10287694621: 2554, 10287694625: 2555, 10287694626: 2556, 10287694669: 2557, 10287694671: 2558, 10287694675: 2559, 10287694676: 2560, 10287694679: 2561, 10287694680: 2562, 10287694682: 2563, 10287694684: 2564, 10287694697: 2565, 10287694699: 2566, 10287694700: 2567, 10287701219: 2568, 10287701220: 2569, 10287722097: 2570, 10287722098: 2571, 10287722101: 2572, 10287722102: 2573, 10287722103: 2574, 10287734757: 2575, 10287734758: 2576, 10287734761: 2577, 10287734762: 2578, 10287734764: 2579, 10287734765: 2580, 10287734767: 2581, 10287734807: 2582, 10287742072: 2583, 10287742080: 2584, 10287742081: 2585, 10287742082: 2586, 10287752410: 2587, 10287752449: 2588, 10287752451: 2589, 10287844479: 2590, 10287844481: 2591, 10289788019: 2592, 10289788025: 2593, 10289788053: 2594, 10289788054: 2595, 10290467190: 2596, 10290488404: 2597, 10291650607: 2598, 10291723239: 2599, 10291723243: 2600, 10291723245: 2601, 10291723246: 2602, 10291723247: 2603, 10291727326: 2604, 10291727351: 2605, 10291727357: 2606, 10293853340: 2607, 10293853342: 2608, 10293853343: 2609, 10293853344: 2610, 10293853345: 2611, 10293853365: 2612, 10293853367: 2613, 10293853368: 2614, 10293853369: 2615, 10293853370: 2616, 10293853371: 2617, 10295637744: 2618, 10295637746: 2619, 10295637747: 2620, 10295637749: 2621, 10295637750: 2622, 10295637751: 2623, 10295637768: 2624, 10295646762: 2625, 10295646765: 2626, 10295646768: 2627, 10295646772: 2628, 10295648183: 2629, 10295648331: 2630, 10295648333: 2631, 10295648346: 2632, 10295648347: 2633, 10295648348: 2634, 10295706890: 2635, 10295706892: 2636, 10295706893: 2637, 10295706894: 2638, 10295715139: 2639, 10295715146: 2640, 10295715147: 2641, 10295715148: 2642, 10295715149: 2643, 10295715150: 2644, 10295715151: 2645, 10295715272: 2646, 10295715275: 2647, 10295715276: 2648, 10295715281: 2649, 10295715282: 2650, 10295715285: 2651, 10295715286: 2652, 10295715288: 2653, 10295715290: 2654, 10295715291: 2655, 10295715292: 2656, 10295715293: 2657, 10295979868: 2658, 10295979869: 2659, 10295979870: 2660, 10296001070: 2661, 10296001071: 2662, 10296001073: 2663, 10296001074: 2664, 10296001075: 2665, 10296001076: 2666, 10296001353: 2667, 10296001354: 2668, 10296001355: 2669, 10296001356: 2670, 10296001357: 2671, 10296001359: 2672, 10296001360: 2673, 10296008978: 2674, 10296008979: 2675, 10296008980: 2676, 10296008981: 2677, 10296008982: 2678, 10296008983: 2679, 10296008984: 2680, 10296008985: 2681, 10296008986: 2682, 10296008987: 2683, 10296008988: 2684, 10296008989: 2685, 10296088688: 2686, 10296088689: 2687, 10296088701: 2688, 10296088702: 2689, 10296088704: 2690, 10296088705: 2691, 10296096665: 2692, 10296096667: 2693, 10296096668: 2694, 10296096669: 2695, 10296096671: 2696, 10296096675: 2697, 10296096676: 2698, 10296096677: 2699, 10296096678: 2700, 10296096680: 2701, 10296096681: 2702, 10296110009: 2703, 10296110073: 2704, 10296110075: 2705, 10296110181: 2706, 10296110183: 2707, 10296110218: 2708, 10296110219: 2709, 10296110220: 2710, 10296110252: 2711, 10296110253: 2712, 10296110254: 2713, 10296133851: 2714, 10296133853: 2715, 10296133854: 2716, 10296133855: 2717, 10296140535: 2718, 10296140538: 2719, 10296140665: 2720, 10297059254: 2721, 10297059264: 2722, 10297059268: 2723, 10297059274: 2724, 10297059293: 2725, 10297059295: 2726, 10297064156: 2727, 10297064190: 2728, 10299192801: 2729, 10299192806: 2730, 10299192807: 2731, 10299244023: 2732, 10299244033: 2733, 10299244146: 2734, 10299258484: 2735, 10299258485: 2736, 10299258490: 2737, 10299258491: 2738, 10299258497: 2739, 10299258500: 2740, 10299258503: 2741, 10299258505: 2742, 10299258506: 2743, 10299258507: 2744, 10299258508: 2745, 10299265345: 2746, 10299265346: 2747, 10299265347: 2748, 10299265350: 2749, 10299265351: 2750, 10299265354: 2751, 10299265356: 2752, 10299528770: 2753, 10299528771: 2754, 10299528774: 2755, 10299528781: 2756, 10299528785: 2757, 10299528789: 2758, 10299528791: 2759, 10299560224: 2760, 10299560227: 2761, 10299560261: 2762, 10299560262: 2763, 10299560294: 2764, 10299560307: 2765, 10299560309: 2766, 10301192197: 2767, 10301347697: 2768, 10301347699: 2769, 10301347700: 2770, 10301347702: 2771, 10301347703: 2772, 10301407420: 2773, 10301407421: 2774, 10301407422: 2775, 10301407424: 2776, 10301407425: 2777, 10301407427: 2778, 10301407428: 2779, 10301407435: 2780, 10301407436: 2781, 10301407437: 2782, 10301407493: 2783, 10301407496: 2784, 10309785017: 2785, 10309785018: 2786, 10309785019: 2787, 10309785020: 2788, 10309785021: 2789, 10309785024: 2790, 10309785025: 2791, 10309785027: 2792, 10309785031: 2793, 10311860665: 2794, 10311860666: 2795, 10312065732: 2796, 10312065733: 2797, 10312065734: 2798, 10312065736: 2799, 10312086705: 2800, 10312086707: 2801, 10312101717: 2802, 10312101733: 2803, 10312101736: 2804, 10312101742: 2805, 10312101743: 2806, 10312101748: 2807, 10312101751: 2808, 10312101754: 2809, 10312101759: 2810, 10312101760: 2811, 10312101764: 2812, 10544420612: 2813, 10544420614: 2814, 10553146306: 2815, 10553232133: 2816, 10553246929: 2817, 10553246930: 2818, 10553246939: 2819, 10553246948: 2820, 10553246949: 2821, 10553246950: 2822, 10553246952: 2823, 10553246969: 2824, 10602674227: 2825, 10603070076: 2826, 10603070078: 2827, 10603070099: 2828, 10603070103: 2829, 10603070104: 2830, 10603070609: 2831, 10768068857: 2832, 10768068858: 2833, 10768068861: 2834, 10768068862: 2835, 10768068864: 2836, 10825138777: 2837, 10825138778: 2838, 10825138785: 2839, 10825138789: 2840, 10825138790: 2841, 10825138793: 2842, 10825138797: 2843, 10825138800: 2844, 10825138801: 2845, 10825138802: 2846, 10825138803: 2847, 10825138804: 2848, 10825141105: 2849, 10825141106: 2850, 10825141107: 2851, 10825141108: 2852, 10825141109: 2853, 10825141110: 2854, 10825141111: 2855, 10825166613: 2856, 10825166615: 2857, 10825166620: 2858, 10825166623: 2859, 10825166626: 2860, 10825166628: 2861, 10825615534: 2862, 10825615541: 2863, 10825615563: 2864, 10825615564: 2865, 10825615565: 2866, 10825615566: 2867, 10825615601: 2868, 10825615604: 2869, 10825622710: 2870, 10825622711: 2871, 10825625205: 2872, 10825625209: 2873, 10825625213: 2874, 10825625214: 2875, 10825625215: 2876, 10825625216: 2877, 10825625217: 2878, 10825625218: 2879, 10825625227: 2880, 10825625228: 2881, 10825625229: 2882, 10825625230: 2883, 10825625255: 2884, 10825625263: 2885, 10825625264: 2886, 10825625265: 2887, 10825625266: 2888, 10825625267: 2889, 10825625276: 2890, 10825625281: 2891, 10825625282: 2892, 10825625285: 2893, 10825625301: 2894, 10825625304: 2895, 10825625308: 2896, 10825625310: 2897, 10825625353: 2898, 10825625355: 2899, 10825625356: 2900, 10825625357: 2901, 10825625358: 2902, 10825625359: 2903, 10825625360: 2904, 10825625361: 2905, 10825625366: 2906, 10825625367: 2907, 10825625399: 2908, 10825625401: 2909, 10825625403: 2910, 10825625407: 2911, 10825625411: 2912, 10825625413: 2913, 10825625414: 2914, 11030490971: 2915, 11096488575: 2916, 11254765811: 2917, 11254765819: 2918, 11254765822: 2919, 11254765824: 2920, 11254765825: 2921, 11254765828: 2922, 11254765830: 2923, 11254765833: 2924, 11508918096: 2925, 11508918103: 2926, 11508946166: 2927, 11508946167: 2928, 11508946168: 2929, 11508946170: 2930, 11584857420: 2931, 11597450926: 2932, 11597450929: 2933, 11597450930: 2934, 11597450931: 2935, 11597450932: 2936, 11597450933: 2937, 11597450935: 2938, 11597450936: 2939, 11597450937: 2940, 11597450938: 2941, 11597450939: 2942, 11597450940: 2943, 11597450943: 2944, 11597450944: 2945, 11597450945: 2946, 11750711840: 2947, 11750864586: 2948, 11750864588: 2949, 11750864589: 2950, 11837871264: 2951, 11837871266: 2952, 11837871268: 2953, 11838001769: 2954, 11838001773: 2955, 11838001777: 2956, 11838001786: 2957, 11838001789: 2958, 11838001790: 2959, 11838001792: 2960, 11838001793: 2961, 11838001794: 2962, 11838001795: 2963, 11847965749: 2964, 11847965754: 2965, 11847965755: 2966, 11847965756: 2967, 11847965757: 2968, 11847965758: 2969, 11847965759: 2970, 11848014069: 2971, 11970887710: 2972, 11970887712: 2973, 11970887715: 2974, 11970887716: 2975, 11970887717: 2976, 11970887718: 2977, 11970887719: 2978, 11970887720: 2979, 11972396464: 2980, 11972409287: 2981, 11972409288: 2982, 11972409289: 2983, 11972409290: 2984, 11972409293: 2985, 12059861200: 2986, 12059861201: 2987, 12059861205: 2988, 12059861212: 2989, 12059861213: 2990, 12059861215: 2991, 12059861235: 2992, 12068458769: 2993, 12072377525: 2994, 12072377527: 2995, 12072377528: 2996, 12072377542: 2997, 12072377544: 2998, 12072377547: 2999, 12072377548: 3000, 12072377549: 3001, 12072377550: 3002, 12072377552: 3003, 12072393876: 3004, 12072393878: 3005, 12072393880: 3006, 12072393883: 3007, 12072393886: 3008, 12072393887: 3009, 12072393888: 3010, 12072393909: 3011, 12072393910: 3012, 12072393911: 3013, 12072393912: 3014, 12072393913: 3015, 12072393914: 3016, 12072393915: 3017, 12072393916: 3018, 12186966196: 3019, 12186966197: 3020, 12186966198: 3021, 12186999701: 3022, 12186999702: 3023, 12186999704: 3024, 12186999705: 3025, 12186999708: 3026, 12186999713: 3027, 12186999714: 3028, 12186999715: 3029, 12186999718: 3030, 12186999719: 3031, 12186999720: 3032, 12186999721: 3033, 12186999722: 3034, 12186999731: 3035, 12242411842: 3036, 12242411857: 3037, 12242411859: 3038, 12242411860: 3039, 12242411862: 3040, 12242411863: 3041, 12242411864: 3042, 12242411865: 3043, 12256231223: 3044, 12256231224: 3045, 12256231227: 3046, 12256231229: 3047, 12256231232: 3048, 12256231265: 3049, 12256231269: 3050, 12256231271: 3051, 12256231276: 3052, 12256265396: 3053, 12256265397: 3054, 12256265399: 3055, 12256265400: 3056, 12282857828: 3057, 12282857829: 3058, 12282857832: 3059, 12282857835: 3060, 12316437956: 3061, 12316437957: 3062, 12316437958: 3063, 12316437959: 3064, 12316437960: 3065, 12316437961: 3066, 12316437962: 3067, 12316437963: 3068, 12316437964: 3069, 12316437965: 3070, 12509079874: 3071, 12521392946: 3072, 12547739134: 3073, 12547739135: 3074, 12547739136: 3075, 12556955246: 3076, 12556955247: 3077, 12556955248: 3078, 12556955249: 3079, 12571125592: 3080, 12688095877: 3081, 12726972386: 3082, 12726972387: 3083, 12726972388: 3084, 12726972401: 3085, 12726972404: 3086, 12726972408: 3087, 12726972442: 3088, 12726972444: 3089, 12726972445: 3090, 12726972446: 3091, 12726972447: 3092, 12726972448: 3093, 12726972449: 3094, 12726972450: 3095, 12726994901: 3096, 12726994902: 3097, 12726994903: 3098, 12726994913: 3099, 12777137747: 3100, 12777137748: 3101, 12777137764: 3102, 12777137765: 3103, 12777137767: 3104, 12777137771: 3105, 12777137772: 3106, 12777137773: 3107}\n",
      "Number of goals: 15\n",
      "{469084068: 0, 49150691: 1, 768264666: 2, 1926666015: 3, 1926673385: 4, 49309735: 5, 273627682: 6, 445989107: 7, 445992528: 8, 446128310: 9, 1772230346: 10, 1926673336: 11, 2872424923: 12, 3139419286: 13, 4037576308: 14}\n"
     ]
    }
   ],
   "source": [
    "# build node2idx so that every node in campus.G_undirected maps to 0…V−1\n",
    "all_nodes = list(campus.G_undirected.nodes())\n",
    "if len(all_nodes) > 3108:\n",
    "    all_nodes = all_nodes[:3108]\n",
    "node2idx  = {n:i for i,n in enumerate(all_nodes)}\n",
    "\n",
    "V = len(all_nodes)\n",
    "print(f\"Number of nodes in the graph: {V}\")\n",
    "print(node2idx)\n",
    "\n",
    "# build goal2idx likewise for your goals list\n",
    "goal2idx = {g:i for i,g in enumerate(goals)}\n",
    "G = len(goals)\n",
    "print(f\"Number of goals: {G}\")\n",
    "print(goal2idx)"
   ]
  },
  {
   "cell_type": "code",
   "execution_count": 35,
   "id": "31f725b9",
   "metadata": {},
   "outputs": [
    {
     "name": "stdout",
     "output_type": "stream",
     "text": [
      "Number of nodes in node2idx: 3107\n"
     ]
    }
   ],
   "source": [
    "all_nodes = set()\n",
    "for episode in path_data.values():\n",
    "    for path in episode.values():\n",
    "        all_nodes.update(path)\n",
    "all_nodes = list(all_nodes)\n",
    "node2idx = {n: i for i, n in enumerate(all_nodes)}\n",
    "print(f\"Number of nodes in node2idx: {len(node2idx)}\")"
   ]
  },
  {
   "cell_type": "code",
   "execution_count": 36,
   "id": "cde4b619-66eb-41f4-abac-6db05748f18f",
   "metadata": {},
   "outputs": [
    {
     "data": {
      "text/plain": [
       "device(type='cuda')"
      ]
     },
     "execution_count": 36,
     "metadata": {},
     "output_type": "execute_result"
    }
   ],
   "source": [
    "if torch.backends.mps.is_available():\n",
    "    device = torch.device(\"mps\")\n",
    "elif torch.cuda.is_available():\n",
    "    device = torch.device(\"cuda\")\n",
    "else:\n",
    "    device = torch.device(\"cpu\")\n",
    "device"
   ]
  },
  {
   "cell_type": "code",
   "execution_count": 37,
   "id": "27ba1738",
   "metadata": {},
   "outputs": [],
   "source": [
    "# device = torch.device(\"cpu\")  # Force CPU for compatibility"
   ]
  },
  {
   "cell_type": "code",
   "execution_count": 38,
   "id": "1462ee99-9823-4817-8174-5a3eac664215",
   "metadata": {},
   "outputs": [],
   "source": [
    "from tqdm import tqdm"
   ]
  },
  {
   "cell_type": "markdown",
   "id": "72b2f03a-fe7f-4707-8eaf-0ab71aacadef",
   "metadata": {},
   "source": [
    "Getting posteriors for test data"
   ]
  },
  {
   "cell_type": "code",
   "execution_count": 39,
   "id": "e54f11bd",
   "metadata": {},
   "outputs": [],
   "source": [
    "test_agent_ids = [agent.id for agent in agents]"
   ]
  },
  {
   "cell_type": "code",
   "execution_count": 40,
   "id": "eabefa40-38fb-4f6a-8b7a-3263cedcf687",
   "metadata": {},
   "outputs": [
    {
     "name": "stderr",
     "output_type": "stream",
     "text": [
      "Episode: 100%|██████████| 100/100 [20:59<00:00, 12.60s/it]\n"
     ]
    }
   ],
   "source": [
    "tomnet_posteriors = {}\n",
    "\n",
    "for episode in tqdm(range(len(goal_data)), desc=\"Episode\"):\n",
    "    tomnet_posteriors[episode] = {}\n",
    "    for agent in agents:\n",
    "        if agent.id not in test_agent_ids:\n",
    "            continue\n",
    "        dists = infer_goal_dists(model, agent.id, episode, path_data, node2idx, goal2idx, K=10, T_sup=75, T_q=20, device=device)\n",
    "        tomnet_posteriors[episode][agent.id] = get_posterior_format(dists)"
   ]
  },
  {
   "cell_type": "code",
   "execution_count": null,
   "id": "a1b31abe-b911-429c-b89e-199f8f7fa9ef",
   "metadata": {},
   "outputs": [],
   "source": []
  },
  {
   "cell_type": "markdown",
   "id": "2b6d7170-c62d-4d59-9dcc-1422430d7cd6",
   "metadata": {},
   "source": [
    "## Step 5: Visualizing Performance for Experiment 0  \n",
    "We want to visualize the average brier score across all agents for all epsiodes. That is, calculate the brier score for every path and then take the average. Plot this as a line."
   ]
  },
  {
   "cell_type": "code",
   "execution_count": 41,
   "id": "eb8dc133-9a9d-45bf-a50a-aa14a13d74b4",
   "metadata": {},
   "outputs": [],
   "source": [
    "from real_world_src.utils.metrics import brier_along_path, accuracy_along_path"
   ]
  },
  {
   "cell_type": "code",
   "execution_count": null,
   "id": "ab7bdf33-f8fb-4147-aaf5-af7e22b1064c",
   "metadata": {},
   "outputs": [],
   "source": []
  },
  {
   "cell_type": "code",
   "execution_count": 42,
   "id": "be36b3ec-94cc-4c8a-9aad-b8635b37eeab",
   "metadata": {},
   "outputs": [],
   "source": [
    "# BToM Scores\n",
    "scores = []\n",
    "for episode in range(len(goal_data)):\n",
    "    for agent in agents:\n",
    "        scores.append(brier_along_path(path_data[episode][agent.id], \n",
    "                                  goal_data[episode][agent.id], \n",
    "                                  posteriors_data[episode][agent.id], \n",
    "                                  goals))\n",
    "# Extended BToM Scores\n",
    "ext_scores = []\n",
    "for episode in range(len(goal_data)):\n",
    "    for agent in agents:\n",
    "        ext_scores.append(brier_along_path(path_data[episode][agent.id], \n",
    "                                  goal_data[episode][agent.id], \n",
    "                                  ext_posteriors_data[episode][agent.id], \n",
    "                                  goals))\n",
    "\n",
    "# ToMNet Scores\n",
    "tomnet_scores = []\n",
    "for episode in range(len(goal_data)):\n",
    "    for agent in agents:\n",
    "        if agent.id not in test_agent_ids:\n",
    "            continue\n",
    "        tomnet_scores.append(brier_along_path(path_data[episode][agent.id], \n",
    "                                  goal_data[episode][agent.id], \n",
    "                                  tomnet_posteriors[episode][agent.id], \n",
    "                                  goals))"
   ]
  },
  {
   "cell_type": "code",
   "execution_count": 43,
   "id": "879cd422-ca7c-4179-bd2b-a6153f6eee09",
   "metadata": {},
   "outputs": [],
   "source": [
    "# BToM Scores\n",
    "btom_acc = []\n",
    "for episode in range(len(goal_data)):\n",
    "    for agent in agents:\n",
    "        btom_acc.append(accuracy_along_path(path_data[episode][agent.id], \n",
    "                                  goal_data[episode][agent.id], \n",
    "                                  posteriors_data[episode][agent.id], \n",
    "                                  goals))\n",
    "# Extended BToM Scores\n",
    "ext_acc = []\n",
    "for episode in range(len(goal_data)):\n",
    "    for agent in agents:\n",
    "        ext_acc.append(accuracy_along_path(path_data[episode][agent.id], \n",
    "                                  goal_data[episode][agent.id], \n",
    "                                  ext_posteriors_data[episode][agent.id], \n",
    "                                  goals))\n",
    "\n",
    "# ToMNet Scores\n",
    "tomnet_acc = []\n",
    "for episode in range(len(goal_data)):\n",
    "    for agent in agents:\n",
    "        if agent.id not in test_agent_ids:\n",
    "            continue\n",
    "        tomnet_acc.append(accuracy_along_path(path_data[episode][agent.id], \n",
    "                                  goal_data[episode][agent.id], \n",
    "                                  tomnet_posteriors[episode][agent.id], \n",
    "                                  goals))"
   ]
  },
  {
   "cell_type": "code",
   "execution_count": 44,
   "id": "1e995fc8-386c-4c3e-8200-9a3eacd31104",
   "metadata": {},
   "outputs": [
    {
     "data": {
      "image/png": "[encoded data removed]",
      "text/plain": [
       "<Figure size 1000x600 with 1 Axes>"
      ]
     },
     "metadata": {},
     "output_type": "display_data"
    }
   ],
   "source": [
    "import numpy as np\n",
    "import matplotlib.pyplot as plt\n",
    "\n",
    "# Suppose `scores` is your (n_trajectories × n_fractions) array:\n",
    "arr = np.array(scores)  # shape (N, 11)\n",
    "ext_arr  = np.array(ext_scores)\n",
    "tomnet_arr = np.array(tomnet_scores)\n",
    "props = np.linspace(0, 1, arr.shape[1])\n",
    "\n",
    "# Compute mean\n",
    "mean_base = arr.mean(axis=0)\n",
    "mean_ext  = ext_arr.mean(axis=0)\n",
    "mean_tomnet = tomnet_arr.mean(axis=0)\n",
    "\n",
    "plt.figure(figsize=(10,6))\n",
    "plt.plot(props, mean_base, '-o', label='BToM')\n",
    "plt.plot(props, mean_ext,  '-s', label='Extended BToM')\n",
    "plt.plot(props, mean_tomnet, '-o', label='ToMNet')\n",
    "\n",
    "plt.xlabel('Proportion of Path Observed')\n",
    "plt.ylabel('Brier Score')\n",
    "plt.title('Brier Score vs. Path Fraction')\n",
    "plt.xticks(props)\n",
    "plt.ylim(0, 1.5)\n",
    "plt.grid(alpha=0.3)\n",
    "plt.legend()\n",
    "plt.tight_layout()\n",
    "plt.show()"
   ]
  },
  {
   "cell_type": "code",
   "execution_count": 45,
   "id": "24d0fe36-9cb3-4b1e-894f-c295e908f5d5",
   "metadata": {},
   "outputs": [
    {
     "data": {
      "image/png": "[encoded data removed]",
      "text/plain": [
       "<Figure size 1000x600 with 1 Axes>"
      ]
     },
     "metadata": {},
     "output_type": "display_data"
    }
   ],
   "source": [
    "import numpy as np\n",
    "import matplotlib.pyplot as plt\n",
    "\n",
    "# Suppose `scores` is your (n_trajectories × n_fractions) array:\n",
    "arr = np.array(btom_acc)  # shape (N, 11)\n",
    "ext_arr  = np.array(ext_acc)\n",
    "tom_arr = np.array(tomnet_acc)\n",
    "props = np.linspace(0, 1, arr.shape[1])\n",
    "\n",
    "# Compute mean\n",
    "mean_base = arr.mean(axis=0)\n",
    "mean_ext  = ext_arr.mean(axis=0)\n",
    "mean_tom  = tom_arr.mean(axis=0)\n",
    "\n",
    "\n",
    "plt.figure(figsize=(10,6))\n",
    "plt.plot(props, mean_base, '-o', label='BToM')\n",
    "plt.plot(props, mean_ext,  '-s', label='Extended BToM')\n",
    "plt.plot(props, mean_tom, '-o', label='ToMNet')\n",
    "\n",
    "\n",
    "plt.xlabel('Proportion of Path Observed')\n",
    "plt.ylabel('Accuracy')\n",
    "plt.title('Accuracy vs. Path Fraction')\n",
    "plt.xticks(props)\n",
    "plt.ylim(0, 1)\n",
    "plt.grid(alpha=0.3)\n",
    "plt.legend()\n",
    "plt.tight_layout()\n",
    "plt.show()"
   ]
  },
  {
   "cell_type": "code",
   "execution_count": null,
   "id": "2d4b0058-fd6b-4fad-9ec5-c8cd1233119d",
   "metadata": {},
   "outputs": [],
   "source": []
  },
  {
   "cell_type": "code",
   "execution_count": null,
   "id": "87cfcf79-5913-46c1-a842-ad92614d9715",
   "metadata": {},
   "outputs": [],
   "source": []
  },
  {
   "cell_type": "markdown",
   "id": "636a35ee-3801-4fe7-8e19-1d6a25e471be",
   "metadata": {},
   "source": [
    "1. Use geospatial coordinates instead of IDs for nodes\n",
    "2. Consider an embedding for the nodes --  we are using an embedding for the nodes\n",
    "3. Consider multi head loss\n",
    "4. Consider other loss functions for the distribution\n",
    "5. The character net has a strange input where the multiple past trajs are concatenated"
   ]
  },
  {
   "cell_type": "code",
   "execution_count": null,
   "id": "f8899e57-9f79-49ae-b548-c564e32f6196",
   "metadata": {},
   "outputs": [],
   "source": []
  },
  {
   "cell_type": "code",
   "execution_count": null,
   "id": "ec673c0c-4372-4423-b2c0-8fd188e6f54e",
   "metadata": {},
   "outputs": [],
   "source": []
  },
  {
   "cell_type": "code",
   "execution_count": null,
   "id": "f7c5de70-3d1a-43e3-981c-6a339b829dc9",
   "metadata": {},
   "outputs": [],
   "source": []
  },
  {
   "cell_type": "code",
   "execution_count": null,
   "id": "9dfbbd05-25b0-440f-b0a7-feeff19f249c",
   "metadata": {},
   "outputs": [],
   "source": []
  },
  {
   "cell_type": "code",
   "execution_count": null,
   "id": "bae657c0-8e55-4d60-9af3-0767439a48b8",
   "metadata": {},
   "outputs": [],
   "source": []
  },
  {
   "cell_type": "code",
   "execution_count": null,
   "id": "6c1d6dbf-f5f5-4b82-9694-ed6bf46811a4",
   "metadata": {},
   "outputs": [],
   "source": []
  },
  {
   "cell_type": "code",
   "execution_count": null,
   "id": "67fca93b-1cbf-4acc-b131-04c8025440f8",
   "metadata": {},
   "outputs": [],
   "source": []
  },
  {
   "cell_type": "code",
   "execution_count": null,
   "id": "3dbb07be-e01a-4d2c-9dc4-cedf4a2fcff4",
   "metadata": {},
   "outputs": [],
   "source": []
  },
  {
   "cell_type": "code",
   "execution_count": null,
   "id": "da5fcb5c-e64c-4cef-9dfc-1d0544eb5651",
   "metadata": {},
   "outputs": [],
   "source": []
  }
 ],
 "metadata": {
  "kernelspec": {
   "display_name": "tom",
   "language": "python",
   "name": "python3"
  },
  "language_info": {
   "codemirror_mode": {
    "name": "ipython",
    "version": 3
   },
   "file_extension": ".py",
   "mimetype": "text/x-python",
   "name": "python",
   "nbconvert_exporter": "python",
   "pygments_lexer": "ipython3",
   "version": "3.12.9"
  }
 },
 "nbformat": 4,
 "nbformat_minor": 5
}
