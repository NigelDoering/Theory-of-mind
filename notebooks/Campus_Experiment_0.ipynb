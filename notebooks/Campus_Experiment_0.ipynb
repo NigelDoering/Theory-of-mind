{
 "cells": [
  {
   "cell_type": "markdown",
   "id": "0af56c5f-2901-400b-a682-8c4cfab6b611",
   "metadata": {},
   "source": [
    "# Experiment  0: ToM Overall Model Performance\n"
   ]
  },
  {
   "cell_type": "code",
   "execution_count": 32,
   "id": "7c5b1840-cde8-455b-828d-b405646d3247",
   "metadata": {},
   "outputs": [],
   "source": [
    "import numpy as np\n",
    "import pymc\n",
    "import networkx as nx\n",
    "import matplotlib.pyplot as plt\n",
    "import random\n",
    "import torch"
   ]
  },
  {
   "cell_type": "code",
   "execution_count": 33,
   "id": "10e47055-0cb8-491b-bc16-2a8d8dcce4a7",
   "metadata": {},
   "outputs": [],
   "source": [
    "import sys\n",
    "import os\n",
    "import osmnx as ox\n",
    "\n",
    "# Adjust this path as needed to point to your project root\n",
    "sys.path.append(os.path.abspath(\"..\"))"
   ]
  },
  {
   "cell_type": "code",
   "execution_count": 34,
   "id": "0c402353-27ab-46bf-b576-52d2d4d2c865",
   "metadata": {},
   "outputs": [],
   "source": [
    "def plot_goal_distribution(goal_distribution):\n",
    "    \"\"\"\n",
    "    Plot the goal distribution as a bar plot.\n",
    "\n",
    "    Parameters\n",
    "    ----------\n",
    "    goal_distribution : dict\n",
    "        Dictionary mapping candidate goal IDs to probability values.\n",
    "    \"\"\"\n",
    "    # Extract goal IDs and probabilities, converting to floats if needed.\n",
    "    goals = list(goal_distribution.keys())\n",
    "    probs = [float(goal_distribution[g]) for g in goals]\n",
    "    \n",
    "    # Create the bar plot.\n",
    "    plt.figure(figsize=(10, 6))\n",
    "    plt.bar(range(len(goals)), probs, tick_label=[str(g) for g in goals])\n",
    "    plt.xlabel(\"Candidate Goal IDs\")\n",
    "    plt.ylabel(\"Probability\")\n",
    "    plt.title(\"Posterior Distribution over Candidate Goals\")\n",
    "    plt.xticks(rotation=45, ha=\"right\")\n",
    "    plt.tight_layout()\n",
    "    plt.show()"
   ]
  },
  {
   "cell_type": "code",
   "execution_count": 35,
   "id": "ae66225e-25c8-4648-809e-6fd2f98fe8b6",
   "metadata": {},
   "outputs": [],
   "source": [
    "def visualize_map(campus,\n",
    "                  path=None,\n",
    "                  goal_nodes=None,\n",
    "                  ax=None):\n",
    "    \"\"\"\n",
    "    Visualize the campus map, plus optional trajectory, start, waypoint, and goal nodes.\n",
    "    \n",
    "    Arguments:\n",
    "      campus         an object with:\n",
    "                        - campus.G           : a networkx graph\n",
    "                        - campus.node_coords : dict[node] -> (x, y) coordinates\n",
    "                        - campus.buildings   : a GeoDataFrame of building footprints (or None)\n",
    "      path           list of node‐IDs, the agent’s trajectory to draw (in order)\n",
    "      start_nodes    list of node‐IDs to mark as start(s)\n",
    "      waypoint       single node‐ID to mark as an intermediate waypoint\n",
    "      goal_nodes     list of node‐IDs to mark as goal(s)\n",
    "      ax             optional matplotlib Axes onto which to draw\n",
    "      \n",
    "    Returns:\n",
    "      fig, ax        the figure & axis\n",
    "    \"\"\"\n",
    "    # 1) draw the base map\n",
    "    if ax is None:\n",
    "        fig, ax = ox.plot_graph(campus.G,\n",
    "                                figsize=(15,15),\n",
    "                                node_size=5,\n",
    "                                edge_color=\"#999999\",\n",
    "                                show=False,\n",
    "                                close=False)\n",
    "    else:\n",
    "        fig = ax.figure\n",
    "        ox.plot_graph(campus.G,\n",
    "                      ax=ax,\n",
    "                      node_size=5,\n",
    "                      edge_color=\"#999999\",\n",
    "                      show=False)\n",
    "    \n",
    "    # 2) overlay buildings if you have them\n",
    "    if getattr(campus, \"buildings\", None) is not None:\n",
    "        campus.buildings.plot(ax=ax,\n",
    "                              color=\"#bbbbbb\",\n",
    "                              alpha=0.7,\n",
    "                              edgecolor=\"#444444\")\n",
    "    \n",
    "    # 3) draw the agent’s path\n",
    "    if path is not None and len(path) > 1:\n",
    "        coords = [campus.node_coords[n] for n in path]\n",
    "        xs, ys = zip(*coords)\n",
    "        ax.plot(xs, ys,\n",
    "                linestyle='-',\n",
    "                linewidth=3.0,\n",
    "                color='lightblue',\n",
    "                alpha=0.8,\n",
    "                zorder=3,\n",
    "                label=\"Trajectory\")\n",
    "        # and mark the actual visited nodes\n",
    "        ax.scatter(xs, ys,\n",
    "                   c='C0',\n",
    "                   s=30,\n",
    "                   zorder=4)\n",
    "    \n",
    "    # 6) mark goal nodes\n",
    "    if goal_nodes:\n",
    "        goal_coords = [campus.node_coords[n] for n in goal_nodes]\n",
    "        xs, ys = zip(*goal_coords)\n",
    "        ax.scatter(xs, ys,\n",
    "                   c=\"yellow\",\n",
    "                   s=160,\n",
    "                   marker=\"*\",\n",
    "                   zorder=5,\n",
    "                   label=\"Goal\")\n",
    "    \n",
    "    # 7) finalize\n",
    "    ax.legend(loc=\"upper right\")\n",
    "    ax.set_title(\"UCSD Campus Environment\")\n",
    "    ax.set_axis_off()\n",
    "    fig.tight_layout()\n",
    "    return fig, ax"
   ]
  },
  {
   "cell_type": "code",
   "execution_count": 36,
   "id": "eaafe0ee-e10e-4ca6-a9db-d6125df1e119",
   "metadata": {},
   "outputs": [],
   "source": [
    "from real_world_src.environment.campus_env import CampusEnvironment\n",
    "from real_world_src.agents.agent_factory import AgentFactory\n",
    "from real_world_src.simulation.simulator import Simulator\n",
    "#from real_world_src.simulation.experiment_1 import Simulator\n",
    "\n",
    "from real_world_src.utils.run_manager import RunManager\n",
    "from real_world_src.utils.config import VISUAL_CONFIG\n",
    "from real_world_src.utils.config import get_agent_color\n"
   ]
  },
  {
   "cell_type": "markdown",
   "id": "5c7670da-fc0e-4cbf-ae62-64c288c8243c",
   "metadata": {},
   "source": [
    "## Steps  \n",
    "1. Create the UCSD campus world\n",
    "2. Create n agents each with a specific distribution over the goals\n",
    "3. Run m epsiodes where each agent chooses a goal and performs a single path to that goal\n",
    "4. Use this data as training set"
   ]
  },
  {
   "cell_type": "markdown",
   "id": "9d3521d0-745e-48a4-bc1c-ef76b62a628c",
   "metadata": {},
   "source": [
    "## Step 1: Create the Map"
   ]
  },
  {
   "cell_type": "code",
   "execution_count": 37,
   "id": "e78418df-240d-4e7c-93d8-c6c452bdacd4",
   "metadata": {},
   "outputs": [
    {
     "name": "stdout",
     "output_type": "stream",
     "text": [
      "Started new simulation run #11\n",
      "All visualizations will be saved to: /Users/arshia/UCSD/Theory-of-mind/notebooks/visuals/run_11_20250709_161910\n",
      "Loading map data for University of California, San Diego, La Jolla, CA, USA...\n",
      "Environment loaded with 3136 nodes and 8704 edges\n"
     ]
    }
   ],
   "source": [
    "# Create a run manager\n",
    "run_manager = RunManager('visuals')\n",
    "run_dir = run_manager.start_new_run()\n",
    "\n",
    "# Initialize campus environment\n",
    "campus = CampusEnvironment()"
   ]
  },
  {
   "cell_type": "markdown",
   "id": "f742f179-ff68-4b38-aff4-ddaf202362b9",
   "metadata": {},
   "source": [
    "## Step 2: Create N Agents"
   ]
  },
  {
   "cell_type": "code",
   "execution_count": 38,
   "id": "ec6bdf25-4915-4b89-8dba-c78b873f0179",
   "metadata": {},
   "outputs": [],
   "source": [
    "# Need to establish the set of common goals (just choose the landmark nodes)\n",
    "goals = [469084068, 49150691, 768264666, 1926666015, 1926673385, 49309735,\n",
    "         273627682, 445989107, 445992528, 446128310, 1772230346, 1926673336, \n",
    "         2872424923, 3139419286, 4037576308]"
   ]
  },
  {
   "cell_type": "code",
   "execution_count": 39,
   "id": "4c33922c-bfa7-46ea-9974-bcb2da19b9bc",
   "metadata": {},
   "outputs": [
    {
     "data": {
      "text/plain": [
       "' Already created agents and saved as pkl\\n# Create n agents\\nagents = []\\nn = 100\\nfor i in range(n):\\n    agents.append(AgentFactory.create_agent(\"shortest\"))\\n    agents[i].id = i\\n\\nn_goals = len(goals)\\nag_alpha = np.random.normal(1, 0.2, size=n_goals)\\n\\nfor agent in agents: # Set each agent\\'s goal distribution\\n    agent.goal_distribution = np.random.dirichlet(alpha=np.ones(n_goals)*(ag_alpha), size=1)[0]\\n    agent.environment = campus\\n\\n# Save the agents \\nimport pickle\\n\\n# suppose `agents` is your list of Agent instances\\nwith open(\\'agents.pkl\\', \\'wb\\') as f:\\n    pickle.dump(agents, f)\\n\\n'"
      ]
     },
     "execution_count": 39,
     "metadata": {},
     "output_type": "execute_result"
    }
   ],
   "source": [
    "\"\"\" Already created agents and saved as pkl\n",
    "# Create n agents\n",
    "agents = []\n",
    "n = 100\n",
    "for i in range(n):\n",
    "    agents.append(AgentFactory.create_agent(\"shortest\"))\n",
    "    agents[i].id = i\n",
    "\n",
    "n_goals = len(goals)\n",
    "ag_alpha = np.random.normal(1, 0.2, size=n_goals)\n",
    "\n",
    "for agent in agents: # Set each agent's goal distribution\n",
    "    agent.goal_distribution = np.random.dirichlet(alpha=np.ones(n_goals)*(ag_alpha), size=1)[0]\n",
    "    agent.environment = campus\n",
    "\n",
    "# Save the agents \n",
    "import pickle\n",
    "\n",
    "# suppose `agents` is your list of Agent instances\n",
    "with open('agents.pkl', 'wb') as f:\n",
    "    pickle.dump(agents, f)\n",
    "\n",
    "\"\"\""
   ]
  },
  {
   "cell_type": "code",
   "execution_count": null,
   "id": "e7c6abef-216f-4057-8f34-2edea75432e5",
   "metadata": {},
   "outputs": [],
   "source": []
  },
  {
   "cell_type": "code",
   "execution_count": null,
   "id": "de485afc-a2df-4bb8-b93b-db4a8bee921d",
   "metadata": {},
   "outputs": [],
   "source": []
  },
  {
   "cell_type": "code",
   "execution_count": 40,
   "id": "552271a1-b2fd-40ed-b2cc-f42f3fbfee57",
   "metadata": {},
   "outputs": [],
   "source": [
    "def new_episode(agents):\n",
    "\n",
    "    # Set the goal and start nodes\n",
    "    for agent in agents:\n",
    "        agent.path = [] # Clear the old path\n",
    "        agent.goal_node = int(np.random.choice(goals, size=1, p=agent.goal_distribution)[0])\n",
    "\n",
    "        while True:\n",
    "            start_node = campus.get_random_node()\n",
    "            try:\n",
    "                path = nx.shortest_path(campus.G_undirected, \n",
    "                                       source=start_node, \n",
    "                                       target=agent.goal_node, \n",
    "                                       weight='length')\n",
    "                if len(path) >15:  # Make sure path is non-trivial\n",
    "                    break\n",
    "            except:\n",
    "                continue\n",
    "        agent.start_node = start_node\n",
    "        agent.current_node = start_node\n",
    "\n",
    "    return "
   ]
  },
  {
   "cell_type": "markdown",
   "id": "85dac1c3-4dc8-4561-a09b-7c7bf4689e90",
   "metadata": {},
   "source": [
    "## Step 3: Perform Episodes and Data Collection"
   ]
  },
  {
   "cell_type": "code",
   "execution_count": 41,
   "id": "f7d02913-3faf-40f7-8196-aa41436a469d",
   "metadata": {},
   "outputs": [],
   "source": [
    "import json"
   ]
  },
  {
   "cell_type": "code",
   "execution_count": 11,
   "id": "34b540e4-d51d-4a85-aad1-1ba4c7cd9bda",
   "metadata": {},
   "outputs": [
    {
     "data": {
      "text/plain": [
       "' Already ran once. Data is saved in /data\\n\\npath_data = {}\\ngoal_data = {}\\nm = 100\\nfor episode in range(m):\\n    new_episode(agents)\\n    episode_path_data = {}\\n    episode_goal_data = {}\\n    for agent in agents:\\n        agent.plan_path()\\n        episode_path_data[agent.id] = agent.path\\n        episode_goal_data[agent.id] = agent.goal_node\\n    # Save the data from each episode\\n    path_data[episode] = episode_path_data\\n    goal_data[episode] = episode_goal_data\\n\\nwith open(\"./data/path_data.json\", \"w\") as file:\\n    json.dump(path_data, file, indent=4)\\n\\nwith open(\"./data/goal_data.json\", \"w\") as file:\\n    json.dump(goal_data, file, indent=4)\\n\\n'"
      ]
     },
     "execution_count": 11,
     "metadata": {},
     "output_type": "execute_result"
    }
   ],
   "source": [
    "\"\"\" Already ran once. Data is saved in /data\n",
    "\n",
    "path_data = {}\n",
    "goal_data = {}\n",
    "m = 100\n",
    "for episode in range(m):\n",
    "    new_episode(agents)\n",
    "    episode_path_data = {}\n",
    "    episode_goal_data = {}\n",
    "    for agent in agents:\n",
    "        agent.plan_path()\n",
    "        episode_path_data[agent.id] = agent.path\n",
    "        episode_goal_data[agent.id] = agent.goal_node\n",
    "    # Save the data from each episode\n",
    "    path_data[episode] = episode_path_data\n",
    "    goal_data[episode] = episode_goal_data\n",
    "\n",
    "with open(\"./data/path_data.json\", \"w\") as file:\n",
    "    json.dump(path_data, file, indent=4)\n",
    "\n",
    "with open(\"./data/goal_data.json\", \"w\") as file:\n",
    "    json.dump(goal_data, file, indent=4)\n",
    "\n",
    "\"\"\""
   ]
  },
  {
   "cell_type": "markdown",
   "id": "da41552e-8521-4de9-8c57-fa022ed0211a",
   "metadata": {},
   "source": [
    "### Load existing data"
   ]
  },
  {
   "cell_type": "code",
   "execution_count": 9,
   "id": "c416d7b0-9f2d-49f6-bae2-58ff3b3a6c0e",
   "metadata": {},
   "outputs": [],
   "source": [
    "import json, pickle\n",
    "\n",
    "with open(\"./data/path_data.json\", 'r') as file:\n",
    "    path_data = json.load(file)\n",
    "\n",
    "with open(\"./data/goal_data.json\", 'r') as file:\n",
    "    goal_data = json.load(file)\n",
    "\n",
    "with open('agents.pkl', 'rb') as f:\n",
    "    agents = pickle.load(f)"
   ]
  },
  {
   "cell_type": "code",
   "execution_count": 10,
   "id": "80616ce4-0671-4838-ac61-7559103e252d",
   "metadata": {},
   "outputs": [],
   "source": [
    "def convert_keys_to_int(data):\n",
    "    if isinstance(data, dict):\n",
    "        return {int(k) if isinstance(k, str) and k.isdigit() else k: convert_keys_to_int(v) for k, v in data.items()}\n",
    "    elif isinstance(data, list):\n",
    "        return [convert_keys_to_int(item) for item in data]\n",
    "    else:\n",
    "        return data"
   ]
  },
  {
   "cell_type": "code",
   "execution_count": 11,
   "id": "7d112963-0bb5-4da9-9c7f-79b74d0cd810",
   "metadata": {},
   "outputs": [],
   "source": [
    "goal_data = convert_keys_to_int(goal_data)\n",
    "path_data = convert_keys_to_int(path_data)"
   ]
  },
  {
   "cell_type": "markdown",
   "id": "dedbcf19-d824-4887-abe8-48793d60334c",
   "metadata": {},
   "source": [
    "## Step 4: Fit the Models\n",
    "There should again be a dict of dict for posteriors. The first key will be for the episode, the second key will be the agent, and the value of this will be a list of dicts for the posteriors. "
   ]
  },
  {
   "cell_type": "markdown",
   "id": "3dd7ce3a-ab26-419f-ac82-6874cec66b4e",
   "metadata": {},
   "source": [
    "### BToM"
   ]
  },
  {
   "cell_type": "code",
   "execution_count": 11,
   "id": "07b578e1-1ec0-4112-a0be-a00c6ea367ec",
   "metadata": {},
   "outputs": [],
   "source": [
    "# Import BToM baseline\n",
    "from real_world_src.models.btom import BToM"
   ]
  },
  {
   "cell_type": "code",
   "execution_count": 12,
   "id": "c88b861e-8d79-443d-9956-c72fbb961fc5",
   "metadata": {},
   "outputs": [
    {
     "name": "stdout",
     "output_type": "stream",
     "text": [
      "Computing shortest paths...\n",
      "Done\n"
     ]
    }
   ],
   "source": [
    "btom = BToM(campus, agents, goals)"
   ]
  },
  {
   "cell_type": "code",
   "execution_count": 13,
   "id": "5e30d7ef-46bd-4081-8472-758319904771",
   "metadata": {},
   "outputs": [],
   "source": [
    "# Calculate all the posteriors using the first 30 episode\n",
    "posteriors_data = {}\n",
    "\n",
    "for episode in range(len(goal_data)):\n",
    "    posteriors_data[episode] = {}\n",
    "    for agent in agents:\n",
    "        posteriors_data[episode][agent.id] = btom.update_agent_posterior_over_path(agent, path_data[episode][agent.id])\n",
    "    # Reset the posteriors for new episode\n",
    "    btom.reset_posteriors()"
   ]
  },
  {
   "cell_type": "markdown",
   "id": "8908d792-2cce-4b27-bd85-92d418b7f404",
   "metadata": {},
   "source": [
    "### Extended BToM"
   ]
  },
  {
   "cell_type": "code",
   "execution_count": 12,
   "id": "b77ccae6-b84a-49a4-b1e6-f527d44153fa",
   "metadata": {},
   "outputs": [],
   "source": [
    "# Import BToM baseline\n",
    "from real_world_src.models.extended_btom import Extended_BToM"
   ]
  },
  {
   "cell_type": "code",
   "execution_count": 13,
   "id": "bd52fb8b-f541-4b5a-b4f2-ed2ac63518fa",
   "metadata": {},
   "outputs": [
    {
     "name": "stdout",
     "output_type": "stream",
     "text": [
      "Computing shortest paths...\n",
      "Done\n"
     ]
    }
   ],
   "source": [
    "ext_btom = Extended_BToM(campus, agents, goals)"
   ]
  },
  {
   "cell_type": "code",
   "execution_count": 14,
   "id": "6ed02246-7c26-418d-a987-9c5e11e09487",
   "metadata": {},
   "outputs": [],
   "source": [
    "# Calculate all the posteriors using the first 30 episode\n",
    "ext_posteriors_data = {}\n",
    "\n",
    "for episode in range(len(goal_data)):\n",
    "    ext_posteriors_data[episode] = {}\n",
    "    for agent in agents:\n",
    "        ext_posteriors_data[episode][agent.id] = ext_btom.update_agent_posterior_over_path(agent, path_data[episode][agent.id])\n",
    "\n"
   ]
  },
  {
   "cell_type": "code",
   "execution_count": 15,
   "id": "a44e3511-63cb-4aa6-991b-7eaa3998e711",
   "metadata": {},
   "outputs": [],
   "source": [
    "# Save extended BToM to load for other experiments\n",
    "# suppose `agents` is your list of Agent instances\n",
    "with open('extended_btom.pkl', 'wb') as f:\n",
    "    pickle.dump(ext_btom, f)"
   ]
  },
  {
   "cell_type": "code",
   "execution_count": null,
   "id": "700e9c9a-514d-4194-b305-340003199a98",
   "metadata": {},
   "outputs": [],
   "source": []
  },
  {
   "cell_type": "markdown",
   "id": "ef17d15d",
   "metadata": {},
   "source": [
    "# To get posterior data"
   ]
  },
  {
   "cell_type": "code",
   "execution_count": 22,
   "id": "19a55bd4",
   "metadata": {},
   "outputs": [],
   "source": [
    "n_test = int(0.2 * len(agents))\n",
    "test_agent_ids = [agent.id for agent in agents[-n_test:]]"
   ]
  },
  {
   "cell_type": "markdown",
   "id": "235c5892",
   "metadata": {},
   "source": [
    "### LSTM"
   ]
  },
  {
   "cell_type": "code",
   "execution_count": 16,
   "id": "a9e2cdb3",
   "metadata": {},
   "outputs": [],
   "source": [
    "# Import LSTM model and helpers\n",
    "from real_world_src.models.lstm import (\n",
    "    SimpleLSTM, LSTMDataset, lstm_collate_fn,\n",
    "    train_lstm_model, evaluate_lstm_model, predict_goal_posterior\n",
    ")\n",
    "from torch.utils.data import DataLoader"
   ]
  },
  {
   "cell_type": "code",
   "execution_count": 17,
   "id": "53f9ffd5",
   "metadata": {},
   "outputs": [],
   "source": [
    "# build node2idx so that every node in campus.G_undirected maps to 0…V−1\n",
    "all_nodes = list(campus.G_undirected.nodes())\n",
    "node2idx  = {n:i for i,n in enumerate(all_nodes)}\n",
    "V = len(all_nodes)\n",
    "\n",
    "# build goal2idx likewise for your goals list\n",
    "goal2idx = {g:i for i,g in enumerate(goals)}\n",
    "G = len(goals)"
   ]
  },
  {
   "cell_type": "code",
   "execution_count": 18,
   "id": "dbb3c6b6",
   "metadata": {},
   "outputs": [],
   "source": [
    "# Prepare dataset and dataloader\n",
    "# Batch size = 32\n",
    "lstm_dataset = LSTMDataset(path_data, goal_data, node2idx, goal2idx)\n",
    "lstm_loader = DataLoader(lstm_dataset, batch_size=32, shuffle=True, collate_fn=lstm_collate_fn) "
   ]
  },
  {
   "cell_type": "code",
   "execution_count": 19,
   "id": "05ed5c46",
   "metadata": {},
   "outputs": [],
   "source": [
    "if torch.backends.mps.is_available():\n",
    "    device = torch.device(\"mps\")\n",
    "elif torch.cuda.is_available():\n",
    "    device = torch.device(\"cuda\")\n",
    "else:\n",
    "    device = torch.device(\"cpu\")"
   ]
  },
  {
   "cell_type": "code",
   "execution_count": 20,
   "id": "1e8f9b15",
   "metadata": {},
   "outputs": [
    {
     "name": "stdout",
     "output_type": "stream",
     "text": [
      "Epoch 1/10 - Loss: 2.5207\n",
      "Epoch 2/10 - Loss: 2.3384\n",
      "Epoch 3/10 - Loss: 1.9473\n",
      "Epoch 4/10 - Loss: 1.8668\n",
      "Epoch 5/10 - Loss: 1.6814\n",
      "Epoch 6/10 - Loss: 1.7214\n",
      "Epoch 7/10 - Loss: 1.7138\n",
      "Epoch 8/10 - Loss: 1.6346\n",
      "Epoch 9/10 - Loss: 1.6576\n",
      "Epoch 10/10 - Loss: 1.9906\n"
     ]
    }
   ],
   "source": [
    "# Instantiate and train the model\n",
    "lstm_model = SimpleLSTM(num_nodes=len(node2idx), num_goals=len(goal2idx)).to(device)\n",
    "optimizer = torch.optim.Adam(lstm_model.parameters(), lr=1e-3)  # Learning rate =0.001\n",
    "train_lstm_model(lstm_model, lstm_loader, optimizer, device, num_epochs=10)\n"
   ]
  },
  {
   "cell_type": "code",
   "execution_count": 21,
   "id": "1ba8aa90",
   "metadata": {},
   "outputs": [
    {
     "name": "stdout",
     "output_type": "stream",
     "text": [
      "Evaluation accuracy: 0.3359\n"
     ]
    },
    {
     "data": {
      "text/plain": [
       "0.3359"
      ]
     },
     "execution_count": 21,
     "metadata": {},
     "output_type": "execute_result"
    }
   ],
   "source": [
    "# Evaluate the model\n",
    "evaluate_lstm_model(lstm_model, lstm_loader, device)"
   ]
  },
  {
   "cell_type": "code",
   "execution_count": 23,
   "id": "c1850fa2",
   "metadata": {},
   "outputs": [],
   "source": [
    "\n",
    "# Compute posteriors along paths for all agents/episodes\n",
    "lstm_posteriors = {}\n",
    "\n",
    "for episode in range(len(goal_data)):\n",
    "    lstm_posteriors[episode] = {}\n",
    "    for agent in agents:\n",
    "        if agent.id not in test_agent_ids:\n",
    "            continue\n",
    "        path = path_data[episode][agent.id]\n",
    "        \n",
    "        posteriors_along_path = []\n",
    "        for t in range(1, len(path)+1):\n",
    "            subpath = path[:t]\n",
    "            posterior = predict_goal_posterior(lstm_model, subpath, node2idx, goal2idx, device)\n",
    "            posteriors_along_path.append(posterior)\n",
    "        lstm_posteriors[episode][agent.id] = posteriors_along_path"
   ]
  },
  {
   "cell_type": "markdown",
   "id": "b72c38d7",
   "metadata": {},
   "source": [
    "### GRU"
   ]
  },
  {
   "cell_type": "code",
   "execution_count": 24,
   "id": "631e03ee",
   "metadata": {},
   "outputs": [],
   "source": [
    "from real_world_src.models.gru import (\n",
    "    SimpleGRU, GRUDataset, gru_collate_fn,\n",
    "    train_gru_model, evaluate_gru_model, predict_goal_posterior_gru\n",
    ")\n",
    "from torch.utils.data import DataLoader"
   ]
  },
  {
   "cell_type": "code",
   "execution_count": 25,
   "id": "79ff7a0b",
   "metadata": {},
   "outputs": [],
   "source": [
    "# Prepare dataset and dataloader\n",
    "gru_dataset = GRUDataset(path_data, goal_data, node2idx, goal2idx)\n",
    "gru_loader = DataLoader(gru_dataset, batch_size=32, shuffle=True, collate_fn=gru_collate_fn)"
   ]
  },
  {
   "cell_type": "code",
   "execution_count": 26,
   "id": "22e7980d",
   "metadata": {},
   "outputs": [],
   "source": [
    "if torch.backends.mps.is_available():\n",
    "    device = torch.device(\"mps\")\n",
    "elif torch.cuda.is_available():\n",
    "    device = torch.device(\"cuda\")\n",
    "else:\n",
    "    device = torch.device(\"cpu\")"
   ]
  },
  {
   "cell_type": "code",
   "execution_count": 27,
   "id": "ea2dc6ae",
   "metadata": {},
   "outputs": [
    {
     "name": "stdout",
     "output_type": "stream",
     "text": [
      "Epoch 1/10, Loss: 2.4979\n",
      "Epoch 2/10, Loss: 0.9067\n",
      "Epoch 3/10, Loss: 0.2134\n",
      "Epoch 4/10, Loss: 0.0500\n",
      "Epoch 5/10, Loss: 0.0289\n",
      "Epoch 6/10, Loss: 0.0121\n",
      "Epoch 7/10, Loss: 0.0080\n",
      "Epoch 8/10, Loss: 0.0059\n",
      "Epoch 9/10, Loss: 0.0041\n",
      "Epoch 10/10, Loss: 0.0401\n"
     ]
    }
   ],
   "source": [
    "# Instantiate and train the model\n",
    "gru_model = SimpleGRU(num_nodes=len(node2idx), num_goals=len(goal2idx)).to(device)\n",
    "optimizer = torch.optim.Adam(gru_model.parameters(), lr=1e-3)\n",
    "train_gru_model(gru_model, gru_loader, optimizer, device, num_epochs=10)"
   ]
  },
  {
   "cell_type": "code",
   "execution_count": 28,
   "id": "af17408b",
   "metadata": {},
   "outputs": [
    {
     "name": "stdout",
     "output_type": "stream",
     "text": [
      "Evaluation accuracy: 0.9987\n"
     ]
    },
    {
     "data": {
      "text/plain": [
       "0.9987"
      ]
     },
     "execution_count": 28,
     "metadata": {},
     "output_type": "execute_result"
    }
   ],
   "source": [
    "# Evaluate the model\n",
    "evaluate_gru_model(gru_model, gru_loader, device)\n"
   ]
  },
  {
   "cell_type": "code",
   "execution_count": 30,
   "id": "a82df9b4",
   "metadata": {},
   "outputs": [],
   "source": [
    "from tqdm import tqdm"
   ]
  },
  {
   "cell_type": "code",
   "execution_count": 31,
   "id": "20c15dd9",
   "metadata": {},
   "outputs": [
    {
     "name": "stderr",
     "output_type": "stream",
     "text": [
      "Episode: 100%|██████████| 100/100 [09:18<00:00,  5.59s/it]\n"
     ]
    }
   ],
   "source": [
    "# Compute posteriors along paths for all test agents/episodes\n",
    "# Define test_agent_ids for GRU evaluation (use same split as ToMNet)\n",
    "n_test = int(0.2 * len(agents))\n",
    "test_agent_ids = [agent.id for agent in agents[-n_test:]]\n",
    "\n",
    "gru_posteriors = {}\n",
    "for episode in tqdm(range(len(goal_data)), desc=\"Episode\"):\n",
    "    gru_posteriors[episode] = {}\n",
    "    for agent in agents:\n",
    "        if agent.id not in test_agent_ids:\n",
    "            continue\n",
    "        path = path_data[episode][agent.id]\n",
    "        posteriors_along_path = []\n",
    "        for t in range(1, len(path)+1):\n",
    "            subpath = path[:t]\n",
    "            posterior = predict_goal_posterior_gru(gru_model, subpath, node2idx, goal2idx, device)\n",
    "            posteriors_along_path.append(posterior)\n",
    "        gru_posteriors[episode][agent.id] = posteriors_along_path"
   ]
  },
  {
   "cell_type": "code",
   "execution_count": null,
   "id": "90e9da3f",
   "metadata": {},
   "outputs": [],
   "source": []
  },
  {
   "cell_type": "markdown",
   "id": "f6b00a96-79c5-4e65-ad02-90d024d1b819",
   "metadata": {},
   "source": [
    "### ToMNet"
   ]
  },
  {
   "cell_type": "code",
   "execution_count": 44,
   "id": "49eea85d-7ef1-4956-879a-3b2af63289fb",
   "metadata": {},
   "outputs": [],
   "source": [
    "from real_world_src.models.simple_tomnet import ToMNet, ToMNetDataset, tomnet_collate_fn, infer_goal_dists\n",
    "from torch.utils.data import Dataset, DataLoader\n"
   ]
  },
  {
   "cell_type": "code",
   "execution_count": 45,
   "id": "02e80f0c-dc03-4e62-adca-230c75cc1b96",
   "metadata": {},
   "outputs": [],
   "source": [
    "def get_posterior_format(dists):\n",
    "    idx2goal = { idx: goal for goal, idx in goal2idx.items() }\n",
    "    goal_posterior = [ {idx2goal[i]: float(p) for i, p in enumerate(prob_row) } for prob_row in dists]\n",
    "    return goal_posterior"
   ]
  },
  {
   "cell_type": "code",
   "execution_count": null,
   "id": "261da935-1a0e-43fd-89a1-ccd3e1cfa3cb",
   "metadata": {},
   "outputs": [
    {
     "data": {
      "text/plain": [
       "ToMNet(\n",
       "  (char_net): CharacterNet(\n",
       "    (embedding): Embedding(3108, 16, padding_idx=0)\n",
       "    (lstm): LSTM(16, 64, batch_first=True)\n",
       "  )\n",
       "  (mental_net): MentalNet(\n",
       "    (embedding): Embedding(3108, 16, padding_idx=0)\n",
       "    (lstm): LSTM(16, 64, batch_first=True)\n",
       "  )\n",
       "  (embedding): Embedding(3108, 16, padding_idx=0)\n",
       "  (fusion): Sequential(\n",
       "    (0): Linear(in_features=144, out_features=128, bias=True)\n",
       "    (1): ReLU()\n",
       "    (2): Linear(in_features=128, out_features=64, bias=True)\n",
       "    (3): ReLU()\n",
       "  )\n",
       "  (goal_head): Linear(in_features=64, out_features=15, bias=True)\n",
       "  (next_head): Linear(in_features=64, out_features=3108, bias=True)\n",
       ")"
      ]
     },
     "execution_count": 46,
     "metadata": {},
     "output_type": "execute_result"
    }
   ],
   "source": [
    "device = 'mps'\n",
    "\n",
    "# the values you trained with:\n",
    "K     = 10\n",
    "T_sup = 75\n",
    "T_q   = 20\n",
    "\n",
    "\n",
    "model = ToMNet(\n",
    "    num_nodes = len(campus.nodes),\n",
    "    #num_nodes=3108,\n",
    "    num_goals = len(goals),\n",
    "    K     = K,\n",
    "    T_sup = T_sup,\n",
    "    T_q   = T_q,\n",
    ").to(device)\n",
    "\n",
    "state_dict = torch.load(\n",
    "    \"../real_world_src/models/model_runs/tomnet_cpu.pth\",\n",
    "    map_location=device\n",
    ")\n",
    "model.load_state_dict(state_dict)\n",
    "model.eval()"
   ]
  },
  {
   "cell_type": "code",
   "execution_count": 47,
   "id": "9a4b4035",
   "metadata": {},
   "outputs": [
    {
     "name": "stdout",
     "output_type": "stream",
     "text": [
      "Number of nodes in node2idx: 3097\n"
     ]
    }
   ],
   "source": [
    "all_nodes = set()\n",
    "for episode in path_data.values():\n",
    "    for path in episode.values():\n",
    "        all_nodes.update(path)\n",
    "all_nodes = list(all_nodes)\n",
    "node2idx = {n: i for i, n in enumerate(all_nodes)}\n",
    "print(f\"Number of nodes in node2idx: {len(node2idx)}\")"
   ]
  },
  {
   "cell_type": "markdown",
   "id": "3aa0ea43-0e72-43ac-b196-55f8d025f55d",
   "metadata": {},
   "source": [
    "Preparing ToMNet for evaluation"
   ]
  },
  {
   "cell_type": "code",
   "execution_count": 48,
   "id": "66eb86f8-03b1-4b13-9163-4ac72dcd4fb9",
   "metadata": {},
   "outputs": [],
   "source": [
    "# build node2idx so that every node in campus.G_undirected maps to 0…V−1\n",
    "all_nodes = list(campus.G_undirected.nodes())\n",
    "node2idx  = {n:i for i,n in enumerate(all_nodes)}\n",
    "V = len(all_nodes)\n",
    "\n",
    "# build goal2idx likewise for your goals list\n",
    "goal2idx = {g:i for i,g in enumerate(goals)}\n",
    "G = len(goals)"
   ]
  },
  {
   "cell_type": "code",
   "execution_count": 49,
   "id": "cde4b619-66eb-41f4-abac-6db05748f18f",
   "metadata": {},
   "outputs": [
    {
     "data": {
      "text/plain": [
       "device(type='mps')"
      ]
     },
     "execution_count": 49,
     "metadata": {},
     "output_type": "execute_result"
    }
   ],
   "source": [
    "if torch.backends.mps.is_available():\n",
    "    device = torch.device(\"mps\")\n",
    "else:\n",
    "    device = torch.device(\"cpu\")\n",
    "device"
   ]
  },
  {
   "cell_type": "code",
   "execution_count": 50,
   "id": "1462ee99-9823-4817-8174-5a3eac664215",
   "metadata": {},
   "outputs": [],
   "source": [
    "from tqdm import tqdm"
   ]
  },
  {
   "cell_type": "markdown",
   "id": "72b2f03a-fe7f-4707-8eaf-0ab71aacadef",
   "metadata": {},
   "source": [
    "Getting posteriors for test data"
   ]
  },
  {
   "cell_type": "code",
   "execution_count": 52,
   "id": "8bb92c8c",
   "metadata": {},
   "outputs": [],
   "source": [
    "n_test = int(0.2 * len(agents))\n",
    "test_agent_ids = [agent.id for agent in agents[-n_test:]]"
   ]
  },
  {
   "cell_type": "code",
   "execution_count": 53,
   "id": "eabefa40-38fb-4f6a-8b7a-3263cedcf687",
   "metadata": {},
   "outputs": [
    {
     "name": "stderr",
     "output_type": "stream",
     "text": [
      "Episode: 100%|██████████| 100/100 [10:48<00:00,  6.49s/it]\n"
     ]
    }
   ],
   "source": [
    "\n",
    "tomnet_posteriors = {}\n",
    "\n",
    "for episode in tqdm(range(len(goal_data)), desc=\"Episode\"):\n",
    "    tomnet_posteriors[episode] = {}\n",
    "    for agent in agents:\n",
    "        if agent.id not in test_agent_ids:\n",
    "            continue\n",
    "        dists = infer_goal_dists(model, agent.id, episode, path_data, node2idx, goal2idx, K=10, T_sup=75, T_q=20, device=device)\n",
    "        tomnet_posteriors[episode][agent.id] = get_posterior_format(dists)\n",
    "\n"
   ]
  },
  {
   "cell_type": "code",
   "execution_count": null,
   "id": "a1b31abe-b911-429c-b89e-199f8f7fa9ef",
   "metadata": {},
   "outputs": [],
   "source": []
  },
  {
   "cell_type": "markdown",
   "id": "2b6d7170-c62d-4d59-9dcc-1422430d7cd6",
   "metadata": {},
   "source": [
    "## Step 5: Visualizing Performance for Experiment 0  \n",
    "We want to visualize the average brier score across all agents for all epsiodes. That is, calculate the brier score for every path and then take the average. Plot this as a line."
   ]
  },
  {
   "cell_type": "code",
   "execution_count": 90,
   "id": "eb8dc133-9a9d-45bf-a50a-aa14a13d74b4",
   "metadata": {},
   "outputs": [],
   "source": [
    "from real_world_src.utils.metrics import brier_along_path, accuracy_along_path"
   ]
  },
  {
   "cell_type": "code",
   "execution_count": 91,
   "id": "ab7bdf33-f8fb-4147-aaf5-af7e22b1064c",
   "metadata": {},
   "outputs": [],
   "source": [
    "# BToM Scores\n",
    "scores = []\n",
    "for episode in range(len(goal_data)):\n",
    "    for agent in agents:\n",
    "        scores.append(brier_along_path(path_data[episode][agent.id], \n",
    "                                  goal_data[episode][agent.id], \n",
    "                                  posteriors_data[episode][agent.id], \n",
    "                                  goals))"
   ]
  },
  {
   "cell_type": "code",
   "execution_count": 92,
   "id": "be36b3ec-94cc-4c8a-9aad-b8635b37eeab",
   "metadata": {},
   "outputs": [],
   "source": [
    "# BToM Scores\n",
    "scores = []\n",
    "for episode in range(len(goal_data)):\n",
    "    for agent in agents:\n",
    "        scores.append(brier_along_path(path_data[episode][agent.id], \n",
    "                                  goal_data[episode][agent.id], \n",
    "                                  posteriors_data[episode][agent.id], \n",
    "                                  goals))\n",
    "# Extended BToM Scores\n",
    "ext_scores = []\n",
    "for episode in range(len(goal_data)):\n",
    "    for agent in agents:\n",
    "        ext_scores.append(brier_along_path(path_data[episode][agent.id], \n",
    "                                  goal_data[episode][agent.id], \n",
    "                                  ext_posteriors_data[episode][agent.id], \n",
    "                                  goals))\n",
    "\n",
    "# ToMNet Scores\n",
    "tomnet_scores = []\n",
    "for episode in range(len(goal_data)):\n",
    "    for agent in agents:\n",
    "        if agent.id not in test_agent_ids:\n",
    "            continue\n",
    "        tomnet_scores.append(brier_along_path(path_data[episode][agent.id], \n",
    "                                  goal_data[episode][agent.id], \n",
    "                                  tomnet_posteriors[episode][agent.id], \n",
    "                                  goals))"
   ]
  },
  {
   "cell_type": "code",
   "execution_count": 94,
   "id": "bb56a243",
   "metadata": {},
   "outputs": [],
   "source": [
    "# LSTM Scores\n",
    "lstm_scores = []\n",
    "for episode in range(len(goal_data)):\n",
    "    for agent in agents:\n",
    "        if agent.id not in test_agent_ids:\n",
    "            continue\n",
    "        lstm_scores.append(brier_along_path(\n",
    "            path_data[episode][agent.id],\n",
    "            goal_data[episode][agent.id],\n",
    "            lstm_posteriors[episode][agent.id],\n",
    "            goals\n",
    "        ))\n",
    "\n",
    "# Plotting LSTM scores\n",
    "#props = np.linspace(0.1, 1.0, num=10)\n",
    "#props = np.linspace(0, 1, arr.shape[1])\n",
    "#lstm_arr = np.array(lstm_scores)\n",
    "#mean_lstm = lstm_arr.mean(axis=0)\n",
    "#plt.plot(props, mean_lstm, '-o', label='LSTM')\n",
    "#plt.legend()"
   ]
  },
  {
   "cell_type": "code",
   "execution_count": 95,
   "id": "025c8e35",
   "metadata": {},
   "outputs": [],
   "source": [
    "# GRU Scores\n",
    "gru_scores = []\n",
    "for episode in range(len(goal_data)):\n",
    "    for agent in agents:\n",
    "        if agent.id not in test_agent_ids:\n",
    "            continue\n",
    "        gru_scores.append(brier_along_path(\n",
    "            path_data[episode][agent.id],\n",
    "            goal_data[episode][agent.id],\n",
    "            gru_posteriors[episode][agent.id],\n",
    "            goals\n",
    "        ))\n"
   ]
  },
  {
   "cell_type": "code",
   "execution_count": null,
   "id": "879cd422-ca7c-4179-bd2b-a6153f6eee09",
   "metadata": {},
   "outputs": [],
   "source": [
    "# BToM Accuracy Scores\n",
    "btom_acc = []\n",
    "for episode in range(len(goal_data)):\n",
    "    for agent in agents:\n",
    "        btom_acc.append(accuracy_along_path(path_data[episode][agent.id], \n",
    "                                  goal_data[episode][agent.id], \n",
    "                                  posteriors_data[episode][agent.id], \n",
    "                                  goals))\n",
    "# Extended BToM Scores\n",
    "ext_acc = []\n",
    "for episode in range(len(goal_data)):\n",
    "    for agent in agents:\n",
    "        ext_acc.append(accuracy_along_path(path_data[episode][agent.id], \n",
    "                                  goal_data[episode][agent.id], \n",
    "                                  ext_posteriors_data[episode][agent.id], \n",
    "                                  goals))\n",
    "\n",
    "# ToMNet Scores\n",
    "tomnet_acc = []\n",
    "for episode in range(len(goal_data)):\n",
    "    for agent in agents:\n",
    "        if agent.id not in test_agent_ids:\n",
    "            continue\n",
    "        tomnet_acc.append(accuracy_along_path(path_data[episode][agent.id], \n",
    "                                  goal_data[episode][agent.id], \n",
    "                                  tomnet_posteriors[episode][agent.id], \n",
    "                                  goals))"
   ]
  },
  {
   "cell_type": "code",
   "execution_count": 97,
   "id": "8ba9cad5",
   "metadata": {},
   "outputs": [],
   "source": [
    "# LSTM accuracy scores \n",
    "lstm_acc = []\n",
    "for episode in range(len(goal_data)):\n",
    "    for agent in agents:\n",
    "        if agent.id not in test_agent_ids:\n",
    "            continue\n",
    "        lstm_acc.append(accuracy_along_path(\n",
    "            path_data[episode][agent.id],\n",
    "            goal_data[episode][agent.id],\n",
    "            lstm_posteriors[episode][agent.id],\n",
    "            goals\n",
    "        ))"
   ]
  },
  {
   "cell_type": "code",
   "execution_count": 98,
   "id": "546dd305",
   "metadata": {},
   "outputs": [],
   "source": [
    "# GRU accuracy scores \n",
    "gru_acc = []\n",
    "for episode in range(len(goal_data)):\n",
    "    for agent in agents:\n",
    "        if agent.id not in test_agent_ids:\n",
    "            continue\n",
    "        gru_acc.append(accuracy_along_path(\n",
    "            path_data[episode][agent.id],\n",
    "            goal_data[episode][agent.id],\n",
    "            gru_posteriors[episode][agent.id],\n",
    "            goals\n",
    "        ))\n"
   ]
  },
  {
   "cell_type": "code",
   "execution_count": 100,
   "id": "1e995fc8-386c-4c3e-8200-9a3eacd31104",
   "metadata": {},
   "outputs": [
    {
     "data": {
      "image/png": "[encoded data removed]",
      "text/plain": [
       "<Figure size 1000x600 with 1 Axes>"
      ]
     },
     "metadata": {},
     "output_type": "display_data"
    }
   ],
   "source": [
    "import numpy as np\n",
    "import matplotlib.pyplot as plt\n",
    "\n",
    "# Suppose `scores` is your (n_trajectories × n_fractions) array:\n",
    "arr = np.array(scores)  # shape (N, 11)\n",
    "ext_arr  = np.array(ext_scores)\n",
    "tomnet_arr = np.array(tomnet_scores)\n",
    "lstm_arr = np.array(lstm_scores)\n",
    "gru_arr = np.array(gru_scores)\n",
    "props = np.linspace(0, 1, arr.shape[1])\n",
    "\n",
    "# Compute mean\n",
    "mean_base = arr.mean(axis=0)\n",
    "mean_ext  = ext_arr.mean(axis=0)\n",
    "mean_tomnet = tomnet_arr.mean(axis=0)\n",
    "mean_lstm = lstm_arr.mean(axis=0)\n",
    "mean_gru = gru_arr.mean(axis=0)\n",
    "\n",
    "plt.figure(figsize=(10,6))\n",
    "plt.plot(props, mean_base, '-o', label='BToM')\n",
    "plt.plot(props, mean_ext,  '-s', label='Extended BToM')\n",
    "plt.plot(props, mean_tomnet, '-o', label='ToMNet')\n",
    "plt.plot(props, mean_lstm, '-^', label='LSTM')\n",
    "plt.plot(props, mean_gru, '-o', label='GRU')\n",
    "\n",
    "plt.xlabel('Proportion of Path Observed')\n",
    "plt.ylabel('Brier Score')\n",
    "plt.title('Brier Score vs. Path Fraction')\n",
    "plt.xticks(props)\n",
    "plt.ylim(0, 2)\n",
    "plt.grid(alpha=0.3)\n",
    "plt.legend()\n",
    "plt.tight_layout()\n",
    "plt.show()\n"
   ]
  },
  {
   "cell_type": "code",
   "execution_count": null,
   "id": "ad3c2e9a",
   "metadata": {},
   "outputs": [],
   "source": []
  },
  {
   "cell_type": "code",
   "execution_count": 101,
   "id": "24d0fe36-9cb3-4b1e-894f-c295e908f5d5",
   "metadata": {},
   "outputs": [
    {
     "data": {
      "image/png": "[encoded data removed]",
      "text/plain": [
       "<Figure size 1000x600 with 1 Axes>"
      ]
     },
     "metadata": {},
     "output_type": "display_data"
    }
   ],
   "source": [
    "import numpy as np\n",
    "import matplotlib.pyplot as plt\n",
    "\n",
    "# Suppose `scores` is your (n_trajectories × n_fractions) array:\n",
    "arr = np.array(btom_acc)  # shape (N, 11)\n",
    "ext_arr  = np.array(ext_acc)\n",
    "tom_arr = np.array(tomnet_acc)\n",
    "lstm_arr = np.array(lstm_acc)\n",
    "gru_arr = np.array(gru_acc)\n",
    "props = np.linspace(0, 1, arr.shape[1])\n",
    "\n",
    "# Compute mean\n",
    "mean_base = arr.mean(axis=0)\n",
    "mean_ext  = ext_arr.mean(axis=0)\n",
    "mean_tom  = tom_arr.mean(axis=0)\n",
    "mean_lstm  = lstm_arr.mean(axis=0)\n",
    "mean_gru  = gru_arr.mean(axis=0)\n",
    "\n",
    "\n",
    "plt.figure(figsize=(10,6))\n",
    "plt.plot(props, mean_base, '-o', label='BToM')\n",
    "plt.plot(props, mean_ext,  '-s', label='Extended BToM')\n",
    "plt.plot(props, mean_tom, '-o', label='ToMNet')\n",
    "plt.plot(props, mean_lstm, '-o', label='LSTM')\n",
    "plt.plot(props, mean_gru, '-o', label='GRU')\n",
    "\n",
    "plt.xlabel('Proportion of Path Observed')\n",
    "plt.ylabel('Accuracy')\n",
    "plt.title('Accuracy vs. Path Fraction')\n",
    "plt.xticks(props)\n",
    "plt.ylim(0, 1)\n",
    "plt.grid(alpha=0.3)\n",
    "plt.legend()\n",
    "plt.tight_layout()\n",
    "plt.show()"
   ]
  },
  {
   "cell_type": "code",
   "execution_count": null,
   "id": "2d4b0058-fd6b-4fad-9ec5-c8cd1233119d",
   "metadata": {},
   "outputs": [],
   "source": []
  },
  {
   "cell_type": "code",
   "execution_count": null,
   "id": "87cfcf79-5913-46c1-a842-ad92614d9715",
   "metadata": {},
   "outputs": [],
   "source": []
  },
  {
   "cell_type": "markdown",
   "id": "636a35ee-3801-4fe7-8e19-1d6a25e471be",
   "metadata": {},
   "source": [
    "1. Use geospatial coordinates instead of IDs for nodes\n",
    "2. Consider an embedding for the nodes --  we are using an embedding for the nodes\n",
    "3. Consider multi head loss\n",
    "4. Consider other loss functions for the distribution\n",
    "5. The character net has a strange input where the multiple past trajs are concatenated"
   ]
  },
  {
   "cell_type": "code",
   "execution_count": 18,
   "id": "f8899e57-9f79-49ae-b548-c564e32f6196",
   "metadata": {},
   "outputs": [],
   "source": []
  },
  {
   "cell_type": "code",
   "execution_count": null,
   "id": "ec673c0c-4372-4423-b2c0-8fd188e6f54e",
   "metadata": {},
   "outputs": [],
   "source": []
  },
  {
   "cell_type": "code",
   "execution_count": null,
   "id": "f7c5de70-3d1a-43e3-981c-6a339b829dc9",
   "metadata": {},
   "outputs": [],
   "source": []
  },
  {
   "cell_type": "code",
   "execution_count": null,
   "id": "9dfbbd05-25b0-440f-b0a7-feeff19f249c",
   "metadata": {},
   "outputs": [],
   "source": []
  },
  {
   "cell_type": "code",
   "execution_count": null,
   "id": "bae657c0-8e55-4d60-9af3-0767439a48b8",
   "metadata": {},
   "outputs": [],
   "source": []
  },
  {
   "cell_type": "code",
   "execution_count": null,
   "id": "6c1d6dbf-f5f5-4b82-9694-ed6bf46811a4",
   "metadata": {},
   "outputs": [],
   "source": []
  },
  {
   "cell_type": "code",
   "execution_count": null,
   "id": "67fca93b-1cbf-4acc-b131-04c8025440f8",
   "metadata": {},
   "outputs": [],
   "source": []
  },
  {
   "cell_type": "code",
   "execution_count": null,
   "id": "3dbb07be-e01a-4d2c-9dc4-cedf4a2fcff4",
   "metadata": {},
   "outputs": [],
   "source": []
  },
  {
   "cell_type": "code",
   "execution_count": null,
   "id": "da5fcb5c-e64c-4cef-9dfc-1d0544eb5651",
   "metadata": {},
   "outputs": [],
   "source": []
  }
 ],
 "metadata": {
  "kernelspec": {
   "display_name": "tom",
   "language": "python",
   "name": "python3"
  },
  "language_info": {
   "codemirror_mode": {
    "name": "ipython",
    "version": 3
   },
   "file_extension": ".py",
   "mimetype": "text/x-python",
   "name": "python",
   "nbconvert_exporter": "python",
   "pygments_lexer": "ipython3",
   "version": "3.12.11"
  }
 },
 "nbformat": 4,
 "nbformat_minor": 5
}
