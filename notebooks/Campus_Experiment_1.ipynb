{
 "cells": [
  {
   "cell_type": "markdown",
   "id": "7f935291-63a8-4edd-b40d-6bd1b162c6a0",
   "metadata": {},
   "source": [
    "# Experiment 1: Not sure what to call this (False Goal Test?)\n",
    "The different ToM models may struggle with learning which goals are relevant to which agents. For example, an agent wants to go to point B. The path the agent takes will go by point A, but historically, this agent does not visit point A. How well do models learn goal relevance for agents?  \n",
    "\n",
    "We can test this by designing specific paths for the agents. We will choose the highest probability goal for each agent and the lowest probability goal. Then, we will for the agent to start from a position before the low probability goal such that this goal has to be passed on the way to the true goal. As the agent approaches the false goal, are the models fooled with high certainty that this is the correct goal driving the agent?  \n",
    "\n",
    "Steps:\n",
    "1. Load agents and data from experiment 0\n",
    "2. Choose the starting and goal nodes for each agent\n",
    "3. Run an experiment for each agent (100) using the models trained on experiment 0 data.\n",
    "4. Visualize the performance"
   ]
  },
  {
   "cell_type": "code",
   "execution_count": 13,
   "id": "46c597f4-f8e5-48bd-8dc1-80bff92f173a",
   "metadata": {},
   "outputs": [],
   "source": [
    "import numpy as np\n",
    "import pymc\n",
    "import networkx as nx\n",
    "import matplotlib.pyplot as plt\n",
    "import random\n",
    "import json"
   ]
  },
  {
   "cell_type": "code",
   "execution_count": 5,
   "id": "523d6981-e37f-499e-b4ee-6f2483e767f5",
   "metadata": {},
   "outputs": [],
   "source": [
    "import sys\n",
    "import os\n",
    "import osmnx as ox\n",
    "\n",
    "# Adjust this path as needed to point to your project root\n",
    "sys.path.append(os.path.abspath(\"..\"))"
   ]
  },
  {
   "cell_type": "code",
   "execution_count": 8,
   "id": "826264e9-c523-42ba-a546-cc1c0fd1377f",
   "metadata": {},
   "outputs": [],
   "source": [
    "from real_world_src.environment.campus_env import CampusEnvironment\n",
    "from real_world_src.agents.agent_factory import AgentFactory\n",
    "from real_world_src.agents.agent_species import ShortestPathAgent\n",
    "from real_world_src.simulation.simulator import Simulator\n",
    "#from real_world_src.simulation.experiment_1 import Simulator\n",
    "\n",
    "from real_world_src.utils.run_manager import RunManager\n",
    "from real_world_src.utils.config import VISUAL_CONFIG\n",
    "from real_world_src.utils.config import get_agent_color"
   ]
  },
  {
   "cell_type": "code",
   "execution_count": null,
   "id": "6a81d327-e925-42bd-b371-7b9757d636d5",
   "metadata": {},
   "outputs": [],
   "source": []
  },
  {
   "cell_type": "code",
   "execution_count": null,
   "id": "4cd9dab1-fcd4-401f-a9e2-4351d82b324c",
   "metadata": {},
   "outputs": [],
   "source": []
  },
  {
   "cell_type": "code",
   "execution_count": 36,
   "id": "ab32f21d-ea07-45d5-aab9-7f519dd8dc5e",
   "metadata": {},
   "outputs": [],
   "source": [
    "def visualize_map(campus,\n",
    "                  path=None,\n",
    "                  max_goal=None,\n",
    "                  min_goal=None, \n",
    "                  start_goal=None,\n",
    "                  ax=None):\n",
    "    \"\"\"\n",
    "    Visualize the campus map, plus optional trajectory, start, waypoint, and goal nodes.\n",
    "    \n",
    "    Arguments:\n",
    "      campus         an object with:\n",
    "                        - campus.G           : a networkx graph\n",
    "                        - campus.node_coords : dict[node] -> (x, y) coordinates\n",
    "                        - campus.buildings   : a GeoDataFrame of building footprints (or None)\n",
    "      path           list of node‐IDs, the agent’s trajectory to draw (in order)\n",
    "      start_nodes    list of node‐IDs to mark as start(s)\n",
    "      waypoint       single node‐ID to mark as an intermediate waypoint\n",
    "      goal_nodes     list of node‐IDs to mark as goal(s)\n",
    "      ax             optional matplotlib Axes onto which to draw\n",
    "      \n",
    "    Returns:\n",
    "      fig, ax        the figure & axis\n",
    "    \"\"\"\n",
    "    # 1) draw the base map\n",
    "    if ax is None:\n",
    "        fig, ax = ox.plot_graph(campus.G,\n",
    "                                figsize=(15,15),\n",
    "                                node_size=5,\n",
    "                                edge_color=\"#999999\",\n",
    "                                show=False,\n",
    "                                close=False)\n",
    "    else:\n",
    "        fig = ax.figure\n",
    "        ox.plot_graph(campus.G,\n",
    "                      ax=ax,\n",
    "                      node_size=5,\n",
    "                      edge_color=\"#999999\",\n",
    "                      show=False)\n",
    "    \n",
    "    # 2) overlay buildings if you have them\n",
    "    if getattr(campus, \"buildings\", None) is not None:\n",
    "        campus.buildings.plot(ax=ax,\n",
    "                              color=\"#bbbbbb\",\n",
    "                              alpha=0.7,\n",
    "                              edgecolor=\"#444444\")\n",
    "    \n",
    "    # 3) draw the agent’s path\n",
    "    if path is not None and len(path) > 1:\n",
    "        coords = [campus.node_coords[n] for n in path]\n",
    "        xs, ys = zip(*coords)\n",
    "        ax.plot(xs, ys,\n",
    "                linestyle='-',\n",
    "                linewidth=3.0,\n",
    "                color='lightblue',\n",
    "                alpha=0.8,\n",
    "                zorder=3,\n",
    "                label=\"Trajectory\")\n",
    "        # and mark the actual visited nodes\n",
    "        ax.scatter(xs, ys,\n",
    "                   c='C0',\n",
    "                   s=30,\n",
    "                   zorder=4)\n",
    "    \n",
    "    # 6) mark goal nodes\n",
    "    if max_goal:\n",
    "        goal_coords = [campus.node_coords[max_goal]]\n",
    "        xs, ys = zip(*goal_coords)\n",
    "        ax.scatter(xs, ys,\n",
    "                   c=\"yellow\",\n",
    "                   s=160,\n",
    "                   marker=\"*\",\n",
    "                   zorder=5,\n",
    "                   label=\"Max Goal\")\n",
    "\n",
    "    if min_goal:\n",
    "        goal_coords = [campus.node_coords[min_goal]]\n",
    "        xs, ys = zip(*goal_coords)\n",
    "        ax.scatter(xs, ys,\n",
    "                   c=\"red\",\n",
    "                   s=160,\n",
    "                   marker=\"*\",\n",
    "                   zorder=5,\n",
    "                   label=\"Min Goal\")\n",
    "\n",
    "    if start_goal:\n",
    "        goal_coords = [campus.node_coords[start_goal]]\n",
    "        xs, ys = zip(*goal_coords)\n",
    "        ax.scatter(xs, ys,\n",
    "                   c=\"lightgreen\",\n",
    "                   s=160,\n",
    "                   marker=\"*\",\n",
    "                   zorder=5,\n",
    "                   label=\"Start Node\")\n",
    "    \n",
    "    # 7) finalize\n",
    "    ax.legend(loc=\"upper right\")\n",
    "    ax.set_title(\"UCSD Campus Environment\")\n",
    "    ax.set_axis_off()\n",
    "    fig.tight_layout()\n",
    "    return fig, ax"
   ]
  },
  {
   "cell_type": "markdown",
   "id": "faed4e87-641e-40c4-a211-0244b3a946f5",
   "metadata": {},
   "source": [
    "## Step 1: Loading Data"
   ]
  },
  {
   "cell_type": "code",
   "execution_count": 24,
   "id": "7f27bf61-b430-4792-8813-3178ae91db24",
   "metadata": {},
   "outputs": [
    {
     "name": "stdout",
     "output_type": "stream",
     "text": [
      "Started new simulation run #25\n",
      "All visualizations will be saved to: /Users/nigeldoering/Desktop/Research/Dissertation/Theory of Mind/Theory-of-mind/notebooks/visuals/run_25_20250501_144413\n",
      "Loading map data for University of California, San Diego, La Jolla, CA, USA...\n",
      "Environment loaded with 3108 nodes and 8646 edges\n"
     ]
    }
   ],
   "source": [
    "# Create a run manager\n",
    "run_manager = RunManager('visuals')\n",
    "run_dir = run_manager.start_new_run()\n",
    "\n",
    "# Initialize campus environment\n",
    "campus = CampusEnvironment()"
   ]
  },
  {
   "cell_type": "code",
   "execution_count": 9,
   "id": "233045fa-46d3-4c63-b410-db2d51a5181a",
   "metadata": {},
   "outputs": [],
   "source": [
    "# Need to establish the set of common goals (just choose the landmark nodes)\n",
    "goals = [469084068, 49150691, 768264666, 1926666015, 1926673385, 49309735,\n",
    "         273627682, 445989107, 445992528, 446128310, 1772230346, 1926673336, \n",
    "         2872424923, 3139419286, 4037576308]"
   ]
  },
  {
   "cell_type": "code",
   "execution_count": 10,
   "id": "5afbce88-ca11-40e4-b813-d5921d8541e3",
   "metadata": {},
   "outputs": [],
   "source": [
    "import pickle\n",
    "# if you used dill, just replace pickle with dill\n",
    "\n",
    "with open('agents.pkl', 'rb') as f:\n",
    "    agents = pickle.load(f)"
   ]
  },
  {
   "cell_type": "code",
   "execution_count": 14,
   "id": "08812288-2e11-42f3-9cc0-fd2c2774217f",
   "metadata": {},
   "outputs": [],
   "source": [
    "with open(\"./data/path_data.json\", 'r') as file:\n",
    "    path_data = json.load(file)\n",
    "\n",
    "with open(\"./data/goal_data.json\", 'r') as file:\n",
    "    goal_data = json.load(file)"
   ]
  },
  {
   "cell_type": "code",
   "execution_count": 15,
   "id": "c5aa2410-3495-427d-ab08-c5316ffd4a99",
   "metadata": {},
   "outputs": [],
   "source": [
    "def convert_keys_to_int(data):\n",
    "    if isinstance(data, dict):\n",
    "        return {int(k) if isinstance(k, str) and k.isdigit() else k: convert_keys_to_int(v) for k, v in data.items()}\n",
    "    elif isinstance(data, list):\n",
    "        return [convert_keys_to_int(item) for item in data]\n",
    "    else:\n",
    "        return data"
   ]
  },
  {
   "cell_type": "code",
   "execution_count": 16,
   "id": "8a12c371-2b7c-4e2e-8362-0632c4690fbe",
   "metadata": {},
   "outputs": [],
   "source": [
    "goal_data = convert_keys_to_int(goal_data)\n",
    "path_data = convert_keys_to_int(path_data)"
   ]
  },
  {
   "cell_type": "markdown",
   "id": "be72dfb0-8bdd-4f59-99b0-9a6c2fb3e527",
   "metadata": {},
   "source": [
    "## Step 2: Choosing Start and Goal"
   ]
  },
  {
   "cell_type": "code",
   "execution_count": 74,
   "id": "08442c8d-d892-472e-8dbe-000e4f127940",
   "metadata": {},
   "outputs": [],
   "source": [
    "from tqdm import tqdm"
   ]
  },
  {
   "cell_type": "code",
   "execution_count": 76,
   "id": "f1898bdf-c9cf-4361-82ad-bf686de23e61",
   "metadata": {},
   "outputs": [
    {
     "name": "stderr",
     "output_type": "stream",
     "text": [
      "Processing agents: 100%|██████████████████████████████████████████████████████████████████████| 89/89 [07:32<00:00,  5.09s/it]\n"
     ]
    }
   ],
   "source": [
    "to_remove = []\n",
    "for agent in tqdm(agents, desc=\"Processing agents\"):\n",
    "    max_goal_idx = np.argmax(agent.goal_distribution)\n",
    "    max_goal = goals[max_goal_idx]\n",
    "    \n",
    "    min_goal_idx = np.argmin(agent.goal_distribution)\n",
    "    min_goal = goals[min_goal_idx]\n",
    "\n",
    "    G = campus.G_undirected  # your undirected NetworkX graph\n",
    "\n",
    "    candidates = []\n",
    "    for s in G.nodes():\n",
    "        if s in (min_goal, max_goal):\n",
    "            continue  # optional: don’t start right on one of the goals\n",
    "        try:\n",
    "            path = nx.shortest_path(G, s, max_goal, weight=\"length\")\n",
    "        except nx.NetworkXNoPath:\n",
    "            continue\n",
    "        if min_goal in path:\n",
    "            candidates.append(s)\n",
    "    \n",
    "    if not candidates:\n",
    "        print(\"No start node forces a pass by min_goal on the way to max_goal\")\n",
    "        to_remove.append(agent)\n",
    "        continue\n",
    "\n",
    "    agent.goal_node = max_goal\n",
    "    agent.start_node = random.choice(candidates)\n",
    "    agent.current_node = agent.start_node\n",
    "    agent.plan_path()\n",
    "\n",
    "    if min_goal not in agent.path:\n",
    "        print(\"Problem, missing min goal in path\")"
   ]
  },
  {
   "cell_type": "code",
   "execution_count": 64,
   "id": "f22a7228-9970-4ebe-89bb-c5f626c10332",
   "metadata": {},
   "outputs": [],
   "source": [
    "agents = [agent for agent in agents if agent not in to_remove]"
   ]
  },
  {
   "cell_type": "code",
   "execution_count": 77,
   "id": "6a137b83-79f1-49ba-abf0-7046a5e41f14",
   "metadata": {},
   "outputs": [],
   "source": [
    "# Get each agent's path \n",
    "for agent in agents:\n",
    "    agent.plan_path()"
   ]
  },
  {
   "cell_type": "code",
   "execution_count": null,
   "id": "02728b0c-6c6c-4433-98a9-ebda40f3b48f",
   "metadata": {},
   "outputs": [],
   "source": []
  },
  {
   "cell_type": "markdown",
   "id": "7fc8de82-d87a-4290-ad76-4f8b73216cf3",
   "metadata": {},
   "source": [
    "## Step 3: Run the Models"
   ]
  },
  {
   "cell_type": "code",
   "execution_count": 79,
   "id": "24d015d9-77c7-42c2-8f41-ef70f83cf7ec",
   "metadata": {},
   "outputs": [],
   "source": [
    "# Import BToM baseline\n",
    "from real_world_src.models.btom import BToM"
   ]
  },
  {
   "cell_type": "code",
   "execution_count": 80,
   "id": "38bd2286-198e-47c9-a9d1-8fea037d5ca0",
   "metadata": {},
   "outputs": [
    {
     "name": "stdout",
     "output_type": "stream",
     "text": [
      "Computing shortest paths...\n",
      "Done\n"
     ]
    }
   ],
   "source": [
    "btom = BToM(campus, agents, goals)"
   ]
  },
  {
   "cell_type": "code",
   "execution_count": 81,
   "id": "aef8b7ed-89ce-4ef5-b7e1-a70cf2ee68ea",
   "metadata": {},
   "outputs": [],
   "source": [
    "# Calculate all the posteriors using the first 30 episode\n",
    "posteriors_data = {}"
   ]
  },
  {
   "cell_type": "code",
   "execution_count": 82,
   "id": "a2284b99-156b-482c-ba36-5f29a63f02c4",
   "metadata": {},
   "outputs": [],
   "source": [
    "for agent in agents:\n",
    "    posteriors_data[agent.id] = btom.update_agent_posterior_over_path(agent, agent.path)\n",
    "# Reset the posteriors for new episode\n",
    "btom.reset_posteriors()"
   ]
  },
  {
   "cell_type": "markdown",
   "id": "185bef46-c250-4fe5-8432-3f6da7c3a9be",
   "metadata": {},
   "source": [
    "## Step 4: Calculate Brier Score  \n",
    "We will calculate the brier score for each 10% portion of the path (same as before), but only leading up to the false goal. A model that does not learn historical trends will have a higher brier score since it will be more confident in the false goal. "
   ]
  },
  {
   "cell_type": "code",
   "execution_count": 83,
   "id": "f0d6abf4-4b66-4e44-8861-9d46095480b0",
   "metadata": {},
   "outputs": [],
   "source": [
    "def brier_score(true_goal, p_dist):\n",
    "    \"\"\"\n",
    "    Multi-class Brier score given a dict goal→prob.\n",
    "    \"\"\"\n",
    "    score = 0.0\n",
    "    for g, p in p_dist.items():\n",
    "        y = 1.0 if g == true_goal else 0.0\n",
    "        score += (p - y) ** 2\n",
    "    return float(score)\n",
    "\n",
    "\n",
    "def brier_along_path(path, true_goal, posteriors_by_step, goals):\n",
    "    \"\"\"\n",
    "    Compute Brier scores at 0%, 10%, …, 100% of the path.\n",
    "    \n",
    "    Parameters\n",
    "    ----------\n",
    "    path : list\n",
    "        The sequence of states (or state-action tuples).\n",
    "    true_goal : hashable\n",
    "        The ground-truth goal for this trajectory.\n",
    "    posteriors_by_step : dict[int, dict] or list[dict]\n",
    "        Either\n",
    "          * a dict mapping step index 1..n → posterior dict, OR\n",
    "          * a list of posterior dicts in step-order (len = n).\n",
    "        Each posterior dict maps each goal → P(goal | trajectory up to that step).\n",
    "    \n",
    "    Returns\n",
    "    -------\n",
    "    dict[float, float]\n",
    "        Mapping fraction → Brier score.\n",
    "    \"\"\"\n",
    "    n = len(path) - 1\n",
    "    if n < 1:\n",
    "        raise ValueError(\"Path must have at least 2 states to define transitions\")\n",
    "\n",
    "    # uniform prior for t=0\n",
    "    uniform = {g: 1.0/len(goals) for g in goals}\n",
    "\n",
    "    results = []\n",
    "    for frac in np.linspace(0, 1, 11):  # 0.0,0.1,...,1.0\n",
    "        t = int(np.floor(frac * n))\n",
    "        if t == 0:\n",
    "            p_dist = uniform\n",
    "        else:\n",
    "            p_dist = posteriors_by_step[t-1]\n",
    "        results.append(brier_score(true_goal, p_dist))\n",
    "\n",
    "    return results"
   ]
  },
  {
   "cell_type": "code",
   "execution_count": 88,
   "id": "41dac4d5-d267-498e-9748-b29ea97abafe",
   "metadata": {},
   "outputs": [],
   "source": [
    "scores = []\n",
    "for agent in agents:\n",
    "    min_goal_idx = np.argmin(agent.goal_distribution)\n",
    "    min_goal = goals[min_goal_idx]\n",
    "    # Select the path proportion \n",
    "    path = agent.path\n",
    "    #false_goal_idx = path.index(min_goal)\n",
    "    #path = path[:false_goal_idx + 1]\n",
    "    \n",
    "    scores.append(brier_along_path(path, \n",
    "                              agent.goal_node, \n",
    "                              posteriors_data[agent.id], \n",
    "                              goals))"
   ]
  },
  {
   "cell_type": "code",
   "execution_count": 112,
   "id": "ba72de8f-78a0-43b2-b703-33ed8ae97856",
   "metadata": {},
   "outputs": [
    {
     "data": {
      "image/png": "[encoded data removed]",
      "text/plain": [
       "<Figure size 1000x600 with 1 Axes>"
      ]
     },
     "metadata": {},
     "output_type": "display_data"
    }
   ],
   "source": [
    "import numpy as np\n",
    "import matplotlib.pyplot as plt\n",
    "\n",
    "# Suppose `scores` is your (n_trajectories × n_fractions) array:\n",
    "arr = np.array(scores)   # shape (N, 11)\n",
    "props = np.linspace(0, 1, arr.shape[1])\n",
    "\n",
    "# Number of trajectories\n",
    "N = arr.shape[0]\n",
    "\n",
    "# Compute mean and SEM at each fraction\n",
    "mean_scores = arr.mean(axis=0)\n",
    "sem_scores  = arr.std(axis=0, ddof=1) / np.sqrt(N)\n",
    "\n",
    "# 95% CI half‐width (approx Normal)\n",
    "ci95 = 1.96 * sem_scores\n",
    "\n",
    "lower = mean_scores - ci95\n",
    "upper = mean_scores + ci95\n",
    "\n",
    "plt.figure(figsize=(10,6))\n",
    "plt.plot(props, mean_scores, '-o', label='Mean Brier')\n",
    "plt.fill_between(props, lower, upper,\n",
    "                 color='C0', alpha=0.2,\n",
    "                 label='95% CI of mean')\n",
    "plt.xlabel('Proportion of Path Observed')\n",
    "plt.ylabel('Brier Score')\n",
    "plt.title('Brier Score vs. Path Fraction (with 95% CI)')\n",
    "plt.xticks(props)\n",
    "plt.ylim(0, 1.5)\n",
    "plt.grid(alpha=0.3)\n",
    "plt.legend(loc='upper right')\n",
    "plt.tight_layout()\n",
    "plt.show()"
   ]
  },
  {
   "cell_type": "code",
   "execution_count": 95,
   "id": "4607f795-e74e-4251-9607-9908031d17c0",
   "metadata": {},
   "outputs": [],
   "source": [
    "def fooled_score(true_goal, p_dist, false_goal):\n",
    "    \"\"\"\n",
    "    Fooled scores counts .\n",
    "    \"\"\"\n",
    "    prob_true_goal = p_dist[true_goal]\n",
    "    prob_false_goal = p_dist[false_goal]\n",
    "    return prob_false_goal - prob_true_goal\n",
    "\n",
    "\n",
    "def fooled_along_path(path, true_goal, false_goal, posteriors_by_step, goals):\n",
    "    \"\"\"\n",
    "    Compute Brier scores at 0%, 10%, …, 100% of the path.\n",
    "    \n",
    "    Parameters\n",
    "    ----------\n",
    "    path : list\n",
    "        The sequence of states (or state-action tuples).\n",
    "    true_goal : hashable\n",
    "        The ground-truth goal for this trajectory.\n",
    "    posteriors_by_step : dict[int, dict] or list[dict]\n",
    "        Either\n",
    "          * a dict mapping step index 1..n → posterior dict, OR\n",
    "          * a list of posterior dicts in step-order (len = n).\n",
    "        Each posterior dict maps each goal → P(goal | trajectory up to that step).\n",
    "    \n",
    "    Returns\n",
    "    -------\n",
    "    dict[float, float]\n",
    "        Mapping fraction → Brier score.\n",
    "    \"\"\"\n",
    "    n = len(path) - 1\n",
    "    if n < 1:\n",
    "        raise ValueError(\"Path must have at least 2 states to define transitions\")\n",
    "\n",
    "    # uniform prior for t=0\n",
    "    uniform = {g: 1.0/len(goals) for g in goals}\n",
    "\n",
    "    results = []\n",
    "    for frac in np.linspace(0, 1, 11):  # 0.0,0.1,...,1.0\n",
    "        t = int(np.floor(frac * n))\n",
    "        if t == 0:\n",
    "            p_dist = uniform\n",
    "        else:\n",
    "            p_dist = posteriors_by_step[t-1]\n",
    "        results.append(fooled_score(true_goal, p_dist, false_goal))\n",
    "\n",
    "    return results"
   ]
  },
  {
   "cell_type": "code",
   "execution_count": 100,
   "id": "8c960a85-3ac3-4437-a945-7923fdb2229d",
   "metadata": {},
   "outputs": [],
   "source": [
    "fooled_scores = []\n",
    "for agent in agents:\n",
    "    min_goal_idx = np.argmin(agent.goal_distribution)\n",
    "    min_goal = goals[min_goal_idx]\n",
    "    # Select the path proportion \n",
    "    path = agent.path\n",
    "    false_goal_idx = path.index(min_goal)\n",
    "    path = path[:false_goal_idx + 1]\n",
    "    \n",
    "    fooled_scores.append(fooled_along_path(path, \n",
    "                                    agent.goal_node,\n",
    "                                    min_goal,\n",
    "                                    posteriors_data[agent.id],\n",
    "                                    goals))"
   ]
  },
  {
   "cell_type": "code",
   "execution_count": 110,
   "id": "c3ef326e-0b19-4e9c-abb6-ac9b16b85130",
   "metadata": {},
   "outputs": [
    {
     "data": {
      "image/png": "[encoded data removed]",
      "text/plain": [
       "<Figure size 1000x600 with 1 Axes>"
      ]
     },
     "metadata": {},
     "output_type": "display_data"
    }
   ],
   "source": [
    "import numpy as np\n",
    "import matplotlib.pyplot as plt\n",
    "\n",
    "# Suppose `fooled_scores` is your (n_trajectories × n_fractions) array:\n",
    "arr = np.array(fooled_scores)   # shape (N, 11)\n",
    "props = np.linspace(0, 1, arr.shape[1])\n",
    "\n",
    "# Compute mean and standard error of the mean (SEM) at each fraction\n",
    "mean_scores = arr.mean(axis=0)\n",
    "sem_scores  = arr.std(axis=0, ddof=1) / np.sqrt(arr.shape[0])\n",
    "\n",
    "# 95% CI half‐width\n",
    "ci95 = 1.96 * sem_scores\n",
    "\n",
    "lower = mean_scores - ci95\n",
    "upper = mean_scores + ci95\n",
    "\n",
    "plt.figure(figsize=(10,6))\n",
    "plt.plot(props, mean_scores, '-o', label='Mean margin')\n",
    "plt.fill_between(props, lower, upper,\n",
    "                 color='C0', alpha=0.2,\n",
    "                 label='95% CI')\n",
    "plt.xlabel('Proportion of Path Observed Before False Goal')\n",
    "plt.ylabel('Probability Margin\\n(P(false goal) – P(true goal))')\n",
    "plt.title('Model Confidence Margin with 95% CI')\n",
    "plt.xticks(props)\n",
    "plt.ylim(0, .5)\n",
    "plt.grid(alpha=0.3)\n",
    "plt.legend(loc='upper right')\n",
    "plt.tight_layout()\n",
    "plt.show()"
   ]
  },
  {
   "cell_type": "code",
   "execution_count": null,
   "id": "dbea5c3e-f998-47d8-a94c-6fe7fc97e08f",
   "metadata": {},
   "outputs": [],
   "source": []
  }
 ],
 "metadata": {
  "kernelspec": {
   "display_name": "Python (tom)",
   "language": "python",
   "name": "tom"
  },
  "language_info": {
   "codemirror_mode": {
    "name": "ipython",
    "version": 3
   },
   "file_extension": ".py",
   "mimetype": "text/x-python",
   "name": "python",
   "nbconvert_exporter": "python",
   "pygments_lexer": "ipython3",
   "version": "3.12.0"
  }
 },
 "nbformat": 4,
 "nbformat_minor": 5
}
