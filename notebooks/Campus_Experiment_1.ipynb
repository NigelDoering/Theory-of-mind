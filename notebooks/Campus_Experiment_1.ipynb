{
 "cells": [
  {
   "cell_type": "markdown",
   "id": "7f935291-63a8-4edd-b40d-6bd1b162c6a0",
   "metadata": {},
   "source": [
    "# Experiment 1: Not sure what to call this (False Goal Test?)\n",
    "The different ToM models may struggle with learning which goals are relevant to which agents. For example, an agent wants to go to point B. The path the agent takes will go by point A, but historically, this agent does not visit point A. How well do models learn goal relevance for agents?  \n",
    "\n",
    "We can test this by designing specific paths for the agents. We will choose the highest probability goal for each agent and the lowest probability goal. Then, we will for the agent to start from a position before the low probability goal such that this goal has to be passed on the way to the true goal. As the agent approaches the false goal, are the models fooled with high certainty that this is the correct goal driving the agent?  \n",
    "\n",
    "Steps:\n",
    "1. Load agents and data from experiment 0\n",
    "2. Choose the starting and goal nodes for each agent\n",
    "3. Run an experiment for each agent (100) using the models trained on experiment 0 data.\n",
    "4. Visualize the performance"
   ]
  },
  {
   "cell_type": "code",
   "execution_count": 1,
   "id": "3f533a38",
   "metadata": {},
   "outputs": [],
   "source": [
    "%load_ext autoreload\n",
    "%autoreload 2"
   ]
  },
  {
   "cell_type": "code",
   "execution_count": 2,
   "id": "46c597f4-f8e5-48bd-8dc1-80bff92f173a",
   "metadata": {},
   "outputs": [],
   "source": [
    "import numpy as np\n",
    "import pymc\n",
    "import networkx as nx\n",
    "import matplotlib.pyplot as plt\n",
    "import random\n",
    "import json\n",
    "import torch"
   ]
  },
  {
   "cell_type": "code",
   "execution_count": 3,
   "id": "523d6981-e37f-499e-b4ee-6f2483e767f5",
   "metadata": {},
   "outputs": [],
   "source": [
    "import sys\n",
    "import os\n",
    "import osmnx as ox\n",
    "\n",
    "# Adjust this path as needed to point to your project root\n",
    "sys.path.append(os.path.abspath(\"..\"))"
   ]
  },
  {
   "cell_type": "code",
   "execution_count": 4,
   "id": "826264e9-c523-42ba-a546-cc1c0fd1377f",
   "metadata": {},
   "outputs": [],
   "source": [
    "from real_world_src.environment.campus_env import CampusEnvironment\n",
    "from real_world_src.agents.agent_factory import AgentFactory\n",
    "from real_world_src.agents.agent_species import ShortestPathAgent\n",
    "from real_world_src.simulation.simulator import Simulator\n",
    "#from real_world_src.simulation.experiment_1 import Simulator\n",
    "\n",
    "from real_world_src.utils.run_manager import RunManager\n",
    "from real_world_src.utils.config import VISUAL_CONFIG\n",
    "from real_world_src.utils.config import get_agent_color"
   ]
  },
  {
   "cell_type": "code",
   "execution_count": null,
   "id": "6a81d327-e925-42bd-b371-7b9757d636d5",
   "metadata": {},
   "outputs": [],
   "source": []
  },
  {
   "cell_type": "code",
   "execution_count": null,
   "id": "4cd9dab1-fcd4-401f-a9e2-4351d82b324c",
   "metadata": {},
   "outputs": [],
   "source": []
  },
  {
   "cell_type": "code",
   "execution_count": 5,
   "id": "ab32f21d-ea07-45d5-aab9-7f519dd8dc5e",
   "metadata": {},
   "outputs": [],
   "source": [
    "def visualize_map(campus,\n",
    "                  path=None,\n",
    "                  max_goal=None,\n",
    "                  min_goal=None, \n",
    "                  start_goal=None,\n",
    "                  ax=None):\n",
    "    \"\"\"\n",
    "    Visualize the campus map, plus optional trajectory, start, waypoint, and goal nodes.\n",
    "    \n",
    "    Arguments:\n",
    "      campus         an object with:\n",
    "                        - campus.G           : a networkx graph\n",
    "                        - campus.node_coords : dict[node] -> (x, y) coordinates\n",
    "                        - campus.buildings   : a GeoDataFrame of building footprints (or None)\n",
    "      path           list of node‐IDs, the agent’s trajectory to draw (in order)\n",
    "      start_nodes    list of node‐IDs to mark as start(s)\n",
    "      waypoint       single node‐ID to mark as an intermediate waypoint\n",
    "      goal_nodes     list of node‐IDs to mark as goal(s)\n",
    "      ax             optional matplotlib Axes onto which to draw\n",
    "      \n",
    "    Returns:\n",
    "      fig, ax        the figure & axis\n",
    "    \"\"\"\n",
    "    # 1) draw the base map\n",
    "    if ax is None:\n",
    "        fig, ax = ox.plot_graph(campus.G,\n",
    "                                figsize=(15,15),\n",
    "                                node_size=5,\n",
    "                                edge_color=\"#999999\",\n",
    "                                show=False,\n",
    "                                close=False)\n",
    "    else:\n",
    "        fig = ax.figure\n",
    "        ox.plot_graph(campus.G,\n",
    "                      ax=ax,\n",
    "                      node_size=5,\n",
    "                      edge_color=\"#999999\",\n",
    "                      show=False)\n",
    "    \n",
    "    # 2) overlay buildings if you have them\n",
    "    if getattr(campus, \"buildings\", None) is not None:\n",
    "        campus.buildings.plot(ax=ax,\n",
    "                              color=\"#bbbbbb\",\n",
    "                              alpha=0.7,\n",
    "                              edgecolor=\"#444444\")\n",
    "    \n",
    "    # 3) draw the agent’s path\n",
    "    if path is not None and len(path) > 1:\n",
    "        coords = [campus.node_coords[n] for n in path]\n",
    "        xs, ys = zip(*coords)\n",
    "        ax.plot(xs, ys,\n",
    "                linestyle='-',\n",
    "                linewidth=3.0,\n",
    "                color='lightblue',\n",
    "                alpha=0.8,\n",
    "                zorder=3,\n",
    "                label=\"Trajectory\")\n",
    "        # and mark the actual visited nodes\n",
    "        ax.scatter(xs, ys,\n",
    "                   c='C0',\n",
    "                   s=30,\n",
    "                   zorder=4)\n",
    "    \n",
    "    # 6) mark goal nodes\n",
    "    if max_goal:\n",
    "        goal_coords = [campus.node_coords[max_goal]]\n",
    "        xs, ys = zip(*goal_coords)\n",
    "        ax.scatter(xs, ys,\n",
    "                   c=\"yellow\",\n",
    "                   s=160,\n",
    "                   marker=\"*\",\n",
    "                   zorder=5,\n",
    "                   label=\"Max Goal\")\n",
    "\n",
    "    if min_goal:\n",
    "        goal_coords = [campus.node_coords[min_goal]]\n",
    "        xs, ys = zip(*goal_coords)\n",
    "        ax.scatter(xs, ys,\n",
    "                   c=\"red\",\n",
    "                   s=160,\n",
    "                   marker=\"*\",\n",
    "                   zorder=5,\n",
    "                   label=\"Min Goal\")\n",
    "\n",
    "    if start_goal:\n",
    "        goal_coords = [campus.node_coords[start_goal]]\n",
    "        xs, ys = zip(*goal_coords)\n",
    "        ax.scatter(xs, ys,\n",
    "                   c=\"lightgreen\",\n",
    "                   s=160,\n",
    "                   marker=\"*\",\n",
    "                   zorder=5,\n",
    "                   label=\"Start Node\")\n",
    "    \n",
    "    # 7) finalize\n",
    "    ax.legend(loc=\"upper right\")\n",
    "    ax.set_title(\"UCSD Campus Environment\")\n",
    "    ax.set_axis_off()\n",
    "    fig.tight_layout()\n",
    "    return fig, ax"
   ]
  },
  {
   "cell_type": "markdown",
   "id": "faed4e87-641e-40c4-a211-0244b3a946f5",
   "metadata": {},
   "source": [
    "## Step 1: Loading Data"
   ]
  },
  {
   "cell_type": "code",
   "execution_count": 6,
   "id": "7f27bf61-b430-4792-8813-3178ae91db24",
   "metadata": {},
   "outputs": [
    {
     "name": "stdout",
     "output_type": "stream",
     "text": [
      "Loading map data for University of California, San Diego, La Jolla, CA, USA...\n",
      "Environment loaded with 3136 nodes and 8700 edges\n"
     ]
    }
   ],
   "source": [
    "# # Create a run manager\n",
    "# run_manager = RunManager('visuals')\n",
    "# run_dir = run_manager.start_new_run()\n",
    "\n",
    "# Initialize campus environment\n",
    "campus = CampusEnvironment()"
   ]
  },
  {
   "cell_type": "code",
   "execution_count": 7,
   "id": "233045fa-46d3-4c63-b410-db2d51a5181a",
   "metadata": {},
   "outputs": [],
   "source": [
    "# Need to establish the set of common goals (just choose the landmark nodes)\n",
    "goals = [469084068, 49150691, 768264666, 1926666015, 1926673385, 49309735,\n",
    "         273627682, 445989107, 445992528, 446128310, 1772230346, 1926673336, \n",
    "         2872424923, 3139419286, 4037576308]"
   ]
  },
  {
   "cell_type": "code",
   "execution_count": 8,
   "id": "5afbce88-ca11-40e4-b813-d5921d8541e3",
   "metadata": {},
   "outputs": [
    {
     "name": "stderr",
     "output_type": "stream",
     "text": [
      "/var/folders/xg/fld01xsn2c1bbnbsz7mzrg6r0000gn/T/ipykernel_45065/4214467372.py:5: DeprecationWarning: numpy.core.numeric is deprecated and has been renamed to numpy._core.numeric. The numpy._core namespace contains private NumPy internals and its use is discouraged, as NumPy internals can change without warning in any release. In practice, most real-world usage of numpy.core is to access functionality in the public NumPy API. If that is the case, use the public NumPy API. If not, you are using NumPy internals. If you would still like to access an internal attribute, use numpy._core.numeric._frombuffer.\n",
      "  agents = pickle.load(f)\n"
     ]
    }
   ],
   "source": [
    "import pickle\n",
    "# if you used dill, just replace pickle with dill\n",
    "\n",
    "with open('./../data/1k/agents.pkl', 'rb') as f:\n",
    "    agents = pickle.load(f)"
   ]
  },
  {
   "cell_type": "code",
   "execution_count": 9,
   "id": "08812288-2e11-42f3-9cc0-fd2c2774217f",
   "metadata": {},
   "outputs": [],
   "source": [
    "with open(\"./../data/1k/path_data.json\", 'r') as file:\n",
    "    path_data = json.load(file)\n",
    "\n",
    "with open(\"./../data/1k/goal_data.json\", 'r') as file:\n",
    "    goal_data = json.load(file)"
   ]
  },
  {
   "cell_type": "code",
   "execution_count": 10,
   "id": "c5aa2410-3495-427d-ab08-c5316ffd4a99",
   "metadata": {},
   "outputs": [],
   "source": [
    "def convert_keys_to_int(data):\n",
    "    if isinstance(data, dict):\n",
    "        return {int(k) if isinstance(k, str) and k.isdigit() else k: convert_keys_to_int(v) for k, v in data.items()}\n",
    "    elif isinstance(data, list):\n",
    "        return [convert_keys_to_int(item) for item in data]\n",
    "    else:\n",
    "        return data"
   ]
  },
  {
   "cell_type": "code",
   "execution_count": 11,
   "id": "8a12c371-2b7c-4e2e-8362-0632c4690fbe",
   "metadata": {},
   "outputs": [],
   "source": [
    "goal_data = convert_keys_to_int(goal_data)\n",
    "path_data = convert_keys_to_int(path_data)"
   ]
  },
  {
   "cell_type": "markdown",
   "id": "be72dfb0-8bdd-4f59-99b0-9a6c2fb3e527",
   "metadata": {},
   "source": [
    "## Step 2: Choosing Start and Goal"
   ]
  },
  {
   "cell_type": "code",
   "execution_count": 12,
   "id": "08442c8d-d892-472e-8dbe-000e4f127940",
   "metadata": {},
   "outputs": [],
   "source": [
    "from tqdm import tqdm"
   ]
  },
  {
   "cell_type": "code",
   "execution_count": 13,
   "id": "f1898bdf-c9cf-4361-82ad-bf686de23e61",
   "metadata": {},
   "outputs": [
    {
     "name": "stderr",
     "output_type": "stream",
     "text": [
      "Processing agents:   9%|▉         | 9/100 [01:06<13:28,  8.88s/it]"
     ]
    },
    {
     "name": "stdout",
     "output_type": "stream",
     "text": [
      "Problem, missing min goal in path\n"
     ]
    },
    {
     "name": "stderr",
     "output_type": "stream",
     "text": [
      "Processing agents:  17%|█▋        | 17/100 [02:08<10:35,  7.65s/it]"
     ]
    },
    {
     "name": "stdout",
     "output_type": "stream",
     "text": [
      "No start node forces a pass by min_goal on the way to max_goal\n"
     ]
    },
    {
     "name": "stderr",
     "output_type": "stream",
     "text": [
      "Processing agents:  18%|█▊        | 18/100 [02:17<11:09,  8.16s/it]"
     ]
    },
    {
     "name": "stdout",
     "output_type": "stream",
     "text": [
      "No start node forces a pass by min_goal on the way to max_goal\n"
     ]
    },
    {
     "name": "stderr",
     "output_type": "stream",
     "text": [
      "Processing agents:  22%|██▏       | 22/100 [02:49<10:32,  8.10s/it]"
     ]
    },
    {
     "name": "stdout",
     "output_type": "stream",
     "text": [
      "Problem, missing min goal in path\n"
     ]
    },
    {
     "name": "stderr",
     "output_type": "stream",
     "text": [
      "Processing agents:  28%|██▊       | 28/100 [03:44<10:39,  8.88s/it]"
     ]
    },
    {
     "name": "stdout",
     "output_type": "stream",
     "text": [
      "Problem, missing min goal in path\n"
     ]
    },
    {
     "name": "stderr",
     "output_type": "stream",
     "text": [
      "Processing agents:  35%|███▌      | 35/100 [04:39<09:18,  8.60s/it]"
     ]
    },
    {
     "name": "stdout",
     "output_type": "stream",
     "text": [
      "No start node forces a pass by min_goal on the way to max_goal\n"
     ]
    },
    {
     "name": "stderr",
     "output_type": "stream",
     "text": [
      "Processing agents:  40%|████      | 40/100 [05:18<07:28,  7.47s/it]"
     ]
    },
    {
     "name": "stdout",
     "output_type": "stream",
     "text": [
      "No start node forces a pass by min_goal on the way to max_goal\n"
     ]
    },
    {
     "name": "stderr",
     "output_type": "stream",
     "text": [
      "Processing agents:  45%|████▌     | 45/100 [05:56<06:53,  7.52s/it]"
     ]
    },
    {
     "name": "stdout",
     "output_type": "stream",
     "text": [
      "No start node forces a pass by min_goal on the way to max_goal\n"
     ]
    },
    {
     "name": "stderr",
     "output_type": "stream",
     "text": [
      "Processing agents:  48%|████▊     | 48/100 [06:26<07:56,  9.16s/it]"
     ]
    },
    {
     "name": "stdout",
     "output_type": "stream",
     "text": [
      "No start node forces a pass by min_goal on the way to max_goal\n"
     ]
    },
    {
     "name": "stderr",
     "output_type": "stream",
     "text": [
      "Processing agents:  50%|█████     | 50/100 [06:40<06:48,  8.16s/it]"
     ]
    },
    {
     "name": "stdout",
     "output_type": "stream",
     "text": [
      "No start node forces a pass by min_goal on the way to max_goal\n"
     ]
    },
    {
     "name": "stderr",
     "output_type": "stream",
     "text": [
      "Processing agents:  51%|█████     | 51/100 [06:50<06:58,  8.54s/it]"
     ]
    },
    {
     "name": "stdout",
     "output_type": "stream",
     "text": [
      "Problem, missing min goal in path\n"
     ]
    },
    {
     "name": "stderr",
     "output_type": "stream",
     "text": [
      "Processing agents:  59%|█████▉    | 59/100 [07:48<04:37,  6.77s/it]"
     ]
    },
    {
     "name": "stdout",
     "output_type": "stream",
     "text": [
      "No start node forces a pass by min_goal on the way to max_goal\n"
     ]
    },
    {
     "name": "stderr",
     "output_type": "stream",
     "text": [
      "Processing agents:  91%|█████████ | 91/100 [11:49<01:15,  8.34s/it]"
     ]
    },
    {
     "name": "stdout",
     "output_type": "stream",
     "text": [
      "Problem, missing min goal in path\n"
     ]
    },
    {
     "name": "stderr",
     "output_type": "stream",
     "text": [
      "Processing agents:  94%|█████████▍| 94/100 [12:10<00:43,  7.28s/it]"
     ]
    },
    {
     "name": "stdout",
     "output_type": "stream",
     "text": [
      "No start node forces a pass by min_goal on the way to max_goal\n"
     ]
    },
    {
     "name": "stderr",
     "output_type": "stream",
     "text": [
      "Processing agents: 100%|██████████| 100/100 [12:47<00:00,  7.67s/it]"
     ]
    },
    {
     "name": "stdout",
     "output_type": "stream",
     "text": [
      "Problem, missing min goal in path\n"
     ]
    },
    {
     "name": "stderr",
     "output_type": "stream",
     "text": [
      "\n"
     ]
    }
   ],
   "source": [
    "to_remove = []\n",
    "for agent in tqdm(agents, desc=\"Processing agents\"):\n",
    "    max_goal_idx = np.argmax(agent.goal_distribution)\n",
    "    max_goal = goals[max_goal_idx]\n",
    "    \n",
    "    min_goal_idx = np.argmin(agent.goal_distribution)\n",
    "    min_goal = goals[min_goal_idx]\n",
    "\n",
    "    G = campus.G # your NetworkX graph\n",
    "\n",
    "    if max_goal not in G.nodes() or min_goal not in G.nodes():\n",
    "        to_remove.append(agent)\n",
    "        continue\n",
    "\n",
    "    candidates = []\n",
    "    for s in G.nodes():\n",
    "        if s in (min_goal, max_goal):\n",
    "            continue  # optional: don't start right on one of the goals\n",
    "        try:\n",
    "            path = nx.shortest_path(G, s, max_goal, weight=\"length\")\n",
    "        except (nx.NetworkXNoPath, nx.NodeNotFound):\n",
    "            continue\n",
    "        if min_goal in path:\n",
    "            candidates.append(s)\n",
    "    \n",
    "    if not candidates:\n",
    "        print(\"No start node forces a pass by min_goal on the way to max_goal\")\n",
    "        to_remove.append(agent)\n",
    "        continue\n",
    "\n",
    "    agent.goal_node = max_goal\n",
    "    agent.start_node = random.choice(candidates)\n",
    "    agent.current_node = agent.start_node\n",
    "    # Remove agent if start node is not in the graph\n",
    "    if agent.start_node not in G.nodes():\n",
    "        to_remove.append(agent)\n",
    "        continue\n",
    "    try:\n",
    "        agent.plan_path()\n",
    "    except nx.NodeNotFound:\n",
    "        to_remove.append(agent)\n",
    "        continue\n",
    "\n",
    "    if min_goal not in agent.path:\n",
    "        print(\"Problem, missing min goal in path\")"
   ]
  },
  {
   "cell_type": "code",
   "execution_count": 14,
   "id": "f22a7228-9970-4ebe-89bb-c5f626c10332",
   "metadata": {},
   "outputs": [],
   "source": [
    "agents = [agent for agent in agents if agent not in to_remove]"
   ]
  },
  {
   "cell_type": "code",
   "execution_count": 15,
   "id": "7d6a8a5d",
   "metadata": {},
   "outputs": [],
   "source": [
    "# save it as a pickle file\n",
    "with open('./../data/1k/agents_preprocessed_2.pkl', 'wb') as f:\n",
    "    pickle.dump(agents, f)"
   ]
  },
  {
   "cell_type": "code",
   "execution_count": 16,
   "id": "dd4b32e8",
   "metadata": {},
   "outputs": [],
   "source": [
    "with open('./../data/1k/agents_processed.pkl', 'rb') as f:\n",
    "    agents = pickle.load(f)"
   ]
  },
  {
   "cell_type": "code",
   "execution_count": 17,
   "id": "6a137b83-79f1-49ba-abf0-7046a5e41f14",
   "metadata": {},
   "outputs": [],
   "source": [
    "# Get each agent's path \n",
    "for agent in agents:\n",
    "    agent.plan_path()"
   ]
  },
  {
   "cell_type": "code",
   "execution_count": null,
   "id": "02728b0c-6c6c-4433-98a9-ebda40f3b48f",
   "metadata": {},
   "outputs": [],
   "source": []
  },
  {
   "cell_type": "markdown",
   "id": "7fc8de82-d87a-4290-ad76-4f8b73216cf3",
   "metadata": {},
   "source": [
    "## Step 3: Run the Models"
   ]
  },
  {
   "cell_type": "markdown",
   "id": "8a3fbea1-ff49-44a1-aa08-280058fcdbf9",
   "metadata": {},
   "source": [
    "### BToM"
   ]
  },
  {
   "cell_type": "code",
   "execution_count": 18,
   "id": "24d015d9-77c7-42c2-8f41-ef70f83cf7ec",
   "metadata": {},
   "outputs": [],
   "source": [
    "# Import BToM baseline\n",
    "from real_world_src.models.btom import BToM"
   ]
  },
  {
   "cell_type": "code",
   "execution_count": 19,
   "id": "38bd2286-198e-47c9-a9d1-8fea037d5ca0",
   "metadata": {},
   "outputs": [
    {
     "name": "stdout",
     "output_type": "stream",
     "text": [
      "Computing shortest paths...\n",
      "Done\n"
     ]
    }
   ],
   "source": [
    "btom = BToM(campus, agents, goals)"
   ]
  },
  {
   "cell_type": "code",
   "execution_count": 20,
   "id": "aef8b7ed-89ce-4ef5-b7e1-a70cf2ee68ea",
   "metadata": {},
   "outputs": [],
   "source": [
    "# Calculate all the posteriors using the first 30 episode\n",
    "posteriors_data = {}"
   ]
  },
  {
   "cell_type": "code",
   "execution_count": 21,
   "id": "a2284b99-156b-482c-ba36-5f29a63f02c4",
   "metadata": {},
   "outputs": [],
   "source": [
    "for agent in agents:\n",
    "    valid_path = [n for n in agent.path if n in btom.campus.G.nodes]\n",
    "    if len(valid_path) < 2:\n",
    "        print(f\"Skipping agent {agent.id}: not enough valid nodes in path.\")\n",
    "        continue\n",
    "    posteriors_data[agent.id] = btom.update_agent_posterior_over_path(agent, valid_path)\n",
    "btom.reset_posteriors()"
   ]
  },
  {
   "cell_type": "markdown",
   "id": "2bfa614c-f699-4d7d-b152-a601434b9bc5",
   "metadata": {},
   "source": [
    "### Extended BToM"
   ]
  },
  {
   "cell_type": "code",
   "execution_count": 22,
   "id": "6a398238-ed96-45de-a059-741ef3d96941",
   "metadata": {},
   "outputs": [],
   "source": [
    "from real_world_src.models.extended_btom import Extended_BToM"
   ]
  },
  {
   "cell_type": "code",
   "execution_count": 23,
   "id": "9aa83b4f-df5a-47ea-ae72-0c47821c43c0",
   "metadata": {},
   "outputs": [],
   "source": [
    "with open('extended_btom.pkl', 'rb') as f:\n",
    "    ext_btom = pickle.load(f)"
   ]
  },
  {
   "cell_type": "code",
   "execution_count": 24,
   "id": "a63dde2e-de3c-4d73-bf91-31be44ff91ab",
   "metadata": {},
   "outputs": [],
   "source": [
    "# Calculate all the posteriors using the first 30 episode\n",
    "ext_posteriors_data = {}\n",
    "for agent in agents:\n",
    "    valid_path = [n for n in agent.path if n in ext_btom.campus.G.nodes]\n",
    "    if len(valid_path) < 2:\n",
    "        print(f\"Skipping agent {agent.id}: not enough valid nodes in path.\")\n",
    "        continue\n",
    "    ext_posteriors_data[agent.id] = ext_btom.update_agent_posterior_over_path(agent, valid_path)"
   ]
  },
  {
   "cell_type": "markdown",
   "id": "f41bb0da",
   "metadata": {},
   "source": [
    "# LSTM"
   ]
  },
  {
   "cell_type": "code",
   "execution_count": 25,
   "id": "3783a3db",
   "metadata": {},
   "outputs": [],
   "source": [
    "from real_world_src.models.lstm import (\n",
    "    SimpleLSTM, LSTMDataset, lstm_collate_fn,\n",
    "    train_lstm_model, evaluate_lstm_model, predict_goal_posterior\n",
    ")\n",
    "from torch.utils.data import DataLoader"
   ]
  },
  {
   "cell_type": "code",
   "execution_count": 26,
   "id": "eb357ed6",
   "metadata": {},
   "outputs": [],
   "source": [
    "# build node2idx so that every node in campus.G_undirected maps to 0…V−1\n",
    "all_nodes = list(campus.G_undirected.nodes())\n",
    "node2idx  = {n:i for i,n in enumerate(all_nodes)}\n",
    "V = len(all_nodes)\n",
    "\n",
    "# build goal2idx likewise for your goals list\n",
    "goal2idx = {g:i for i,g in enumerate(goals)}\n",
    "G = len(goals)"
   ]
  },
  {
   "cell_type": "code",
   "execution_count": 27,
   "id": "412458b4",
   "metadata": {},
   "outputs": [],
   "source": [
    "# Filter path_data to only include valid nodes (like BTOM code)\n",
    "filtered_path_data = {}\n",
    "for episode, agents_dict in path_data.items():\n",
    "    filtered_path_data[episode] = {}\n",
    "    for agent_id, path in agents_dict.items():\n",
    "        filtered_path = [n for n in path if n in node2idx]\n",
    "        filtered_path_data[episode][agent_id] = filtered_path\n",
    "\n",
    "lstm_dataset = LSTMDataset(filtered_path_data, goal_data, node2idx, goal2idx)\n",
    "lstm_loader = DataLoader(lstm_dataset, batch_size=32, shuffle=True, collate_fn=lstm_collate_fn)\n"
   ]
  },
  {
   "cell_type": "code",
   "execution_count": 28,
   "id": "7d0ad5f5",
   "metadata": {},
   "outputs": [],
   "source": [
    "if torch.backends.mps.is_available():\n",
    "    device = torch.device(\"mps\")\n",
    "elif torch.cuda.is_available():\n",
    "    device = torch.device(\"cuda\")\n",
    "else:\n",
    "    device = torch.device(\"cpu\")"
   ]
  },
  {
   "cell_type": "code",
   "execution_count": 29,
   "id": "82cdcf1b",
   "metadata": {},
   "outputs": [
    {
     "name": "stdout",
     "output_type": "stream",
     "text": [
      "Epoch 1/10 - Loss: 1.8788\n",
      "Epoch 2/10 - Loss: 1.6276\n",
      "Epoch 3/10 - Loss: 1.3915\n",
      "Epoch 4/10 - Loss: 1.0995\n",
      "Epoch 5/10 - Loss: 0.4202\n",
      "Epoch 6/10 - Loss: 0.2248\n",
      "Epoch 7/10 - Loss: 0.1098\n",
      "Epoch 8/10 - Loss: 0.0587\n",
      "Epoch 9/10 - Loss: 0.0945\n",
      "Epoch 10/10 - Loss: 0.0551\n"
     ]
    }
   ],
   "source": [
    "lstm_model = SimpleLSTM(num_nodes=len(node2idx), num_goals=len(goal2idx)).to(device)\n",
    "optimizer = torch.optim.Adam(lstm_model.parameters(), lr=1e-3)\n",
    "train_lstm_model(lstm_model, lstm_loader, optimizer, device, num_epochs=10)"
   ]
  },
  {
   "cell_type": "code",
   "execution_count": 30,
   "id": "e487096d",
   "metadata": {},
   "outputs": [
    {
     "name": "stdout",
     "output_type": "stream",
     "text": [
      "Evaluation accuracy: 0.9922\n"
     ]
    },
    {
     "data": {
      "text/plain": [
       "0.99218"
      ]
     },
     "execution_count": 30,
     "metadata": {},
     "output_type": "execute_result"
    }
   ],
   "source": [
    "evaluate_lstm_model(lstm_model, lstm_loader, device)"
   ]
  },
  {
   "cell_type": "code",
   "execution_count": 31,
   "id": "81ad57d9",
   "metadata": {},
   "outputs": [],
   "source": [
    "n_test = int(0.2 * len(agents))\n",
    "test_agent_ids = [agent.id for agent in agents[-n_test:]]"
   ]
  },
  {
   "cell_type": "code",
   "execution_count": 32,
   "id": "f818324e",
   "metadata": {},
   "outputs": [],
   "source": [
    "# Compute posteriors along paths for all test agents (LSTM)\n",
    "lstm_posteriors = {}\n",
    "for agent in agents:\n",
    "    if agent.id not in test_agent_ids:\n",
    "        continue\n",
    "    # Filter path to only include valid nodes, like BTOM code\n",
    "    valid_path = [n for n in agent.path if n in node2idx]\n",
    "    posteriors_along_path = []\n",
    "    for t in range(1, len(valid_path)+1):\n",
    "        subpath = valid_path[:t]\n",
    "        posterior = predict_goal_posterior(lstm_model, subpath, node2idx, goal2idx, device)\n",
    "        posteriors_along_path.append(posterior)\n",
    "    lstm_posteriors[agent.id] = posteriors_along_path"
   ]
  },
  {
   "cell_type": "markdown",
   "id": "741363d8",
   "metadata": {},
   "source": [
    "# GRU"
   ]
  },
  {
   "cell_type": "code",
   "execution_count": 33,
   "id": "7060aa37",
   "metadata": {},
   "outputs": [],
   "source": [
    "from real_world_src.models.gru import (\n",
    "    SimpleGRU, GRUDataset, gru_collate_fn,\n",
    "    train_gru_model, evaluate_gru_model, predict_goal_posterior_gru\n",
    ")\n",
    "from torch.utils.data import DataLoader"
   ]
  },
  {
   "cell_type": "code",
   "execution_count": 34,
   "id": "167e6622",
   "metadata": {},
   "outputs": [],
   "source": [
    "# Filter path_data to only include valid nodes (like BTOM code)\n",
    "filtered_gru_path_data = {}\n",
    "for episode, agents_dict in path_data.items():\n",
    "    filtered_gru_path_data[episode] = {}\n",
    "    for agent_id, path in agents_dict.items():\n",
    "        filtered_path = [n for n in path if n in node2idx]\n",
    "        filtered_gru_path_data[episode][agent_id] = filtered_path\n",
    "\n",
    "gru_dataset = GRUDataset(filtered_gru_path_data, goal_data, node2idx, goal2idx)\n",
    "gru_loader = DataLoader(gru_dataset, batch_size=32, shuffle=True, collate_fn=gru_collate_fn)"
   ]
  },
  {
   "cell_type": "code",
   "execution_count": 35,
   "id": "b5f0cca6",
   "metadata": {},
   "outputs": [],
   "source": [
    "if torch.backends.mps.is_available():\n",
    "    device = torch.device(\"mps\")\n",
    "elif torch.cuda.is_available():\n",
    "    device = torch.device(\"cuda\")\n",
    "else:\n",
    "    device = torch.device(\"cpu\")"
   ]
  },
  {
   "cell_type": "code",
   "execution_count": 36,
   "id": "2ea7ea1a",
   "metadata": {},
   "outputs": [
    {
     "name": "stdout",
     "output_type": "stream",
     "text": [
      "Epoch 1/10, Loss: 0.5328\n",
      "Epoch 2/10, Loss: 0.0052\n",
      "Epoch 3/10, Loss: 0.0035\n",
      "Epoch 4/10, Loss: 0.0001\n",
      "Epoch 5/10, Loss: 0.0000\n",
      "Epoch 6/10, Loss: 0.0000\n",
      "Epoch 7/10, Loss: 0.0000\n",
      "Epoch 8/10, Loss: 0.0000\n",
      "Epoch 9/10, Loss: 0.0000\n",
      "Epoch 10/10, Loss: 0.0016\n"
     ]
    }
   ],
   "source": [
    "gru_model = SimpleGRU(num_nodes=len(node2idx), num_goals=len(goal2idx)).to(device)\n",
    "optimizer = torch.optim.Adam(gru_model.parameters(), lr=1e-3)\n",
    "train_gru_model(gru_model, gru_loader, optimizer, device, num_epochs=10)"
   ]
  },
  {
   "cell_type": "code",
   "execution_count": 48,
   "id": "f961ab55",
   "metadata": {},
   "outputs": [
    {
     "name": "stdout",
     "output_type": "stream",
     "text": [
      "Evaluation accuracy: 1.0000\n"
     ]
    },
    {
     "data": {
      "text/plain": [
       "1.0"
      ]
     },
     "execution_count": 48,
     "metadata": {},
     "output_type": "execute_result"
    }
   ],
   "source": [
    "evaluate_gru_model(gru_model, gru_loader, device)"
   ]
  },
  {
   "cell_type": "code",
   "execution_count": null,
   "id": "68a145dd",
   "metadata": {},
   "outputs": [],
   "source": []
  },
  {
   "cell_type": "code",
   "execution_count": 49,
   "id": "82f61c85",
   "metadata": {},
   "outputs": [],
   "source": [
    "from tqdm import tqdm"
   ]
  },
  {
   "cell_type": "code",
   "execution_count": 39,
   "id": "c3551270",
   "metadata": {},
   "outputs": [],
   "source": [
    "# Compute posteriors along paths for all test agents(GRU)\n",
    "gru_posteriors = {}\n",
    "for agent in agents:\n",
    "    if agent.id not in test_agent_ids:\n",
    "        continue\n",
    "    # Filter path to only include valid nodes, like BTOM and LSTM code\n",
    "    valid_path = [n for n in agent.path if n in node2idx]\n",
    "    posteriors_along_path = []\n",
    "    for t in range(1, len(valid_path)+1):\n",
    "        subpath = valid_path[:t]\n",
    "        posterior = predict_goal_posterior_gru(gru_model, subpath, node2idx, goal2idx, device)\n",
    "        posteriors_along_path.append(posterior)\n",
    "    gru_posteriors[agent.id] = posteriors_along_path"
   ]
  },
  {
   "cell_type": "markdown",
   "id": "25beb616-38e6-4a7f-bee7-638ec7019dfb",
   "metadata": {},
   "source": [
    "### ToMNet"
   ]
  },
  {
   "cell_type": "code",
   "execution_count": 45,
   "id": "ebd9bfdc",
   "metadata": {},
   "outputs": [
    {
     "name": "stdout",
     "output_type": "stream",
     "text": [
      "Number of nodes in node2idx: 3170\n"
     ]
    }
   ],
   "source": [
    "all_nodes = set()\n",
    "for episode in path_data.values():\n",
    "    for path in episode.values():\n",
    "        if isinstance(path, (list, tuple, set)):\n",
    "            all_nodes.update(path)\n",
    "        else:\n",
    "            all_nodes.add(path)\n",
    "all_nodes.update(campus.G_undirected.nodes())\n",
    "all_nodes = list(all_nodes)\n",
    "\n",
    "node2idx = {n: i for i, n in enumerate(all_nodes)}\n",
    "print(f\"Number of nodes in node2idx: {len(node2idx)}\")\n",
    "\n",
    "V = len(all_nodes)\n",
    "\n",
    "# build goal2idx likewise for your goals list\n",
    "goal2idx = {g:i for i,g in enumerate(goals)}\n",
    "\n",
    "node_embeddings = np.load(\"data/node2vec_embeddings.npy\")"
   ]
  },
  {
   "cell_type": "code",
   "execution_count": 46,
   "id": "13f5b959-a8f4-4fa1-8893-5f00345c201a",
   "metadata": {},
   "outputs": [
    {
     "ename": "ImportError",
     "evalue": "cannot import name 'ToMNetDataset' from 'real_world_src.models.tomnet' (/Users/arshia/UCSD/New/Theory-of-mind/real_world_src/models/tomnet.py)",
     "output_type": "error",
     "traceback": [
      "\u001b[31m---------------------------------------------------------------------------\u001b[39m",
      "\u001b[31mImportError\u001b[39m                               Traceback (most recent call last)",
      "\u001b[36mCell\u001b[39m\u001b[36m \u001b[39m\u001b[32mIn[46]\u001b[39m\u001b[32m, line 2\u001b[39m\n\u001b[32m      1\u001b[39m \u001b[38;5;28;01mimport\u001b[39;00m\u001b[38;5;250m \u001b[39m\u001b[34;01mtorch\u001b[39;00m\n\u001b[32m----> \u001b[39m\u001b[32m2\u001b[39m \u001b[38;5;28;01mfrom\u001b[39;00m\u001b[38;5;250m \u001b[39m\u001b[34;01mreal_world_src\u001b[39;00m\u001b[34;01m.\u001b[39;00m\u001b[34;01mmodels\u001b[39;00m\u001b[34;01m.\u001b[39;00m\u001b[34;01mtomnet\u001b[39;00m\u001b[38;5;250m \u001b[39m\u001b[38;5;28;01mimport\u001b[39;00m ToMNet, ToMNetDataset, tomnet_collate_fn, infer_goal_dists, make_support_tensor\n\u001b[32m      3\u001b[39m \u001b[38;5;28;01mfrom\u001b[39;00m\u001b[38;5;250m \u001b[39m\u001b[34;01mtorch\u001b[39;00m\u001b[34;01m.\u001b[39;00m\u001b[34;01mutils\u001b[39;00m\u001b[34;01m.\u001b[39;00m\u001b[34;01mdata\u001b[39;00m\u001b[38;5;250m \u001b[39m\u001b[38;5;28;01mimport\u001b[39;00m Dataset, DataLoader\n",
      "\u001b[31mImportError\u001b[39m: cannot import name 'ToMNetDataset' from 'real_world_src.models.tomnet' (/Users/arshia/UCSD/New/Theory-of-mind/real_world_src/models/tomnet.py)"
     ]
    }
   ],
   "source": [
    "import torch\n",
    "from real_world_src.models.tomnet import ToMNet, ToMNetDataset, tomnet_collate_fn, infer_goal_dists, make_support_tensor\n",
    "from torch.utils.data import Dataset, DataLoader"
   ]
  },
  {
   "cell_type": "code",
   "execution_count": 47,
   "id": "f04f891b-00a7-4cdf-b222-fb936b610eca",
   "metadata": {},
   "outputs": [
    {
     "ename": "TypeError",
     "evalue": "ToMNet.__init__() got an unexpected keyword argument 'node_embeddings'",
     "output_type": "error",
     "traceback": [
      "\u001b[31m---------------------------------------------------------------------------\u001b[39m",
      "\u001b[31mTypeError\u001b[39m                                 Traceback (most recent call last)",
      "\u001b[36mCell\u001b[39m\u001b[36m \u001b[39m\u001b[32mIn[47]\u001b[39m\u001b[32m, line 8\u001b[39m\n\u001b[32m      5\u001b[39m T_sup = \u001b[32m75\u001b[39m\n\u001b[32m      6\u001b[39m T_q   = \u001b[32m20\u001b[39m\n\u001b[32m----> \u001b[39m\u001b[32m8\u001b[39m model = \u001b[43mToMNet\u001b[49m\u001b[43m(\u001b[49m\n\u001b[32m      9\u001b[39m \u001b[43m    \u001b[49m\u001b[43mnode_embeddings\u001b[49m\u001b[43m \u001b[49m\u001b[43m=\u001b[49m\u001b[43m \u001b[49m\u001b[43mnode_embeddings\u001b[49m\u001b[43m,\u001b[49m\n\u001b[32m     10\u001b[39m \u001b[43m    \u001b[49m\u001b[43mnum_nodes\u001b[49m\u001b[43m       \u001b[49m\u001b[43m=\u001b[49m\u001b[43m \u001b[49m\u001b[38;5;28;43mlen\u001b[39;49m\u001b[43m(\u001b[49m\u001b[43mnode2idx\u001b[49m\u001b[43m)\u001b[49m\u001b[43m,\u001b[49m\n\u001b[32m     11\u001b[39m \u001b[43m    \u001b[49m\u001b[43mnum_goals\u001b[49m\u001b[43m       \u001b[49m\u001b[43m=\u001b[49m\u001b[43m \u001b[49m\u001b[38;5;28;43mlen\u001b[39;49m\u001b[43m(\u001b[49m\u001b[43mgoal2idx\u001b[49m\u001b[43m)\u001b[49m\u001b[43m,\u001b[49m\n\u001b[32m     12\u001b[39m \u001b[43m    \u001b[49m\u001b[43mT_sup\u001b[49m\u001b[43m           \u001b[49m\u001b[43m=\u001b[49m\u001b[43m \u001b[49m\u001b[32;43m75\u001b[39;49m\n\u001b[32m     13\u001b[39m \u001b[43m)\u001b[49m.to(device)\n\u001b[32m     15\u001b[39m state_dict = torch.load(\n\u001b[32m     16\u001b[39m     \u001b[33m\"\u001b[39m\u001b[33m../models/New_Tomnet_1k_5ep.pth\u001b[39m\u001b[33m\"\u001b[39m,\n\u001b[32m     17\u001b[39m     map_location=device\n\u001b[32m     18\u001b[39m )\n\u001b[32m     19\u001b[39m model.load_state_dict(state_dict)\n",
      "\u001b[31mTypeError\u001b[39m: ToMNet.__init__() got an unexpected keyword argument 'node_embeddings'"
     ]
    }
   ],
   "source": [
    "device = 'cuda' if torch.cuda.is_available() else 'mps' if torch.backends.mps.is_available() else 'cpu'\n",
    "\n",
    "# the values you trained with:\n",
    "K     = 10\n",
    "T_sup = 75\n",
    "T_q   = 20\n",
    "\n",
    "model = ToMNet(\n",
    "    node_embeddings = node_embeddings,\n",
    "    num_nodes       = len(node2idx),\n",
    "    num_goals       = len(goal2idx),\n",
    "    T_sup           = 75\n",
    ").to(device)\n",
    "\n",
    "state_dict = torch.load(\n",
    "    \"../models/New_Tomnet_1k_5ep.pth\",\n",
    "    map_location=device\n",
    ")\n",
    "model.load_state_dict(state_dict)\n",
    "model.eval()"
   ]
  },
  {
   "cell_type": "code",
   "execution_count": 70,
   "id": "da03077b-a04b-45df-a09a-62aa031cc2dd",
   "metadata": {},
   "outputs": [],
   "source": [
    "# build node2idx so that every node in campus.G_undirected maps to 0…V−1\n",
    "all_nodes = list(campus.G_undirected.nodes())\n",
    "node2idx  = {n:i for i,n in enumerate(all_nodes)}\n",
    "V = len(all_nodes)\n",
    "\n",
    "# build goal2idx likewise for your goals list\n",
    "goal2idx = {g:i for i,g in enumerate(goals)}\n",
    "G = len(goals)"
   ]
  },
  {
   "cell_type": "code",
   "execution_count": 71,
   "id": "724de1a5-dd38-427a-b13f-a839d03d6b51",
   "metadata": {},
   "outputs": [],
   "source": [
    "train_agent_ids = list(range(0, 70))\n",
    "test_agent_ids = list(range(70, 100))"
   ]
  },
  {
   "cell_type": "code",
   "execution_count": 72,
   "id": "a278514a-0a5c-4c70-86bb-6b18ea2a3bc9",
   "metadata": {},
   "outputs": [],
   "source": [
    "def get_posterior_format(dists):\n",
    "    idx2goal = { idx: goal for goal, idx in goal2idx.items() }\n",
    "    goal_posterior = [ {idx2goal[i]: float(p) for i, p in enumerate(prob_row) } for prob_row in dists]\n",
    "    return goal_posterior"
   ]
  },
  {
   "cell_type": "code",
   "execution_count": 73,
   "id": "53878c86",
   "metadata": {},
   "outputs": [],
   "source": [
    "def infer_single_path_goal_dist(\n",
    "    model, agent_id, test_ep, agent_path,\n",
    "    path_data, node2idx, goal2idx,\n",
    "    K, T_sup, T_q,\n",
    "    device='cuda'\n",
    "):\n",
    "    model.eval()\n",
    "    # 1) build support once\n",
    "    sup     = make_support_tensor(agent_id, test_ep, path_data, node2idx, K, T_sup)\n",
    "    sup     = sup.to(device).unsqueeze(0)     # add batch‐dim → [1,K,T_sup]\n",
    "\n",
    "    raw_seq = agent_path\n",
    "    idxs    = [node2idx[n] for n in raw_seq]\n",
    "    N       = len(idxs)\n",
    "\n",
    "    goal_dists = []   # will be list of length N each [num_goals]\n",
    "    with torch.no_grad():\n",
    "        for t in range(1, N):\n",
    "            # build prefix up to t (we treat t=0 as “no steps seen”)\n",
    "            prefix_len = min(t, T_q)\n",
    "            # pad prefix to T_q\n",
    "            prefix = torch.zeros(T_q, dtype=torch.long)\n",
    "            if prefix_len>0:\n",
    "                prefix[:prefix_len] = torch.tensor(idxs[:prefix_len], dtype=torch.long)\n",
    "            # move to device and batch‐dim\n",
    "            prefix     = prefix.to(device).unsqueeze(0)       # [1,T_q]\n",
    "            prefix_len = torch.tensor([prefix_len], dtype=torch.long, device=device)\n",
    "\n",
    "            # forward through ToMNet\n",
    "            _, goal_logits = model(sup, prefix, prefix_len)   # [1, num_goals]\n",
    "            p_goal = F.softmax(goal_logits, dim=-1)[0]        # remove batch‐dim → [num_goals]\n",
    "\n",
    "            goal_dists.append(p_goal.cpu().numpy())\n",
    "\n",
    "    return goal_dists   # shape (N × num_goals) array"
   ]
  },
  {
   "cell_type": "code",
   "execution_count": 74,
   "id": "55b54143-a67d-44b9-9161-4bcd2f46cbc6",
   "metadata": {},
   "outputs": [],
   "source": [
    "tomnet_posteriors = {}\n",
    "episode=0\n",
    "\n",
    "def safe_make_support_tensor(agent_id, test_ep, path_data, node2idx, K, T_sup):\n",
    "    # This function wraps make_support_tensor and filters out nodes not in node2idx\n",
    "    import torch\n",
    "    support_eps = list(path_data.keys())[:K]\n",
    "    sup_tensor = torch.zeros(K, T_sup, dtype=torch.long)\n",
    "    for k, ep in enumerate(support_eps):\n",
    "        raw = path_data[ep][agent_id]\n",
    "        idxs = [node2idx[n] for n in raw if n in node2idx]\n",
    "        L = min(len(idxs), T_sup)\n",
    "        sup_tensor[k, :L] = torch.tensor(idxs[:L], dtype=torch.long)\n",
    "    return sup_tensor\n",
    "\n",
    "for agent in agents:\n",
    "    if agent.id not in test_agent_ids:\n",
    "        continue\n",
    "    valid_path = [n for n in agent.path if n in node2idx]\n",
    "    if len(valid_path) < 2:\n",
    "        print(f\"Skipping agent {agent.id}: not enough valid nodes in path for ToMNet.\")\n",
    "        continue\n",
    "    # Use safe_make_support_tensor instead of make_support_tensor\n",
    "    def patched_infer_single_path_goal_dist(model, agent_id, test_ep, agent_path, path_data, node2idx, goal2idx, K, T_sup, T_q, device='cuda'):\n",
    "        model.eval()\n",
    "        sup = safe_make_support_tensor(agent_id, test_ep, path_data, node2idx, K, T_sup)\n",
    "        sup = sup.to(device).unsqueeze(0)\n",
    "        raw_seq = agent_path\n",
    "        idxs = [node2idx[n] for n in raw_seq if n in node2idx]\n",
    "        N = len(idxs)\n",
    "        import torch.nn.functional as F\n",
    "        goal_dists = []\n",
    "        with torch.no_grad():\n",
    "            for t in range(1, N):\n",
    "                prefix_len = min(t, T_q)\n",
    "                prefix = torch.zeros(T_q, dtype=torch.long)\n",
    "                if prefix_len > 0:\n",
    "                    prefix[:prefix_len] = torch.tensor(idxs[:prefix_len], dtype=torch.long)\n",
    "                prefix = prefix.to(device).unsqueeze(0)\n",
    "                prefix_len_tensor = torch.tensor([prefix_len], dtype=torch.long, device=device)\n",
    "                next_logits, goal_logits, mu_char, logvar_char, mu_mental, logvar_mental = model(sup, prefix, prefix_len_tensor)\n",
    "                p_goal = F.softmax(goal_logits, dim=-1)[0]\n",
    "                goal_dists.append(p_goal.cpu().numpy())\n",
    "        return goal_dists\n",
    "\n",
    "    dists = patched_infer_single_path_goal_dist(model, agent.id, episode, valid_path, path_data, node2idx, goal2idx, K=10, T_sup=75, T_q=20, device=device)\n",
    "    tomnet_posteriors[agent.id] = get_posterior_format(dists)"
   ]
  },
  {
   "cell_type": "code",
   "execution_count": null,
   "id": "3ac7f9c6-d24a-49f8-a9e5-9419f6e2c6b7",
   "metadata": {},
   "outputs": [],
   "source": []
  },
  {
   "cell_type": "markdown",
   "id": "185bef46-c250-4fe5-8432-3f6da7c3a9be",
   "metadata": {},
   "source": [
    "## Step 4: Calculate Brier Score  \n",
    "We will calculate the brier score for each 10% portion of the path (same as before), but only leading up to the false goal. A model that does not learn historical trends will have a higher brier score since it will be more confident in the false goal. "
   ]
  },
  {
   "cell_type": "code",
   "execution_count": 75,
   "id": "b7423c5e-672d-45e7-949d-2ca65062888f",
   "metadata": {},
   "outputs": [],
   "source": [
    "from real_world_src.utils.metrics import brier_along_path, accuracy_along_path, fooled_along_path"
   ]
  },
  {
   "cell_type": "code",
   "execution_count": 83,
   "id": "12528472",
   "metadata": {},
   "outputs": [],
   "source": [
    "btom_scores = []\n",
    "for agent in agents:\n",
    "    valid_path = [n for n in agent.path if n in btom.campus.G.nodes]\n",
    "    btom_scores.append(brier_along_path(valid_path, \n",
    "                              agent.goal_node, \n",
    "                              posteriors_data[agent.id], \n",
    "                              goals))\n",
    "\n",
    "ext_scores = []\n",
    "for agent in agents:\n",
    "    valid_path = [n for n in agent.path if n in ext_btom.campus.G.nodes]\n",
    "    ext_scores.append(brier_along_path(valid_path, \n",
    "                              agent.goal_node, \n",
    "                              ext_posteriors_data[agent.id], \n",
    "                              goals))\n",
    "\n",
    "tomnet_scores = []\n",
    "for agent in agents:\n",
    "    if agent.id not in test_agent_ids:\n",
    "        continue\n",
    "    valid_path = [n for n in agent.path if n in node2idx]\n",
    "    tomnet_scores.append(brier_along_path(valid_path, \n",
    "                              agent.goal_node, \n",
    "                              tomnet_posteriors[agent.id], \n",
    "                              goals))\n",
    "    \n",
    "lstm_scores = []\n",
    "for agent in agents:\n",
    "    if agent.id not in test_agent_ids:\n",
    "        continue\n",
    "    if agent.id not in lstm_posteriors:\n",
    "        continue  # Skip if no posterior for this agent\n",
    "    valid_path = [n for n in agent.path if n in node2idx]\n",
    "    lstm_scores.append(brier_along_path(valid_path, \n",
    "                              agent.goal_node, \n",
    "                              lstm_posteriors[agent.id], \n",
    "                              goals))\n",
    "\n",
    "gru_scores = []\n",
    "for agent in agents:\n",
    "    if agent.id not in test_agent_ids:\n",
    "        continue\n",
    "    if agent.id not in gru_posteriors:\n",
    "        continue  # Skip if no posterior for this agent\n",
    "    valid_path = [n for n in agent.path if n in node2idx]\n",
    "    gru_scores.append(brier_along_path(valid_path, \n",
    "                              agent.goal_node, \n",
    "                              gru_posteriors[agent.id], \n",
    "                              goals))"
   ]
  },
  {
   "cell_type": "code",
   "execution_count": 82,
   "id": "41dac4d5-d267-498e-9748-b29ea97abafe",
   "metadata": {},
   "outputs": [
    {
     "data": {
      "text/plain": [
       "'\\nbtom_scores = []\\nfor agent in agents:\\n    path = agent.path\\n    btom_scores.append(brier_along_path(path, \\n                              agent.goal_node, \\n                              posteriors_data[agent.id], \\n                              goals))\\n\\next_scores = []\\nfor agent in agents:\\n    path = agent.path\\n    ext_scores.append(brier_along_path(path, \\n                              agent.goal_node, \\n                              ext_posteriors_data[agent.id], \\n                              goals))\\n\\ntomnet_scores = []\\nfor agent in agents:\\n    if agent.id not in test_agent_ids:\\n        continue\\n    path = agent.path\\n    tomnet_scores.append(brier_along_path(path, \\n                              agent.goal_node, \\n                              tomnet_posteriors[agent.id], \\n                              goals))\\n\\nlstm_scores = []\\nfor agent in agents:\\n    if agent.id not in test_agent_ids:\\n        continue\\n    path = agent.path\\n    lstm_scores.append(brier_along_path(path, \\n                              agent.goal_node, \\n                              lstm_posteriors[agent.id], \\n                              goals))\\n\\n\\ngru_scores = []\\nfor agent in agents:\\n    if agent.id not in test_agent_ids:\\n        continue\\n    path = agent.path\\n    gru_scores.append(brier_along_path(path, \\n                              agent.goal_node, \\n                              gru_posteriors[agent.id], \\n                              goals))\\n                              '"
      ]
     },
     "execution_count": 82,
     "metadata": {},
     "output_type": "execute_result"
    }
   ],
   "source": [
    "\"\"\"\n",
    "btom_scores = []\n",
    "for agent in agents:\n",
    "    path = agent.path\n",
    "    btom_scores.append(brier_along_path(path, \n",
    "                              agent.goal_node, \n",
    "                              posteriors_data[agent.id], \n",
    "                              goals))\n",
    "\n",
    "ext_scores = []\n",
    "for agent in agents:\n",
    "    path = agent.path\n",
    "    ext_scores.append(brier_along_path(path, \n",
    "                              agent.goal_node, \n",
    "                              ext_posteriors_data[agent.id], \n",
    "                              goals))\n",
    "\n",
    "tomnet_scores = []\n",
    "for agent in agents:\n",
    "    if agent.id not in test_agent_ids:\n",
    "        continue\n",
    "    path = agent.path\n",
    "    tomnet_scores.append(brier_along_path(path, \n",
    "                              agent.goal_node, \n",
    "                              tomnet_posteriors[agent.id], \n",
    "                              goals))\n",
    "    \n",
    "lstm_scores = []\n",
    "for agent in agents:\n",
    "    if agent.id not in test_agent_ids:\n",
    "        continue\n",
    "    path = agent.path\n",
    "    lstm_scores.append(brier_along_path(path, \n",
    "                              agent.goal_node, \n",
    "                              lstm_posteriors[agent.id], \n",
    "                              goals))\n",
    "\n",
    "    \n",
    "gru_scores = []\n",
    "for agent in agents:\n",
    "    if agent.id not in test_agent_ids:\n",
    "        continue\n",
    "    path = agent.path\n",
    "    gru_scores.append(brier_along_path(path, \n",
    "                              agent.goal_node, \n",
    "                              gru_posteriors[agent.id], \n",
    "                              goals))\n",
    "                              \"\"\""
   ]
  },
  {
   "cell_type": "code",
   "execution_count": null,
   "id": "afefe114-5593-4f94-9b1b-9cbafcb7d885",
   "metadata": {},
   "outputs": [],
   "source": []
  },
  {
   "cell_type": "code",
   "execution_count": 84,
   "id": "ba72de8f-78a0-43b2-b703-33ed8ae97856",
   "metadata": {},
   "outputs": [
    {
     "data": {
      "image/png": "[encoded data removed]",
      "text/plain": [
       "<Figure size 1000x600 with 1 Axes>"
      ]
     },
     "metadata": {},
     "output_type": "display_data"
    }
   ],
   "source": [
    "import numpy as np\n",
    "import matplotlib.pyplot as plt\n",
    "\n",
    "# Suppose `scores` and `ext_scores` are your (N × 11) arrays:\n",
    "arr      = np.array(btom_scores)      # shape (N, 11)\n",
    "ext_arr  = np.array(ext_scores)  # same shape\n",
    "tomnet_arr = np.array(tomnet_scores)\n",
    "lstm_arr= np.array(lstm_scores)\n",
    "gru_arr= np.array(gru_scores)\n",
    "props = np.linspace(0, 1, arr.shape[1])\n",
    "\n",
    "\n",
    "# Compute means \n",
    "mean_b = arr.mean(axis=0)\n",
    "mean_e = ext_arr.mean(axis=0)\n",
    "mean_tomnet = tomnet_arr.mean(axis=0)\n",
    "mean_lstm = lstm_arr.mean(axis=0)\n",
    "mean_gru = gru_arr.mean(axis=0)\n",
    "\n",
    "\n",
    "plt.figure(figsize=(10,6))\n",
    "\n",
    "# BToM curve\n",
    "plt.plot(props, mean_b, '-o', color='C0', label='BToM mean')\n",
    "# Extended BToM curve\n",
    "plt.plot(props, mean_e, '-s', color='C1', label='Ext-BToM mean')\n",
    "# Tomnet curve\n",
    "plt.plot(props, mean_tomnet, '-o', color='green', label='ToMNet')\n",
    "#LSTM curve\n",
    "plt.plot(props, mean_lstm, '-^', color='purple', label='LSTM')\n",
    "#GRU curve\n",
    "plt.plot(props, mean_gru, '-d', color='orange', label='GRU')\n",
    "\n",
    "\n",
    "plt.xlabel('Proportion of Path Observed')\n",
    "plt.ylabel('Brier Score')\n",
    "plt.title('Brier Score vs. Path Fraction (with 95% CI)')\n",
    "plt.xticks(props)\n",
    "plt.ylim(0, 1.7)\n",
    "plt.grid(alpha=0.3)\n",
    "plt.legend(loc='upper right')\n",
    "plt.tight_layout()\n",
    "plt.show()"
   ]
  },
  {
   "cell_type": "code",
   "execution_count": 86,
   "id": "4607f795-e74e-4251-9607-9908031d17c0",
   "metadata": {},
   "outputs": [],
   "source": [
    "fooled_scores = []\n",
    "for agent in agents:\n",
    "    min_goal_idx = np.argmin(agent.goal_distribution)\n",
    "    min_goal = goals[min_goal_idx]\n",
    "    path = agent.path\n",
    "    if min_goal not in path:\n",
    "        continue  # Skip if min_goal is not in the path\n",
    "    false_goal_idx = path.index(min_goal)\n",
    "    path = path[:false_goal_idx + 1]\n",
    "    fooled_scores.append(fooled_along_path(path, \n",
    "                                agent.goal_node,\n",
    "                                min_goal,\n",
    "                                posteriors_data[agent.id],\n",
    "                                goals))\n",
    "\n",
    "ext_fooled_scores = []\n",
    "for agent in agents:\n",
    "    min_goal_idx = np.argmin(agent.goal_distribution)\n",
    "    min_goal = goals[min_goal_idx]\n",
    "    path = agent.path\n",
    "    if min_goal not in path:\n",
    "        continue\n",
    "    false_goal_idx = path.index(min_goal)\n",
    "    path = path[:false_goal_idx + 1]\n",
    "    ext_fooled_scores.append(fooled_along_path(path, \n",
    "                                agent.goal_node,\n",
    "                                min_goal,\n",
    "                                ext_posteriors_data[agent.id],\n",
    "                                goals))\n",
    "\n",
    "tomnet_fooled_scores = []\n",
    "for agent in agents:\n",
    "    if agent.id not in test_agent_ids:\n",
    "        continue\n",
    "    min_goal_idx = np.argmin(agent.goal_distribution)\n",
    "    min_goal = goals[min_goal_idx]\n",
    "    path = agent.path\n",
    "    if min_goal not in path or agent.id not in tomnet_posteriors:\n",
    "        continue\n",
    "    false_goal_idx = path.index(min_goal)\n",
    "    path = path[:false_goal_idx + 1]\n",
    "    tomnet_fooled_scores.append(fooled_along_path(path, \n",
    "                                agent.goal_node,\n",
    "                                min_goal,\n",
    "                                tomnet_posteriors[agent.id],\n",
    "                                goals))\n",
    "\n",
    "lstm_fooled_scores = []\n",
    "for agent in agents:\n",
    "    if agent.id not in test_agent_ids:\n",
    "        continue\n",
    "    min_goal_idx = np.argmin(agent.goal_distribution)\n",
    "    min_goal = goals[min_goal_idx]\n",
    "    path = agent.path\n",
    "    if min_goal not in path or agent.id not in lstm_posteriors:\n",
    "        continue\n",
    "    false_goal_idx = path.index(min_goal)\n",
    "    path = path[:false_goal_idx + 1]\n",
    "    lstm_fooled_scores.append(fooled_along_path(path, \n",
    "                                agent.goal_node,\n",
    "                                min_goal,\n",
    "                                lstm_posteriors[agent.id],\n",
    "                                goals))\n",
    "\n",
    "gru_fooled_scores = []\n",
    "for agent in agents:\n",
    "    if agent.id not in test_agent_ids:\n",
    "        continue\n",
    "    min_goal_idx = np.argmin(agent.goal_distribution)\n",
    "    min_goal = goals[min_goal_idx]\n",
    "    path = agent.path\n",
    "    if min_goal not in path or agent.id not in gru_posteriors:\n",
    "        continue\n",
    "    false_goal_idx = path.index(min_goal)\n",
    "    path = path[:false_goal_idx + 1]\n",
    "    gru_fooled_scores.append(fooled_along_path(path, \n",
    "                                agent.goal_node,\n",
    "                                min_goal,\n",
    "                                gru_posteriors[agent.id],\n",
    "                                goals))"
   ]
  },
  {
   "cell_type": "code",
   "execution_count": 87,
   "id": "8c960a85-3ac3-4437-a945-7923fdb2229d",
   "metadata": {},
   "outputs": [
    {
     "data": {
      "text/plain": [
       "'\\nfooled_scores = []\\nfor agent in agents:\\n    min_goal_idx = np.argmin(agent.goal_distribution)\\n    min_goal = goals[min_goal_idx]\\n    # Select the path proportion \\n    path = agent.path\\n    false_goal_idx = path.index(min_goal)\\n    path = path[:false_goal_idx + 1]\\n\\n    fooled_scores.append(fooled_along_path(path, \\n                                    agent.goal_node,\\n                                    min_goal,\\n                                    posteriors_data[agent.id],\\n                                    goals))\\n\\next_fooled_scores = []\\nfor agent in agents:\\n    min_goal_idx = np.argmin(agent.goal_distribution)\\n    min_goal = goals[min_goal_idx]\\n    # Select the path proportion \\n    path = agent.path\\n    false_goal_idx = path.index(min_goal)\\n    path = path[:false_goal_idx + 1]\\n\\n    ext_fooled_scores.append(fooled_along_path(path, \\n                                    agent.goal_node,\\n                                    min_goal,\\n                                    ext_posteriors_data[agent.id],\\n                                    goals))\\n\\ntomnet_fooled_scores = []\\nfor agent in agents:\\n    if agent.id not in test_agent_ids:\\n        continue\\n    min_goal_idx = np.argmin(agent.goal_distribution)\\n    min_goal = goals[min_goal_idx]\\n    # Select the path proportion \\n    path = agent.path\\n    false_goal_idx = path.index(min_goal)\\n    path = path[:false_goal_idx + 1]\\n\\n    tomnet_fooled_scores.append(fooled_along_path(path, \\n                                    agent.goal_node,\\n                                    min_goal,\\n                                    tomnet_posteriors[agent.id],\\n                                    goals))\\n\\nlstm_fooled_scores = []\\nfor agent in agents:\\n    if agent.id not in test_agent_ids:\\n        continue\\n    min_goal_idx = np.argmin(agent.goal_distribution)\\n    min_goal = goals[min_goal_idx]\\n    # Select the path proportion \\n    path = agent.path\\n    false_goal_idx = path.index(min_goal)\\n    path = path[:false_goal_idx + 1]\\n\\n    lstm_fooled_scores.append(fooled_along_path(path, \\n                                    agent.goal_node,\\n                                    min_goal,\\n                                    lstm_posteriors[agent.id],\\n                                    goals))\\ngru_fooled_scores = []\\nfor agent in agents:\\n    if agent.id not in test_agent_ids:\\n        continue\\n    min_goal_idx = np.argmin(agent.goal_distribution)\\n    min_goal = goals[min_goal_idx]\\n    # Select the path proportion \\n    path = agent.path\\n    false_goal_idx = path.index(min_goal)\\n    path = path[:false_goal_idx + 1]\\n\\n    gru_fooled_scores.append(fooled_along_path(path, \\n                                    agent.goal_node,\\n                                    min_goal,\\n                                    gru_posteriors[agent.id],\\n                                    goals))\\n    '"
      ]
     },
     "execution_count": 87,
     "metadata": {},
     "output_type": "execute_result"
    }
   ],
   "source": [
    "\"\"\"\n",
    "fooled_scores = []\n",
    "for agent in agents:\n",
    "    min_goal_idx = np.argmin(agent.goal_distribution)\n",
    "    min_goal = goals[min_goal_idx]\n",
    "    # Select the path proportion \n",
    "    path = agent.path\n",
    "    false_goal_idx = path.index(min_goal)\n",
    "    path = path[:false_goal_idx + 1]\n",
    "    \n",
    "    fooled_scores.append(fooled_along_path(path, \n",
    "                                    agent.goal_node,\n",
    "                                    min_goal,\n",
    "                                    posteriors_data[agent.id],\n",
    "                                    goals))\n",
    "\n",
    "ext_fooled_scores = []\n",
    "for agent in agents:\n",
    "    min_goal_idx = np.argmin(agent.goal_distribution)\n",
    "    min_goal = goals[min_goal_idx]\n",
    "    # Select the path proportion \n",
    "    path = agent.path\n",
    "    false_goal_idx = path.index(min_goal)\n",
    "    path = path[:false_goal_idx + 1]\n",
    "    \n",
    "    ext_fooled_scores.append(fooled_along_path(path, \n",
    "                                    agent.goal_node,\n",
    "                                    min_goal,\n",
    "                                    ext_posteriors_data[agent.id],\n",
    "                                    goals))\n",
    "\n",
    "tomnet_fooled_scores = []\n",
    "for agent in agents:\n",
    "    if agent.id not in test_agent_ids:\n",
    "        continue\n",
    "    min_goal_idx = np.argmin(agent.goal_distribution)\n",
    "    min_goal = goals[min_goal_idx]\n",
    "    # Select the path proportion \n",
    "    path = agent.path\n",
    "    false_goal_idx = path.index(min_goal)\n",
    "    path = path[:false_goal_idx + 1]\n",
    "    \n",
    "    tomnet_fooled_scores.append(fooled_along_path(path, \n",
    "                                    agent.goal_node,\n",
    "                                    min_goal,\n",
    "                                    tomnet_posteriors[agent.id],\n",
    "                                    goals))\n",
    "    \n",
    "lstm_fooled_scores = []\n",
    "for agent in agents:\n",
    "    if agent.id not in test_agent_ids:\n",
    "        continue\n",
    "    min_goal_idx = np.argmin(agent.goal_distribution)\n",
    "    min_goal = goals[min_goal_idx]\n",
    "    # Select the path proportion \n",
    "    path = agent.path\n",
    "    false_goal_idx = path.index(min_goal)\n",
    "    path = path[:false_goal_idx + 1]\n",
    "    \n",
    "    lstm_fooled_scores.append(fooled_along_path(path, \n",
    "                                    agent.goal_node,\n",
    "                                    min_goal,\n",
    "                                    lstm_posteriors[agent.id],\n",
    "                                    goals))\n",
    "gru_fooled_scores = []\n",
    "for agent in agents:\n",
    "    if agent.id not in test_agent_ids:\n",
    "        continue\n",
    "    min_goal_idx = np.argmin(agent.goal_distribution)\n",
    "    min_goal = goals[min_goal_idx]\n",
    "    # Select the path proportion \n",
    "    path = agent.path\n",
    "    false_goal_idx = path.index(min_goal)\n",
    "    path = path[:false_goal_idx + 1]\n",
    "    \n",
    "    gru_fooled_scores.append(fooled_along_path(path, \n",
    "                                    agent.goal_node,\n",
    "                                    min_goal,\n",
    "                                    gru_posteriors[agent.id],\n",
    "                                    goals))\n",
    "    \"\"\""
   ]
  },
  {
   "cell_type": "code",
   "execution_count": 88,
   "id": "c3ef326e-0b19-4e9c-abb6-ac9b16b85130",
   "metadata": {},
   "outputs": [
    {
     "data": {
      "image/png": "[encoded data removed]",
      "text/plain": [
       "<Figure size 1000x600 with 1 Axes>"
      ]
     },
     "metadata": {},
     "output_type": "display_data"
    }
   ],
   "source": [
    "import numpy as np\n",
    "import matplotlib.pyplot as plt\n",
    "\n",
    "# your two (n_trajectories × n_fractions) arrays:\n",
    "arr      = np.array(fooled_scores)      # original BToM\n",
    "ext_arr  = np.array(ext_fooled_scores)  # extended BToM\n",
    "tomnet_arr = np.array(tomnet_fooled_scores)\n",
    "lstm_arr= np.array(lstm_fooled_scores)\n",
    "gru_arr= np.array(gru_fooled_scores)\n",
    "\n",
    "props = np.linspace(0, 1, arr.shape[1])\n",
    "\n",
    "# --- original BToM stats ---\n",
    "mean_b = arr.mean(axis=0)\n",
    "\n",
    "# --- extended BToM stats ---\n",
    "mean_e = ext_arr.mean(axis=0)\n",
    "\n",
    "mean_tomnet = tomnet_arr.mean(axis=0)\n",
    "mean_lstm = lstm_arr.mean(axis=0)\n",
    "mean_gru = gru_arr.mean(axis=0)\n",
    "# Plotting the results\n",
    "\n",
    "\n",
    "plt.figure(figsize=(10,6))\n",
    "\n",
    "# original BToM\n",
    "plt.plot(props, mean_b, '-o', color='C0', label='BToM mean')\n",
    "\n",
    "# extended BToM\n",
    "plt.plot(props, mean_e, '-s', color='C1', label='Ext‐BToM mean')\n",
    "# Tomnet curve\n",
    "plt.plot(props, mean_tomnet, '-o', color='green', label='ToMNet')\n",
    "#LSTM curve\n",
    "plt.plot(props, mean_lstm, '-^', color='purple', label='LSTM')\n",
    "#GRU curve\n",
    "plt.plot(props, mean_gru, '-d', color='orange', label='GRU')\n",
    "\n",
    "\n",
    "\n",
    "plt.xlabel('Proportion of Path Observed Before False Goal')\n",
    "plt.ylabel('P(false goal)')\n",
    "plt.title('Model False Goal Confidence')\n",
    "plt.xticks(props)\n",
    "plt.ylim(0, 0.5)\n",
    "plt.grid(alpha=0.3)\n",
    "plt.legend(loc='upper right')\n",
    "plt.tight_layout()\n",
    "plt.show()"
   ]
  },
  {
   "cell_type": "code",
   "execution_count": null,
   "id": "d1724180-4cc1-4a52-a30a-fbe9022ef3c7",
   "metadata": {},
   "outputs": [],
   "source": []
  }
 ],
 "metadata": {
  "kernelspec": {
   "display_name": "tom",
   "language": "python",
   "name": "python3"
  },
  "language_info": {
   "codemirror_mode": {
    "name": "ipython",
    "version": 3
   },
   "file_extension": ".py",
   "mimetype": "text/x-python",
   "name": "python",
   "nbconvert_exporter": "python",
   "pygments_lexer": "ipython3",
   "version": "3.12.11"
  }
 },
 "nbformat": 4,
 "nbformat_minor": 5
}
