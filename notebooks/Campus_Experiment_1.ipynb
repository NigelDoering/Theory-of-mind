{
 "cells": [
  {
   "cell_type": "markdown",
   "id": "7f935291-63a8-4edd-b40d-6bd1b162c6a0",
   "metadata": {},
   "source": [
    "# Experiment 1: Not sure what to call this (False Goal Test?)\n",
    "The different ToM models may struggle with learning which goals are relevant to which agents. For example, an agent wants to go to point B. The path the agent takes will go by point A, but historically, this agent does not visit point A. How well do models learn goal relevance for agents?  \n",
    "\n",
    "We can test this by designing specific paths for the agents. We will choose the highest probability goal for each agent and the lowest probability goal. Then, we will for the agent to start from a position before the low probability goal such that this goal has to be passed on the way to the true goal. As the agent approaches the false goal, are the models fooled with high certainty that this is the correct goal driving the agent?  \n",
    "\n",
    "Steps:\n",
    "1. Load agents and data from experiment 0\n",
    "2. Choose the starting and goal nodes for each agent\n",
    "3. Run an experiment for each agent (100) using the models trained on experiment 0 data.\n",
    "4. Visualize the performance"
   ]
  },
  {
   "cell_type": "code",
   "execution_count": 1,
   "id": "3c66a593",
   "metadata": {},
   "outputs": [],
   "source": [
    "%load_ext autoreload\n",
    "%autoreload 2"
   ]
  },
  {
   "cell_type": "code",
   "execution_count": 2,
   "id": "46c597f4-f8e5-48bd-8dc1-80bff92f173a",
   "metadata": {},
   "outputs": [],
   "source": [
    "import numpy as np\n",
    "import pymc\n",
    "import networkx as nx\n",
    "import matplotlib.pyplot as plt\n",
    "import random\n",
    "import json\n",
    "import torch"
   ]
  },
  {
   "cell_type": "code",
   "execution_count": 3,
   "id": "523d6981-e37f-499e-b4ee-6f2483e767f5",
   "metadata": {},
   "outputs": [],
   "source": [
    "import sys\n",
    "import os\n",
    "import osmnx as ox\n",
    "\n",
    "# Adjust this path as needed to point to your project root\n",
    "sys.path.append(os.path.abspath(\"..\"))"
   ]
  },
  {
   "cell_type": "code",
   "execution_count": 4,
   "id": "826264e9-c523-42ba-a546-cc1c0fd1377f",
   "metadata": {},
   "outputs": [],
   "source": [
    "from real_world_src.environment.campus_env import CampusEnvironment\n",
    "from real_world_src.agents.agent_factory import AgentFactory\n",
    "from real_world_src.agents.agent_species import ShortestPathAgent\n",
    "from real_world_src.simulation.simulator import Simulator\n",
    "#from real_world_src.simulation.experiment_1 import Simulator\n",
    "\n",
    "from real_world_src.utils.run_manager import RunManager\n",
    "from real_world_src.utils.config import VISUAL_CONFIG\n",
    "from real_world_src.utils.config import get_agent_color"
   ]
  },
  {
   "cell_type": "code",
   "execution_count": null,
   "id": "6a81d327-e925-42bd-b371-7b9757d636d5",
   "metadata": {},
   "outputs": [],
   "source": []
  },
  {
   "cell_type": "code",
   "execution_count": null,
   "id": "4cd9dab1-fcd4-401f-a9e2-4351d82b324c",
   "metadata": {},
   "outputs": [],
   "source": []
  },
  {
   "cell_type": "code",
   "execution_count": 5,
   "id": "ab32f21d-ea07-45d5-aab9-7f519dd8dc5e",
   "metadata": {},
   "outputs": [],
   "source": [
    "def visualize_map(campus,\n",
    "                  path=None,\n",
    "                  max_goal=None,\n",
    "                  min_goal=None, \n",
    "                  start_goal=None,\n",
    "                  ax=None):\n",
    "    \"\"\"\n",
    "    Visualize the campus map, plus optional trajectory, start, waypoint, and goal nodes.\n",
    "    \n",
    "    Arguments:\n",
    "      campus         an object with:\n",
    "                        - campus.G           : a networkx graph\n",
    "                        - campus.node_coords : dict[node] -> (x, y) coordinates\n",
    "                        - campus.buildings   : a GeoDataFrame of building footprints (or None)\n",
    "      path           list of node‐IDs, the agent’s trajectory to draw (in order)\n",
    "      start_nodes    list of node‐IDs to mark as start(s)\n",
    "      waypoint       single node‐ID to mark as an intermediate waypoint\n",
    "      goal_nodes     list of node‐IDs to mark as goal(s)\n",
    "      ax             optional matplotlib Axes onto which to draw\n",
    "      \n",
    "    Returns:\n",
    "      fig, ax        the figure & axis\n",
    "    \"\"\"\n",
    "    # 1) draw the base map\n",
    "    if ax is None:\n",
    "        fig, ax = ox.plot_graph(campus.G,\n",
    "                                figsize=(15,15),\n",
    "                                node_size=5,\n",
    "                                edge_color=\"#999999\",\n",
    "                                show=False,\n",
    "                                close=False)\n",
    "    else:\n",
    "        fig = ax.figure\n",
    "        ox.plot_graph(campus.G,\n",
    "                      ax=ax,\n",
    "                      node_size=5,\n",
    "                      edge_color=\"#999999\",\n",
    "                      show=False)\n",
    "    \n",
    "    # 2) overlay buildings if you have them\n",
    "    if getattr(campus, \"buildings\", None) is not None:\n",
    "        campus.buildings.plot(ax=ax,\n",
    "                              color=\"#bbbbbb\",\n",
    "                              alpha=0.7,\n",
    "                              edgecolor=\"#444444\")\n",
    "    \n",
    "    # 3) draw the agent’s path\n",
    "    if path is not None and len(path) > 1:\n",
    "        coords = [campus.node_coords[n] for n in path]\n",
    "        xs, ys = zip(*coords)\n",
    "        ax.plot(xs, ys,\n",
    "                linestyle='-',\n",
    "                linewidth=3.0,\n",
    "                color='lightblue',\n",
    "                alpha=0.8,\n",
    "                zorder=3,\n",
    "                label=\"Trajectory\")\n",
    "        # and mark the actual visited nodes\n",
    "        ax.scatter(xs, ys,\n",
    "                   c='C0',\n",
    "                   s=30,\n",
    "                   zorder=4)\n",
    "    \n",
    "    # 6) mark goal nodes\n",
    "    if max_goal:\n",
    "        goal_coords = [campus.node_coords[max_goal]]\n",
    "        xs, ys = zip(*goal_coords)\n",
    "        ax.scatter(xs, ys,\n",
    "                   c=\"yellow\",\n",
    "                   s=160,\n",
    "                   marker=\"*\",\n",
    "                   zorder=5,\n",
    "                   label=\"Max Goal\")\n",
    "\n",
    "    if min_goal:\n",
    "        goal_coords = [campus.node_coords[min_goal]]\n",
    "        xs, ys = zip(*goal_coords)\n",
    "        ax.scatter(xs, ys,\n",
    "                   c=\"red\",\n",
    "                   s=160,\n",
    "                   marker=\"*\",\n",
    "                   zorder=5,\n",
    "                   label=\"Min Goal\")\n",
    "\n",
    "    if start_goal:\n",
    "        goal_coords = [campus.node_coords[start_goal]]\n",
    "        xs, ys = zip(*goal_coords)\n",
    "        ax.scatter(xs, ys,\n",
    "                   c=\"lightgreen\",\n",
    "                   s=160,\n",
    "                   marker=\"*\",\n",
    "                   zorder=5,\n",
    "                   label=\"Start Node\")\n",
    "    \n",
    "    # 7) finalize\n",
    "    ax.legend(loc=\"upper right\")\n",
    "    ax.set_title(\"UCSD Campus Environment\")\n",
    "    ax.set_axis_off()\n",
    "    fig.tight_layout()\n",
    "    return fig, ax"
   ]
  },
  {
   "cell_type": "markdown",
   "id": "faed4e87-641e-40c4-a211-0244b3a946f5",
   "metadata": {},
   "source": [
    "## Step 1: Loading Data"
   ]
  },
  {
   "cell_type": "code",
   "execution_count": 6,
   "id": "7f27bf61-b430-4792-8813-3178ae91db24",
   "metadata": {},
   "outputs": [
    {
     "name": "stdout",
     "output_type": "stream",
     "text": [
      "Started new simulation run #21\n",
      "All visualizations will be saved to: /Users/arshia/UCSD/Theory-of-mind/notebooks/visuals/run_21_20250718_021131\n",
      "Loading map data for University of California, San Diego, La Jolla, CA, USA...\n",
      "Environment loaded with 3136 nodes and 8704 edges\n"
     ]
    }
   ],
   "source": [
    "# Create a run manager\n",
    "run_manager = RunManager('visuals')\n",
    "run_dir = run_manager.start_new_run()\n",
    "\n",
    "# Initialize campus environment\n",
    "campus = CampusEnvironment()"
   ]
  },
  {
   "cell_type": "code",
   "execution_count": 7,
   "id": "233045fa-46d3-4c63-b410-db2d51a5181a",
   "metadata": {},
   "outputs": [],
   "source": [
    "# Need to establish the set of common goals (just choose the landmark nodes)\n",
    "goals = [469084068, 49150691, 768264666, 1926666015, 1926673385, 49309735,\n",
    "         273627682, 445989107, 445992528, 446128310, 1772230346, 1926673336, \n",
    "         2872424923, 3139419286, 4037576308]"
   ]
  },
  {
   "cell_type": "code",
   "execution_count": 8,
   "id": "5afbce88-ca11-40e4-b813-d5921d8541e3",
   "metadata": {},
   "outputs": [
    {
     "name": "stderr",
     "output_type": "stream",
     "text": [
      "/var/folders/xg/fld01xsn2c1bbnbsz7mzrg6r0000gn/T/ipykernel_34282/3168561831.py:5: DeprecationWarning: numpy.core.numeric is deprecated and has been renamed to numpy._core.numeric. The numpy._core namespace contains private NumPy internals and its use is discouraged, as NumPy internals can change without warning in any release. In practice, most real-world usage of numpy.core is to access functionality in the public NumPy API. If that is the case, use the public NumPy API. If not, you are using NumPy internals. If you would still like to access an internal attribute, use numpy._core.numeric._frombuffer.\n",
      "  agents = pickle.load(f)\n"
     ]
    }
   ],
   "source": [
    "import pickle\n",
    "# if you used dill, just replace pickle with dill\n",
    "\n",
    "with open('./../data/agents.pkl', 'rb') as f:\n",
    "    agents = pickle.load(f)"
   ]
  },
  {
   "cell_type": "code",
   "execution_count": 9,
   "id": "08812288-2e11-42f3-9cc0-fd2c2774217f",
   "metadata": {},
   "outputs": [],
   "source": [
    "with open(\"./../data/path_data.json\", 'r') as file:\n",
    "    path_data = json.load(file)\n",
    "\n",
    "with open(\"./../data/goal_data.json\", 'r') as file:\n",
    "    goal_data = json.load(file)"
   ]
  },
  {
   "cell_type": "code",
   "execution_count": 10,
   "id": "c5aa2410-3495-427d-ab08-c5316ffd4a99",
   "metadata": {},
   "outputs": [],
   "source": [
    "def convert_keys_to_int(data):\n",
    "    if isinstance(data, dict):\n",
    "        return {int(k) if isinstance(k, str) and k.isdigit() else k: convert_keys_to_int(v) for k, v in data.items()}\n",
    "    elif isinstance(data, list):\n",
    "        return [convert_keys_to_int(item) for item in data]\n",
    "    else:\n",
    "        return data"
   ]
  },
  {
   "cell_type": "code",
   "execution_count": 11,
   "id": "8a12c371-2b7c-4e2e-8362-0632c4690fbe",
   "metadata": {},
   "outputs": [],
   "source": [
    "goal_data = convert_keys_to_int(goal_data)\n",
    "path_data = convert_keys_to_int(path_data)"
   ]
  },
  {
   "cell_type": "markdown",
   "id": "be72dfb0-8bdd-4f59-99b0-9a6c2fb3e527",
   "metadata": {},
   "source": [
    "## Step 2: Choosing Start and Goal"
   ]
  },
  {
   "cell_type": "code",
   "execution_count": 12,
   "id": "08442c8d-d892-472e-8dbe-000e4f127940",
   "metadata": {},
   "outputs": [],
   "source": [
    "from tqdm import tqdm"
   ]
  },
  {
   "cell_type": "code",
   "execution_count": 12,
   "id": "f1898bdf-c9cf-4361-82ad-bf686de23e61",
   "metadata": {},
   "outputs": [
    {
     "name": "stderr",
     "output_type": "stream",
     "text": [
      "Processing agents:   9%|▉         | 9/100 [01:03<12:58,  8.56s/it]"
     ]
    },
    {
     "name": "stdout",
     "output_type": "stream",
     "text": [
      "Problem, missing min goal in path\n"
     ]
    },
    {
     "name": "stderr",
     "output_type": "stream",
     "text": [
      "Processing agents:  17%|█▋        | 17/100 [02:01<10:01,  7.25s/it]"
     ]
    },
    {
     "name": "stdout",
     "output_type": "stream",
     "text": [
      "No start node forces a pass by min_goal on the way to max_goal\n"
     ]
    },
    {
     "name": "stderr",
     "output_type": "stream",
     "text": [
      "Processing agents:  18%|█▊        | 18/100 [02:10<10:28,  7.67s/it]"
     ]
    },
    {
     "name": "stdout",
     "output_type": "stream",
     "text": [
      "No start node forces a pass by min_goal on the way to max_goal\n"
     ]
    },
    {
     "name": "stderr",
     "output_type": "stream",
     "text": [
      "Processing agents:  22%|██▏       | 22/100 [02:41<10:23,  8.00s/it]"
     ]
    },
    {
     "name": "stdout",
     "output_type": "stream",
     "text": [
      "Problem, missing min goal in path\n"
     ]
    },
    {
     "name": "stderr",
     "output_type": "stream",
     "text": [
      "Processing agents:  35%|███▌      | 35/100 [04:31<09:12,  8.50s/it]"
     ]
    },
    {
     "name": "stdout",
     "output_type": "stream",
     "text": [
      "No start node forces a pass by min_goal on the way to max_goal\n"
     ]
    },
    {
     "name": "stderr",
     "output_type": "stream",
     "text": [
      "Processing agents:  40%|████      | 40/100 [05:09<07:32,  7.55s/it]"
     ]
    },
    {
     "name": "stdout",
     "output_type": "stream",
     "text": [
      "No start node forces a pass by min_goal on the way to max_goal\n"
     ]
    },
    {
     "name": "stderr",
     "output_type": "stream",
     "text": [
      "Processing agents:  45%|████▌     | 45/100 [05:50<07:12,  7.87s/it]"
     ]
    },
    {
     "name": "stdout",
     "output_type": "stream",
     "text": [
      "No start node forces a pass by min_goal on the way to max_goal\n"
     ]
    },
    {
     "name": "stderr",
     "output_type": "stream",
     "text": [
      "Processing agents:  48%|████▊     | 48/100 [06:21<08:16,  9.55s/it]"
     ]
    },
    {
     "name": "stdout",
     "output_type": "stream",
     "text": [
      "No start node forces a pass by min_goal on the way to max_goal\n"
     ]
    },
    {
     "name": "stderr",
     "output_type": "stream",
     "text": [
      "Processing agents:  50%|█████     | 50/100 [06:35<07:01,  8.43s/it]"
     ]
    },
    {
     "name": "stdout",
     "output_type": "stream",
     "text": [
      "No start node forces a pass by min_goal on the way to max_goal\n"
     ]
    },
    {
     "name": "stderr",
     "output_type": "stream",
     "text": [
      "Processing agents:  51%|█████     | 51/100 [06:45<07:13,  8.84s/it]"
     ]
    },
    {
     "name": "stdout",
     "output_type": "stream",
     "text": [
      "Problem, missing min goal in path\n"
     ]
    },
    {
     "name": "stderr",
     "output_type": "stream",
     "text": [
      "Processing agents:  59%|█████▉    | 59/100 [07:46<04:54,  7.18s/it]"
     ]
    },
    {
     "name": "stdout",
     "output_type": "stream",
     "text": [
      "No start node forces a pass by min_goal on the way to max_goal\n"
     ]
    },
    {
     "name": "stderr",
     "output_type": "stream",
     "text": [
      "Processing agents:  91%|█████████ | 91/100 [12:04<01:19,  8.85s/it]"
     ]
    },
    {
     "name": "stdout",
     "output_type": "stream",
     "text": [
      "Problem, missing min goal in path\n"
     ]
    },
    {
     "name": "stderr",
     "output_type": "stream",
     "text": [
      "Processing agents:  94%|█████████▍| 94/100 [12:27<00:46,  7.81s/it]"
     ]
    },
    {
     "name": "stdout",
     "output_type": "stream",
     "text": [
      "No start node forces a pass by min_goal on the way to max_goal\n"
     ]
    },
    {
     "name": "stderr",
     "output_type": "stream",
     "text": [
      "Processing agents: 100%|██████████| 100/100 [13:06<00:00,  7.87s/it]"
     ]
    },
    {
     "name": "stdout",
     "output_type": "stream",
     "text": [
      "Problem, missing min goal in path\n"
     ]
    },
    {
     "name": "stderr",
     "output_type": "stream",
     "text": [
      "\n"
     ]
    }
   ],
   "source": [
    "all_nodes = set()\n",
    "for episode in path_data.values():\n",
    "    for path in episode.values():\n",
    "        if isinstance(path, (list, tuple, set)):\n",
    "            all_nodes.update(path)\n",
    "        else:\n",
    "            all_nodes.add(path)\n",
    "all_nodes.update(campus.G_undirected.nodes())\n",
    "\n",
    "\n",
    "to_remove = []\n",
    "for agent in tqdm(agents, desc=\"Processing agents\"):\n",
    "    max_goal_idx = np.argmax(agent.goal_distribution)\n",
    "    max_goal = goals[max_goal_idx]\n",
    "    \n",
    "    min_goal_idx = np.argmin(agent.goal_distribution)\n",
    "    min_goal = goals[min_goal_idx]\n",
    "\n",
    "    #G = campus.G_undirected  # your undirected NetworkX graph\n",
    "    G = campus.G \n",
    "    \n",
    "    candidates = []\n",
    "    #for s in G.nodes():\n",
    "    for s in all_nodes:\n",
    "        if s not in G.nodes():\n",
    "            continue\n",
    "        if s in (min_goal, max_goal):\n",
    "            continue  # optional: don’t start right on one of the goals\n",
    "        try:\n",
    "            path = nx.shortest_path(G, s, max_goal, weight=\"length\")\n",
    "        except nx.NetworkXNoPath:\n",
    "            continue\n",
    "        if min_goal in path:\n",
    "            candidates.append(s)\n",
    "    \n",
    "    if not candidates:\n",
    "        print(\"No start node forces a pass by min_goal on the way to max_goal\")\n",
    "        to_remove.append(agent)\n",
    "        continue\n",
    "\n",
    "    agent.goal_node = max_goal\n",
    "    agent.start_node = random.choice(candidates)\n",
    "    agent.current_node = agent.start_node\n",
    "    agent.plan_path()\n",
    "\n",
    "    if min_goal not in agent.path:\n",
    "        print(\"Problem, missing min goal in path\")"
   ]
  },
  {
   "cell_type": "code",
   "execution_count": 13,
   "id": "f22a7228-9970-4ebe-89bb-c5f626c10332",
   "metadata": {},
   "outputs": [],
   "source": [
    "agents = [agent for agent in agents if agent not in to_remove]"
   ]
  },
  {
   "cell_type": "code",
   "execution_count": 33,
   "id": "1a533d65",
   "metadata": {},
   "outputs": [
    {
     "name": "stdout",
     "output_type": "stream",
     "text": [
      "/Users/arshia/UCSD/Theory-of-mind/notebooks/visuals/run_20_20250718_014549\n"
     ]
    }
   ],
   "source": [
    "print(run_dir)"
   ]
  },
  {
   "cell_type": "code",
   "execution_count": 35,
   "id": "e561f8be",
   "metadata": {},
   "outputs": [],
   "source": [
    "with open('./../data/agents_processed.pkl', 'wb') as f:\n",
    "    pickle.dump(agents, f)"
   ]
  },
  {
   "cell_type": "code",
   "execution_count": 13,
   "id": "345787dd",
   "metadata": {},
   "outputs": [],
   "source": [
    "with open('./../data/agents_processed.pkl', 'rb') as f:\n",
    "    agents = pickle.load(f)"
   ]
  },
  {
   "cell_type": "code",
   "execution_count": 14,
   "id": "6a137b83-79f1-49ba-abf0-7046a5e41f14",
   "metadata": {},
   "outputs": [],
   "source": [
    "# Get each agent's path \n",
    "for agent in agents:\n",
    "    agent.plan_path()"
   ]
  },
  {
   "cell_type": "code",
   "execution_count": null,
   "id": "02728b0c-6c6c-4433-98a9-ebda40f3b48f",
   "metadata": {},
   "outputs": [],
   "source": []
  },
  {
   "cell_type": "markdown",
   "id": "7fc8de82-d87a-4290-ad76-4f8b73216cf3",
   "metadata": {},
   "source": [
    "## Step 3: Run the Models"
   ]
  },
  {
   "cell_type": "markdown",
   "id": "8a3fbea1-ff49-44a1-aa08-280058fcdbf9",
   "metadata": {},
   "source": [
    "### BToM"
   ]
  },
  {
   "cell_type": "code",
   "execution_count": 15,
   "id": "24d015d9-77c7-42c2-8f41-ef70f83cf7ec",
   "metadata": {},
   "outputs": [],
   "source": [
    "# Import BToM baseline\n",
    "from real_world_src.models.btom import BToM"
   ]
  },
  {
   "cell_type": "code",
   "execution_count": 16,
   "id": "38bd2286-198e-47c9-a9d1-8fea037d5ca0",
   "metadata": {},
   "outputs": [
    {
     "name": "stdout",
     "output_type": "stream",
     "text": [
      "Computing shortest paths...\n",
      "Done\n"
     ]
    }
   ],
   "source": [
    "btom = BToM(campus, agents, goals)"
   ]
  },
  {
   "cell_type": "code",
   "execution_count": 17,
   "id": "aef8b7ed-89ce-4ef5-b7e1-a70cf2ee68ea",
   "metadata": {},
   "outputs": [],
   "source": [
    "# Calculate all the posteriors using the first 30 episode\n",
    "posteriors_data = {}"
   ]
  },
  {
   "cell_type": "code",
   "execution_count": 18,
   "id": "a2284b99-156b-482c-ba36-5f29a63f02c4",
   "metadata": {},
   "outputs": [
    {
     "ename": "NetworkXError",
     "evalue": "The node 1352179344 is not in the digraph.",
     "output_type": "error",
     "traceback": [
      "\u001b[31m---------------------------------------------------------------------------\u001b[39m",
      "\u001b[31mKeyError\u001b[39m                                  Traceback (most recent call last)",
      "\u001b[36mFile \u001b[39m\u001b[32m~/miniconda3/envs/tom/lib/python3.12/site-packages/networkx/classes/digraph.py:926\u001b[39m, in \u001b[36mDiGraph.successors\u001b[39m\u001b[34m(self, n)\u001b[39m\n\u001b[32m    925\u001b[39m \u001b[38;5;28;01mtry\u001b[39;00m:\n\u001b[32m--> \u001b[39m\u001b[32m926\u001b[39m     \u001b[38;5;28;01mreturn\u001b[39;00m \u001b[38;5;28miter\u001b[39m(\u001b[38;5;28;43mself\u001b[39;49m\u001b[43m.\u001b[49m\u001b[43m_succ\u001b[49m\u001b[43m[\u001b[49m\u001b[43mn\u001b[49m\u001b[43m]\u001b[49m)\n\u001b[32m    927\u001b[39m \u001b[38;5;28;01mexcept\u001b[39;00m \u001b[38;5;167;01mKeyError\u001b[39;00m \u001b[38;5;28;01mas\u001b[39;00m err:\n",
      "\u001b[31mKeyError\u001b[39m: 1352179344",
      "\nThe above exception was the direct cause of the following exception:\n",
      "\u001b[31mNetworkXError\u001b[39m                             Traceback (most recent call last)",
      "\u001b[36mCell\u001b[39m\u001b[36m \u001b[39m\u001b[32mIn[18]\u001b[39m\u001b[32m, line 2\u001b[39m\n\u001b[32m      1\u001b[39m \u001b[38;5;28;01mfor\u001b[39;00m agent \u001b[38;5;129;01min\u001b[39;00m agents:\n\u001b[32m----> \u001b[39m\u001b[32m2\u001b[39m     posteriors_data[agent.id] = \u001b[43mbtom\u001b[49m\u001b[43m.\u001b[49m\u001b[43mupdate_agent_posterior_over_path\u001b[49m\u001b[43m(\u001b[49m\u001b[43magent\u001b[49m\u001b[43m,\u001b[49m\u001b[43m \u001b[49m\u001b[43magent\u001b[49m\u001b[43m.\u001b[49m\u001b[43mpath\u001b[49m\u001b[43m)\u001b[49m\n\u001b[32m      3\u001b[39m \u001b[38;5;66;03m# Reset the posteriors for new episode\u001b[39;00m\n\u001b[32m      4\u001b[39m btom.reset_posteriors()\n",
      "\u001b[36mFile \u001b[39m\u001b[32m~/UCSD/Theory-of-mind/real_world_src/models/btom.py:116\u001b[39m, in \u001b[36mBToM.update_agent_posterior_over_path\u001b[39m\u001b[34m(self, agent, path)\u001b[39m\n\u001b[32m    114\u001b[39m     s = path[i]\n\u001b[32m    115\u001b[39m     a = path[i+\u001b[32m1\u001b[39m]\n\u001b[32m--> \u001b[39m\u001b[32m116\u001b[39m     current_posterior = \u001b[38;5;28;43mself\u001b[39;49m\u001b[43m.\u001b[49m\u001b[43mupdate_posterior_step\u001b[49m\u001b[43m(\u001b[49m\u001b[43mcurrent_posterior\u001b[49m\u001b[43m,\u001b[49m\u001b[43m \u001b[49m\u001b[43ms\u001b[49m\u001b[43m,\u001b[49m\u001b[43m \u001b[49m\u001b[43ma\u001b[49m\u001b[43m)\u001b[49m\n\u001b[32m    117\u001b[39m     posterior_list.append(current_posterior)\n\u001b[32m    119\u001b[39m \u001b[38;5;66;03m# Optionally, update the stored posterior for the agent with the last posterior\u001b[39;00m\n",
      "\u001b[36mFile \u001b[39m\u001b[32m~/UCSD/Theory-of-mind/real_world_src/models/btom.py:69\u001b[39m, in \u001b[36mBToM.update_posterior_step\u001b[39m\u001b[34m(self, current_posterior, s, a)\u001b[39m\n\u001b[32m     67\u001b[39m \u001b[38;5;28;01mif\u001b[39;00m s \u001b[38;5;129;01mnot\u001b[39;00m \u001b[38;5;129;01min\u001b[39;00m \u001b[38;5;28mself\u001b[39m.campus.G:\n\u001b[32m     68\u001b[39m     s = a\n\u001b[32m---> \u001b[39m\u001b[32m69\u001b[39m actions_possible = \u001b[38;5;28mlist\u001b[39m(\u001b[38;5;28;43mself\u001b[39;49m\u001b[43m.\u001b[49m\u001b[43mcampus\u001b[49m\u001b[43m.\u001b[49m\u001b[43mG\u001b[49m\u001b[43m.\u001b[49m\u001b[43mneighbors\u001b[49m\u001b[43m(\u001b[49m\u001b[43ms\u001b[49m\u001b[43m)\u001b[49m)\n\u001b[32m     70\u001b[39m \u001b[38;5;28;01mif\u001b[39;00m a \u001b[38;5;129;01mnot\u001b[39;00m \u001b[38;5;129;01min\u001b[39;00m actions_possible:\n\u001b[32m     71\u001b[39m     action_prob = \u001b[32m0.0\u001b[39m\n",
      "\u001b[36mFile \u001b[39m\u001b[32m~/miniconda3/envs/tom/lib/python3.12/site-packages/networkx/classes/digraph.py:928\u001b[39m, in \u001b[36mDiGraph.successors\u001b[39m\u001b[34m(self, n)\u001b[39m\n\u001b[32m    926\u001b[39m     \u001b[38;5;28;01mreturn\u001b[39;00m \u001b[38;5;28miter\u001b[39m(\u001b[38;5;28mself\u001b[39m._succ[n])\n\u001b[32m    927\u001b[39m \u001b[38;5;28;01mexcept\u001b[39;00m \u001b[38;5;167;01mKeyError\u001b[39;00m \u001b[38;5;28;01mas\u001b[39;00m err:\n\u001b[32m--> \u001b[39m\u001b[32m928\u001b[39m     \u001b[38;5;28;01mraise\u001b[39;00m NetworkXError(\u001b[33mf\u001b[39m\u001b[33m\"\u001b[39m\u001b[33mThe node \u001b[39m\u001b[38;5;132;01m{\u001b[39;00mn\u001b[38;5;132;01m}\u001b[39;00m\u001b[33m is not in the digraph.\u001b[39m\u001b[33m\"\u001b[39m) \u001b[38;5;28;01mfrom\u001b[39;00m\u001b[38;5;250m \u001b[39m\u001b[34;01merr\u001b[39;00m\n",
      "\u001b[31mNetworkXError\u001b[39m: The node 1352179344 is not in the digraph."
     ]
    }
   ],
   "source": [
    "for agent in agents:\n",
    "    posteriors_data[agent.id] = btom.update_agent_posterior_over_path(agent, agent.path)\n",
    "# Reset the posteriors for new episode\n",
    "btom.reset_posteriors()"
   ]
  },
  {
   "cell_type": "markdown",
   "id": "2bfa614c-f699-4d7d-b152-a601434b9bc5",
   "metadata": {},
   "source": [
    "### Extended BToM"
   ]
  },
  {
   "cell_type": "code",
   "execution_count": null,
   "id": "6a398238-ed96-45de-a059-741ef3d96941",
   "metadata": {},
   "outputs": [],
   "source": [
    "from real_world_src.models.extended_btom import Extended_BToM"
   ]
  },
  {
   "cell_type": "code",
   "execution_count": null,
   "id": "9aa83b4f-df5a-47ea-ae72-0c47821c43c0",
   "metadata": {},
   "outputs": [],
   "source": [
    "with open('extended_btom.pkl', 'rb') as f:\n",
    "    ext_btom = pickle.load(f)"
   ]
  },
  {
   "cell_type": "code",
   "execution_count": null,
   "id": "a63dde2e-de3c-4d73-bf91-31be44ff91ab",
   "metadata": {},
   "outputs": [],
   "source": [
    "# Calculate all the posteriors using the first 30 episode\n",
    "ext_posteriors_data = {}\n",
    "\n",
    "for agent in agents:\n",
    "    ext_posteriors_data[agent.id] = ext_btom.update_agent_posterior_over_path(agent, agent.path)\n"
   ]
  },
  {
   "cell_type": "markdown",
   "id": "34dd3c4d",
   "metadata": {},
   "source": [
    "# LSTM"
   ]
  },
  {
   "cell_type": "code",
   "execution_count": null,
   "id": "bd6e8dba",
   "metadata": {},
   "outputs": [],
   "source": [
    "from real_world_src.models.lstm import (\n",
    "    SimpleLSTM, LSTMDataset, lstm_collate_fn,\n",
    "    train_lstm_model, evaluate_lstm_model, predict_goal_posterior\n",
    ")\n",
    "from torch.utils.data import DataLoader"
   ]
  },
  {
   "cell_type": "code",
   "execution_count": null,
   "id": "24cb2864",
   "metadata": {},
   "outputs": [],
   "source": [
    "# build node2idx so that every node in campus.G_undirected maps to 0…V−1\n",
    "all_nodes = list(campus.G_undirected.nodes())\n",
    "node2idx  = {n:i for i,n in enumerate(all_nodes)}\n",
    "V = len(all_nodes)\n",
    "\n",
    "# build goal2idx likewise for your goals list\n",
    "goal2idx = {g:i for i,g in enumerate(goals)}\n",
    "G = len(goals)"
   ]
  },
  {
   "cell_type": "code",
   "execution_count": null,
   "id": "2bad72ce",
   "metadata": {},
   "outputs": [],
   "source": [
    "lstm_dataset = LSTMDataset(path_data, goal_data, node2idx, goal2idx)\n",
    "lstm_loader = DataLoader(lstm_dataset, batch_size=32, shuffle=True, collate_fn=lstm_collate_fn)"
   ]
  },
  {
   "cell_type": "code",
   "execution_count": null,
   "id": "a03f6d72",
   "metadata": {},
   "outputs": [],
   "source": [
    "if torch.backends.mps.is_available():\n",
    "    device = torch.device(\"mps\")\n",
    "elif torch.cuda.is_available():\n",
    "    device = torch.device(\"cuda\")\n",
    "else:\n",
    "    device = torch.device(\"cpu\")"
   ]
  },
  {
   "cell_type": "code",
   "execution_count": null,
   "id": "95ec5abe",
   "metadata": {},
   "outputs": [],
   "source": [
    "lstm_model = SimpleLSTM(num_nodes=len(node2idx), num_goals=len(goal2idx)).to(device)\n",
    "optimizer = torch.optim.Adam(lstm_model.parameters(), lr=1e-3)\n",
    "train_lstm_model(lstm_model, lstm_loader, optimizer, device, num_epochs=10)"
   ]
  },
  {
   "cell_type": "code",
   "execution_count": null,
   "id": "de2a9668",
   "metadata": {},
   "outputs": [],
   "source": [
    "evaluate_lstm_model(lstm_model, lstm_loader, device)"
   ]
  },
  {
   "cell_type": "code",
   "execution_count": null,
   "id": "ae35b358",
   "metadata": {
    "notebookRunGroups": {
     "groupValue": "2"
    }
   },
   "outputs": [],
   "source": [
    "n_test = int(0.2 * len(agents))\n",
    "test_agent_ids = [agent.id for agent in agents[-n_test:]]"
   ]
  },
  {
   "cell_type": "code",
   "execution_count": null,
   "id": "f7d74eee",
   "metadata": {},
   "outputs": [],
   "source": [
    "# Compute posteriors along paths for all test agents (LSTM)\n",
    "lstm_posteriors = {}\n",
    "for agent in agents:\n",
    "    if agent.id not in test_agent_ids:\n",
    "        continue\n",
    "    path = agent.path\n",
    "    posteriors_along_path = []\n",
    "    for t in range(1, len(path)+1):\n",
    "        subpath = path[:t]\n",
    "        posterior = predict_goal_posterior(lstm_model, subpath, node2idx, goal2idx, device)\n",
    "        posteriors_along_path.append(posterior)\n",
    "    lstm_posteriors[agent.id] = posteriors_along_path"
   ]
  },
  {
   "cell_type": "markdown",
   "id": "caff7fa3",
   "metadata": {},
   "source": [
    "# GRU"
   ]
  },
  {
   "cell_type": "code",
   "execution_count": null,
   "id": "3442f6cc",
   "metadata": {},
   "outputs": [],
   "source": [
    "from real_world_src.models.gru import (\n",
    "    SimpleGRU, GRUDataset, gru_collate_fn,\n",
    "    train_gru_model, evaluate_gru_model, predict_goal_posterior_gru\n",
    ")\n",
    "from torch.utils.data import DataLoader"
   ]
  },
  {
   "cell_type": "code",
   "execution_count": null,
   "id": "26feb635",
   "metadata": {},
   "outputs": [],
   "source": [
    "gru_dataset = GRUDataset(path_data, goal_data, node2idx, goal2idx)\n",
    "gru_loader = DataLoader(gru_dataset, batch_size=32, shuffle=True, collate_fn=gru_collate_fn)"
   ]
  },
  {
   "cell_type": "code",
   "execution_count": null,
   "id": "9c7fd64f",
   "metadata": {},
   "outputs": [],
   "source": [
    "if torch.backends.mps.is_available():\n",
    "    device = torch.device(\"mps\")\n",
    "elif torch.cuda.is_available():\n",
    "    device = torch.device(\"cuda\")\n",
    "else:\n",
    "    device = torch.device(\"cpu\")"
   ]
  },
  {
   "cell_type": "code",
   "execution_count": null,
   "id": "6ec97108",
   "metadata": {},
   "outputs": [],
   "source": [
    "gru_model = SimpleGRU(num_nodes=len(node2idx), num_goals=len(goal2idx)).to(device)\n",
    "optimizer = torch.optim.Adam(gru_model.parameters(), lr=1e-3)\n",
    "train_gru_model(gru_model, gru_loader, optimizer, device, num_epochs=10)"
   ]
  },
  {
   "cell_type": "code",
   "execution_count": null,
   "id": "9307e95a",
   "metadata": {},
   "outputs": [],
   "source": [
    "evaluate_gru_model(gru_model, gru_loader, device)"
   ]
  },
  {
   "cell_type": "code",
   "execution_count": null,
   "id": "36a2e3ee",
   "metadata": {},
   "outputs": [],
   "source": [
    "from tqdm import tqdm"
   ]
  },
  {
   "cell_type": "code",
   "execution_count": null,
   "id": "9f464803",
   "metadata": {},
   "outputs": [],
   "source": [
    "# Compute posteriors along paths for all test agents(GRU)\n",
    "gru_posteriors = {}\n",
    "for agent in agents:\n",
    "    if agent.id not in test_agent_ids:\n",
    "        continue\n",
    "    path = agent.path\n",
    "    posteriors_along_path = []\n",
    "    for t in range(1, len(path)+1):\n",
    "        subpath = path[:t]\n",
    "        posterior = predict_goal_posterior_gru(gru_model, subpath, node2idx, goal2idx, device)\n",
    "        posteriors_along_path.append(posterior)\n",
    "    gru_posteriors[agent.id] = posteriors_along_path"
   ]
  },
  {
   "cell_type": "markdown",
   "id": "25beb616-38e6-4a7f-bee7-638ec7019dfb",
   "metadata": {},
   "source": [
    "### ToMNet"
   ]
  },
  {
   "cell_type": "code",
   "execution_count": null,
   "id": "13f5b959-a8f4-4fa1-8893-5f00345c201a",
   "metadata": {},
   "outputs": [],
   "source": [
    "import torch\n",
    "from real_world_src.models.simple_tomnet import ToMNet, ToMNetDataset, tomnet_collate_fn, infer_goal_dists, make_support_tensor\n",
    "from torch.utils.data import Dataset, DataLoader"
   ]
  },
  {
   "cell_type": "code",
   "execution_count": null,
   "id": "f04f891b-00a7-4cdf-b222-fb936b610eca",
   "metadata": {},
   "outputs": [],
   "source": [
    "device = 'mps'\n",
    "\n",
    "# the values you trained with:\n",
    "K     = 10\n",
    "T_sup = 75\n",
    "T_q   = 20\n",
    "\n",
    "\n",
    "model = ToMNet(\n",
    "    num_nodes = len(campus.nodes), # to fix the error in checkpoint\n",
    "    #num_nodes=3108,\n",
    "    num_goals = len(goals),\n",
    "    K     = K,\n",
    "    T_sup = T_sup,\n",
    "    T_q   = T_q,\n",
    ").to(device)\n",
    "\n",
    "state_dict = torch.load(\n",
    "    \"data/All_en_tomnet_cuda_1.pth\",  # Path to the saved model checkpoint\n",
    "    map_location=device\n",
    ")\n",
    "model.load_state_dict(state_dict)\n",
    "model.eval()"
   ]
  },
  {
   "cell_type": "code",
   "execution_count": null,
   "id": "da03077b-a04b-45df-a09a-62aa031cc2dd",
   "metadata": {},
   "outputs": [],
   "source": [
    "# build node2idx so that every node in campus.G_undirected maps to 0…V−1\n",
    "all_nodes = list(campus.G_undirected.nodes())\n",
    "node2idx  = {n:i for i,n in enumerate(all_nodes)}\n",
    "V = len(all_nodes)\n",
    "\n",
    "# build goal2idx likewise for your goals list\n",
    "goal2idx = {g:i for i,g in enumerate(goals)}\n",
    "G = len(goals)"
   ]
  },
  {
   "cell_type": "code",
   "execution_count": null,
   "id": "724de1a5-dd38-427a-b13f-a839d03d6b51",
   "metadata": {},
   "outputs": [],
   "source": [
    "train_agent_ids = list(range(0, 70))\n",
    "test_agent_ids = list(range(70, 100))"
   ]
  },
  {
   "cell_type": "code",
   "execution_count": null,
   "id": "a278514a-0a5c-4c70-86bb-6b18ea2a3bc9",
   "metadata": {},
   "outputs": [],
   "source": [
    "def get_posterior_format(dists):\n",
    "    idx2goal = { idx: goal for goal, idx in goal2idx.items() }\n",
    "    goal_posterior = [ {idx2goal[i]: float(p) for i, p in enumerate(prob_row) } for prob_row in dists]\n",
    "    return goal_posterior"
   ]
  },
  {
   "cell_type": "code",
   "execution_count": null,
   "id": "743086bd-61d9-4b94-8104-c7be5cb07be2",
   "metadata": {},
   "outputs": [],
   "source": [
    "import torch.nn.functional as F\n"
   ]
  },
  {
   "cell_type": "code",
   "execution_count": null,
   "id": "a88072b1-40ee-4304-ab02-ae0d387801cf",
   "metadata": {},
   "outputs": [],
   "source": [
    "def infer_single_path_goal_dist(\n",
    "    model, agent_id, test_ep, agent_path,\n",
    "    path_data, node2idx, goal2idx,\n",
    "    K, T_sup, T_q,\n",
    "    device='cuda'\n",
    "):\n",
    "    model.eval()\n",
    "    # 1) build support once\n",
    "    sup     = make_support_tensor(agent_id, test_ep, path_data, node2idx, K, T_sup)\n",
    "    sup     = sup.to(device).unsqueeze(0)     # add batch‐dim → [1,K,T_sup]\n",
    "\n",
    "    raw_seq = agent_path\n",
    "    idxs    = [node2idx[n] for n in raw_seq]\n",
    "    N       = len(idxs)\n",
    "\n",
    "    goal_dists = []   # will be list of length N each [num_goals]\n",
    "    with torch.no_grad():\n",
    "        for t in range(1, N):\n",
    "            # build prefix up to t (we treat t=0 as “no steps seen”)\n",
    "            prefix_len = min(t, T_q)\n",
    "            # pad prefix to T_q\n",
    "            prefix = torch.zeros(T_q, dtype=torch.long)\n",
    "            if prefix_len>0:\n",
    "                prefix[:prefix_len] = torch.tensor(idxs[:prefix_len], dtype=torch.long)\n",
    "            # move to device and batch‐dim\n",
    "            prefix     = prefix.to(device).unsqueeze(0)       # [1,T_q]\n",
    "            prefix_len = torch.tensor([prefix_len], dtype=torch.long, device=device)\n",
    "\n",
    "            # forward through ToMNet\n",
    "            _, goal_logits = model(sup, prefix, prefix_len)   # [1, num_goals]\n",
    "            p_goal = F.softmax(goal_logits, dim=-1)[0]        # remove batch‐dim → [num_goals]\n",
    "\n",
    "            goal_dists.append(p_goal.cpu().numpy())\n",
    "\n",
    "    return goal_dists   # shape (N × num_goals) array"
   ]
  },
  {
   "cell_type": "code",
   "execution_count": null,
   "id": "55b54143-a67d-44b9-9161-4bcd2f46cbc6",
   "metadata": {},
   "outputs": [],
   "source": [
    "tomnet_posteriors = {}\n",
    "episode=0\n",
    "\n",
    "for agent in agents:\n",
    "    if agent.id not in test_agent_ids:\n",
    "        continue\n",
    "    dists = infer_single_path_goal_dist(model, agent.id, episode, agent.path, path_data, node2idx, goal2idx, K=10, T_sup=75, T_q=20, device=device)\n",
    "    #dists = infer_goal_dists(model, agent.id, episode, path_data, node2idx, goal2idx, K=10, T_sup=75, T_q=20, device=device)\n",
    "    tomnet_posteriors[agent.id] = get_posterior_format(dists)"
   ]
  },
  {
   "cell_type": "markdown",
   "id": "185bef46-c250-4fe5-8432-3f6da7c3a9be",
   "metadata": {},
   "source": [
    "## Step 4: Calculate Brier Score  \n",
    "We will calculate the brier score for each 10% portion of the path (same as before), but only leading up to the false goal. A model that does not learn historical trends will have a higher brier score since it will be more confident in the false goal. "
   ]
  },
  {
   "cell_type": "code",
   "execution_count": null,
   "id": "b7423c5e-672d-45e7-949d-2ca65062888f",
   "metadata": {},
   "outputs": [],
   "source": [
    "from real_world_src.utils.metrics import brier_along_path, accuracy_along_path, fooled_along_path"
   ]
  },
  {
   "cell_type": "code",
   "execution_count": null,
   "id": "41dac4d5-d267-498e-9748-b29ea97abafe",
   "metadata": {},
   "outputs": [],
   "source": [
    "btom_scores = []\n",
    "for agent in agents:\n",
    "    path = agent.path\n",
    "    btom_scores.append(brier_along_path(path, \n",
    "                              agent.goal_node, \n",
    "                              posteriors_data[agent.id], \n",
    "                              goals))\n",
    "\n",
    "ext_scores = []\n",
    "for agent in agents:\n",
    "    path = agent.path\n",
    "    ext_scores.append(brier_along_path(path, \n",
    "                              agent.goal_node, \n",
    "                              ext_posteriors_data[agent.id], \n",
    "                              goals))\n",
    "\n",
    "tomnet_scores = []\n",
    "for agent in agents:\n",
    "    if agent.id not in test_agent_ids:\n",
    "        continue\n",
    "    path = agent.path\n",
    "    tomnet_scores.append(brier_along_path(path, \n",
    "                              agent.goal_node, \n",
    "                              tomnet_posteriors[agent.id], \n",
    "                              goals))\n",
    "    \n",
    "lstm_scores = []\n",
    "for agent in agents:\n",
    "    if agent.id not in test_agent_ids:\n",
    "        continue\n",
    "    path = agent.path\n",
    "    lstm_scores.append(brier_along_path(path, \n",
    "                              agent.goal_node, \n",
    "                              lstm_posteriors[agent.id], \n",
    "                              goals))\n",
    "\n",
    "    \n",
    "gru_scores = []\n",
    "for agent in agents:\n",
    "    if agent.id not in test_agent_ids:\n",
    "        continue\n",
    "    path = agent.path\n",
    "    gru_scores.append(brier_along_path(path, \n",
    "                              agent.goal_node, \n",
    "                              gru_posteriors[agent.id], \n",
    "                              goals))"
   ]
  },
  {
   "cell_type": "code",
   "execution_count": null,
   "id": "ba72de8f-78a0-43b2-b703-33ed8ae97856",
   "metadata": {},
   "outputs": [],
   "source": [
    "import numpy as np\n",
    "import matplotlib.pyplot as plt\n",
    "\n",
    "# Suppose `scores` and `ext_scores` are your (N × 11) arrays:\n",
    "arr      = np.array(btom_scores)      # shape (N, 11)\n",
    "ext_arr  = np.array(ext_scores)  # same shape\n",
    "tomnet_arr = np.array(tomnet_scores)\n",
    "lstm_arr= np.array(lstm_scores)\n",
    "gru_arr= np.array(gru_scores)\n",
    "props = np.linspace(0, 1, arr.shape[1])\n",
    "\n",
    "\n",
    "# Compute means \n",
    "mean_b = arr.mean(axis=0)\n",
    "mean_e = ext_arr.mean(axis=0)\n",
    "mean_tomnet = tomnet_arr.mean(axis=0)\n",
    "mean_lstm = lstm_arr.mean(axis=0)\n",
    "mean_gru = gru_arr.mean(axis=0)\n",
    "\n",
    "\n",
    "plt.figure(figsize=(10,6))\n",
    "\n",
    "# BToM curve\n",
    "plt.plot(props, mean_b, '-o', color='C0', label='BToM mean')\n",
    "# Extended BToM curve\n",
    "plt.plot(props, mean_e, '-s', color='C1', label='Ext-BToM mean')\n",
    "# Tomnet curve\n",
    "plt.plot(props, mean_tomnet, '-o', color='green', label='ToMNet')\n",
    "#LSTM curve\n",
    "plt.plot(props, mean_lstm, '-^', color='purple', label='LSTM')\n",
    "#GRU curve\n",
    "plt.plot(props, mean_gru, '-d', color='orange', label='GRU')\n",
    "\n",
    "\n",
    "plt.xlabel('Proportion of Path Observed')\n",
    "plt.ylabel('Brier Score')\n",
    "plt.title('Brier Score vs. Path Fraction (with 95% CI)')\n",
    "plt.xticks(props)\n",
    "plt.ylim(0, 1.7)\n",
    "plt.grid(alpha=0.3)\n",
    "plt.legend(loc='upper right')\n",
    "plt.tight_layout()\n",
    "plt.show()"
   ]
  },
  {
   "cell_type": "code",
   "execution_count": null,
   "id": "4607f795-e74e-4251-9607-9908031d17c0",
   "metadata": {},
   "outputs": [],
   "source": []
  },
  {
   "cell_type": "code",
   "execution_count": null,
   "id": "8c960a85-3ac3-4437-a945-7923fdb2229d",
   "metadata": {},
   "outputs": [],
   "source": [
    "fooled_scores = []\n",
    "for agent in agents:\n",
    "    min_goal_idx = np.argmin(agent.goal_distribution)\n",
    "    min_goal = goals[min_goal_idx]\n",
    "    # Select the path proportion \n",
    "    path = agent.path\n",
    "    false_goal_idx = path.index(min_goal)\n",
    "    path = path[:false_goal_idx + 1]\n",
    "    \n",
    "    fooled_scores.append(fooled_along_path(path, \n",
    "                                    agent.goal_node,\n",
    "                                    min_goal,\n",
    "                                    posteriors_data[agent.id],\n",
    "                                    goals))\n",
    "\n",
    "ext_fooled_scores = []\n",
    "for agent in agents:\n",
    "    min_goal_idx = np.argmin(agent.goal_distribution)\n",
    "    min_goal = goals[min_goal_idx]\n",
    "    # Select the path proportion \n",
    "    path = agent.path\n",
    "    false_goal_idx = path.index(min_goal)\n",
    "    path = path[:false_goal_idx + 1]\n",
    "    \n",
    "    ext_fooled_scores.append(fooled_along_path(path, \n",
    "                                    agent.goal_node,\n",
    "                                    min_goal,\n",
    "                                    ext_posteriors_data[agent.id],\n",
    "                                    goals))\n",
    "\n",
    "tomnet_fooled_scores = []\n",
    "for agent in agents:\n",
    "    if agent.id not in test_agent_ids:\n",
    "        continue\n",
    "    min_goal_idx = np.argmin(agent.goal_distribution)\n",
    "    min_goal = goals[min_goal_idx]\n",
    "    # Select the path proportion \n",
    "    path = agent.path\n",
    "    false_goal_idx = path.index(min_goal)\n",
    "    path = path[:false_goal_idx + 1]\n",
    "    \n",
    "    tomnet_fooled_scores.append(fooled_along_path(path, \n",
    "                                    agent.goal_node,\n",
    "                                    min_goal,\n",
    "                                    tomnet_posteriors[agent.id],\n",
    "                                    goals))\n",
    "    \n",
    "lstm_fooled_scores = []\n",
    "for agent in agents:\n",
    "    if agent.id not in test_agent_ids:\n",
    "        continue\n",
    "    min_goal_idx = np.argmin(agent.goal_distribution)\n",
    "    min_goal = goals[min_goal_idx]\n",
    "    # Select the path proportion \n",
    "    path = agent.path\n",
    "    false_goal_idx = path.index(min_goal)\n",
    "    path = path[:false_goal_idx + 1]\n",
    "    \n",
    "    lstm_fooled_scores.append(fooled_along_path(path, \n",
    "                                    agent.goal_node,\n",
    "                                    min_goal,\n",
    "                                    lstm_posteriors[agent.id],\n",
    "                                    goals))\n",
    "gru_fooled_scores = []\n",
    "for agent in agents:\n",
    "    if agent.id not in test_agent_ids:\n",
    "        continue\n",
    "    min_goal_idx = np.argmin(agent.goal_distribution)\n",
    "    min_goal = goals[min_goal_idx]\n",
    "    # Select the path proportion \n",
    "    path = agent.path\n",
    "    false_goal_idx = path.index(min_goal)\n",
    "    path = path[:false_goal_idx + 1]\n",
    "    \n",
    "    gru_fooled_scores.append(fooled_along_path(path, \n",
    "                                    agent.goal_node,\n",
    "                                    min_goal,\n",
    "                                    gru_posteriors[agent.id],\n",
    "                                    goals))\n",
    "    "
   ]
  },
  {
   "cell_type": "code",
   "execution_count": null,
   "id": "c3ef326e-0b19-4e9c-abb6-ac9b16b85130",
   "metadata": {},
   "outputs": [],
   "source": [
    "import numpy as np\n",
    "import matplotlib.pyplot as plt\n",
    "\n",
    "# your two (n_trajectories × n_fractions) arrays:\n",
    "arr      = np.array(fooled_scores)      # original BToM\n",
    "ext_arr  = np.array(ext_fooled_scores)  # extended BToM\n",
    "tomnet_arr = np.array(tomnet_fooled_scores)\n",
    "lstm_arr= np.array(lstm_fooled_scores)\n",
    "gru_arr= np.array(gru_fooled_scores)\n",
    "\n",
    "props = np.linspace(0, 1, arr.shape[1])\n",
    "\n",
    "# --- original BToM stats ---\n",
    "mean_b = arr.mean(axis=0)\n",
    "\n",
    "# --- extended BToM stats ---\n",
    "mean_e = ext_arr.mean(axis=0)\n",
    "\n",
    "mean_tomnet = tomnet_arr.mean(axis=0)\n",
    "mean_lstm = lstm_arr.mean(axis=0)\n",
    "mean_gru = gru_arr.mean(axis=0)\n",
    "# Plotting the results\n",
    "\n",
    "\n",
    "plt.figure(figsize=(10,6))\n",
    "\n",
    "# original BToM\n",
    "plt.plot(props, mean_b, '-o', color='C0', label='BToM mean')\n",
    "\n",
    "# extended BToM\n",
    "plt.plot(props, mean_e, '-s', color='C1', label='Ext‐BToM mean')\n",
    "# Tomnet curve\n",
    "plt.plot(props, mean_tomnet, '-o', color='green', label='ToMNet')\n",
    "#LSTM curve\n",
    "plt.plot(props, mean_lstm, '-^', color='purple', label='LSTM')\n",
    "#GRU curve\n",
    "plt.plot(props, mean_gru, '-d', color='orange', label='GRU')\n",
    "\n",
    "\n",
    "\n",
    "plt.xlabel('Proportion of Path Observed Before False Goal')\n",
    "plt.ylabel('P(false goal)')\n",
    "plt.title('Model False Goal Confidence')\n",
    "plt.xticks(props)\n",
    "plt.ylim(0, 0.5)\n",
    "plt.grid(alpha=0.3)\n",
    "plt.legend(loc='upper right')\n",
    "plt.tight_layout()\n",
    "plt.show()"
   ]
  },
  {
   "cell_type": "code",
   "execution_count": null,
   "id": "d1724180-4cc1-4a52-a30a-fbe9022ef3c7",
   "metadata": {},
   "outputs": [],
   "source": []
  }
 ],
 "metadata": {
  "kernelspec": {
   "display_name": "Python 3 (ipykernel)",
   "language": "python",
   "name": "python3"
  },
  "language_info": {
   "codemirror_mode": {
    "name": "ipython",
    "version": 3
   },
   "file_extension": ".py",
   "mimetype": "text/x-python",
   "name": "python",
   "nbconvert_exporter": "python",
   "pygments_lexer": "ipython3",
   "version": "3.13.2"
  }
 },
 "nbformat": 4,
 "nbformat_minor": 5
}
