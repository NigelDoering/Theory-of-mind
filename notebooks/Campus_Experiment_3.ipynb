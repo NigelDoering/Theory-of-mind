{
 "cells": [
  {
   "cell_type": "markdown",
   "id": "ecc3885e-4e36-4a1e-87a8-c344f69d5d20",
   "metadata": {},
   "source": [
    "# Experiment 3: Data Needs  \n",
    "This experiment will generate more training data and continue to further train the ToMNet model until it reaches a similar level of performance to the other models on the smaller training dataset"
   ]
  },
  {
   "cell_type": "code",
   "execution_count": null,
   "id": "8be1eae0-8bec-400d-9d65-a5f7a6042666",
   "metadata": {},
   "outputs": [],
   "source": []
  },
  {
   "cell_type": "code",
   "execution_count": null,
   "id": "c7e79666-afa3-4d74-9e76-ccea522a6a5a",
   "metadata": {},
   "outputs": [],
   "source": []
  },
  {
   "cell_type": "code",
   "execution_count": null,
   "id": "d14c3c8a-c626-495b-833c-119a68842a75",
   "metadata": {},
   "outputs": [],
   "source": []
  }
 ],
 "metadata": {
  "kernelspec": {
   "display_name": "Python (tom)",
   "language": "python",
   "name": "tom"
  },
  "language_info": {
   "codemirror_mode": {
    "name": "ipython",
    "version": 3
   },
   "file_extension": ".py",
   "mimetype": "text/x-python",
   "name": "python",
   "nbconvert_exporter": "python",
   "pygments_lexer": "ipython3",
   "version": "3.12.0"
  }
 },
 "nbformat": 4,
 "nbformat_minor": 5
}
