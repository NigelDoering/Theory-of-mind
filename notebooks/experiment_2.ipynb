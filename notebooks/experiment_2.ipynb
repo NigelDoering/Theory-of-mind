{
 "cells": [
  {
   "cell_type": "markdown",
   "id": "50ddb1c5-fdf1-4cd6-84dc-b794a416c7b3",
   "metadata": {},
   "source": [
    "# Experiment 2 Development. \n",
    "This notebook contains the code developing functions of experiment 2. E2 is trying to measure the ability of the model's to perform well when there are large changes in the preferences of an agent. This matters more for ToMNet than BToM since ToMNet learns a historical character embedding for each agent. The experiment assumes that the models were trained (if trained) on agent's whose distribution over goals, i.e. their preferences, did not change. The experiment will work like this:  \n",
    "\n",
    "- Select an agent.\n",
    "- Agent generates 10 new paths.\n",
    "- Measure **accuracy** and **confidence** in the same way we have over those paths to create averages\n",
    "- Modify the distribution of agent preferences over goals by some random, but sufficiently large, amount.\n",
    "- Agent generates 10 new paths.\n",
    "- Measure **accuracy** and **confidence** again.\n",
    "- Repeat for 100 agents and compile metrics."
   ]
  },
  {
   "cell_type": "code",
   "execution_count": null,
   "id": "f20cdba9-36c9-41bd-87f3-9670d7ebf2f3",
   "metadata": {},
   "outputs": [],
   "source": []
  }
 ],
 "metadata": {
  "kernelspec": {
   "display_name": "Python (tom)",
   "language": "python",
   "name": "tom"
  },
  "language_info": {
   "codemirror_mode": {
    "name": "ipython",
    "version": 3
   },
   "file_extension": ".py",
   "mimetype": "text/x-python",
   "name": "python",
   "nbconvert_exporter": "python",
   "pygments_lexer": "ipython3",
   "version": "3.12.0"
  }
 },
 "nbformat": 4,
 "nbformat_minor": 5
}
