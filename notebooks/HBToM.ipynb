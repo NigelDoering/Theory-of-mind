{
 "cells": [
  {
   "cell_type": "markdown",
   "id": "cb2d27e7-96d8-4cac-8fed-f22c93a7f042",
   "metadata": {},
   "source": [
    "## Developing Hierarchical BToM  \n",
    "This notebook is used for development of a hierarchical BToM model. Unlike BToM, this model learns a categorical distribution over the agent's long term goals.\n",
    "\n",
    "Steps:\n",
    "\n",
    "1. Load data\n",
    "2. Create new BToM instance with hierarchical component\n",
    "4. Run model on data\n",
    "5. Save as scripts"
   ]
  },
  {
   "cell_type": "code",
   "execution_count": 1,
   "id": "527e189a-263e-4c9d-a271-6dee1eecf190",
   "metadata": {},
   "outputs": [],
   "source": [
    "import numpy as np\n",
    "import pymc\n",
    "import networkx as nx\n",
    "import matplotlib.pyplot as plt\n",
    "import random\n",
    "import json"
   ]
  },
  {
   "cell_type": "code",
   "execution_count": 2,
   "id": "c510d7e8-dfbf-4f81-8c89-9249f635d1d8",
   "metadata": {},
   "outputs": [],
   "source": [
    "import sys\n",
    "import os\n",
    "import osmnx as ox\n",
    "\n",
    "# Adjust this path as needed to point to your project root\n",
    "sys.path.append(os.path.abspath(\"..\"))"
   ]
  },
  {
   "cell_type": "code",
   "execution_count": 3,
   "id": "5dbb50b3-2c51-404d-bf06-9388bbfb6dee",
   "metadata": {},
   "outputs": [],
   "source": [
    "from real_world_src.environment.campus_env import CampusEnvironment\n",
    "from real_world_src.agents.agent_factory import AgentFactory\n",
    "from real_world_src.agents.agent_species import ShortestPathAgent\n",
    "from real_world_src.simulation.simulator import Simulator\n",
    "#from real_world_src.simulation.experiment_1 import Simulator\n",
    "\n",
    "from real_world_src.utils.run_manager import RunManager\n",
    "from real_world_src.utils.config import VISUAL_CONFIG\n",
    "from real_world_src.utils.config import get_agent_color"
   ]
  },
  {
   "cell_type": "markdown",
   "id": "b405fada-85bf-4510-b824-ee4528b1fc8a",
   "metadata": {},
   "source": [
    "## Step 1: Loading the Data"
   ]
  },
  {
   "cell_type": "code",
   "execution_count": 4,
   "id": "84409adb-f2dd-43e8-a5ba-2a7238cc5efb",
   "metadata": {},
   "outputs": [
    {
     "name": "stdout",
     "output_type": "stream",
     "text": [
      "Started new simulation run #36\n",
      "All visualizations will be saved to: /Users/nigeldoering/Desktop/Research/Dissertation/Theory of Mind/Theory-of-mind/notebooks/visuals/run_36_20250507_105353\n",
      "Loading map data for University of California, San Diego, La Jolla, CA, USA...\n",
      "Environment loaded with 3108 nodes and 8646 edges\n"
     ]
    }
   ],
   "source": [
    "# Create a run manager\n",
    "run_manager = RunManager('visuals')\n",
    "run_dir = run_manager.start_new_run()\n",
    "\n",
    "# Initialize campus environment\n",
    "campus = CampusEnvironment()"
   ]
  },
  {
   "cell_type": "code",
   "execution_count": 5,
   "id": "26a58f80-a508-4585-ac16-3fb268f17f71",
   "metadata": {},
   "outputs": [],
   "source": [
    "# Need to establish the set of common goals (just choose the landmark nodes)\n",
    "goals = [469084068, 49150691, 768264666, 1926666015, 1926673385, 49309735,\n",
    "         273627682, 445989107, 445992528, 446128310, 1772230346, 1926673336, \n",
    "         2872424923, 3139419286, 4037576308]"
   ]
  },
  {
   "cell_type": "code",
   "execution_count": 6,
   "id": "4e8bced3-3a09-4f63-a403-7023609d3adb",
   "metadata": {},
   "outputs": [],
   "source": [
    "import pickle\n",
    "# if you used dill, just replace pickle with dill\n",
    "\n",
    "with open('agents.pkl', 'rb') as f:\n",
    "    agents = pickle.load(f)"
   ]
  },
  {
   "cell_type": "code",
   "execution_count": 7,
   "id": "22f4748c-b3e0-462a-be36-4e9a26476d37",
   "metadata": {},
   "outputs": [],
   "source": [
    "with open(\"./data/path_data.json\", 'r') as file:\n",
    "    path_data = json.load(file)\n",
    "\n",
    "with open(\"./data/goal_data.json\", 'r') as file:\n",
    "    goal_data = json.load(file)"
   ]
  },
  {
   "cell_type": "code",
   "execution_count": 8,
   "id": "d8b3be99-19f6-48ce-afd7-e879c294a50c",
   "metadata": {},
   "outputs": [],
   "source": [
    "def convert_keys_to_int(data):\n",
    "    if isinstance(data, dict):\n",
    "        return {int(k) if isinstance(k, str) and k.isdigit() else k: convert_keys_to_int(v) for k, v in data.items()}\n",
    "    elif isinstance(data, list):\n",
    "        return [convert_keys_to_int(item) for item in data]\n",
    "    else:\n",
    "        return data"
   ]
  },
  {
   "cell_type": "code",
   "execution_count": 9,
   "id": "bbefae90-6351-4315-8c62-8c7258ee8d59",
   "metadata": {},
   "outputs": [],
   "source": [
    "goal_data = convert_keys_to_int(goal_data)\n",
    "path_data = convert_keys_to_int(path_data)"
   ]
  },
  {
   "cell_type": "markdown",
   "id": "cf1e7f8b-7657-432d-ba9b-3ddcb896ad57",
   "metadata": {},
   "source": [
    "## Step 2: Adjust BToM "
   ]
  },
  {
   "cell_type": "code",
   "execution_count": 39,
   "id": "d1b9bcb4-8df1-4ea7-98fc-d9aa3d4a8038",
   "metadata": {},
   "outputs": [],
   "source": [
    "import numpy as np\n",
    "import networkx as nx\n",
    "\n",
    "class Extended_BToM:\n",
    "    def __init__(self, campus, agents, goals, beta=1.0):\n",
    "        \"\"\"\n",
    "        Initializes the BToM model.\n",
    "        \n",
    "        Parameters:\n",
    "        -----------\n",
    "        campus : object\n",
    "            Contains the NetworkX graph (campus.G).\n",
    "        agents : list\n",
    "            List of agent objects (each with attributes 'id', 'path', and 'goal_node').\n",
    "        beta : float, optional\n",
    "            Inverse temperature parameter for the softmax.\n",
    "        \"\"\"\n",
    "        self.campus = campus\n",
    "        self.beta = beta\n",
    "        self.agents = agents\n",
    "        \n",
    "        print(\"Computing shortest paths...\")\n",
    "        self.all_shortest_paths = dict(nx.all_pairs_shortest_path_length(campus.G_undirected))\n",
    "        print(\"Done\")\n",
    "        \n",
    "        # Candidate goals are derived from the agents' goal nodes; duplicates assumed not to occur.\n",
    "        self.candidate_goals = goals\n",
    "        prior_prob = 1 / len(self.candidate_goals)\n",
    "        self.uniform_prior = {g: prior_prob for g in self.candidate_goals}\n",
    "        \n",
    "        self.set_posteriors()\n",
    "\n",
    "        # Keep track of goals reached for each agent\n",
    "        self.agent_goal_counts = {agent.id: np.ones(len(self.candidate_goals)) for agent in self.agents}\n",
    "\n",
    "    def set_posteriors(self):\n",
    "        # Initialize posterior for each agent\n",
    "        self.agent_posteriors = {agent.id: self.uniform_prior.copy() for agent in self.agents}\n",
    "\n",
    "    def agent_goal_distribution(self, agent):\n",
    "        probs = self.agent_goal_counts[agent.id] / np.sum(self.agent_goal_counts[agent.id])\n",
    "        return {self.candidate_goals[i]: probs[i] for i in range(len(probs))}\n",
    "\n",
    "    def update_goal_counts(self, agent, observed_goal):\n",
    "        goal_idx = self.candidate_goals.index(observed_goal)\n",
    "        self.agent_goal_counts[agent.id][goal_idx] += 1\n",
    "        \n",
    "\n",
    "    def Q_value(self, s, a, g):\n",
    "        \"\"\"\n",
    "        Computes the Q-value for transitioning from state s to state a given goal g.\n",
    "        Since transitions are deterministic, this is defined as the negative shortest\n",
    "        path distance from node a to goal g.\n",
    "        \"\"\"\n",
    "        return -self.all_shortest_paths[a][g]\n",
    "\n",
    "    def update_posterior_step(self, current_posterior, s, a):\n",
    "        \"\"\"\n",
    "        Updates the current posterior over candidate goals based on one state-action pair.\n",
    "        \n",
    "        Parameters:\n",
    "        -----------\n",
    "        current_posterior : dict\n",
    "            The current posterior over candidate goals.\n",
    "        s : node\n",
    "            The current state (node ID).\n",
    "        a : node\n",
    "            The action taken (next node).\n",
    "        \n",
    "        Returns:\n",
    "        --------\n",
    "        new_posterior : dict\n",
    "            The updated posterior.\n",
    "        \"\"\"\n",
    "        new_posterior = {}\n",
    "        # For each candidate goal, update the probability based on the observed action.\n",
    "        for g in self.candidate_goals:\n",
    "            prob = current_posterior[g]\n",
    "            actions_possible = list(self.campus.G.neighbors(s))\n",
    "            if a not in actions_possible:\n",
    "                action_prob = 0.0\n",
    "            else:\n",
    "                # Compute Q-values and likelihoods for possible actions\n",
    "                q_vals = np.array([self.Q_value(s, a_prime, g) for a_prime in actions_possible])\n",
    "                likelihoods = np.exp(self.beta * q_vals)\n",
    "                likelihoods /= likelihoods.sum()\n",
    "                action_prob = likelihoods[actions_possible.index(a)]\n",
    "            new_posterior[g] = prob * action_prob\n",
    "        \n",
    "        # Normalize the new posterior\n",
    "        total = sum(new_posterior.values())\n",
    "        if total > 0:\n",
    "            for g in new_posterior:\n",
    "                new_posterior[g] /= total\n",
    "        else:\n",
    "            # Fallback to uniform if total probability is zero\n",
    "            new_posterior = {g: 1 / len(self.candidate_goals) for g in self.candidate_goals}\n",
    "        return new_posterior\n",
    "\n",
    "    def update_agent_posterior_over_path(self, agent, path):\n",
    "        \"\"\"\n",
    "        Updates and returns the list of posterior distributions over candidate goals for each step \n",
    "        along the agent's path.\n",
    "        \n",
    "        Parameters:\n",
    "        -----------\n",
    "        agent : object\n",
    "            An agent with attributes 'id' and 'path' (a list of node IDs).\n",
    "        \n",
    "        Returns:\n",
    "        --------\n",
    "        posterior_list : list of dicts\n",
    "            A list where each element is the posterior distribution (dict) at that step.\n",
    "        \"\"\"\n",
    "        #path = agent.path\n",
    "        posterior_list = []\n",
    "        \n",
    "        # Initialize with the agent's goal distribution\n",
    "        current_posterior = self.agent_goal_distribution(agent)\n",
    "        posterior_list.append(current_posterior)\n",
    "        \n",
    "        # Loop over each step along the trajectory\n",
    "        for i in range(len(path)-1):\n",
    "            s = path[i]\n",
    "            a = path[i+1]\n",
    "            current_posterior = self.update_posterior_step(current_posterior, s, a)\n",
    "            posterior_list.append(current_posterior)\n",
    "            \n",
    "        # Optionally, update the stored posterior for the agent with the last posterior\n",
    "        self.agent_posteriors[agent.id] = current_posterior\n",
    "\n",
    "        # Update the agents goal distribution using the final node in path\n",
    "        obs_goal = path[-1]\n",
    "        self.update_goal_counts(agent, obs_goal)\n",
    "        \n",
    "        return posterior_list\n",
    "\n",
    "    def infer_goal(self, agent):\n",
    "        \"\"\"\n",
    "        Infers the most likely goal for an agent based on its entire observed trajectory.\n",
    "        \n",
    "        Parameters:\n",
    "        -----------\n",
    "        agent : object\n",
    "            An agent with attributes 'id' and 'path'.\n",
    "        \n",
    "        Returns:\n",
    "        --------\n",
    "        inferred_goal : \n",
    "            The candidate goal with the highest posterior probability at the final step.\n",
    "        \"\"\"\n",
    "        posterior_list = self.update_agent_posterior_over_path(agent)\n",
    "        final_posterior = posterior_list[-1]\n",
    "        inferred_goal = max(final_posterior, key=final_posterior.get)\n",
    "        return inferred_goal"
   ]
  },
  {
   "cell_type": "markdown",
   "id": "68f08db8-4d9b-484a-85fd-90fd275fd9fe",
   "metadata": {},
   "source": [
    "## Step 3: Run Model"
   ]
  },
  {
   "cell_type": "code",
   "execution_count": 29,
   "id": "d73e2905-5448-46a4-918f-44bc58b66245",
   "metadata": {},
   "outputs": [
    {
     "name": "stdout",
     "output_type": "stream",
     "text": [
      "Computing shortest paths...\n",
      "Done\n"
     ]
    }
   ],
   "source": [
    "hbtom = HBToM(campus, agents, goals)"
   ]
  },
  {
   "cell_type": "code",
   "execution_count": 30,
   "id": "38266566-7732-4446-aa32-b27eeb3bf3d2",
   "metadata": {},
   "outputs": [],
   "source": [
    "# Calculate all the posteriors using the first 30 episode\n",
    "posteriors_data = {}\n",
    "\n",
    "for episode in range(len(goal_data)):\n",
    "    posteriors_data[episode] = {}\n",
    "    for agent in agents:\n",
    "        posteriors_data[episode][agent.id] = hbtom.update_agent_posterior_over_path(agent, path_data[episode][agent.id])\n",
    "\n"
   ]
  },
  {
   "cell_type": "markdown",
   "id": "c756546e-fe76-4bbf-846d-8ddd22f1f18e",
   "metadata": {},
   "source": [
    "## Step 5: Visualize Results"
   ]
  },
  {
   "cell_type": "code",
   "execution_count": 35,
   "id": "e2d9e86f-259d-4ec5-add9-be992b2a5334",
   "metadata": {},
   "outputs": [],
   "source": [
    "def brier_score(true_goal, p_dist):\n",
    "    \"\"\"\n",
    "    Multi-class Brier score given a dict goal→prob.\n",
    "    \"\"\"\n",
    "    score = 0.0\n",
    "    for g, p in p_dist.items():\n",
    "        y = 1.0 if g == true_goal else 0.0\n",
    "        score += (p - y) ** 2\n",
    "    return float(score)\n",
    "\n",
    "\n",
    "def brier_along_path(path, true_goal, posteriors_by_step, goals):\n",
    "    \"\"\"\n",
    "    Compute Brier scores at 0%, 10%, …, 100% of the path.\n",
    "    \n",
    "    Parameters\n",
    "    ----------\n",
    "    path : list\n",
    "        The sequence of states (or state-action tuples).\n",
    "    true_goal : hashable\n",
    "        The ground-truth goal for this trajectory.\n",
    "    posteriors_by_step : dict[int, dict] or list[dict]\n",
    "        Either\n",
    "          * a dict mapping step index 1..n → posterior dict, OR\n",
    "          * a list of posterior dicts in step-order (len = n).\n",
    "        Each posterior dict maps each goal → P(goal | trajectory up to that step).\n",
    "    \n",
    "    Returns\n",
    "    -------\n",
    "    dict[float, float]\n",
    "        Mapping fraction → Brier score.\n",
    "    \"\"\"\n",
    "    n = len(path) - 1\n",
    "    if n < 1:\n",
    "        raise ValueError(\"Path must have at least 2 states to define transitions\")\n",
    "\n",
    "    # uniform prior for t=0\n",
    "    uniform = {g: 1.0/len(goals) for g in goals}\n",
    "\n",
    "    results = []\n",
    "    for frac in np.linspace(0, 1, 11):  # 0.0,0.1,...,1.0\n",
    "        t = int(np.floor(frac * n))\n",
    "        if t == 0:\n",
    "            p_dist = uniform\n",
    "        else:\n",
    "            p_dist = posteriors_by_step[t-1]\n",
    "        results.append(brier_score(true_goal, p_dist))\n",
    "\n",
    "    return results"
   ]
  },
  {
   "cell_type": "code",
   "execution_count": 36,
   "id": "f255eb60-8a5e-48a4-8da5-a4df08210761",
   "metadata": {},
   "outputs": [],
   "source": [
    "scores = []\n",
    "for episode in range(len(goal_data)):\n",
    "    for agent in agents:\n",
    "        scores.append(brier_along_path(path_data[episode][agent.id], \n",
    "                                  goal_data[episode][agent.id], \n",
    "                                  posteriors_data[episode][agent.id], \n",
    "                                  goals))\n"
   ]
  },
  {
   "cell_type": "code",
   "execution_count": 38,
   "id": "4456942b-0b45-46bb-9ed8-3f758bb215aa",
   "metadata": {},
   "outputs": [
    {
     "data": {
      "image/png": "[encoded data removed]",
      "text/plain": [
       "<Figure size 1000x600 with 1 Axes>"
      ]
     },
     "metadata": {},
     "output_type": "display_data"
    }
   ],
   "source": [
    "import numpy as np\n",
    "import matplotlib.pyplot as plt\n",
    "\n",
    "# Suppose `scores` is your (n_trajectories × n_fractions) array:\n",
    "arr = np.array(scores)  # shape (N, 11)\n",
    "props = np.linspace(0, 1, arr.shape[1])\n",
    "\n",
    "# Compute mean\n",
    "mean_scores = arr.mean(axis=0)\n",
    "\n",
    "# Compute percentiles for a 95% *prediction* interval\n",
    "lower = np.percentile(arr, 25, axis=0)\n",
    "upper = np.percentile(arr, 75, axis=0)\n",
    "\n",
    "plt.figure(figsize=(10,6))\n",
    "plt.plot(props, mean_scores, '-o', label='BToM')\n",
    "plt.fill_between(props, lower, upper,\n",
    "                 color='C0', alpha=0.2,\n",
    "                 label='50% of Scores')\n",
    "plt.xlabel('Proportion of Path Observed')\n",
    "plt.ylabel('Brier Score')\n",
    "plt.title('Brier Score vs. Path Fraction')\n",
    "plt.xticks(props)\n",
    "plt.ylim(0, 1.5)\n",
    "plt.grid(alpha=0.3)\n",
    "plt.legend()\n",
    "plt.tight_layout()\n",
    "plt.show()"
   ]
  },
  {
   "cell_type": "code",
   "execution_count": null,
   "id": "c2ac429a-dcf8-4a86-8757-1f15891aa808",
   "metadata": {},
   "outputs": [],
   "source": []
  }
 ],
 "metadata": {
  "kernelspec": {
   "display_name": "Python (tom)",
   "language": "python",
   "name": "tom"
  },
  "language_info": {
   "codemirror_mode": {
    "name": "ipython",
    "version": 3
   },
   "file_extension": ".py",
   "mimetype": "text/x-python",
   "name": "python",
   "nbconvert_exporter": "python",
   "pygments_lexer": "ipython3",
   "version": "3.12.0"
  }
 },
 "nbformat": 4,
 "nbformat_minor": 5
}
