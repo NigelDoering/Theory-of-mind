{
 "cells": [
  {
   "cell_type": "markdown",
   "id": "a81fef36-5cb7-4aa1-9a28-2a88cf85e448",
   "metadata": {},
   "source": [
    "## Experiment 2: Model Robustness  \n",
    "This experiment will measure the performance of the models in being able to adapt to large changes in the goal distribution of an agent. We will generate new episode data (~10 episodes) after significantly changing the goal distributions of the agents. We will then measure change in performance from before. \n",
    "  \n",
    "Steps:\n",
    "  \n",
    "1. Load agents and data from experiment 0\n",
    "2. Run the models and get score information\n",
    "3. Change the goal distributions of the agents\n",
    "4. Generate new data\n",
    "5. Run the models and get new score information\n",
    "6. Visualize the difference"
   ]
  },
  {
   "cell_type": "code",
   "execution_count": 31,
   "id": "4d42b07d-94ca-4bd1-af3a-a01c3fd94db3",
   "metadata": {},
   "outputs": [],
   "source": [
    "import numpy as np\n",
    "import pymc\n",
    "import networkx as nx\n",
    "import matplotlib.pyplot as plt\n",
    "import random\n",
    "import json\n",
    "from tqdm import tqdm"
   ]
  },
  {
   "cell_type": "code",
   "execution_count": 2,
   "id": "0a6956c1-57e6-4eb3-8cbf-7fdcb0ff3f21",
   "metadata": {},
   "outputs": [],
   "source": [
    "import sys\n",
    "import os\n",
    "import osmnx as ox\n",
    "\n",
    "# Adjust this path as needed to point to your project root\n",
    "sys.path.append(os.path.abspath(\"..\"))"
   ]
  },
  {
   "cell_type": "code",
   "execution_count": 3,
   "id": "1a225c68-44d3-4a84-9e42-435d833eb2f5",
   "metadata": {},
   "outputs": [],
   "source": [
    "from real_world_src.environment.campus_env import CampusEnvironment\n",
    "from real_world_src.agents.agent_factory import AgentFactory\n",
    "from real_world_src.agents.agent_species import ShortestPathAgent\n",
    "from real_world_src.simulation.simulator import Simulator\n",
    "#from real_world_src.simulation.experiment_1 import Simulator\n",
    "\n",
    "from real_world_src.utils.run_manager import RunManager\n",
    "from real_world_src.utils.config import VISUAL_CONFIG\n",
    "from real_world_src.utils.config import get_agent_color"
   ]
  },
  {
   "cell_type": "markdown",
   "id": "b03edb59-c2f5-4fb0-80e0-651b6fc28444",
   "metadata": {},
   "source": [
    "## Step 1: Loading the Data"
   ]
  },
  {
   "cell_type": "code",
   "execution_count": 4,
   "id": "a19b2ce9-7436-4800-a91a-38b42694b7f6",
   "metadata": {},
   "outputs": [
    {
     "name": "stdout",
     "output_type": "stream",
     "text": [
      "Started new simulation run #4\n",
      "All visualizations will be saved to: /Users/nigeldoering/Desktop/Research/Dissertation/Theory of Mind/Theory-of-mind/notebooks/visuals/run_4_20250610_104424\n",
      "Loading map data for University of California, San Diego, La Jolla, CA, USA...\n",
      "Environment loaded with 3108 nodes and 8646 edges\n"
     ]
    }
   ],
   "source": [
    "# Create a run manager\n",
    "run_manager = RunManager('visuals')\n",
    "run_dir = run_manager.start_new_run()\n",
    "\n",
    "# Initialize campus environment\n",
    "campus = CampusEnvironment()"
   ]
  },
  {
   "cell_type": "code",
   "execution_count": 5,
   "id": "3cd16269-5231-4296-a400-7db3cbfad1c3",
   "metadata": {},
   "outputs": [],
   "source": [
    "# Need to establish the set of common goals (just choose the landmark nodes)\n",
    "goals = [469084068, 49150691, 768264666, 1926666015, 1926673385, 49309735,\n",
    "         273627682, 445989107, 445992528, 446128310, 1772230346, 1926673336, \n",
    "         2872424923, 3139419286, 4037576308]"
   ]
  },
  {
   "cell_type": "code",
   "execution_count": 7,
   "id": "57311e36-fbe0-4186-996b-c27aebff2a11",
   "metadata": {},
   "outputs": [],
   "source": [
    "import pickle\n",
    "# if you used dill, just replace pickle with dill\n",
    "\n",
    "with open('data/agents.pkl', 'rb') as f:\n",
    "    agents = pickle.load(f)"
   ]
  },
  {
   "cell_type": "code",
   "execution_count": 8,
   "id": "c1e68180-60b5-4843-aa0e-d6f11e0dee05",
   "metadata": {},
   "outputs": [],
   "source": [
    "with open(\"./data/path_data.json\", 'r') as file:\n",
    "    path_data = json.load(file)\n",
    "\n",
    "with open(\"./data/goal_data.json\", 'r') as file:\n",
    "    goal_data = json.load(file)"
   ]
  },
  {
   "cell_type": "code",
   "execution_count": 9,
   "id": "92176a1e-d74e-4fa4-b745-6f218a79d2a8",
   "metadata": {},
   "outputs": [],
   "source": [
    "def convert_keys_to_int(data):\n",
    "    if isinstance(data, dict):\n",
    "        return {int(k) if isinstance(k, str) and k.isdigit() else k: convert_keys_to_int(v) for k, v in data.items()}\n",
    "    elif isinstance(data, list):\n",
    "        return [convert_keys_to_int(item) for item in data]\n",
    "    else:\n",
    "        return data"
   ]
  },
  {
   "cell_type": "code",
   "execution_count": 10,
   "id": "e5d0e096-b79a-4dc4-808a-9ae5ac6cfac9",
   "metadata": {},
   "outputs": [],
   "source": [
    "goal_data = convert_keys_to_int(goal_data)\n",
    "path_data = convert_keys_to_int(path_data)"
   ]
  },
  {
   "cell_type": "markdown",
   "id": "e1ce958d-5e20-4f15-b8ba-cec69a222713",
   "metadata": {},
   "source": [
    "## Step 2: Running the Models on Old Data"
   ]
  },
  {
   "cell_type": "code",
   "execution_count": 11,
   "id": "17879017-8aa4-4577-bca4-fe28e287b812",
   "metadata": {},
   "outputs": [],
   "source": [
    "from real_world_src.utils.metrics import brier_along_path, accuracy_along_path, fooled_along_path"
   ]
  },
  {
   "cell_type": "markdown",
   "id": "fab994e5-fe5d-4a81-88b4-1d067c22377d",
   "metadata": {},
   "source": [
    "### BToM"
   ]
  },
  {
   "cell_type": "code",
   "execution_count": 12,
   "id": "2562861d-6a02-493d-8576-12c7b8632522",
   "metadata": {},
   "outputs": [],
   "source": [
    "# Import BToM baseline\n",
    "from real_world_src.models.btom import BToM"
   ]
  },
  {
   "cell_type": "code",
   "execution_count": 13,
   "id": "67a7fd9b-af9e-4373-be04-5c9e58daba95",
   "metadata": {},
   "outputs": [
    {
     "name": "stdout",
     "output_type": "stream",
     "text": [
      "Computing shortest paths...\n",
      "Done\n"
     ]
    }
   ],
   "source": [
    "btom = BToM(campus, agents, goals)"
   ]
  },
  {
   "cell_type": "code",
   "execution_count": 14,
   "id": "2e33b1f6-4289-41e1-9692-6aa8e27139e7",
   "metadata": {},
   "outputs": [],
   "source": [
    "# Calculate all the posteriors using the first 30 episode\n",
    "posteriors_data = {}\n",
    "\n",
    "for episode in range(len(goal_data)):\n",
    "    posteriors_data[episode] = {}\n",
    "    for agent in agents:\n",
    "        posteriors_data[episode][agent.id] = btom.update_agent_posterior_over_path(agent, path_data[episode][agent.id])\n",
    "    # Reset the posteriors for new episode\n",
    "    btom.reset_posteriors()"
   ]
  },
  {
   "cell_type": "code",
   "execution_count": 15,
   "id": "d56020b8-f8b6-45a9-8804-f3182d34a569",
   "metadata": {},
   "outputs": [],
   "source": [
    "orig_scores_btom = []\n",
    "for episode in range(len(goal_data)):\n",
    "    for agent in agents:\n",
    "        orig_scores_btom.append(brier_along_path(path_data[episode][agent.id], \n",
    "                                  goal_data[episode][agent.id], \n",
    "                                  posteriors_data[episode][agent.id], \n",
    "                                  goals))\n"
   ]
  },
  {
   "cell_type": "code",
   "execution_count": 16,
   "id": "368f785d-bd7c-4630-b5b1-d147415694b8",
   "metadata": {},
   "outputs": [],
   "source": [
    "btom_orig_accuracy = []\n",
    "for episode in range(len(goal_data)):\n",
    "    for agent in agents:\n",
    "        btom_orig_accuracy.append(accuracy_along_path(path_data[episode][agent.id], \n",
    "                                  goal_data[episode][agent.id], \n",
    "                                  posteriors_data[episode][agent.id], \n",
    "                                  goals))"
   ]
  },
  {
   "cell_type": "markdown",
   "id": "478da9c7-4146-41e4-9347-a1c5593ac002",
   "metadata": {},
   "source": [
    "### Extended BToM"
   ]
  },
  {
   "cell_type": "code",
   "execution_count": 17,
   "id": "d7c34425-acc4-43bc-8194-6302108df755",
   "metadata": {},
   "outputs": [],
   "source": [
    "from real_world_src.models.extended_btom import Extended_BToM"
   ]
  },
  {
   "cell_type": "code",
   "execution_count": 21,
   "id": "fcea38fe-7fe8-47ad-89bd-e5632fe7a993",
   "metadata": {},
   "outputs": [],
   "source": [
    "with open('data/extended_btom.pkl', 'rb') as f:\n",
    "    ext_btom = pickle.load(f)"
   ]
  },
  {
   "cell_type": "code",
   "execution_count": 22,
   "id": "b29b4dc8-9af7-4c9d-8210-766db6090bff",
   "metadata": {},
   "outputs": [],
   "source": [
    "ext_posteriors_data = {}\n",
    "\n",
    "for episode in range(len(goal_data)):\n",
    "    ext_posteriors_data[episode] = {}\n",
    "    for agent in agents:\n",
    "        ext_posteriors_data[episode][agent.id] = ext_btom.update_agent_posterior_over_path(agent, path_data[episode][agent.id])\n",
    "\n"
   ]
  },
  {
   "cell_type": "code",
   "execution_count": 23,
   "id": "ec5c6ac9-e1ee-409f-a0a4-029d2196e24d",
   "metadata": {},
   "outputs": [],
   "source": [
    "orig_scores_ext = []\n",
    "for episode in range(len(goal_data)):\n",
    "    for agent in agents:\n",
    "        orig_scores_ext.append(brier_along_path(path_data[episode][agent.id], \n",
    "                                  goal_data[episode][agent.id], \n",
    "                                  ext_posteriors_data[episode][agent.id], \n",
    "                                  goals))"
   ]
  },
  {
   "cell_type": "code",
   "execution_count": 24,
   "id": "36e73d8f-4e32-43bb-b397-775e3fb3bc75",
   "metadata": {},
   "outputs": [],
   "source": [
    "ext_orig_accuracy = []\n",
    "for episode in range(len(goal_data)):\n",
    "    for agent in agents:\n",
    "        ext_orig_accuracy.append(accuracy_along_path(path_data[episode][agent.id], \n",
    "                                  goal_data[episode][agent.id], \n",
    "                                  ext_posteriors_data[episode][agent.id], \n",
    "                                  goals))"
   ]
  },
  {
   "cell_type": "markdown",
   "id": "1f987d2f-3542-4da3-847d-fd6457623276",
   "metadata": {},
   "source": [
    "### ToMNet"
   ]
  },
  {
   "cell_type": "code",
   "execution_count": 29,
   "id": "45943d2e-04c0-495a-9c35-9c8bd80a1719",
   "metadata": {},
   "outputs": [],
   "source": [
    "def get_posterior_format(dists):\n",
    "    idx2goal = { idx: goal for goal, idx in goal2idx.items() }\n",
    "    goal_posterior = [ {idx2goal[i]: float(p) for i, p in enumerate(prob_row) } for prob_row in dists]\n",
    "    return goal_posterior"
   ]
  },
  {
   "cell_type": "code",
   "execution_count": 25,
   "id": "edcfb2c6-3c39-49b5-a407-e6ab9d62c039",
   "metadata": {},
   "outputs": [],
   "source": [
    "from real_world_src.models.simple_tomnet import ToMNet, ToMNetDataset, tomnet_collate_fn, infer_goal_dists\n",
    "from torch.utils.data import Dataset, DataLoader\n",
    "import torch"
   ]
  },
  {
   "cell_type": "code",
   "execution_count": 26,
   "id": "37724695-d9b3-4e87-ba09-25d45231cd1d",
   "metadata": {},
   "outputs": [
    {
     "data": {
      "text/plain": [
       "ToMNet(\n",
       "  (char_net): CharacterNet(\n",
       "    (embedding): Embedding(3108, 16, padding_idx=0)\n",
       "    (lstm): LSTM(16, 64, batch_first=True)\n",
       "  )\n",
       "  (mental_net): MentalNet(\n",
       "    (embedding): Embedding(3108, 16, padding_idx=0)\n",
       "    (lstm): LSTM(16, 64, batch_first=True)\n",
       "  )\n",
       "  (embedding): Embedding(3108, 16, padding_idx=0)\n",
       "  (fusion): Sequential(\n",
       "    (0): Linear(in_features=144, out_features=128, bias=True)\n",
       "    (1): ReLU()\n",
       "    (2): Linear(in_features=128, out_features=64, bias=True)\n",
       "    (3): ReLU()\n",
       "  )\n",
       "  (goal_head): Linear(in_features=64, out_features=15, bias=True)\n",
       "  (next_head): Linear(in_features=64, out_features=3108, bias=True)\n",
       ")"
      ]
     },
     "execution_count": 26,
     "metadata": {},
     "output_type": "execute_result"
    }
   ],
   "source": [
    "device = 'mps'\n",
    "\n",
    "# the values you trained with:\n",
    "K     = 10\n",
    "T_sup = 75\n",
    "T_q   = 20\n",
    "\n",
    "\n",
    "model = ToMNet(\n",
    "    num_nodes = len(campus.nodes),\n",
    "    num_goals = len(goals),\n",
    "    K     = K,\n",
    "    T_sup = T_sup,\n",
    "    T_q   = T_q,\n",
    ").to(device)\n",
    "\n",
    "state_dict = torch.load(\n",
    "    \"../real_world_src/models/model_runs/tomnet_cpu.pth\",\n",
    "    map_location=device\n",
    ")\n",
    "model.load_state_dict(state_dict)\n",
    "model.eval()"
   ]
  },
  {
   "cell_type": "code",
   "execution_count": 27,
   "id": "8f9fe9d1-c086-45e5-a579-97259ca91db8",
   "metadata": {},
   "outputs": [],
   "source": [
    "# build node2idx so that every node in campus.G_undirected maps to 0…V−1\n",
    "all_nodes = list(campus.G_undirected.nodes())\n",
    "node2idx  = {n:i for i,n in enumerate(all_nodes)}\n",
    "V = len(all_nodes)\n",
    "\n",
    "# build goal2idx likewise for your goals list\n",
    "goal2idx = {g:i for i,g in enumerate(goals)}\n",
    "G = len(goals)\n",
    "\n",
    "train_agent_ids = list(range(0, 70))\n",
    "test_agent_ids = list(range(70, 100))"
   ]
  },
  {
   "cell_type": "code",
   "execution_count": 63,
   "id": "115d1aa9-baf7-4eed-8b89-de748b5d3769",
   "metadata": {},
   "outputs": [
    {
     "name": "stderr",
     "output_type": "stream",
     "text": [
      "Episode: 100%|███████████████████████████████████████████████████████████████████████████████████████████| 100/100 [11:09<00:00,  6.69s/it]\n"
     ]
    }
   ],
   "source": [
    "tomnet_posteriors = {}\n",
    "\n",
    "for episode in tqdm(range(len(goal_data)), desc=\"Episode\"):\n",
    "    tomnet_posteriors[episode] = {}\n",
    "    for agent in agents:\n",
    "        if agent.id not in test_agent_ids:\n",
    "            continue\n",
    "        dists = infer_goal_dists(model, agent.id, episode, path_data, node2idx, goal2idx, K=10, T_sup=75, T_q=20, device=device)\n",
    "        tomnet_posteriors[episode][agent.id] = get_posterior_format(dists)"
   ]
  },
  {
   "cell_type": "code",
   "execution_count": 64,
   "id": "a070cb59-2647-428e-8a1b-81f2a4668002",
   "metadata": {},
   "outputs": [],
   "source": [
    "# ToMNet Scores\n",
    "tomnet_scores = []\n",
    "for episode in range(len(goal_data)):\n",
    "    for agent in agents:\n",
    "        if agent.id not in test_agent_ids:\n",
    "            continue\n",
    "        tomnet_scores.append(brier_along_path(path_data[episode][agent.id], \n",
    "                                  goal_data[episode][agent.id], \n",
    "                                  tomnet_posteriors[episode][agent.id], \n",
    "                                  goals))\n",
    "\n",
    "tomnet_acc = []\n",
    "for episode in range(len(goal_data)):\n",
    "    for agent in agents:\n",
    "        if agent.id not in test_agent_ids:\n",
    "            continue\n",
    "        tomnet_acc.append(accuracy_along_path(path_data[episode][agent.id], \n",
    "                                  goal_data[episode][agent.id], \n",
    "                                  tomnet_posteriors[episode][agent.id], \n",
    "                                  goals))"
   ]
  },
  {
   "cell_type": "code",
   "execution_count": null,
   "id": "d5c9542d-459b-4972-862b-d318e9034524",
   "metadata": {},
   "outputs": [],
   "source": []
  },
  {
   "cell_type": "markdown",
   "id": "66fbdca7-bb4f-47a7-abdf-ea0b337245b8",
   "metadata": {},
   "source": [
    "## Step 3: Change Agent Goal Distributions"
   ]
  },
  {
   "cell_type": "code",
   "execution_count": 65,
   "id": "7a057411-b3a3-4af3-8242-42c182dae98e",
   "metadata": {},
   "outputs": [],
   "source": [
    "def kl_divergence(p, q, eps=1e-12):\n",
    "    \"\"\"\n",
    "    Compute KL divergence KL(p || q) = sum_i p[i] * log(p[i] / q[i]).\n",
    "    \"\"\"\n",
    "    p = np.asarray(p, dtype=float)\n",
    "    q = np.asarray(q, dtype=float)\n",
    "    # add epsilon and renormalize (optional, but keeps them valid dists)\n",
    "    p = p + eps\n",
    "    q = q + eps\n",
    "    p = p / p.sum()\n",
    "    q = q / q.sum()\n",
    "    return float(np.sum(p * np.log(p / q)))"
   ]
  },
  {
   "cell_type": "code",
   "execution_count": 66,
   "id": "e65524d4-8030-4445-a1c2-bc00e8c29c41",
   "metadata": {},
   "outputs": [],
   "source": [
    "n_goals = len(goals)\n",
    "ag_alpha = np.random.normal(1, 0.2, size=n_goals)\n",
    "\n",
    "for agent in agents: # Set each agent's goal distribution\n",
    "    while True:\n",
    "        old_distribution = agent.goal_distribution\n",
    "        new_distribution = np.random.dirichlet(alpha=np.ones(n_goals)*(ag_alpha), size=1)[0]\n",
    "        if kl_divergence(old_distribution, new_distribution) > 1:\n",
    "            agent.goal_distribution = new_distribution\n",
    "            break\n"
   ]
  },
  {
   "cell_type": "markdown",
   "id": "fe80409a-01c2-4f65-817f-614774519f7a",
   "metadata": {},
   "source": [
    "## Step 4: Generate New Data"
   ]
  },
  {
   "cell_type": "code",
   "execution_count": 67,
   "id": "76b46857-e037-48bd-a069-f95383e05d6f",
   "metadata": {},
   "outputs": [],
   "source": [
    "import json"
   ]
  },
  {
   "cell_type": "code",
   "execution_count": 68,
   "id": "de96c4aa-8c2d-457b-b257-29cf62eb1cf6",
   "metadata": {},
   "outputs": [],
   "source": [
    "def new_episode(agents):\n",
    "\n",
    "    # Set the goal and start nodes\n",
    "    for agent in agents:\n",
    "        agent.path = [] # Clear the old path\n",
    "        agent.goal_node = int(np.random.choice(goals, size=1, p=agent.goal_distribution)[0])\n",
    "\n",
    "        while True:\n",
    "            start_node = campus.get_random_node()\n",
    "            try:\n",
    "                path = nx.shortest_path(campus.G_undirected, \n",
    "                                       source=start_node, \n",
    "                                       target=agent.goal_node, \n",
    "                                       weight='length')\n",
    "                if len(path) >15:  # Make sure path is non-trivial\n",
    "                    break\n",
    "            except:\n",
    "                continue\n",
    "        agent.start_node = start_node\n",
    "        agent.current_node = start_node\n",
    "\n",
    "    return "
   ]
  },
  {
   "cell_type": "code",
   "execution_count": 69,
   "id": "40fdc8a5-5a66-4cbc-b6f5-cfeb200f32bc",
   "metadata": {},
   "outputs": [],
   "source": [
    "new_path_data = {}\n",
    "new_goal_data = {}\n",
    "m = 50\n",
    "for episode in range(m):\n",
    "    new_episode(agents)\n",
    "    episode_path_data = {}\n",
    "    episode_goal_data = {}\n",
    "    for agent in agents:\n",
    "        agent.plan_path()\n",
    "        episode_path_data[agent.id] = agent.path\n",
    "        episode_goal_data[agent.id] = agent.goal_node\n",
    "    # Save the data from each episode\n",
    "    new_path_data[episode] = episode_path_data\n",
    "    new_goal_data[episode] = episode_goal_data\n",
    "\n",
    "with open(\"./data/new_path_data.json\", \"w\") as file:\n",
    "    json.dump(new_path_data, file, indent=4)\n",
    "\n",
    "with open(\"./data/new_goal_data.json\", \"w\") as file:\n",
    "    json.dump(new_goal_data, file, indent=4)"
   ]
  },
  {
   "cell_type": "code",
   "execution_count": 70,
   "id": "1aa5a9ed-c1d6-4145-b7e6-ddb6d0029376",
   "metadata": {},
   "outputs": [],
   "source": [
    "with open(\"./data/new_path_data.json\", 'r') as file:\n",
    "    new_path_data = json.load(file)\n",
    "\n",
    "with open(\"./data/new_goal_data.json\", 'r') as file:\n",
    "    new_goal_data = json.load(file)"
   ]
  },
  {
   "cell_type": "code",
   "execution_count": 71,
   "id": "465efbe7-ef5a-4099-927c-7b94b6698679",
   "metadata": {},
   "outputs": [],
   "source": [
    "new_goal_data = convert_keys_to_int(new_goal_data)\n",
    "new_path_data = convert_keys_to_int(new_path_data)"
   ]
  },
  {
   "cell_type": "code",
   "execution_count": 72,
   "id": "e23411df-6a9b-4140-933a-ef33f3b0f392",
   "metadata": {},
   "outputs": [
    {
     "data": {
      "text/plain": [
       "50"
      ]
     },
     "execution_count": 72,
     "metadata": {},
     "output_type": "execute_result"
    }
   ],
   "source": [
    "len(new_goal_data)"
   ]
  },
  {
   "cell_type": "markdown",
   "id": "3339ddc2-f5be-4b6b-bc21-781db4a0f352",
   "metadata": {},
   "source": [
    "## Step 5: Run Models on New Data"
   ]
  },
  {
   "cell_type": "code",
   "execution_count": 73,
   "id": "60990427-4b78-4c34-9d5d-419eb5d0c59b",
   "metadata": {},
   "outputs": [],
   "source": [
    "# BToM\n",
    "posteriors_data = {}\n",
    "\n",
    "for episode in range(len(new_goal_data)):\n",
    "    posteriors_data[episode] = {}\n",
    "    for agent in agents:\n",
    "        posteriors_data[episode][agent.id] = btom.update_agent_posterior_over_path(agent, new_path_data[episode][agent.id])\n",
    "    # Reset the posteriors for new episode\n",
    "    btom.reset_posteriors()\n",
    "\n",
    "# Extended BToM\n",
    "ext_posteriors_data = {}\n",
    "\n",
    "for episode in range(len(new_goal_data)):\n",
    "    ext_posteriors_data[episode] = {}\n",
    "    for agent in agents:\n",
    "        ext_posteriors_data[episode][agent.id] = ext_btom.update_agent_posterior_over_path(agent, new_path_data[episode][agent.id])\n",
    "\n",
    "\n",
    "# BToM\n",
    "btom_new_scores = []\n",
    "for episode in range(len(new_goal_data)):\n",
    "    for agent in agents:\n",
    "        btom_new_scores.append(brier_along_path(new_path_data[episode][agent.id], \n",
    "                                  new_goal_data[episode][agent.id], \n",
    "                                  posteriors_data[episode][agent.id], \n",
    "                                  goals))\n",
    "\n",
    "# Extended BToM\n",
    "ext_new_scores = []\n",
    "for episode in range(len(new_goal_data)):\n",
    "    for agent in agents:\n",
    "        ext_new_scores.append(brier_along_path(new_path_data[episode][agent.id], \n",
    "                                  new_goal_data[episode][agent.id], \n",
    "                                  ext_posteriors_data[episode][agent.id], \n",
    "                                  goals))\n"
   ]
  },
  {
   "cell_type": "code",
   "execution_count": 74,
   "id": "e2b0f0f2-644e-442e-b345-6e14df6858f4",
   "metadata": {},
   "outputs": [],
   "source": [
    "# BToM\n",
    "btom_new_accuracy = []\n",
    "for episode in range(len(new_goal_data)):\n",
    "    for agent in agents:\n",
    "        btom_new_accuracy.append(accuracy_along_path(new_path_data[episode][agent.id], \n",
    "                                  new_goal_data[episode][agent.id], \n",
    "                                  posteriors_data[episode][agent.id], \n",
    "                                  goals))\n",
    "\n",
    "# Extended BToM\n",
    "ext_new_accuracy = []\n",
    "for episode in range(len(new_goal_data)):\n",
    "    for agent in agents:\n",
    "        ext_new_accuracy.append(accuracy_along_path(new_path_data[episode][agent.id], \n",
    "                                  new_goal_data[episode][agent.id], \n",
    "                                  ext_posteriors_data[episode][agent.id], \n",
    "                                  goals))"
   ]
  },
  {
   "cell_type": "code",
   "execution_count": 75,
   "id": "e02a32c5-5535-4e3e-ab7c-1e4373b9e796",
   "metadata": {},
   "outputs": [
    {
     "name": "stderr",
     "output_type": "stream",
     "text": [
      "Episode: 100%|█████████████████████████████████████████████████████████████████████████████████████████████| 50/50 [05:37<00:00,  6.76s/it]\n"
     ]
    }
   ],
   "source": [
    "# Update ToMNet\n",
    "tomnet_posteriors = {}\n",
    "\n",
    "for episode in tqdm(range(len(new_goal_data)), desc=\"Episode\"):\n",
    "    tomnet_posteriors[episode] = {}\n",
    "    for agent in agents:\n",
    "        if agent.id not in test_agent_ids:\n",
    "            continue\n",
    "        dists = infer_goal_dists(model, agent.id, episode, new_path_data, node2idx, goal2idx, K=10, T_sup=75, T_q=20, device=device)\n",
    "        tomnet_posteriors[episode][agent.id] = get_posterior_format(dists)"
   ]
  },
  {
   "cell_type": "code",
   "execution_count": 76,
   "id": "399aec93-fe21-4fe4-b61f-5e62ce5e8876",
   "metadata": {},
   "outputs": [],
   "source": [
    "# ToMNet Scores\n",
    "tomnet_new_scores = []\n",
    "for episode in range(len(new_goal_data)):\n",
    "    for agent in agents:\n",
    "        if agent.id not in test_agent_ids:\n",
    "            continue\n",
    "        tomnet_new_scores.append(brier_along_path(new_path_data[episode][agent.id], \n",
    "                                  goal_data[episode][agent.id], \n",
    "                                  tomnet_posteriors[episode][agent.id], \n",
    "                                  goals))\n",
    "\n",
    "tomnet_new_acc = []\n",
    "for episode in range(len(new_goal_data)):\n",
    "    for agent in agents:\n",
    "        if agent.id not in test_agent_ids:\n",
    "            continue\n",
    "        tomnet_new_acc.append(accuracy_along_path(new_path_data[episode][agent.id], \n",
    "                                  goal_data[episode][agent.id], \n",
    "                                  tomnet_posteriors[episode][agent.id], \n",
    "                                  goals))"
   ]
  },
  {
   "cell_type": "markdown",
   "id": "1a7976f0-6155-4166-b50c-2c182163d146",
   "metadata": {},
   "source": [
    "## Step 6: Visualize Performance Change"
   ]
  },
  {
   "cell_type": "code",
   "execution_count": null,
   "id": "ec65c9e1-4516-46ab-bc2f-24225e044da8",
   "metadata": {},
   "outputs": [],
   "source": []
  },
  {
   "cell_type": "code",
   "execution_count": null,
   "id": "202259e7-5a3e-4875-ba2d-4681b47db29c",
   "metadata": {},
   "outputs": [],
   "source": []
  },
  {
   "cell_type": "code",
   "execution_count": 77,
   "id": "7a6845fe-57fb-4ffb-8fe6-f696511cb291",
   "metadata": {},
   "outputs": [
    {
     "ename": "ValueError",
     "evalue": "x and y must have same first dimension, but have shapes (11,) and (1500,)",
     "output_type": "error",
     "traceback": [
      "\u001b[31m---------------------------------------------------------------------------\u001b[39m",
      "\u001b[31mValueError\u001b[39m                                Traceback (most recent call last)",
      "\u001b[36mCell\u001b[39m\u001b[36m \u001b[39m\u001b[32mIn[77]\u001b[39m\u001b[32m, line 37\u001b[39m\n\u001b[32m     34\u001b[39m plt.plot(props, ext_mean_new, \u001b[33m'\u001b[39m\u001b[33m-o\u001b[39m\u001b[33m'\u001b[39m, label=\u001b[33m'\u001b[39m\u001b[33mShifted goal‐dist Ext. BToM\u001b[39m\u001b[33m'\u001b[39m, color=\u001b[33m'\u001b[39m\u001b[33mpink\u001b[39m\u001b[33m'\u001b[39m)\n\u001b[32m     36\u001b[39m plt.plot(props, tomnet_mean_orig, \u001b[33m'\u001b[39m\u001b[33m-o\u001b[39m\u001b[33m'\u001b[39m, label=\u001b[33m'\u001b[39m\u001b[33mOriginal goal‐dist ToMNet\u001b[39m\u001b[33m'\u001b[39m, color=\u001b[33m'\u001b[39m\u001b[33mdarkgreen\u001b[39m\u001b[33m'\u001b[39m)\n\u001b[32m---> \u001b[39m\u001b[32m37\u001b[39m \u001b[43mplt\u001b[49m\u001b[43m.\u001b[49m\u001b[43mplot\u001b[49m\u001b[43m(\u001b[49m\u001b[43mprops\u001b[49m\u001b[43m,\u001b[49m\u001b[43m \u001b[49m\u001b[43mtomnet_mean_new\u001b[49m\u001b[43m,\u001b[49m\u001b[43m \u001b[49m\u001b[33;43m'\u001b[39;49m\u001b[33;43m-o\u001b[39;49m\u001b[33;43m'\u001b[39;49m\u001b[43m,\u001b[49m\u001b[43m \u001b[49m\u001b[43mlabel\u001b[49m\u001b[43m=\u001b[49m\u001b[33;43m'\u001b[39;49m\u001b[33;43mShifted goal‐dist ToMNet\u001b[39;49m\u001b[33;43m'\u001b[39;49m\u001b[43m,\u001b[49m\u001b[43m \u001b[49m\u001b[43mcolor\u001b[49m\u001b[43m=\u001b[49m\u001b[33;43m'\u001b[39;49m\u001b[33;43mlightgreen\u001b[39;49m\u001b[33;43m'\u001b[39;49m\u001b[43m)\u001b[49m\n\u001b[32m     40\u001b[39m plt.xlabel(\u001b[33m'\u001b[39m\u001b[33mProportion of Path Observed\u001b[39m\u001b[33m'\u001b[39m)\n\u001b[32m     41\u001b[39m plt.ylabel(\u001b[33m'\u001b[39m\u001b[33mBrier Score\u001b[39m\u001b[33m'\u001b[39m)\n",
      "\u001b[36mFile \u001b[39m\u001b[32m~/miniconda3/envs/tom/lib/python3.12/site-packages/matplotlib/pyplot.py:3827\u001b[39m, in \u001b[36mplot\u001b[39m\u001b[34m(scalex, scaley, data, *args, **kwargs)\u001b[39m\n\u001b[32m   3819\u001b[39m \u001b[38;5;129m@_copy_docstring_and_deprecators\u001b[39m(Axes.plot)\n\u001b[32m   3820\u001b[39m \u001b[38;5;28;01mdef\u001b[39;00m\u001b[38;5;250m \u001b[39m\u001b[34mplot\u001b[39m(\n\u001b[32m   3821\u001b[39m     *args: \u001b[38;5;28mfloat\u001b[39m | ArrayLike | \u001b[38;5;28mstr\u001b[39m,\n\u001b[32m   (...)\u001b[39m\u001b[32m   3825\u001b[39m     **kwargs,\n\u001b[32m   3826\u001b[39m ) -> \u001b[38;5;28mlist\u001b[39m[Line2D]:\n\u001b[32m-> \u001b[39m\u001b[32m3827\u001b[39m     \u001b[38;5;28;01mreturn\u001b[39;00m \u001b[43mgca\u001b[49m\u001b[43m(\u001b[49m\u001b[43m)\u001b[49m\u001b[43m.\u001b[49m\u001b[43mplot\u001b[49m\u001b[43m(\u001b[49m\n\u001b[32m   3828\u001b[39m \u001b[43m        \u001b[49m\u001b[43m*\u001b[49m\u001b[43margs\u001b[49m\u001b[43m,\u001b[49m\n\u001b[32m   3829\u001b[39m \u001b[43m        \u001b[49m\u001b[43mscalex\u001b[49m\u001b[43m=\u001b[49m\u001b[43mscalex\u001b[49m\u001b[43m,\u001b[49m\n\u001b[32m   3830\u001b[39m \u001b[43m        \u001b[49m\u001b[43mscaley\u001b[49m\u001b[43m=\u001b[49m\u001b[43mscaley\u001b[49m\u001b[43m,\u001b[49m\n\u001b[32m   3831\u001b[39m \u001b[43m        \u001b[49m\u001b[43m*\u001b[49m\u001b[43m*\u001b[49m\u001b[43m(\u001b[49m\u001b[43m{\u001b[49m\u001b[33;43m\"\u001b[39;49m\u001b[33;43mdata\u001b[39;49m\u001b[33;43m\"\u001b[39;49m\u001b[43m:\u001b[49m\u001b[43m \u001b[49m\u001b[43mdata\u001b[49m\u001b[43m}\u001b[49m\u001b[43m \u001b[49m\u001b[38;5;28;43;01mif\u001b[39;49;00m\u001b[43m \u001b[49m\u001b[43mdata\u001b[49m\u001b[43m \u001b[49m\u001b[38;5;129;43;01mis\u001b[39;49;00m\u001b[43m \u001b[49m\u001b[38;5;129;43;01mnot\u001b[39;49;00m\u001b[43m \u001b[49m\u001b[38;5;28;43;01mNone\u001b[39;49;00m\u001b[43m \u001b[49m\u001b[38;5;28;43;01melse\u001b[39;49;00m\u001b[43m \u001b[49m\u001b[43m{\u001b[49m\u001b[43m}\u001b[49m\u001b[43m)\u001b[49m\u001b[43m,\u001b[49m\n\u001b[32m   3832\u001b[39m \u001b[43m        \u001b[49m\u001b[43m*\u001b[49m\u001b[43m*\u001b[49m\u001b[43mkwargs\u001b[49m\u001b[43m,\u001b[49m\n\u001b[32m   3833\u001b[39m \u001b[43m    \u001b[49m\u001b[43m)\u001b[49m\n",
      "\u001b[36mFile \u001b[39m\u001b[32m~/miniconda3/envs/tom/lib/python3.12/site-packages/matplotlib/axes/_axes.py:1777\u001b[39m, in \u001b[36mAxes.plot\u001b[39m\u001b[34m(self, scalex, scaley, data, *args, **kwargs)\u001b[39m\n\u001b[32m   1534\u001b[39m \u001b[38;5;250m\u001b[39m\u001b[33;03m\"\"\"\u001b[39;00m\n\u001b[32m   1535\u001b[39m \u001b[33;03mPlot y versus x as lines and/or markers.\u001b[39;00m\n\u001b[32m   1536\u001b[39m \n\u001b[32m   (...)\u001b[39m\u001b[32m   1774\u001b[39m \u001b[33;03m(``'green'``) or hex strings (``'#008000'``).\u001b[39;00m\n\u001b[32m   1775\u001b[39m \u001b[33;03m\"\"\"\u001b[39;00m\n\u001b[32m   1776\u001b[39m kwargs = cbook.normalize_kwargs(kwargs, mlines.Line2D)\n\u001b[32m-> \u001b[39m\u001b[32m1777\u001b[39m lines = [*\u001b[38;5;28mself\u001b[39m._get_lines(\u001b[38;5;28mself\u001b[39m, *args, data=data, **kwargs)]\n\u001b[32m   1778\u001b[39m \u001b[38;5;28;01mfor\u001b[39;00m line \u001b[38;5;129;01min\u001b[39;00m lines:\n\u001b[32m   1779\u001b[39m     \u001b[38;5;28mself\u001b[39m.add_line(line)\n",
      "\u001b[36mFile \u001b[39m\u001b[32m~/miniconda3/envs/tom/lib/python3.12/site-packages/matplotlib/axes/_base.py:297\u001b[39m, in \u001b[36m_process_plot_var_args.__call__\u001b[39m\u001b[34m(self, axes, data, return_kwargs, *args, **kwargs)\u001b[39m\n\u001b[32m    295\u001b[39m     this += args[\u001b[32m0\u001b[39m],\n\u001b[32m    296\u001b[39m     args = args[\u001b[32m1\u001b[39m:]\n\u001b[32m--> \u001b[39m\u001b[32m297\u001b[39m \u001b[38;5;28;01myield from\u001b[39;00m \u001b[38;5;28;43mself\u001b[39;49m\u001b[43m.\u001b[49m\u001b[43m_plot_args\u001b[49m\u001b[43m(\u001b[49m\n\u001b[32m    298\u001b[39m \u001b[43m    \u001b[49m\u001b[43maxes\u001b[49m\u001b[43m,\u001b[49m\u001b[43m \u001b[49m\u001b[43mthis\u001b[49m\u001b[43m,\u001b[49m\u001b[43m \u001b[49m\u001b[43mkwargs\u001b[49m\u001b[43m,\u001b[49m\u001b[43m \u001b[49m\u001b[43mambiguous_fmt_datakey\u001b[49m\u001b[43m=\u001b[49m\u001b[43mambiguous_fmt_datakey\u001b[49m\u001b[43m,\u001b[49m\n\u001b[32m    299\u001b[39m \u001b[43m    \u001b[49m\u001b[43mreturn_kwargs\u001b[49m\u001b[43m=\u001b[49m\u001b[43mreturn_kwargs\u001b[49m\n\u001b[32m    300\u001b[39m \u001b[43m\u001b[49m\u001b[43m)\u001b[49m\n",
      "\u001b[36mFile \u001b[39m\u001b[32m~/miniconda3/envs/tom/lib/python3.12/site-packages/matplotlib/axes/_base.py:494\u001b[39m, in \u001b[36m_process_plot_var_args._plot_args\u001b[39m\u001b[34m(self, axes, tup, kwargs, return_kwargs, ambiguous_fmt_datakey)\u001b[39m\n\u001b[32m    491\u001b[39m     axes.yaxis.update_units(y)\n\u001b[32m    493\u001b[39m \u001b[38;5;28;01mif\u001b[39;00m x.shape[\u001b[32m0\u001b[39m] != y.shape[\u001b[32m0\u001b[39m]:\n\u001b[32m--> \u001b[39m\u001b[32m494\u001b[39m     \u001b[38;5;28;01mraise\u001b[39;00m \u001b[38;5;167;01mValueError\u001b[39;00m(\u001b[33mf\u001b[39m\u001b[33m\"\u001b[39m\u001b[33mx and y must have same first dimension, but \u001b[39m\u001b[33m\"\u001b[39m\n\u001b[32m    495\u001b[39m                      \u001b[33mf\u001b[39m\u001b[33m\"\u001b[39m\u001b[33mhave shapes \u001b[39m\u001b[38;5;132;01m{\u001b[39;00mx.shape\u001b[38;5;132;01m}\u001b[39;00m\u001b[33m and \u001b[39m\u001b[38;5;132;01m{\u001b[39;00my.shape\u001b[38;5;132;01m}\u001b[39;00m\u001b[33m\"\u001b[39m)\n\u001b[32m    496\u001b[39m \u001b[38;5;28;01mif\u001b[39;00m x.ndim > \u001b[32m2\u001b[39m \u001b[38;5;129;01mor\u001b[39;00m y.ndim > \u001b[32m2\u001b[39m:\n\u001b[32m    497\u001b[39m     \u001b[38;5;28;01mraise\u001b[39;00m \u001b[38;5;167;01mValueError\u001b[39;00m(\u001b[33mf\u001b[39m\u001b[33m\"\u001b[39m\u001b[33mx and y can be no greater than 2D, but have \u001b[39m\u001b[33m\"\u001b[39m\n\u001b[32m    498\u001b[39m                      \u001b[33mf\u001b[39m\u001b[33m\"\u001b[39m\u001b[33mshapes \u001b[39m\u001b[38;5;132;01m{\u001b[39;00mx.shape\u001b[38;5;132;01m}\u001b[39;00m\u001b[33m and \u001b[39m\u001b[38;5;132;01m{\u001b[39;00my.shape\u001b[38;5;132;01m}\u001b[39;00m\u001b[33m\"\u001b[39m)\n",
      "\u001b[31mValueError\u001b[39m: x and y must have same first dimension, but have shapes (11,) and (1500,)"
     ]
    },
    {
     "data": {
      "image/png": "[encoded data removed]",
      "text/plain": [
       "<Figure size 1000x600 with 1 Axes>"
      ]
     },
     "metadata": {},
     "output_type": "display_data"
    }
   ],
   "source": [
    "# Convert to arrays\n",
    "btom_arr_orig = np.array(orig_scores_btom)  # shape (N, n_fractions)\n",
    "btom_arr_new  = np.array(btom_new_scores)\n",
    "\n",
    "ext_arr_orig = np.array(orig_scores_ext)  # shape (N, n_fractions)\n",
    "ext_arr_new  = np.array(ext_new_scores)\n",
    "\n",
    "tomnet_arr_orig = np.array(tomnet_scores)\n",
    "tomnet_arr_new = np.array(tomnet_new_scores)\n",
    "\n",
    "btom_mean_orig = btom_arr_orig.mean(axis=0)\n",
    "btom_mean_new = btom_arr_new.mean(axis=0)\n",
    "\n",
    "ext_mean_orig = ext_arr_orig.mean(axis=0)\n",
    "ext_mean_new = ext_arr_new.mean(axis=0)\n",
    "\n",
    "tomnet_mean_orig = tomnet_arr_orig.mean(axis=0)\n",
    "tomnet_mean_new = tomnet_arr_new.mean(axis=1)\n",
    "\n",
    "\n",
    "\n",
    "\n",
    "# Fraction grid (must be the same length as the second axis of your arrays)\n",
    "props = np.linspace(0, 1, btom_arr_orig.shape[1])\n",
    "\n",
    "\n",
    "\n",
    "plt.figure(figsize=(10,6))\n",
    "\n",
    "plt.plot(props, btom_mean_orig, '-o', label='Original goal‐dist BToM', color='blue')\n",
    "plt.plot(props, btom_mean_new, '-o', label='Shifted goal‐dist', color='lightblue')\n",
    "\n",
    "plt.plot(props, ext_mean_orig, '-o', label='Original goal‐dist Ext. BToM', color='red')\n",
    "plt.plot(props, ext_mean_new, '-o', label='Shifted goal‐dist Ext. BToM', color='pink')\n",
    "\n",
    "plt.plot(props, tomnet_mean_orig, '-o', label='Original goal‐dist ToMNet', color='darkgreen')\n",
    "plt.plot(props, tomnet_mean_new, '-o', label='Shifted goal‐dist ToMNet', color='lightgreen')\n",
    "\n",
    "\n",
    "plt.xlabel('Proportion of Path Observed')\n",
    "plt.ylabel('Brier Score')\n",
    "plt.title('Brier Score vs. Path Fraction\\n(Original vs. Shifted Goal Distributions)')\n",
    "plt.xticks(props)\n",
    "plt.ylim(0, 1.5)\n",
    "plt.grid(alpha=0.3)\n",
    "plt.legend(loc='upper right')\n",
    "plt.tight_layout()\n",
    "plt.show()"
   ]
  },
  {
   "cell_type": "code",
   "execution_count": 78,
   "id": "efb9e8e2-820e-4ccb-8b32-e976c11bd4d2",
   "metadata": {},
   "outputs": [
    {
     "data": {
      "image/png": "[encoded data removed]",
      "text/plain": [
       "<Figure size 1000x600 with 1 Axes>"
      ]
     },
     "metadata": {},
     "output_type": "display_data"
    }
   ],
   "source": [
    "# Convert to arrays\n",
    "btom_arr_orig = np.array(btom_orig_accuracy)  # shape (N, n_fractions)\n",
    "btom_arr_new  = np.array(btom_new_accuracy)\n",
    "\n",
    "ext_arr_orig = np.array(ext_orig_accuracy)  # shape (N, n_fractions)\n",
    "ext_arr_new  = np.array(ext_new_accuracy)\n",
    "\n",
    "tomnet_arr_orig = np.array(tomnet_acc)\n",
    "tomnet_arr_new = np.array(tomnet_new_acc)\n",
    "\n",
    "btom_mean_orig = btom_arr_orig.mean(axis=0)\n",
    "btom_mean_new = btom_arr_new.mean(axis=0)\n",
    "\n",
    "ext_mean_orig = ext_arr_orig.mean(axis=0)\n",
    "ext_mean_new = ext_arr_new.mean(axis=0)\n",
    "\n",
    "tomnet_mean_orig = tomnet_arr_orig.mean(axis=0)\n",
    "tomnet_mean_new = tomnet_arr_new.mean(axis=0)\n",
    "\n",
    "\n",
    "\n",
    "# Fraction grid (must be the same length as the second axis of your arrays)\n",
    "props = np.linspace(0, 1, btom_arr_orig.shape[1])\n",
    "\n",
    "\n",
    "\n",
    "plt.figure(figsize=(10,6))\n",
    "\n",
    "plt.plot(props, btom_mean_orig, '-o', label='Original goal‐dist BToM', color='blue')\n",
    "plt.plot(props, btom_mean_new, '-o', label='Shifted goal‐dist', color='lightblue')\n",
    "\n",
    "plt.plot(props, ext_mean_orig, '-o', label='Original goal‐dist Ext. BToM', color='red')\n",
    "plt.plot(props, ext_mean_new, '-o', label='Shifted goal‐dist Ext. BToM', color='pink')\n",
    "\n",
    "plt.plot(props, tomnet_mean_orig, '-o', label='Original goal‐dist ToMNet', color='darkgreen')\n",
    "plt.plot(props, tomnet_mean_new, '-o', label='Shifted goal‐dist ToMNet', color='lightgreen')\n",
    "\n",
    "\n",
    "plt.xlabel('Proportion of Path Observed')\n",
    "plt.ylabel('Accuracy')\n",
    "plt.title('Accuracy vs. Path Fraction\\n(Original vs. Shifted Goal Distributions)')\n",
    "plt.xticks(props)\n",
    "plt.ylim(0, 1)\n",
    "plt.grid(alpha=0.3)\n",
    "plt.legend(loc='upper right')\n",
    "plt.tight_layout()\n",
    "plt.show()"
   ]
  },
  {
   "cell_type": "code",
   "execution_count": null,
   "id": "38f3b2c5-9129-4eea-9a74-3e973f84e8ab",
   "metadata": {},
   "outputs": [],
   "source": []
  },
  {
   "cell_type": "code",
   "execution_count": null,
   "id": "d5c76796-09c2-4108-8865-83e94f012dc9",
   "metadata": {},
   "outputs": [],
   "source": []
  },
  {
   "cell_type": "code",
   "execution_count": null,
   "id": "09b9c208-6436-4d1d-88e3-5a11f20ecb9e",
   "metadata": {},
   "outputs": [],
   "source": []
  }
 ],
 "metadata": {
  "kernelspec": {
   "display_name": "Python (tom)",
   "language": "python",
   "name": "tom"
  },
  "language_info": {
   "codemirror_mode": {
    "name": "ipython",
    "version": 3
   },
   "file_extension": ".py",
   "mimetype": "text/x-python",
   "name": "python",
   "nbconvert_exporter": "python",
   "pygments_lexer": "ipython3",
   "version": "3.12.0"
  }
 },
 "nbformat": 4,
 "nbformat_minor": 5
}
