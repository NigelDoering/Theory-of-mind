{
 "cells": [
  {
   "cell_type": "markdown",
   "id": "a81fef36-5cb7-4aa1-9a28-2a88cf85e448",
   "metadata": {},
   "source": [
    "## Experiment 3: Model Robustness  \n",
    "This experiment will measure the performance of the models in being able to adapt to large changes in the goal distribution of an agent. We will generate new episode data (~10 episodes) after significantly changing the goal distributions of the agents. We will then measure change in performance from before. \n",
    "  \n",
    "Steps:\n",
    "  \n",
    "1. Load agents and data from experiment 0\n",
    "2. Run the models and get score information\n",
    "3. Change the goal distributions of the agents\n",
    "4. Generate new data\n",
    "5. Run the models and get new score information\n",
    "6. Visualize the difference"
   ]
  },
  {
   "cell_type": "code",
   "execution_count": 1,
   "id": "4d42b07d-94ca-4bd1-af3a-a01c3fd94db3",
   "metadata": {},
   "outputs": [],
   "source": [
    "import numpy as np\n",
    "import pymc\n",
    "import networkx as nx\n",
    "import matplotlib.pyplot as plt\n",
    "import random\n",
    "import json"
   ]
  },
  {
   "cell_type": "code",
   "execution_count": 2,
   "id": "0a6956c1-57e6-4eb3-8cbf-7fdcb0ff3f21",
   "metadata": {},
   "outputs": [],
   "source": [
    "import sys\n",
    "import os\n",
    "import osmnx as ox\n",
    "\n",
    "# Adjust this path as needed to point to your project root\n",
    "sys.path.append(os.path.abspath(\"..\"))"
   ]
  },
  {
   "cell_type": "code",
   "execution_count": 3,
   "id": "1a225c68-44d3-4a84-9e42-435d833eb2f5",
   "metadata": {},
   "outputs": [],
   "source": [
    "from real_world_src.environment.campus_env import CampusEnvironment\n",
    "from real_world_src.agents.agent_factory import AgentFactory\n",
    "from real_world_src.agents.agent_species import ShortestPathAgent\n",
    "from real_world_src.simulation.simulator import Simulator\n",
    "#from real_world_src.simulation.experiment_1 import Simulator\n",
    "\n",
    "from real_world_src.utils.run_manager import RunManager\n",
    "from real_world_src.utils.config import VISUAL_CONFIG\n",
    "from real_world_src.utils.config import get_agent_color"
   ]
  },
  {
   "cell_type": "markdown",
   "id": "b03edb59-c2f5-4fb0-80e0-651b6fc28444",
   "metadata": {},
   "source": [
    "## Step 1: Loading the Data"
   ]
  },
  {
   "cell_type": "code",
   "execution_count": 4,
   "id": "a19b2ce9-7436-4800-a91a-38b42694b7f6",
   "metadata": {},
   "outputs": [
    {
     "name": "stdout",
     "output_type": "stream",
     "text": [
      "Started new simulation run #26\n",
      "All visualizations will be saved to: /Users/nigeldoering/Desktop/Research/Dissertation/Theory of Mind/Theory-of-mind/notebooks/visuals/run_26_20250505_093610\n",
      "Loading map data for University of California, San Diego, La Jolla, CA, USA...\n",
      "Environment loaded with 3108 nodes and 8646 edges\n"
     ]
    }
   ],
   "source": [
    "# Create a run manager\n",
    "run_manager = RunManager('visuals')\n",
    "run_dir = run_manager.start_new_run()\n",
    "\n",
    "# Initialize campus environment\n",
    "campus = CampusEnvironment()"
   ]
  },
  {
   "cell_type": "code",
   "execution_count": 5,
   "id": "3cd16269-5231-4296-a400-7db3cbfad1c3",
   "metadata": {},
   "outputs": [],
   "source": [
    "# Need to establish the set of common goals (just choose the landmark nodes)\n",
    "goals = [469084068, 49150691, 768264666, 1926666015, 1926673385, 49309735,\n",
    "         273627682, 445989107, 445992528, 446128310, 1772230346, 1926673336, \n",
    "         2872424923, 3139419286, 4037576308]"
   ]
  },
  {
   "cell_type": "code",
   "execution_count": 6,
   "id": "57311e36-fbe0-4186-996b-c27aebff2a11",
   "metadata": {},
   "outputs": [],
   "source": [
    "import pickle\n",
    "# if you used dill, just replace pickle with dill\n",
    "\n",
    "with open('agents.pkl', 'rb') as f:\n",
    "    agents = pickle.load(f)"
   ]
  },
  {
   "cell_type": "code",
   "execution_count": 7,
   "id": "c1e68180-60b5-4843-aa0e-d6f11e0dee05",
   "metadata": {},
   "outputs": [],
   "source": [
    "with open(\"./data/path_data.json\", 'r') as file:\n",
    "    path_data = json.load(file)\n",
    "\n",
    "with open(\"./data/goal_data.json\", 'r') as file:\n",
    "    goal_data = json.load(file)"
   ]
  },
  {
   "cell_type": "code",
   "execution_count": 8,
   "id": "92176a1e-d74e-4fa4-b745-6f218a79d2a8",
   "metadata": {},
   "outputs": [],
   "source": [
    "def convert_keys_to_int(data):\n",
    "    if isinstance(data, dict):\n",
    "        return {int(k) if isinstance(k, str) and k.isdigit() else k: convert_keys_to_int(v) for k, v in data.items()}\n",
    "    elif isinstance(data, list):\n",
    "        return [convert_keys_to_int(item) for item in data]\n",
    "    else:\n",
    "        return data"
   ]
  },
  {
   "cell_type": "code",
   "execution_count": 9,
   "id": "e5d0e096-b79a-4dc4-808a-9ae5ac6cfac9",
   "metadata": {},
   "outputs": [],
   "source": [
    "goal_data = convert_keys_to_int(goal_data)\n",
    "path_data = convert_keys_to_int(path_data)"
   ]
  },
  {
   "cell_type": "markdown",
   "id": "e1ce958d-5e20-4f15-b8ba-cec69a222713",
   "metadata": {},
   "source": [
    "## Step 2: Running the Models on Old Data"
   ]
  },
  {
   "cell_type": "code",
   "execution_count": 13,
   "id": "213bf236-8a2c-46a4-9eaa-61cf59726dfd",
   "metadata": {},
   "outputs": [],
   "source": [
    "def brier_score(true_goal, p_dist):\n",
    "    \"\"\"\n",
    "    Multi-class Brier score given a dict goal→prob.\n",
    "    \"\"\"\n",
    "    score = 0.0\n",
    "    for g, p in p_dist.items():\n",
    "        y = 1.0 if g == true_goal else 0.0\n",
    "        score += (p - y) ** 2\n",
    "    return float(score)\n",
    "\n",
    "\n",
    "def brier_along_path(path, true_goal, posteriors_by_step, goals):\n",
    "    \"\"\"\n",
    "    Compute Brier scores at 0%, 10%, …, 100% of the path.\n",
    "    \n",
    "    Parameters\n",
    "    ----------\n",
    "    path : list\n",
    "        The sequence of states (or state-action tuples).\n",
    "    true_goal : hashable\n",
    "        The ground-truth goal for this trajectory.\n",
    "    posteriors_by_step : dict[int, dict] or list[dict]\n",
    "        Either\n",
    "          * a dict mapping step index 1..n → posterior dict, OR\n",
    "          * a list of posterior dicts in step-order (len = n).\n",
    "        Each posterior dict maps each goal → P(goal | trajectory up to that step).\n",
    "    \n",
    "    Returns\n",
    "    -------\n",
    "    dict[float, float]\n",
    "        Mapping fraction → Brier score.\n",
    "    \"\"\"\n",
    "    n = len(path) - 1\n",
    "    if n < 1:\n",
    "        raise ValueError(\"Path must have at least 2 states to define transitions\")\n",
    "\n",
    "    # uniform prior for t=0\n",
    "    uniform = {g: 1.0/len(goals) for g in goals}\n",
    "\n",
    "    results = []\n",
    "    for frac in np.linspace(0, 1, 11):  # 0.0,0.1,...,1.0\n",
    "        t = int(np.floor(frac * n))\n",
    "        if t == 0:\n",
    "            p_dist = uniform\n",
    "        else:\n",
    "            p_dist = posteriors_by_step[t-1]\n",
    "        results.append(brier_score(true_goal, p_dist))\n",
    "\n",
    "    return results"
   ]
  },
  {
   "cell_type": "code",
   "execution_count": 10,
   "id": "2562861d-6a02-493d-8576-12c7b8632522",
   "metadata": {},
   "outputs": [],
   "source": [
    "# Import BToM baseline\n",
    "from real_world_src.models.btom import BToM"
   ]
  },
  {
   "cell_type": "code",
   "execution_count": 11,
   "id": "67a7fd9b-af9e-4373-be04-5c9e58daba95",
   "metadata": {},
   "outputs": [
    {
     "name": "stdout",
     "output_type": "stream",
     "text": [
      "Computing shortest paths...\n",
      "Done\n"
     ]
    }
   ],
   "source": [
    "btom = BToM(campus, agents, goals)"
   ]
  },
  {
   "cell_type": "code",
   "execution_count": 12,
   "id": "2e33b1f6-4289-41e1-9692-6aa8e27139e7",
   "metadata": {},
   "outputs": [],
   "source": [
    "# Calculate all the posteriors using the first 30 episode\n",
    "posteriors_data = {}\n",
    "\n",
    "for episode in range(len(goal_data)):\n",
    "    posteriors_data[episode] = {}\n",
    "    for agent in agents:\n",
    "        posteriors_data[episode][agent.id] = btom.update_agent_posterior_over_path(agent, path_data[episode][agent.id])\n",
    "    # Reset the posteriors for new episode\n",
    "    btom.reset_posteriors()"
   ]
  },
  {
   "cell_type": "code",
   "execution_count": 16,
   "id": "d152dfc5-32a8-4dc2-a192-894d35cb46cf",
   "metadata": {},
   "outputs": [],
   "source": [
    "orig_scores = []\n",
    "for episode in range(len(goal_data)):\n",
    "    for agent in agents:\n",
    "        orig_scores.append(brier_along_path(path_data[episode][agent.id], \n",
    "                                  goal_data[episode][agent.id], \n",
    "                                  posteriors_data[episode][agent.id], \n",
    "                                  goals))\n"
   ]
  },
  {
   "cell_type": "markdown",
   "id": "66fbdca7-bb4f-47a7-abdf-ea0b337245b8",
   "metadata": {},
   "source": [
    "## Step 3: Change Agent Goal Distributions"
   ]
  },
  {
   "cell_type": "code",
   "execution_count": 17,
   "id": "7a057411-b3a3-4af3-8242-42c182dae98e",
   "metadata": {},
   "outputs": [],
   "source": [
    "def kl_divergence(p, q, eps=1e-12):\n",
    "    \"\"\"\n",
    "    Compute KL divergence KL(p || q) = sum_i p[i] * log(p[i] / q[i]).\n",
    "    \"\"\"\n",
    "    p = np.asarray(p, dtype=float)\n",
    "    q = np.asarray(q, dtype=float)\n",
    "    # add epsilon and renormalize (optional, but keeps them valid dists)\n",
    "    p = p + eps\n",
    "    q = q + eps\n",
    "    p = p / p.sum()\n",
    "    q = q / q.sum()\n",
    "    return float(np.sum(p * np.log(p / q)))"
   ]
  },
  {
   "cell_type": "code",
   "execution_count": 21,
   "id": "e65524d4-8030-4445-a1c2-bc00e8c29c41",
   "metadata": {},
   "outputs": [],
   "source": [
    "n_goals = len(goals)\n",
    "ag_alpha = np.random.normal(1, 0.2, size=n_goals)\n",
    "\n",
    "for agent in agents: # Set each agent's goal distribution\n",
    "    while True:\n",
    "        old_distribution = agent.goal_distribution\n",
    "        new_distribution = np.random.dirichlet(alpha=np.ones(n_goals)*(ag_alpha), size=1)[0]\n",
    "        if kl_divergence(old_distribution, new_distribution) > 1:\n",
    "            agent.goal_distribution = new_distribution\n",
    "            break\n"
   ]
  },
  {
   "cell_type": "markdown",
   "id": "fe80409a-01c2-4f65-817f-614774519f7a",
   "metadata": {},
   "source": [
    "## Step 4: Generate New Data"
   ]
  },
  {
   "cell_type": "code",
   "execution_count": 23,
   "id": "76b46857-e037-48bd-a069-f95383e05d6f",
   "metadata": {},
   "outputs": [],
   "source": [
    "import json"
   ]
  },
  {
   "cell_type": "code",
   "execution_count": 22,
   "id": "de96c4aa-8c2d-457b-b257-29cf62eb1cf6",
   "metadata": {},
   "outputs": [],
   "source": [
    "def new_episode(agents):\n",
    "\n",
    "    # Set the goal and start nodes\n",
    "    for agent in agents:\n",
    "        agent.path = [] # Clear the old path\n",
    "        agent.goal_node = int(np.random.choice(goals, size=1, p=agent.goal_distribution)[0])\n",
    "\n",
    "        while True:\n",
    "            start_node = campus.get_random_node()\n",
    "            try:\n",
    "                path = nx.shortest_path(campus.G_undirected, \n",
    "                                       source=start_node, \n",
    "                                       target=agent.goal_node, \n",
    "                                       weight='length')\n",
    "                if len(path) >15:  # Make sure path is non-trivial\n",
    "                    break\n",
    "            except:\n",
    "                continue\n",
    "        agent.start_node = start_node\n",
    "        agent.current_node = start_node\n",
    "\n",
    "    return "
   ]
  },
  {
   "cell_type": "code",
   "execution_count": 37,
   "id": "40fdc8a5-5a66-4cbc-b6f5-cfeb200f32bc",
   "metadata": {},
   "outputs": [],
   "source": [
    "new_path_data = {}\n",
    "new_goal_data = {}\n",
    "m = 50\n",
    "for episode in range(m):\n",
    "    new_episode(agents)\n",
    "    episode_path_data = {}\n",
    "    episode_goal_data = {}\n",
    "    for agent in agents:\n",
    "        agent.plan_path()\n",
    "        episode_path_data[agent.id] = agent.path\n",
    "        episode_goal_data[agent.id] = agent.goal_node\n",
    "    # Save the data from each episode\n",
    "    new_path_data[episode] = episode_path_data\n",
    "    new_goal_data[episode] = episode_goal_data\n",
    "\n",
    "with open(\"./data/new_path_data.json\", \"w\") as file:\n",
    "    json.dump(new_path_data, file, indent=4)\n",
    "\n",
    "with open(\"./data/new_goal_data.json\", \"w\") as file:\n",
    "    json.dump(new_goal_data, file, indent=4)"
   ]
  },
  {
   "cell_type": "code",
   "execution_count": 43,
   "id": "1aa5a9ed-c1d6-4145-b7e6-ddb6d0029376",
   "metadata": {},
   "outputs": [],
   "source": [
    "with open(\"./data/new_path_data.json\", 'r') as file:\n",
    "    new_path_data = json.load(file)\n",
    "\n",
    "with open(\"./data/new_goal_data.json\", 'r') as file:\n",
    "    new_goal_data = json.load(file)"
   ]
  },
  {
   "cell_type": "code",
   "execution_count": 44,
   "id": "465efbe7-ef5a-4099-927c-7b94b6698679",
   "metadata": {},
   "outputs": [],
   "source": [
    "new_goal_data = convert_keys_to_int(new_goal_data)\n",
    "new_path_data = convert_keys_to_int(new_path_data)"
   ]
  },
  {
   "cell_type": "code",
   "execution_count": 45,
   "id": "e23411df-6a9b-4140-933a-ef33f3b0f392",
   "metadata": {},
   "outputs": [
    {
     "data": {
      "text/plain": [
       "50"
      ]
     },
     "execution_count": 45,
     "metadata": {},
     "output_type": "execute_result"
    }
   ],
   "source": [
    "len(new_goal_data)"
   ]
  },
  {
   "cell_type": "markdown",
   "id": "3339ddc2-f5be-4b6b-bc21-781db4a0f352",
   "metadata": {},
   "source": [
    "## Step 5: Run Models on New Data"
   ]
  },
  {
   "cell_type": "code",
   "execution_count": 46,
   "id": "60990427-4b78-4c34-9d5d-419eb5d0c59b",
   "metadata": {},
   "outputs": [],
   "source": [
    "posteriors_data = {}\n",
    "\n",
    "for episode in range(len(new_goal_data)):\n",
    "    posteriors_data[episode] = {}\n",
    "    for agent in agents:\n",
    "        posteriors_data[episode][agent.id] = btom.update_agent_posterior_over_path(agent, new_path_data[episode][agent.id])\n",
    "    # Reset the posteriors for new episode\n",
    "    btom.reset_posteriors()"
   ]
  },
  {
   "cell_type": "code",
   "execution_count": 47,
   "id": "e2b0f0f2-644e-442e-b345-6e14df6858f4",
   "metadata": {},
   "outputs": [],
   "source": [
    "new_scores = []\n",
    "for episode in range(len(new_goal_data)):\n",
    "    for agent in agents:\n",
    "        new_scores.append(brier_along_path(new_path_data[episode][agent.id], \n",
    "                                  new_goal_data[episode][agent.id], \n",
    "                                  posteriors_data[episode][agent.id], \n",
    "                                  goals))"
   ]
  },
  {
   "cell_type": "markdown",
   "id": "1a7976f0-6155-4166-b50c-2c182163d146",
   "metadata": {},
   "source": [
    "## Step 6: Visualize Performance Change"
   ]
  },
  {
   "cell_type": "code",
   "execution_count": 48,
   "id": "ec65c9e1-4516-46ab-bc2f-24225e044da8",
   "metadata": {},
   "outputs": [
    {
     "data": {
      "text/plain": [
       "(5000, 10000)"
      ]
     },
     "execution_count": 48,
     "metadata": {},
     "output_type": "execute_result"
    }
   ],
   "source": [
    "len(new_scores), len(orig_scores)"
   ]
  },
  {
   "cell_type": "code",
   "execution_count": null,
   "id": "202259e7-5a3e-4875-ba2d-4681b47db29c",
   "metadata": {},
   "outputs": [],
   "source": []
  },
  {
   "cell_type": "code",
   "execution_count": 50,
   "id": "7a6845fe-57fb-4ffb-8fe6-f696511cb291",
   "metadata": {},
   "outputs": [
    {
     "data": {
      "image/png": "[encoded data removed]",
      "text/plain": [
       "<Figure size 1000x600 with 1 Axes>"
      ]
     },
     "metadata": {},
     "output_type": "display_data"
    }
   ],
   "source": [
    "# Convert to arrays\n",
    "arr_orig = np.array(orig_scores)  # shape (N, n_fractions)\n",
    "arr_new  = np.array(new_scores)\n",
    "\n",
    "# Fraction grid (must be the same length as the second axis of your arrays)\n",
    "props = np.linspace(0, 1, arr_orig.shape[1])\n",
    "\n",
    "# Compute statistics for original\n",
    "mean_orig  = arr_orig.mean(axis=0)\n",
    "low25_orig = np.percentile(arr_orig, 25, axis=0)\n",
    "high75_orig= np.percentile(arr_orig, 75, axis=0)\n",
    "\n",
    "# Compute statistics for shifted\n",
    "mean_new   = arr_new.mean(axis=0)\n",
    "low25_new  = np.percentile(arr_new, 25, axis=0)\n",
    "high75_new = np.percentile(arr_new, 75, axis=0)\n",
    "\n",
    "plt.figure(figsize=(10,6))\n",
    "\n",
    "# original\n",
    "plt.plot(props, mean_orig, '-o', label='Original goal‐dist', color='C0')\n",
    "plt.fill_between(props, low25_orig, high75_orig,\n",
    "                 color='C0', alpha=0.2, label='Orig. 50% interval')\n",
    "\n",
    "# shifted\n",
    "plt.plot(props, mean_new, '-o', label='Shifted goal‐dist', color='C1')\n",
    "plt.fill_between(props, low25_new, high75_new,\n",
    "                 color='C1', alpha=0.2, label='Shifted 50% interval')\n",
    "\n",
    "plt.xlabel('Proportion of Path Observed')\n",
    "plt.ylabel('Brier Score')\n",
    "plt.title('Brier Score vs. Path Fraction\\n(Original vs. Shifted Goal Distributions)')\n",
    "plt.xticks(props)\n",
    "plt.ylim(0, 1.5)\n",
    "plt.grid(alpha=0.3)\n",
    "plt.legend(loc='upper right')\n",
    "plt.tight_layout()\n",
    "plt.show()"
   ]
  },
  {
   "cell_type": "markdown",
   "id": "a32bc4d9-19bf-4fae-8af8-27334f597428",
   "metadata": {},
   "source": [
    "For the BToM model, there is no discernable change to the performance when the goal distribution is shifted. This is exactly to be expected as BToM does not learn historical patterns of the data. It simply updates the posterior based on how actions change the shortest paths to the goals. We should see a noticeable difference for MToM."
   ]
  },
  {
   "cell_type": "code",
   "execution_count": null,
   "id": "efb9e8e2-820e-4ccb-8b32-e976c11bd4d2",
   "metadata": {},
   "outputs": [],
   "source": []
  }
 ],
 "metadata": {
  "kernelspec": {
   "display_name": "Python (tom)",
   "language": "python",
   "name": "tom"
  },
  "language_info": {
   "codemirror_mode": {
    "name": "ipython",
    "version": 3
   },
   "file_extension": ".py",
   "mimetype": "text/x-python",
   "name": "python",
   "nbconvert_exporter": "python",
   "pygments_lexer": "ipython3",
   "version": "3.12.0"
  }
 },
 "nbformat": 4,
 "nbformat_minor": 5
}
