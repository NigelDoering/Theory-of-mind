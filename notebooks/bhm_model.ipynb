{
 "cells": [
  {
   "cell_type": "markdown",
   "id": "b71fff3b-af08-4406-b8f5-79d860807fb3",
   "metadata": {},
   "source": [
    "# Dirichlet Process Hierarchical Model for ToM \n",
    "\n",
    "This notebook will be used to development the dirichlet process ToM model for dynamic goal discovery. "
   ]
  },
  {
   "cell_type": "code",
   "execution_count": null,
   "id": "489e7449-d6db-4b6c-b09c-f3088adbb063",
   "metadata": {},
   "outputs": [],
   "source": []
  },
  {
   "cell_type": "code",
   "execution_count": null,
   "id": "27b0d64f-70c7-4a8e-8dcb-bb1a1a1b41aa",
   "metadata": {},
   "outputs": [],
   "source": []
  },
  {
   "cell_type": "code",
   "execution_count": null,
   "id": "98adddec-e0f0-4c90-958a-c773ce5ed94f",
   "metadata": {},
   "outputs": [],
   "source": []
  },
  {
   "cell_type": "code",
   "execution_count": null,
   "id": "d5fb2c2c-2eea-4802-993c-d006f929d54f",
   "metadata": {},
   "outputs": [],
   "source": []
  }
 ],
 "metadata": {
  "kernelspec": {
   "display_name": "Python (tom)",
   "language": "python",
   "name": "tom"
  },
  "language_info": {
   "codemirror_mode": {
    "name": "ipython",
    "version": 3
   },
   "file_extension": ".py",
   "mimetype": "text/x-python",
   "name": "python",
   "nbconvert_exporter": "python",
   "pygments_lexer": "ipython3",
   "version": "3.12.0"
  }
 },
 "nbformat": 4,
 "nbformat_minor": 5
}
