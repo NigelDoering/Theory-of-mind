{
 "cells": [
  {
   "cell_type": "code",
   "execution_count": 2,
   "id": "f23e704a",
   "metadata": {},
   "outputs": [
    {
     "name": "stdout",
     "output_type": "stream",
     "text": [
      "I is 0: [10, 5]\n",
      "I is 1: [5, 10]\n",
      "I is 2: [5, 10]\n",
      "I is 3: [5, 10]\n",
      "I is 4: [5, 10]\n",
      "I is 5: [5, 10]\n",
      "I is 6: [5, 10]\n",
      "I is 7: [5, 10]\n",
      "I is 8: [5, 10]\n",
      "I is 9: [5, 10]\n"
     ]
    }
   ],
   "source": [
    "import numpy as np\n",
    "import networkx as nx\n",
    "\n",
    "start = [5]\n",
    "goal = [10]\n",
    "\n",
    "for i in range(10):\n",
    "    new_start = start.copy()\n",
    "    new_start.insert(i, goal[0])\n",
    "    print(f\"I is {i}: {new_start}\")\n",
    "\n",
    "# print(\"start\", start)\n",
    "# print(\"new_start\", new_start)"
   ]
  },
  {
   "cell_type": "code",
   "execution_count": null,
   "id": "50e866ff",
   "metadata": {},
   "outputs": [],
   "source": []
  }
 ],
 "metadata": {
  "kernelspec": {
   "display_name": "tom",
   "language": "python",
   "name": "python3"
  },
  "language_info": {
   "codemirror_mode": {
    "name": "ipython",
    "version": 3
   },
   "file_extension": ".py",
   "mimetype": "text/x-python",
   "name": "python",
   "nbconvert_exporter": "python",
   "pygments_lexer": "ipython3",
   "version": "3.12.0"
  }
 },
 "nbformat": 4,
 "nbformat_minor": 5
}
